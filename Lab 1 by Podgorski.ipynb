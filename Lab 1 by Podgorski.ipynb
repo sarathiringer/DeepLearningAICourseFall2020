{
 "cells": [
  {
   "cell_type": "markdown",
   "metadata": {},
   "source": [
    "# Deep learning and AI methods\n",
    "## Session I: Preliminaries\n",
    "* Instructor: [Krzysztof Podgorski](https://krys.neocities.org),  [Statistics, Lund University, LUSEM](https://www.stat.lu.se/)\n",
    "* For more information visit the [CANVAS class website](https://canvas.education.lu.se/courses/1712).\n",
    "\n",
    "This session attempts to give you a very concise introduction to Python programming by showing its features through hands-on approach on designing some simple neural networks and their training. It also show nice capacities of Jupyter Notebook in organizing reports on computational studies. This session goes together with *Discussions 1* and *2* as well as *Lecture 4*. "
   ]
  },
  {
   "cell_type": "markdown",
   "metadata": {},
   "source": [
    "### Project 1 \n",
    "In this small project we use Python programming facilities to explore the neural network introduced in Discussion 1. First, however we need to learn some basic Python. \n"
   ]
  },
  {
   "cell_type": "markdown",
   "metadata": {},
   "source": [
    "##### Functions related to Topic 2 in Discussion 1  ####\n",
    "\n",
    "Defining numerical functions and their evaluations. "
   ]
  },
  {
   "cell_type": "code",
   "execution_count": null,
   "metadata": {},
   "outputs": [],
   "source": [
    "def f(u,a):\n",
    "    a1=a[0];a2=a[1];u1=u[0];u2=u[1]\n",
    "    return [a1*u1*u2,a2*u1/u2]"
   ]
  },
  {
   "cell_type": "code",
   "execution_count": null,
   "metadata": {},
   "outputs": [],
   "source": [
    "ua=[[5,4],[1,2]]\n",
    "print(ua)\n",
    "\n",
    "u=ua[0];a=ua[1]\n",
    "print(f(u,a))"
   ]
  },
  {
   "cell_type": "markdown",
   "metadata": {},
   "source": [
    "#### TASK 1: \n",
    "After reading the second topic in *Discussion 1*, please write code that defines the two remaining functions $g$ and $h$ that are presented there. "
   ]
  },
  {
   "cell_type": "markdown",
   "metadata": {},
   "source": [
    "Composition of functions in Python:"
   ]
  },
  {
   "cell_type": "code",
   "execution_count": null,
   "metadata": {},
   "outputs": [],
   "source": [
    "b=[4,1];c=[1,2]\n",
    "f(f(u,a),b)"
   ]
  },
  {
   "cell_type": "code",
   "execution_count": null,
   "metadata": {},
   "outputs": [],
   "source": [
    "f(f(f(u,a),b),c)"
   ]
  },
  {
   "cell_type": "markdown",
   "metadata": {},
   "source": [
    "#### TASK 2: \n",
    "Using the functions you have just defined above write a function code for the three neural networks described in *Topic 1 of Discussion 2*.  "
   ]
  },
  {
   "cell_type": "markdown",
   "metadata": {},
   "source": [
    "#### TASK 3: \n",
    "\n",
    "Choose value 1 for all the parameters in all three neural networks, then evaluate the networks at $\\mathbf x=(0,0.2)$ and at $\\mathbf x=(1,1)$. "
   ]
  },
  {
   "cell_type": "markdown",
   "metadata": {},
   "source": [
    "##### Plots and Grids in Python - time for *MatPlotLib*"
   ]
  },
  {
   "cell_type": "markdown",
   "metadata": {},
   "source": [
    "* *MatPlotLib* is a Python plotting library which produces publication quality figures in a variety of hardcopy formats and interactive environments across platforms. Matplotlib can be used in Python scripts, the Python and IPython shells, the Jupyter notebook, web application servers.\n",
    "\n",
    "    * Matplotlib tries to make easy things easy and hard things possible. You can generate plots, histograms, power spectra, bar charts, errorcharts, scatterplots, etc., with just a few lines of code. For examples, see the sample plots and thumbnail gallery.\n",
    "\n",
    "    * For simple plotting the pyplot module provides a MATLAB-like interface, particularly when combined with IPython. For the power user, you have full control of line styles, font properties, axes properties, etc, via an object oriented interface or via a set of functions familiar to MATLAB users."
   ]
  },
  {
   "cell_type": "markdown",
   "metadata": {},
   "source": [
    "Simple plotting of a function in one dimensions (note that *NumPy* always contains mathematical functions similarily to *math*. "
   ]
  },
  {
   "cell_type": "code",
   "execution_count": null,
   "metadata": {},
   "outputs": [],
   "source": [
    "# importing the required modules\n",
    "import numpy as np\n",
    "import matplotlib.pyplot as plt "
   ]
  },
  {
   "cell_type": "code",
   "execution_count": null,
   "metadata": {},
   "outputs": [],
   "source": [
    "# setting the x - coordinates \n",
    "x = np.arange(0, 2*(np.pi), 0.1) \n",
    "# setting the corresponding y - coordinates \n",
    "y = np.sin(x) \n",
    "  \n",
    "# potting the points \n",
    "plt.plot(x, y) \n",
    "  \n",
    "# function to show the plot \n",
    "plt.show() "
   ]
  },
  {
   "cell_type": "markdown",
   "metadata": {},
   "source": [
    "##### Plotting surfaces -- contour plots"
   ]
  },
  {
   "cell_type": "markdown",
   "metadata": {},
   "source": [
    "Creating meshgrids and evaluating functions over such grids:\n",
    "\n",
    "* For generic mathematical functions:"
   ]
  },
  {
   "cell_type": "code",
   "execution_count": null,
   "metadata": {},
   "outputs": [],
   "source": [
    "xlist = np.linspace(-3.0, 3.0, 3)\n",
    "ylist = np.linspace(-3.0, 3.0, 4)\n",
    "X, Y = np.meshgrid(xlist, ylist)\n",
    "print(X,Y)\n",
    "Z = np.sqrt(X**2 + Y**2)\n",
    "print(Z)"
   ]
  },
  {
   "cell_type": "markdown",
   "metadata": {},
   "source": [
    "* For user defined functions:"
   ]
  },
  {
   "cell_type": "code",
   "execution_count": null,
   "metadata": {},
   "outputs": [],
   "source": [
    "xlist = np.linspace(0, 1, 5)\n",
    "ylist= np.linspace(0.2, 1, 5)\n",
    "X, Y = np.meshgrid(xlist, ylist)\n",
    "d=[1,1]"
   ]
  },
  {
   "cell_type": "code",
   "execution_count": null,
   "metadata": {},
   "outputs": [],
   "source": [
    "print(f([X,Y],d))"
   ]
  },
  {
   "cell_type": "markdown",
   "metadata": {},
   "source": [
    "#### TASK 4: \n",
    "Define equidistant grid over $[0,1]\\times [1/5,1]$ with five points on each of the  two coordinate axes and evaluate all three neural networks over this grid (all parameters set to one). "
   ]
  },
  {
   "cell_type": "code",
   "execution_count": null,
   "metadata": {},
   "outputs": [],
   "source": [
    "xlist = np.linspace(0, 1, 5)\n",
    "ylist = np.linspace(0.2, 1, 5)\n",
    "X, Y = np.meshgrid(xlist, ylist)"
   ]
  },
  {
   "cell_type": "markdown",
   "metadata": {},
   "source": [
    "##### Examples of plotting two dimensional graphs.\n",
    "\n",
    "*  Color shadow filled contour flat graph,"
   ]
  },
  {
   "cell_type": "markdown",
   "metadata": {},
   "source": [
    "*  Contour flat graph,"
   ]
  },
  {
   "cell_type": "markdown",
   "metadata": {},
   "source": [
    "* Doing these two together,"
   ]
  },
  {
   "cell_type": "code",
   "execution_count": null,
   "metadata": {},
   "outputs": [],
   "source": [
    "from numpy import exp,arange\n",
    "from pylab import meshgrid,cm,imshow,contour,clabel,colorbar,axis,title,show\n",
    "\n",
    "# the function that I'm going to plot\n",
    "def z_func(x,y):\n",
    " return (1-(x**2+y**3))*exp(-(x**2+y**2)/2)\n",
    " \n",
    "x = arange(-3.0,3.0,0.1)\n",
    "y = arange(-3.0,3.0,0.1)\n",
    "X,Y = meshgrid(x, y) # grid of point\n",
    "Z = z_func(X, Y) # evaluation of the function on the grid\n",
    "\n",
    "im = imshow(Z,cmap=cm.RdBu) # drawing the function\n",
    "# adding the Contour lines with labels\n",
    "cset = contour(Z,arange(-1,1.5,0.2),linewidths=2,cmap=cm.Set2)\n",
    "clabel(cset,inline=True,fmt='%1.1f',fontsize=10)\n",
    "colorbar(im) # adding the colobar on the right\n",
    "# latex fashion title\n",
    "title('$z=(1-x^2+y^3) e^{-(x^2+y^2)/2}$')\n",
    "show()"
   ]
  },
  {
   "cell_type": "markdown",
   "metadata": {},
   "source": [
    "* Something more fancy in 3D:"
   ]
  },
  {
   "cell_type": "code",
   "execution_count": null,
   "metadata": {},
   "outputs": [],
   "source": [
    "from mpl_toolkits.mplot3d import Axes3D\n",
    "from matplotlib import cm\n",
    "from matplotlib.ticker import LinearLocator, FormatStrFormatter\n",
    "import matplotlib.pyplot as plt\n",
    "\n",
    "fig = plt.figure()\n",
    "ax = fig.gca(projection='3d')\n",
    "surf = ax.plot_surface(X, Y, Z, rstride=1, cstride=1, \n",
    "                      cmap=cm.RdBu,linewidth=0, antialiased=False)\n",
    "\n",
    "ax.zaxis.set_major_locator(LinearLocator(10))\n",
    "ax.zaxis.set_major_formatter(FormatStrFormatter('%.02f'))\n",
    "\n",
    "fig.colorbar(surf, shrink=0.5, aspect=5)\n",
    "\n",
    "plt.show()"
   ]
  },
  {
   "cell_type": "markdown",
   "metadata": {},
   "source": [
    "Further examples: "
   ]
  },
  {
   "cell_type": "code",
   "execution_count": null,
   "metadata": {},
   "outputs": [],
   "source": [
    "xlist = np.linspace(-3.0, 3.0, 3)\n",
    "ylist = np.linspace(-3.0, 3.0, 4)\n",
    "X, Y = np.meshgrid(xlist, ylist)\n",
    "\n",
    "Z = np.sqrt(X**2 + Y**2)\n",
    "print(Z)\n",
    "\n",
    "fig = plt.figure(figsize=(6,5))\n",
    "left, bottom, width, height = 0.1, 0.1, 0.8, 0.8\n",
    "ax = fig.add_axes([left, bottom, width, height]) \n",
    "\n",
    "\n",
    "Z = np.sqrt(X**2 + Y**2)\n",
    "cp = ax.contour(X, Y, Z)\n",
    "ax.clabel(cp, inline=True, \n",
    "          fontsize=10)\n",
    "ax.set_title('Contour Plot')\n",
    "ax.set_xlabel('x (cm)')\n",
    "ax.set_ylabel('y (cm)')\n",
    "plt.show()"
   ]
  },
  {
   "cell_type": "markdown",
   "metadata": {},
   "source": [
    "Changing line style:"
   ]
  },
  {
   "cell_type": "code",
   "execution_count": null,
   "metadata": {},
   "outputs": [],
   "source": [
    "import matplotlib.pyplot as plt\n",
    "\n",
    "plt.figure()\n",
    "cp = plt.contour(X, Y, Z, colors='black', linestyles='dashed')\n",
    "plt.clabel(cp, inline=True, \n",
    "          fontsize=10)\n",
    "plt.title('Contour Plot')\n",
    "plt.xlabel('x (cm)')\n",
    "plt.ylabel('y (cm)')\n",
    "plt.show()"
   ]
  },
  {
   "cell_type": "markdown",
   "metadata": {},
   "source": [
    "Filled contour:"
   ]
  },
  {
   "cell_type": "code",
   "execution_count": null,
   "metadata": {},
   "outputs": [],
   "source": [
    "fig = plt.figure(figsize=(6,5))\n",
    "left, bottom, width, height = 0.1, 0.1, 0.8, 0.8\n",
    "ax = fig.add_axes([left, bottom, width, height]) \n",
    "\n",
    "start, stop, n_values = -8, 8, 800\n",
    "\n",
    "x_vals = np.linspace(start, stop, n_values)\n",
    "y_vals = np.linspace(start, stop, n_values)\n",
    "X, Y = np.meshgrid(x_vals, y_vals)\n",
    "\n",
    "\n",
    "Z = np.sqrt(X**2 + Y**2)\n",
    "\n",
    "cp = plt.contourf(X, Y, Z)\n",
    "plt.colorbar(cp)\n",
    "\n",
    "ax.set_title('Contour Plot')\n",
    "ax.set_xlabel('x (cm)')\n",
    "ax.set_ylabel('y (cm)')\n",
    "plt.show()"
   ]
  },
  {
   "cell_type": "markdown",
   "metadata": {},
   "source": [
    "Individual color version:"
   ]
  },
  {
   "cell_type": "code",
   "execution_count": null,
   "metadata": {},
   "outputs": [],
   "source": [
    "plt.figure()\n",
    "\n",
    "contour = plt.contourf(X, Y, Z)\n",
    "plt.clabel(contour, colors = 'k', fmt = '%2.1f', fontsize=12)\n",
    "c = ('#ff0000', '#ffff00', '#0000FF', '0.6', 'c', 'm')\n",
    "contour_filled = plt.contourf(X, Y, Z, colors=c)\n",
    "plt.colorbar(contour)\n",
    "\n",
    "plt.title('Filled Contours Plot')\n",
    "plt.xlabel('x (cm)')\n",
    "plt.ylabel('y (cm)')\n",
    "plt.show()"
   ]
  },
  {
   "cell_type": "markdown",
   "metadata": {},
   "source": [
    "Adding level contours:"
   ]
  },
  {
   "cell_type": "code",
   "execution_count": null,
   "metadata": {},
   "outputs": [],
   "source": [
    "xlist = np.linspace(-3.0, 3.0, 100)\n",
    "ylist = np.linspace(-3.0, 3.0, 100)\n",
    "X, Y = np.meshgrid(xlist, ylist)\n",
    "\n",
    "Z = np.sqrt(X ** 2 + Y ** 2 )\n",
    "plt.figure()\n",
    "\n",
    "levels = [0.0, 0.2, 0.5, 0.9, 1.5, 2.5, 3.5]\n",
    "contour = plt.contour(X, Y, Z, levels, colors='k')\n",
    "plt.clabel(contour, colors = 'k', fmt = '%2.1f', fontsize=12)\n",
    "contour_filled = plt.contourf(X, Y, Z, levels)\n",
    "plt.colorbar(contour_filled)\n",
    "\n",
    "plt.title('Plot from level list')\n",
    "plt.xlabel('x (cm)')\n",
    "plt.ylabel('y (cm)')\n",
    "plt.show()"
   ]
  },
  {
   "cell_type": "markdown",
   "metadata": {},
   "source": [
    "#### TASK 5: \n",
    "\n",
    "  Represent graphically the neural networks defined above (and in Discussion 1 and 2). "
   ]
  },
  {
   "cell_type": "code",
   "execution_count": null,
   "metadata": {},
   "outputs": [],
   "source": [
    "xlist = np.linspace(0, 1, 25)\n",
    "ylist = np.linspace(0.2, 1, 25)\n",
    "X, Y = np.meshgrid(xlist, ylist)\n",
    "\n",
    "d=[1,1]\n"
   ]
  },
  {
   "cell_type": "markdown",
   "metadata": {},
   "source": [
    "### Project 2 \n",
    "We will work with a data set on which we will train the neural networks from the previous project."
   ]
  },
  {
   "cell_type": "markdown",
   "metadata": {},
   "source": [
    "We start with simulation of the data. We set the parameters for all three models.\n",
    "\n",
    "* The first neural network $nn1$ has the following parameters: c=[0.5,0.1]; d=[0.2,0.6]\n",
    "* The second neural network $nn2$ has the following parameters: d=[0.9,0.7]; b=[0.1,0.9]\n",
    "* The third neural network $nn3$ has the following parameters: d=[0.5,0.9]; b=[0.9,0.6]\n",
    "\n",
    "The arguments will be randomly simulated from $[0,1]\\times [0.2,1]$ and some random noise added to the output. \n",
    "\n",
    "We start with simulation of $x$-values."
   ]
  },
  {
   "cell_type": "code",
   "execution_count": null,
   "metadata": {
    "scrolled": true
   },
   "outputs": [],
   "source": [
    "# seed the pseudorandom number generator\n",
    "from numpy.random import seed\n",
    "from numpy.random import rand\n",
    "# seed random number generator\n",
    "seed(1)\n",
    "# generate some random numbers\n",
    "print(rand(3))\n",
    "# reset the seed\n",
    "seed(1)\n",
    "# generate some random numbers\n",
    "print(rand(3))"
   ]
  },
  {
   "cell_type": "markdown",
   "metadata": {},
   "source": [
    "#### TASK 1: \n",
    "\n",
    "  Simulate 200 random numbers uniformly distributed over $[0,1]\\times [0.2,1]$ and evaluate the neural networks with the above parameters over these points."
   ]
  },
  {
   "cell_type": "code",
   "execution_count": null,
   "metadata": {},
   "outputs": [],
   "source": [
    "x=[rand(200),rand(200)*0.8+0.2]\n",
    "\n",
    "\n",
    "# Plot\n",
    "plt.scatter(x[0], x[1])\n",
    "plt.title('Scatter plot pythonspot.com')\n",
    "plt.xlabel('x')\n",
    "plt.ylabel('y')\n",
    "plt.show()"
   ]
  },
  {
   "cell_type": "markdown",
   "metadata": {},
   "source": [
    "Evaluation of neural networks "
   ]
  },
  {
   "cell_type": "markdown",
   "metadata": {},
   "source": [
    "Evaulate values over $x$ for the other two networks. "
   ]
  },
  {
   "cell_type": "markdown",
   "metadata": {},
   "source": [
    "#### TASK 2: \n",
    "\n",
    "Evaluate standard deviation of the output and add to the output a Gaussian noise that has the standard deviation 100 smaller than the standard deviation of the output. \n",
    "  "
   ]
  },
  {
   "cell_type": "markdown",
   "metadata": {},
   "source": [
    "Computing standard deviation of the output"
   ]
  },
  {
   "cell_type": "markdown",
   "metadata": {},
   "source": [
    "Generating Gaussian noise "
   ]
  },
  {
   "cell_type": "code",
   "execution_count": null,
   "metadata": {},
   "outputs": [],
   "source": [
    "# generate random Gaussian values\n",
    "from numpy.random import seed\n",
    "from numpy.random import randn\n",
    "# seed random number generator\n",
    "seed(1)\n",
    "# generate some Gaussian values\n",
    "noise1 = randn(200)/100\n",
    "np.sqrt(np.var(noise1))"
   ]
  },
  {
   "cell_type": "markdown",
   "metadata": {},
   "source": [
    "Repeat the computations for the two other neural networks. "
   ]
  },
  {
   "cell_type": "markdown",
   "metadata": {},
   "source": [
    "#### TASK 3: \n",
    "\n",
    "Write a function that for a given set of the parameter (the input parameters) evaluates the MSE between a dataset and the model specified by these parameters.\n",
    "\n",
    "  "
   ]
  },
  {
   "cell_type": "markdown",
   "metadata": {},
   "source": [
    "One of the most important tasks in any machine learning approach is optimization routine. Python has a package *scipy.optimize* that have a number efficient optimization procedures implemented. Here is an example how this minimization function can be used."
   ]
  },
  {
   "cell_type": "code",
   "execution_count": null,
   "metadata": {},
   "outputs": [],
   "source": [
    "from scipy.optimize import minimize\n",
    "#Some interesting(?) function to minimize\n",
    "def expsin(u):\n",
    "    return np.exp(-((u[0]-0.3)**2+(u[1]-0.4)**2)/2)*np.sin(1/u[0])\n",
    "\n",
    "#The plot\n",
    "\n",
    "xlist = np.linspace(-3.0, 3.0, 100)\n",
    "ylist = np.linspace(-3.0, 3.0, 100)\n",
    "X, Y = np.meshgrid(xlist, ylist)\n",
    "Z=expsin([X,Y])\n",
    "\n",
    "cp = plt.contourf(X, Y, Z)\n",
    "plt.colorbar(cp)"
   ]
  },
  {
   "cell_type": "code",
   "execution_count": null,
   "metadata": {},
   "outputs": [],
   "source": [
    "u0 = np.array([0.5, 0.5])\n",
    "res = minimize(expsin, u0)\n",
    "res"
   ]
  },
  {
   "cell_type": "markdown",
   "metadata": {},
   "source": [
    "#### TASK 4: \n",
    "\n",
    "Using the functions that you have defined in the previous task to find the minimal value parameter that minimizes MSE for each combination of the first two data sets and of the first two neural networks.  In other words,  'train' each of the first two networks on each of the two set you have simulated. List the values of the parameters that you have obtained in each of the four cases.  "
   ]
  },
  {
   "cell_type": "markdown",
   "metadata": {},
   "source": [
    "#### TASK 5: \n",
    "\n",
    "Compare values of the MSE and values of the parameters. \n",
    "* Did your training choose the neural networks correctly? \n",
    "* Was the estimation of the parameters accurate? \n",
    "\n",
    "Simulate a new data set from the first model and apply the two learned neural networks to compare predictions by their means with actual values. Write the conclusion to your findings.     \n"
   ]
  },
  {
   "cell_type": "markdown",
   "metadata": {},
   "source": [
    "## Grader box: \n",
    "\n",
    "In what follows the grader will put the values according the following check list:\n",
    "\n",
    "* 1 Have all commands included in a raw notebook been evaluated? (0 or 0.5pt)\n",
    "* 2 Have all commands been experimented with? (0 or 0.5pt)\n",
    "* 3 Have all experiments been briefly commented? (0 or 0.5pt)\n",
    "* 4 Have all tasks been attempted? (0, 0.5, or 1pt)\n",
    "* 5 How many of the tasks have been completed? (0, 0.5, or 1pt)\n",
    "* 6 How many of the tasks (completed or not) have been commented? (0, 0.5, or 1pt)\n",
    "* 7 Have been the conclusions from performing the tasks clearly stated? (0, 0.5, or 1pt)\n",
    "* 8 Have been the overall organization of the submitted Lab notebook been neat and easy to follow by the grader? (0, or 0.5pt) \n"
   ]
  },
  {
   "cell_type": "markdown",
   "metadata": {},
   "source": [
    "#### 1 Have all commands included in a raw notebook been evaluated? (0 or 0.5pt)"
   ]
  },
  {
   "cell_type": "markdown",
   "metadata": {},
   "source": [
    "#### Grader's comment (if desired): \n",
    "N/A"
   ]
  },
  {
   "cell_type": "markdown",
   "metadata": {},
   "source": [
    "#### 2 Have all commands been experimented with? (0 or 0.5pt)"
   ]
  },
  {
   "cell_type": "markdown",
   "metadata": {},
   "source": [
    "#### Grader's comment (if desired): \n",
    "N/A"
   ]
  },
  {
   "cell_type": "markdown",
   "metadata": {},
   "source": [
    "#### 3 Have all experiments been briefly commented? (0 or 0.5pt)"
   ]
  },
  {
   "cell_type": "markdown",
   "metadata": {},
   "source": [
    "#### Grader's comment (if desired): \n",
    "N/A"
   ]
  },
  {
   "cell_type": "markdown",
   "metadata": {},
   "source": [
    "#### 4 Have all tasks been attempted? (0, 0.5, or 1pt)"
   ]
  },
  {
   "cell_type": "markdown",
   "metadata": {},
   "source": [
    "#### Grader's comment (if desired): \n",
    "N/A"
   ]
  },
  {
   "cell_type": "markdown",
   "metadata": {},
   "source": [
    "#### 5 How many of the tasks have been completed? (0, 0.5, or 1pt)"
   ]
  },
  {
   "cell_type": "markdown",
   "metadata": {},
   "source": [
    "#### Grader's comment (if desired): \n",
    "N/A"
   ]
  },
  {
   "cell_type": "markdown",
   "metadata": {},
   "source": [
    "#### 6 How many of the tasks (completed or not) have been commented? (0, 0.5, or 1pt)"
   ]
  },
  {
   "cell_type": "markdown",
   "metadata": {},
   "source": [
    "#### Grader's comment (if desired): \n",
    "N/A"
   ]
  },
  {
   "cell_type": "markdown",
   "metadata": {},
   "source": [
    "#### 7 Have been the conclusions from performing the tasks clearly stated? (0, 0.5, or 1pt)"
   ]
  },
  {
   "cell_type": "markdown",
   "metadata": {},
   "source": [
    "#### Grader's comment (if desired): \n",
    "N/A"
   ]
  },
  {
   "cell_type": "markdown",
   "metadata": {},
   "source": [
    "#### 8 Have been the overall organization of the submitted Lab notebook been neat and easy to follow by the grader? (0, or 0.5pt)"
   ]
  },
  {
   "cell_type": "markdown",
   "metadata": {},
   "source": [
    "#### Grader's comment (if desired): \n",
    "N/A"
   ]
  },
  {
   "cell_type": "markdown",
   "metadata": {},
   "source": [
    "### Overall score"
   ]
  },
  {
   "cell_type": "markdown",
   "metadata": {},
   "source": [
    "### Score and grader's comment (if desired): \n",
    "N/A"
   ]
  }
 ],
 "metadata": {
  "kernelspec": {
   "display_name": "Python 3",
   "language": "python",
   "name": "python3"
  },
  "language_info": {
   "codemirror_mode": {
    "name": "ipython",
    "version": 3
   },
   "file_extension": ".py",
   "mimetype": "text/x-python",
   "name": "python",
   "nbconvert_exporter": "python",
   "pygments_lexer": "ipython3",
   "version": "3.7.3"
  }
 },
 "nbformat": 4,
 "nbformat_minor": 2
}
