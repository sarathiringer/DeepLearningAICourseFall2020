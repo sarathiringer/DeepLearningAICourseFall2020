{
 "cells": [
  {
   "cell_type": "markdown",
   "metadata": {
    "colab_type": "text",
    "id": "EIdT9iu_Z4Rb"
   },
   "source": [
    "# Deep learning and AI methods\n",
    "## Session 4: Prediction of fuel efficiency\n",
    "* Instructor: [Krzysztof Podgorski](https://krys.neocities.org),  [Statistics, Lund University, LUSEM](https://www.stat.lu.se/)\n",
    "* For more information visit the [CANVAS class website](https://canvas.education.lu.se/courses/1712).\n",
    "\n",
    "In this session we learn how to use *TensorFlow* and *Keras* for construction a nn solving a regression problem based on the data to predict fuel efficiency. We also learn several features of `DataFrame` class of provided by the library `pandas`."
   ]
  },
  {
   "cell_type": "markdown",
   "metadata": {
    "colab_type": "text",
    "id": "AHp3M9ZmrIxj"
   },
   "source": [
    "In a *regression* problem, we aim to predict the output of a continuous value, like a price or a probability. Contrast this with a *classification* problem, where we aim to select a class from a list of classes (for example, where a picture contains an apple or an orange, recognizing which fruit is in the picture).\n",
    "\n",
    "This notebook uses the classic [Auto MPG](https://archive.ics.uci.edu/ml/datasets/auto+mpg) Dataset and builds a model to predict the fuel efficiency of late-1970s and early 1980s automobiles. To do this, we'll provide the model with a description of many automobiles from that time period. This description includes attributes like: cylinders, displacement, horsepower, and weight.\n",
    "\n",
    "This example uses the `tf.keras` API, see [this guide](https://www.tensorflow.org/guide/keras) for details."
   ]
  },
  {
   "cell_type": "code",
   "execution_count": 209,
   "metadata": {
    "colab": {},
    "colab_type": "code",
    "id": "moB4tpEHxKB3"
   },
   "outputs": [],
   "source": [
    "# Use seaborn for pairplot\n",
    "# !pip install -q seaborn"
   ]
  },
  {
   "cell_type": "code",
   "execution_count": 210,
   "metadata": {
    "colab": {},
    "colab_type": "code",
    "id": "1rRo8oNqZ-Rj"
   },
   "outputs": [
    {
     "name": "stdout",
     "output_type": "stream",
     "text": [
      "1.15.0\n"
     ]
    }
   ],
   "source": [
    "from __future__ import absolute_import, division, print_function, unicode_literals\n",
    "\n",
    "import pathlib\n",
    "\n",
    "import matplotlib.pyplot as plt\n",
    "import pandas as pd\n",
    "import seaborn as sns\n",
    "\n",
    "try:\n",
    "  # %tensorflow_version only exists in Colab.\n",
    "  %tensorflow_version 2.x\n",
    "except Exception:\n",
    "  pass\n",
    "import tensorflow as tf\n",
    "\n",
    "from tensorflow import keras\n",
    "from tensorflow.keras import layers\n",
    "\n",
    "print(tf.__version__)"
   ]
  },
  {
   "cell_type": "markdown",
   "metadata": {
    "colab_type": "text",
    "id": "F_72b0LCNbjx"
   },
   "source": [
    "## Project 1 Initial exploration and preparation of the data set for regression\n",
    "### The Auto MPG dataset\n",
    "\n",
    "The dataset is available from the [UCI Machine Learning Repository](https://archive.ics.uci.edu/ml/datasets/auto+mpg).\n",
    "\n"
   ]
  },
  {
   "cell_type": "markdown",
   "metadata": {
    "colab_type": "text",
    "id": "gFh9ne3FZ-On"
   },
   "source": [
    "### Get the data\n",
    "First download the dataset."
   ]
  },
  {
   "cell_type": "code",
   "execution_count": 211,
   "metadata": {
    "colab": {},
    "colab_type": "code",
    "id": "p9kxxgzvzlyz"
   },
   "outputs": [
    {
     "data": {
      "text/plain": [
       "'/Users/Sara/.keras/datasets/auto-mpg.data'"
      ]
     },
     "execution_count": 211,
     "metadata": {},
     "output_type": "execute_result"
    }
   ],
   "source": [
    "# Set path to data\n",
    "dataset_path = keras.utils.get_file(\"auto-mpg.data\", \"http://archive.ics.uci.edu/ml/machine-learning-databases/auto-mpg/auto-mpg.data\")\n",
    "dataset_path"
   ]
  },
  {
   "cell_type": "markdown",
   "metadata": {
    "colab_type": "text",
    "id": "nslsRLh7Zss4"
   },
   "source": [
    "Import it using pandas into the `DataFrame` structure. Read more about `DataFrame` in [Pandas Data Frame](https://pandas.pydata.org/pandas-docs/stable/reference/api/pandas.DataFrame.html). Below you will also learn more about the topic. "
   ]
  },
  {
   "cell_type": "code",
   "execution_count": 212,
   "metadata": {
    "colab": {},
    "colab_type": "code",
    "id": "CiX2FI4gZtTt"
   },
   "outputs": [
    {
     "data": {
      "text/html": [
       "<div>\n",
       "<style scoped>\n",
       "    .dataframe tbody tr th:only-of-type {\n",
       "        vertical-align: middle;\n",
       "    }\n",
       "\n",
       "    .dataframe tbody tr th {\n",
       "        vertical-align: top;\n",
       "    }\n",
       "\n",
       "    .dataframe thead th {\n",
       "        text-align: right;\n",
       "    }\n",
       "</style>\n",
       "<table border=\"1\" class=\"dataframe\">\n",
       "  <thead>\n",
       "    <tr style=\"text-align: right;\">\n",
       "      <th></th>\n",
       "      <th>MPG</th>\n",
       "      <th>Cylinders</th>\n",
       "      <th>Displacement</th>\n",
       "      <th>Horsepower</th>\n",
       "      <th>Weight</th>\n",
       "      <th>Acceleration</th>\n",
       "      <th>Model Year</th>\n",
       "      <th>Origin</th>\n",
       "    </tr>\n",
       "  </thead>\n",
       "  <tbody>\n",
       "    <tr>\n",
       "      <th>393</th>\n",
       "      <td>27.0</td>\n",
       "      <td>4</td>\n",
       "      <td>140.0</td>\n",
       "      <td>86.0</td>\n",
       "      <td>2790.0</td>\n",
       "      <td>15.6</td>\n",
       "      <td>82</td>\n",
       "      <td>1</td>\n",
       "    </tr>\n",
       "    <tr>\n",
       "      <th>394</th>\n",
       "      <td>44.0</td>\n",
       "      <td>4</td>\n",
       "      <td>97.0</td>\n",
       "      <td>52.0</td>\n",
       "      <td>2130.0</td>\n",
       "      <td>24.6</td>\n",
       "      <td>82</td>\n",
       "      <td>2</td>\n",
       "    </tr>\n",
       "    <tr>\n",
       "      <th>395</th>\n",
       "      <td>32.0</td>\n",
       "      <td>4</td>\n",
       "      <td>135.0</td>\n",
       "      <td>84.0</td>\n",
       "      <td>2295.0</td>\n",
       "      <td>11.6</td>\n",
       "      <td>82</td>\n",
       "      <td>1</td>\n",
       "    </tr>\n",
       "    <tr>\n",
       "      <th>396</th>\n",
       "      <td>28.0</td>\n",
       "      <td>4</td>\n",
       "      <td>120.0</td>\n",
       "      <td>79.0</td>\n",
       "      <td>2625.0</td>\n",
       "      <td>18.6</td>\n",
       "      <td>82</td>\n",
       "      <td>1</td>\n",
       "    </tr>\n",
       "    <tr>\n",
       "      <th>397</th>\n",
       "      <td>31.0</td>\n",
       "      <td>4</td>\n",
       "      <td>119.0</td>\n",
       "      <td>82.0</td>\n",
       "      <td>2720.0</td>\n",
       "      <td>19.4</td>\n",
       "      <td>82</td>\n",
       "      <td>1</td>\n",
       "    </tr>\n",
       "  </tbody>\n",
       "</table>\n",
       "</div>"
      ],
      "text/plain": [
       "      MPG  Cylinders  Displacement  Horsepower  Weight  Acceleration  \\\n",
       "393  27.0          4         140.0        86.0  2790.0          15.6   \n",
       "394  44.0          4          97.0        52.0  2130.0          24.6   \n",
       "395  32.0          4         135.0        84.0  2295.0          11.6   \n",
       "396  28.0          4         120.0        79.0  2625.0          18.6   \n",
       "397  31.0          4         119.0        82.0  2720.0          19.4   \n",
       "\n",
       "     Model Year  Origin  \n",
       "393          82       1  \n",
       "394          82       2  \n",
       "395          82       1  \n",
       "396          82       1  \n",
       "397          82       1  "
      ]
     },
     "execution_count": 212,
     "metadata": {},
     "output_type": "execute_result"
    }
   ],
   "source": [
    "# Specify column names\n",
    "column_names = ['MPG','Cylinders','Displacement','Horsepower','Weight',\n",
    "                'Acceleration', 'Model Year', 'Origin']\n",
    "\n",
    "# Load data\n",
    "raw_dataset = pd.read_csv(dataset_path, names=column_names,\n",
    "                      na_values = \"?\", comment='\\t',\n",
    "                      sep=\" \", skipinitialspace=True)\n",
    "\n",
    "# Create copy to work on (good practice)\n",
    "dataset = raw_dataset.copy()\n",
    "\n",
    "# Inspect last five rows\n",
    "dataset.tail()"
   ]
  },
  {
   "cell_type": "code",
   "execution_count": 213,
   "metadata": {
    "scrolled": true
   },
   "outputs": [
    {
     "data": {
      "text/html": [
       "<div>\n",
       "<style scoped>\n",
       "    .dataframe tbody tr th:only-of-type {\n",
       "        vertical-align: middle;\n",
       "    }\n",
       "\n",
       "    .dataframe tbody tr th {\n",
       "        vertical-align: top;\n",
       "    }\n",
       "\n",
       "    .dataframe thead th {\n",
       "        text-align: right;\n",
       "    }\n",
       "</style>\n",
       "<table border=\"1\" class=\"dataframe\">\n",
       "  <thead>\n",
       "    <tr style=\"text-align: right;\">\n",
       "      <th></th>\n",
       "      <th>MPG</th>\n",
       "      <th>Cylinders</th>\n",
       "      <th>Displacement</th>\n",
       "      <th>Horsepower</th>\n",
       "      <th>Weight</th>\n",
       "      <th>Acceleration</th>\n",
       "      <th>Model Year</th>\n",
       "      <th>Origin</th>\n",
       "    </tr>\n",
       "  </thead>\n",
       "  <tbody>\n",
       "    <tr>\n",
       "      <th>0</th>\n",
       "      <td>18.0</td>\n",
       "      <td>8</td>\n",
       "      <td>307.0</td>\n",
       "      <td>130.0</td>\n",
       "      <td>3504.0</td>\n",
       "      <td>12.0</td>\n",
       "      <td>70</td>\n",
       "      <td>1</td>\n",
       "    </tr>\n",
       "    <tr>\n",
       "      <th>1</th>\n",
       "      <td>15.0</td>\n",
       "      <td>8</td>\n",
       "      <td>350.0</td>\n",
       "      <td>165.0</td>\n",
       "      <td>3693.0</td>\n",
       "      <td>11.5</td>\n",
       "      <td>70</td>\n",
       "      <td>1</td>\n",
       "    </tr>\n",
       "    <tr>\n",
       "      <th>2</th>\n",
       "      <td>18.0</td>\n",
       "      <td>8</td>\n",
       "      <td>318.0</td>\n",
       "      <td>150.0</td>\n",
       "      <td>3436.0</td>\n",
       "      <td>11.0</td>\n",
       "      <td>70</td>\n",
       "      <td>1</td>\n",
       "    </tr>\n",
       "    <tr>\n",
       "      <th>3</th>\n",
       "      <td>16.0</td>\n",
       "      <td>8</td>\n",
       "      <td>304.0</td>\n",
       "      <td>150.0</td>\n",
       "      <td>3433.0</td>\n",
       "      <td>12.0</td>\n",
       "      <td>70</td>\n",
       "      <td>1</td>\n",
       "    </tr>\n",
       "    <tr>\n",
       "      <th>4</th>\n",
       "      <td>17.0</td>\n",
       "      <td>8</td>\n",
       "      <td>302.0</td>\n",
       "      <td>140.0</td>\n",
       "      <td>3449.0</td>\n",
       "      <td>10.5</td>\n",
       "      <td>70</td>\n",
       "      <td>1</td>\n",
       "    </tr>\n",
       "    <tr>\n",
       "      <th>5</th>\n",
       "      <td>15.0</td>\n",
       "      <td>8</td>\n",
       "      <td>429.0</td>\n",
       "      <td>198.0</td>\n",
       "      <td>4341.0</td>\n",
       "      <td>10.0</td>\n",
       "      <td>70</td>\n",
       "      <td>1</td>\n",
       "    </tr>\n",
       "    <tr>\n",
       "      <th>6</th>\n",
       "      <td>14.0</td>\n",
       "      <td>8</td>\n",
       "      <td>454.0</td>\n",
       "      <td>220.0</td>\n",
       "      <td>4354.0</td>\n",
       "      <td>9.0</td>\n",
       "      <td>70</td>\n",
       "      <td>1</td>\n",
       "    </tr>\n",
       "    <tr>\n",
       "      <th>7</th>\n",
       "      <td>14.0</td>\n",
       "      <td>8</td>\n",
       "      <td>440.0</td>\n",
       "      <td>215.0</td>\n",
       "      <td>4312.0</td>\n",
       "      <td>8.5</td>\n",
       "      <td>70</td>\n",
       "      <td>1</td>\n",
       "    </tr>\n",
       "    <tr>\n",
       "      <th>8</th>\n",
       "      <td>14.0</td>\n",
       "      <td>8</td>\n",
       "      <td>455.0</td>\n",
       "      <td>225.0</td>\n",
       "      <td>4425.0</td>\n",
       "      <td>10.0</td>\n",
       "      <td>70</td>\n",
       "      <td>1</td>\n",
       "    </tr>\n",
       "    <tr>\n",
       "      <th>9</th>\n",
       "      <td>15.0</td>\n",
       "      <td>8</td>\n",
       "      <td>390.0</td>\n",
       "      <td>190.0</td>\n",
       "      <td>3850.0</td>\n",
       "      <td>8.5</td>\n",
       "      <td>70</td>\n",
       "      <td>1</td>\n",
       "    </tr>\n",
       "  </tbody>\n",
       "</table>\n",
       "</div>"
      ],
      "text/plain": [
       "    MPG  Cylinders  Displacement  Horsepower  Weight  Acceleration  \\\n",
       "0  18.0          8         307.0       130.0  3504.0          12.0   \n",
       "1  15.0          8         350.0       165.0  3693.0          11.5   \n",
       "2  18.0          8         318.0       150.0  3436.0          11.0   \n",
       "3  16.0          8         304.0       150.0  3433.0          12.0   \n",
       "4  17.0          8         302.0       140.0  3449.0          10.5   \n",
       "5  15.0          8         429.0       198.0  4341.0          10.0   \n",
       "6  14.0          8         454.0       220.0  4354.0           9.0   \n",
       "7  14.0          8         440.0       215.0  4312.0           8.5   \n",
       "8  14.0          8         455.0       225.0  4425.0          10.0   \n",
       "9  15.0          8         390.0       190.0  3850.0           8.5   \n",
       "\n",
       "   Model Year  Origin  \n",
       "0          70       1  \n",
       "1          70       1  \n",
       "2          70       1  \n",
       "3          70       1  \n",
       "4          70       1  \n",
       "5          70       1  \n",
       "6          70       1  \n",
       "7          70       1  \n",
       "8          70       1  \n",
       "9          70       1  "
      ]
     },
     "execution_count": 213,
     "metadata": {},
     "output_type": "execute_result"
    }
   ],
   "source": [
    "# Experiment: Inspect top ten rows\n",
    "dataset.head(10)"
   ]
  },
  {
   "cell_type": "code",
   "execution_count": 214,
   "metadata": {},
   "outputs": [
    {
     "data": {
      "text/plain": [
       "count    398.000000\n",
       "mean      23.514573\n",
       "std        7.815984\n",
       "min        9.000000\n",
       "25%       17.500000\n",
       "50%       23.000000\n",
       "75%       29.000000\n",
       "max       46.600000\n",
       "Name: MPG, dtype: float64"
      ]
     },
     "execution_count": 214,
     "metadata": {},
     "output_type": "execute_result"
    }
   ],
   "source": [
    "# Experiment: Inspect summary of MPG\n",
    "dataset['MPG'].describe()"
   ]
  },
  {
   "cell_type": "markdown",
   "metadata": {},
   "source": [
    "## Task 1:\n",
    "\n",
    "### Get another data from the same repository\n",
    "For example there is the data set: https://archive.ics.uci.edu/ml/machine-learning-databases/00374/energydata_complete.csv\n",
    "\n",
    "About which you can read here: https://archive.ics.uci.edu/ml/datasets/Appliances+energy+predictionOrganize \n",
    "Organize the downloaded data in a similar fashion as the one above after reading the information about the nature of the data. "
   ]
  },
  {
   "cell_type": "markdown",
   "metadata": {},
   "source": [
    "Import it using pandas. For help on pandas check https://pandas.pydata.org/pandas-docs/stable/user_guide/io.html"
   ]
  },
  {
   "cell_type": "markdown",
   "metadata": {},
   "source": [
    "#### Solution\n",
    "I've chosen to download the fires dataset from the UCI ML repository. It's outcome variable is *area*, so the idea is to predict the area of a fire. The data is from the northeast region of Portugal and has a lot of meterological measures. The data was first analyzed by Cortez and Morais in 2007. I will therefore try to follow their procedure when dealing with the data."
   ]
  },
  {
   "cell_type": "code",
   "execution_count": 215,
   "metadata": {},
   "outputs": [],
   "source": [
    "# Set path\n",
    "path = 'https://archive.ics.uci.edu/ml/machine-learning-databases/forest-fires/forestfires.csv'\n",
    "\n",
    "# Read data\n",
    "data = pd.read_csv(path)"
   ]
  },
  {
   "cell_type": "code",
   "execution_count": 216,
   "metadata": {},
   "outputs": [
    {
     "data": {
      "text/html": [
       "<div>\n",
       "<style scoped>\n",
       "    .dataframe tbody tr th:only-of-type {\n",
       "        vertical-align: middle;\n",
       "    }\n",
       "\n",
       "    .dataframe tbody tr th {\n",
       "        vertical-align: top;\n",
       "    }\n",
       "\n",
       "    .dataframe thead th {\n",
       "        text-align: right;\n",
       "    }\n",
       "</style>\n",
       "<table border=\"1\" class=\"dataframe\">\n",
       "  <thead>\n",
       "    <tr style=\"text-align: right;\">\n",
       "      <th></th>\n",
       "      <th>X</th>\n",
       "      <th>Y</th>\n",
       "      <th>month</th>\n",
       "      <th>day</th>\n",
       "      <th>FFMC</th>\n",
       "      <th>DMC</th>\n",
       "      <th>DC</th>\n",
       "      <th>ISI</th>\n",
       "      <th>temp</th>\n",
       "      <th>RH</th>\n",
       "      <th>wind</th>\n",
       "      <th>rain</th>\n",
       "      <th>area</th>\n",
       "    </tr>\n",
       "  </thead>\n",
       "  <tbody>\n",
       "    <tr>\n",
       "      <th>0</th>\n",
       "      <td>7</td>\n",
       "      <td>5</td>\n",
       "      <td>mar</td>\n",
       "      <td>fri</td>\n",
       "      <td>86.2</td>\n",
       "      <td>26.2</td>\n",
       "      <td>94.3</td>\n",
       "      <td>5.1</td>\n",
       "      <td>8.2</td>\n",
       "      <td>51</td>\n",
       "      <td>6.7</td>\n",
       "      <td>0.0</td>\n",
       "      <td>0.0</td>\n",
       "    </tr>\n",
       "    <tr>\n",
       "      <th>1</th>\n",
       "      <td>7</td>\n",
       "      <td>4</td>\n",
       "      <td>oct</td>\n",
       "      <td>tue</td>\n",
       "      <td>90.6</td>\n",
       "      <td>35.4</td>\n",
       "      <td>669.1</td>\n",
       "      <td>6.7</td>\n",
       "      <td>18.0</td>\n",
       "      <td>33</td>\n",
       "      <td>0.9</td>\n",
       "      <td>0.0</td>\n",
       "      <td>0.0</td>\n",
       "    </tr>\n",
       "    <tr>\n",
       "      <th>2</th>\n",
       "      <td>7</td>\n",
       "      <td>4</td>\n",
       "      <td>oct</td>\n",
       "      <td>sat</td>\n",
       "      <td>90.6</td>\n",
       "      <td>43.7</td>\n",
       "      <td>686.9</td>\n",
       "      <td>6.7</td>\n",
       "      <td>14.6</td>\n",
       "      <td>33</td>\n",
       "      <td>1.3</td>\n",
       "      <td>0.0</td>\n",
       "      <td>0.0</td>\n",
       "    </tr>\n",
       "    <tr>\n",
       "      <th>3</th>\n",
       "      <td>8</td>\n",
       "      <td>6</td>\n",
       "      <td>mar</td>\n",
       "      <td>fri</td>\n",
       "      <td>91.7</td>\n",
       "      <td>33.3</td>\n",
       "      <td>77.5</td>\n",
       "      <td>9.0</td>\n",
       "      <td>8.3</td>\n",
       "      <td>97</td>\n",
       "      <td>4.0</td>\n",
       "      <td>0.2</td>\n",
       "      <td>0.0</td>\n",
       "    </tr>\n",
       "    <tr>\n",
       "      <th>4</th>\n",
       "      <td>8</td>\n",
       "      <td>6</td>\n",
       "      <td>mar</td>\n",
       "      <td>sun</td>\n",
       "      <td>89.3</td>\n",
       "      <td>51.3</td>\n",
       "      <td>102.2</td>\n",
       "      <td>9.6</td>\n",
       "      <td>11.4</td>\n",
       "      <td>99</td>\n",
       "      <td>1.8</td>\n",
       "      <td>0.0</td>\n",
       "      <td>0.0</td>\n",
       "    </tr>\n",
       "  </tbody>\n",
       "</table>\n",
       "</div>"
      ],
      "text/plain": [
       "   X  Y month  day  FFMC   DMC     DC  ISI  temp  RH  wind  rain  area\n",
       "0  7  5   mar  fri  86.2  26.2   94.3  5.1   8.2  51   6.7   0.0   0.0\n",
       "1  7  4   oct  tue  90.6  35.4  669.1  6.7  18.0  33   0.9   0.0   0.0\n",
       "2  7  4   oct  sat  90.6  43.7  686.9  6.7  14.6  33   1.3   0.0   0.0\n",
       "3  8  6   mar  fri  91.7  33.3   77.5  9.0   8.3  97   4.0   0.2   0.0\n",
       "4  8  6   mar  sun  89.3  51.3  102.2  9.6  11.4  99   1.8   0.0   0.0"
      ]
     },
     "execution_count": 216,
     "metadata": {},
     "output_type": "execute_result"
    }
   ],
   "source": [
    "# Inspect data\n",
    "data.head()"
   ]
  },
  {
   "cell_type": "markdown",
   "metadata": {},
   "source": [
    "*Comment*: The data looks good."
   ]
  },
  {
   "cell_type": "code",
   "execution_count": 217,
   "metadata": {
    "scrolled": false
   },
   "outputs": [],
   "source": [
    "# help(pd.read_csv)"
   ]
  },
  {
   "cell_type": "markdown",
   "metadata": {
    "colab_type": "text",
    "id": "3MWuJTKEDM-f"
   },
   "source": [
    "### Clean the mileage data\n",
    "\n",
    "The dataset contains a few unknown values."
   ]
  },
  {
   "cell_type": "code",
   "execution_count": 218,
   "metadata": {
    "colab": {},
    "colab_type": "code",
    "id": "JEJHhN65a2VV"
   },
   "outputs": [
    {
     "data": {
      "text/plain": [
       "MPG             0\n",
       "Cylinders       0\n",
       "Displacement    0\n",
       "Horsepower      6\n",
       "Weight          0\n",
       "Acceleration    0\n",
       "Model Year      0\n",
       "Origin          0\n",
       "dtype: int64"
      ]
     },
     "execution_count": 218,
     "metadata": {},
     "output_type": "execute_result"
    }
   ],
   "source": [
    "# Summary of columns wiht NA values\n",
    "dataset.isna().sum()"
   ]
  },
  {
   "cell_type": "markdown",
   "metadata": {
    "colab_type": "text",
    "id": "9UPN0KBHa_WI"
   },
   "source": [
    "To keep this initial tutorial simple drop those rows."
   ]
  },
  {
   "cell_type": "code",
   "execution_count": 219,
   "metadata": {
    "colab": {},
    "colab_type": "code",
    "id": "4ZUDosChC1UN"
   },
   "outputs": [],
   "source": [
    "# Remove rows with NA\n",
    "dataset = dataset.dropna()"
   ]
  },
  {
   "cell_type": "markdown",
   "metadata": {
    "colab_type": "text",
    "id": "8XKitwaH4v8h"
   },
   "source": [
    "The `\"Origin\"` column is really categorical, not numeric. So convert that to a one-hot:"
   ]
  },
  {
   "cell_type": "code",
   "execution_count": 220,
   "metadata": {
    "colab": {},
    "colab_type": "code",
    "id": "gWNTD2QjBWFJ"
   },
   "outputs": [],
   "source": [
    "# Convert numerical value to country in Origin variable\n",
    "dataset['Origin'] = dataset['Origin'].map(lambda x: {1: 'USA', 2: 'Europe', 3: 'Japan'}.get(x))"
   ]
  },
  {
   "cell_type": "code",
   "execution_count": 221,
   "metadata": {},
   "outputs": [
    {
     "data": {
      "text/plain": [
       "0    USA\n",
       "1    USA\n",
       "2    USA\n",
       "3    USA\n",
       "4    USA\n",
       "5    USA\n",
       "6    USA\n",
       "7    USA\n",
       "8    USA\n",
       "9    USA\n",
       "Name: Origin, dtype: object"
      ]
     },
     "execution_count": 221,
     "metadata": {},
     "output_type": "execute_result"
    }
   ],
   "source": [
    "# Inspect so it worked\n",
    "dataset['Origin'][:10]"
   ]
  },
  {
   "cell_type": "code",
   "execution_count": 222,
   "metadata": {
    "colab": {},
    "colab_type": "code",
    "id": "ulXz4J7PAUzk"
   },
   "outputs": [
    {
     "data": {
      "text/html": [
       "<div>\n",
       "<style scoped>\n",
       "    .dataframe tbody tr th:only-of-type {\n",
       "        vertical-align: middle;\n",
       "    }\n",
       "\n",
       "    .dataframe tbody tr th {\n",
       "        vertical-align: top;\n",
       "    }\n",
       "\n",
       "    .dataframe thead th {\n",
       "        text-align: right;\n",
       "    }\n",
       "</style>\n",
       "<table border=\"1\" class=\"dataframe\">\n",
       "  <thead>\n",
       "    <tr style=\"text-align: right;\">\n",
       "      <th></th>\n",
       "      <th>MPG</th>\n",
       "      <th>Cylinders</th>\n",
       "      <th>Displacement</th>\n",
       "      <th>Horsepower</th>\n",
       "      <th>Weight</th>\n",
       "      <th>Acceleration</th>\n",
       "      <th>Model Year</th>\n",
       "      <th>Europe</th>\n",
       "      <th>Japan</th>\n",
       "      <th>USA</th>\n",
       "    </tr>\n",
       "  </thead>\n",
       "  <tbody>\n",
       "    <tr>\n",
       "      <th>393</th>\n",
       "      <td>27.0</td>\n",
       "      <td>4</td>\n",
       "      <td>140.0</td>\n",
       "      <td>86.0</td>\n",
       "      <td>2790.0</td>\n",
       "      <td>15.6</td>\n",
       "      <td>82</td>\n",
       "      <td>0</td>\n",
       "      <td>0</td>\n",
       "      <td>1</td>\n",
       "    </tr>\n",
       "    <tr>\n",
       "      <th>394</th>\n",
       "      <td>44.0</td>\n",
       "      <td>4</td>\n",
       "      <td>97.0</td>\n",
       "      <td>52.0</td>\n",
       "      <td>2130.0</td>\n",
       "      <td>24.6</td>\n",
       "      <td>82</td>\n",
       "      <td>1</td>\n",
       "      <td>0</td>\n",
       "      <td>0</td>\n",
       "    </tr>\n",
       "    <tr>\n",
       "      <th>395</th>\n",
       "      <td>32.0</td>\n",
       "      <td>4</td>\n",
       "      <td>135.0</td>\n",
       "      <td>84.0</td>\n",
       "      <td>2295.0</td>\n",
       "      <td>11.6</td>\n",
       "      <td>82</td>\n",
       "      <td>0</td>\n",
       "      <td>0</td>\n",
       "      <td>1</td>\n",
       "    </tr>\n",
       "    <tr>\n",
       "      <th>396</th>\n",
       "      <td>28.0</td>\n",
       "      <td>4</td>\n",
       "      <td>120.0</td>\n",
       "      <td>79.0</td>\n",
       "      <td>2625.0</td>\n",
       "      <td>18.6</td>\n",
       "      <td>82</td>\n",
       "      <td>0</td>\n",
       "      <td>0</td>\n",
       "      <td>1</td>\n",
       "    </tr>\n",
       "    <tr>\n",
       "      <th>397</th>\n",
       "      <td>31.0</td>\n",
       "      <td>4</td>\n",
       "      <td>119.0</td>\n",
       "      <td>82.0</td>\n",
       "      <td>2720.0</td>\n",
       "      <td>19.4</td>\n",
       "      <td>82</td>\n",
       "      <td>0</td>\n",
       "      <td>0</td>\n",
       "      <td>1</td>\n",
       "    </tr>\n",
       "  </tbody>\n",
       "</table>\n",
       "</div>"
      ],
      "text/plain": [
       "      MPG  Cylinders  Displacement  Horsepower  Weight  Acceleration  \\\n",
       "393  27.0          4         140.0        86.0  2790.0          15.6   \n",
       "394  44.0          4          97.0        52.0  2130.0          24.6   \n",
       "395  32.0          4         135.0        84.0  2295.0          11.6   \n",
       "396  28.0          4         120.0        79.0  2625.0          18.6   \n",
       "397  31.0          4         119.0        82.0  2720.0          19.4   \n",
       "\n",
       "     Model Year  Europe  Japan  USA  \n",
       "393          82       0      0    1  \n",
       "394          82       1      0    0  \n",
       "395          82       0      0    1  \n",
       "396          82       0      0    1  \n",
       "397          82       0      0    1  "
      ]
     },
     "execution_count": 222,
     "metadata": {},
     "output_type": "execute_result"
    }
   ],
   "source": [
    "# Do the one-hot-encoding\n",
    "dataset = pd.get_dummies(dataset, prefix='', prefix_sep='')\n",
    "dataset.tail()"
   ]
  },
  {
   "cell_type": "markdown",
   "metadata": {},
   "source": [
    "## Task 2:\n",
    "\n",
    "Instead removing the data replace missing values by the averages of horsepower values that are available.\n",
    "The logical valued function `dataset['Horsepower'].isnull()` applied to the original data can be used for the purpose. Do you think that this way of dealing with the missing data is legitimate?"
   ]
  },
  {
   "cell_type": "markdown",
   "metadata": {},
   "source": [
    "#### Solution\n",
    "I'll do a more manually coded version of imputing. There is also a neat function in pandas called fillna() that can be used. But doing things manually is always better for learning, so let's do that!\n",
    "\n",
    "Regarding wether it's legitimate, I believe it depends on the purpose of the analysis. If we're in business and want to build a model to better predict the gas need of cars so that we can set appropriate prices, then I don't think it's a problem as long as the model performs well. If we're in science and we're trying to look at the connection between horsepower and something else and we're going to present the results as the \"truth\", then it's more questionable. But removing data completely, as the alternative is, is also not good practice. So in conclusion I believe it's most important to be transparant about it. "
   ]
  },
  {
   "cell_type": "code",
   "execution_count": 223,
   "metadata": {},
   "outputs": [
    {
     "data": {
      "text/html": [
       "<div>\n",
       "<style scoped>\n",
       "    .dataframe tbody tr th:only-of-type {\n",
       "        vertical-align: middle;\n",
       "    }\n",
       "\n",
       "    .dataframe tbody tr th {\n",
       "        vertical-align: top;\n",
       "    }\n",
       "\n",
       "    .dataframe thead th {\n",
       "        text-align: right;\n",
       "    }\n",
       "</style>\n",
       "<table border=\"1\" class=\"dataframe\">\n",
       "  <thead>\n",
       "    <tr style=\"text-align: right;\">\n",
       "      <th></th>\n",
       "      <th>MPG</th>\n",
       "      <th>Cylinders</th>\n",
       "      <th>Displacement</th>\n",
       "      <th>Horsepower</th>\n",
       "      <th>Weight</th>\n",
       "      <th>Acceleration</th>\n",
       "      <th>Model Year</th>\n",
       "      <th>Origin</th>\n",
       "    </tr>\n",
       "  </thead>\n",
       "  <tbody>\n",
       "    <tr>\n",
       "      <th>393</th>\n",
       "      <td>27.0</td>\n",
       "      <td>4</td>\n",
       "      <td>140.0</td>\n",
       "      <td>86.0</td>\n",
       "      <td>2790.0</td>\n",
       "      <td>15.6</td>\n",
       "      <td>82</td>\n",
       "      <td>1</td>\n",
       "    </tr>\n",
       "    <tr>\n",
       "      <th>394</th>\n",
       "      <td>44.0</td>\n",
       "      <td>4</td>\n",
       "      <td>97.0</td>\n",
       "      <td>52.0</td>\n",
       "      <td>2130.0</td>\n",
       "      <td>24.6</td>\n",
       "      <td>82</td>\n",
       "      <td>2</td>\n",
       "    </tr>\n",
       "    <tr>\n",
       "      <th>395</th>\n",
       "      <td>32.0</td>\n",
       "      <td>4</td>\n",
       "      <td>135.0</td>\n",
       "      <td>84.0</td>\n",
       "      <td>2295.0</td>\n",
       "      <td>11.6</td>\n",
       "      <td>82</td>\n",
       "      <td>1</td>\n",
       "    </tr>\n",
       "    <tr>\n",
       "      <th>396</th>\n",
       "      <td>28.0</td>\n",
       "      <td>4</td>\n",
       "      <td>120.0</td>\n",
       "      <td>79.0</td>\n",
       "      <td>2625.0</td>\n",
       "      <td>18.6</td>\n",
       "      <td>82</td>\n",
       "      <td>1</td>\n",
       "    </tr>\n",
       "    <tr>\n",
       "      <th>397</th>\n",
       "      <td>31.0</td>\n",
       "      <td>4</td>\n",
       "      <td>119.0</td>\n",
       "      <td>82.0</td>\n",
       "      <td>2720.0</td>\n",
       "      <td>19.4</td>\n",
       "      <td>82</td>\n",
       "      <td>1</td>\n",
       "    </tr>\n",
       "  </tbody>\n",
       "</table>\n",
       "</div>"
      ],
      "text/plain": [
       "      MPG  Cylinders  Displacement  Horsepower  Weight  Acceleration  \\\n",
       "393  27.0          4         140.0        86.0  2790.0          15.6   \n",
       "394  44.0          4          97.0        52.0  2130.0          24.6   \n",
       "395  32.0          4         135.0        84.0  2295.0          11.6   \n",
       "396  28.0          4         120.0        79.0  2625.0          18.6   \n",
       "397  31.0          4         119.0        82.0  2720.0          19.4   \n",
       "\n",
       "     Model Year  Origin  \n",
       "393          82       1  \n",
       "394          82       2  \n",
       "395          82       1  \n",
       "396          82       1  \n",
       "397          82       1  "
      ]
     },
     "execution_count": 223,
     "metadata": {},
     "output_type": "execute_result"
    }
   ],
   "source": [
    "#Read the data again\n",
    "column_names = ['MPG','Cylinders','Displacement','Horsepower','Weight',\n",
    "                'Acceleration', 'Model Year', 'Origin']\n",
    "raw_dataset = pd.read_csv(dataset_path, names=column_names,\n",
    "                      na_values = \"?\", comment='\\t',\n",
    "                      sep=\" \", skipinitialspace=True)\n",
    "\n",
    "dataset = raw_dataset.copy()\n",
    "dataset.tail()"
   ]
  },
  {
   "cell_type": "code",
   "execution_count": 224,
   "metadata": {},
   "outputs": [
    {
     "name": "stderr",
     "output_type": "stream",
     "text": [
      "/Users/Sara/anaconda3/lib/python3.7/site-packages/ipykernel_launcher.py:6: SettingWithCopyWarning: \n",
      "A value is trying to be set on a copy of a slice from a DataFrame\n",
      "\n",
      "See the caveats in the documentation: https://pandas.pydata.org/pandas-docs/stable/user_guide/indexing.html#returning-a-view-versus-a-copy\n",
      "  \n"
     ]
    }
   ],
   "source": [
    "# Manual imputation of missing values\n",
    "from numpy import mean\n",
    "\n",
    "for i in range(len(dataset)):\n",
    "    if dataset['Horsepower'].isna()[i] == True:\n",
    "        dataset['Horsepower'][i] = mean(dataset['Horsepower'])"
   ]
  },
  {
   "cell_type": "code",
   "execution_count": 225,
   "metadata": {},
   "outputs": [
    {
     "data": {
      "text/plain": [
       "MPG             0\n",
       "Cylinders       0\n",
       "Displacement    0\n",
       "Horsepower      0\n",
       "Weight          0\n",
       "Acceleration    0\n",
       "Model Year      0\n",
       "Origin          0\n",
       "dtype: int64"
      ]
     },
     "execution_count": 225,
     "metadata": {},
     "output_type": "execute_result"
    }
   ],
   "source": [
    "# Check so it worked\n",
    "dataset.isna().sum()"
   ]
  },
  {
   "cell_type": "markdown",
   "metadata": {},
   "source": [
    "*Comment*: It worked! "
   ]
  },
  {
   "cell_type": "markdown",
   "metadata": {},
   "source": [
    "## Task 3:\n",
    "\n",
    "Prepare the final form of the data so that there are no missing data and the categorical variable `Origin` is accounted by the dummy variables. Why do the other discrete data  not need to be treated by the dummy variables?"
   ]
  },
  {
   "cell_type": "markdown",
   "metadata": {},
   "source": [
    "#### Solution\n",
    "The other discrete data don't need dummies because they are ordered - meaning their numerical value still has some meaning. For USA, Europe and Japan we can't for example have a meaningful mean value."
   ]
  },
  {
   "cell_type": "code",
   "execution_count": 226,
   "metadata": {
    "colab": {},
    "colab_type": "code",
    "id": "gWNTD2QjBWFJ"
   },
   "outputs": [],
   "source": [
    "dataset['Origin'] = dataset['Origin'].map(lambda x: {1: 'USA', 2: 'Europe', 3: 'Japan'}.get(x))"
   ]
  },
  {
   "cell_type": "code",
   "execution_count": 227,
   "metadata": {
    "colab": {},
    "colab_type": "code",
    "id": "ulXz4J7PAUzk"
   },
   "outputs": [
    {
     "data": {
      "text/html": [
       "<div>\n",
       "<style scoped>\n",
       "    .dataframe tbody tr th:only-of-type {\n",
       "        vertical-align: middle;\n",
       "    }\n",
       "\n",
       "    .dataframe tbody tr th {\n",
       "        vertical-align: top;\n",
       "    }\n",
       "\n",
       "    .dataframe thead th {\n",
       "        text-align: right;\n",
       "    }\n",
       "</style>\n",
       "<table border=\"1\" class=\"dataframe\">\n",
       "  <thead>\n",
       "    <tr style=\"text-align: right;\">\n",
       "      <th></th>\n",
       "      <th>MPG</th>\n",
       "      <th>Cylinders</th>\n",
       "      <th>Displacement</th>\n",
       "      <th>Horsepower</th>\n",
       "      <th>Weight</th>\n",
       "      <th>Acceleration</th>\n",
       "      <th>Model Year</th>\n",
       "      <th>Europe</th>\n",
       "      <th>Japan</th>\n",
       "      <th>USA</th>\n",
       "    </tr>\n",
       "  </thead>\n",
       "  <tbody>\n",
       "    <tr>\n",
       "      <th>393</th>\n",
       "      <td>27.0</td>\n",
       "      <td>4</td>\n",
       "      <td>140.0</td>\n",
       "      <td>86.0</td>\n",
       "      <td>2790.0</td>\n",
       "      <td>15.6</td>\n",
       "      <td>82</td>\n",
       "      <td>0</td>\n",
       "      <td>0</td>\n",
       "      <td>1</td>\n",
       "    </tr>\n",
       "    <tr>\n",
       "      <th>394</th>\n",
       "      <td>44.0</td>\n",
       "      <td>4</td>\n",
       "      <td>97.0</td>\n",
       "      <td>52.0</td>\n",
       "      <td>2130.0</td>\n",
       "      <td>24.6</td>\n",
       "      <td>82</td>\n",
       "      <td>1</td>\n",
       "      <td>0</td>\n",
       "      <td>0</td>\n",
       "    </tr>\n",
       "    <tr>\n",
       "      <th>395</th>\n",
       "      <td>32.0</td>\n",
       "      <td>4</td>\n",
       "      <td>135.0</td>\n",
       "      <td>84.0</td>\n",
       "      <td>2295.0</td>\n",
       "      <td>11.6</td>\n",
       "      <td>82</td>\n",
       "      <td>0</td>\n",
       "      <td>0</td>\n",
       "      <td>1</td>\n",
       "    </tr>\n",
       "    <tr>\n",
       "      <th>396</th>\n",
       "      <td>28.0</td>\n",
       "      <td>4</td>\n",
       "      <td>120.0</td>\n",
       "      <td>79.0</td>\n",
       "      <td>2625.0</td>\n",
       "      <td>18.6</td>\n",
       "      <td>82</td>\n",
       "      <td>0</td>\n",
       "      <td>0</td>\n",
       "      <td>1</td>\n",
       "    </tr>\n",
       "    <tr>\n",
       "      <th>397</th>\n",
       "      <td>31.0</td>\n",
       "      <td>4</td>\n",
       "      <td>119.0</td>\n",
       "      <td>82.0</td>\n",
       "      <td>2720.0</td>\n",
       "      <td>19.4</td>\n",
       "      <td>82</td>\n",
       "      <td>0</td>\n",
       "      <td>0</td>\n",
       "      <td>1</td>\n",
       "    </tr>\n",
       "  </tbody>\n",
       "</table>\n",
       "</div>"
      ],
      "text/plain": [
       "      MPG  Cylinders  Displacement  Horsepower  Weight  Acceleration  \\\n",
       "393  27.0          4         140.0        86.0  2790.0          15.6   \n",
       "394  44.0          4          97.0        52.0  2130.0          24.6   \n",
       "395  32.0          4         135.0        84.0  2295.0          11.6   \n",
       "396  28.0          4         120.0        79.0  2625.0          18.6   \n",
       "397  31.0          4         119.0        82.0  2720.0          19.4   \n",
       "\n",
       "     Model Year  Europe  Japan  USA  \n",
       "393          82       0      0    1  \n",
       "394          82       1      0    0  \n",
       "395          82       0      0    1  \n",
       "396          82       0      0    1  \n",
       "397          82       0      0    1  "
      ]
     },
     "execution_count": 227,
     "metadata": {},
     "output_type": "execute_result"
    }
   ],
   "source": [
    "dataset = pd.get_dummies(dataset, prefix='', prefix_sep='')\n",
    "dataset.tail()"
   ]
  },
  {
   "cell_type": "markdown",
   "metadata": {},
   "source": [
    "## Task 4:\n",
    "\n",
    "Split the data into train and test subsets. Use `dataset.sample(fract=0.8,random_state=0)` and `dataset.drop(train_dataset.index)`. Comment what has been done in these two instructions. "
   ]
  },
  {
   "cell_type": "markdown",
   "metadata": {},
   "source": [
    "#### Solution\n",
    "See comments in the code below and the check to see if it worked in the end."
   ]
  },
  {
   "cell_type": "code",
   "execution_count": 228,
   "metadata": {},
   "outputs": [],
   "source": [
    "# Get random sample from initial dataframe (sampling 80 % of its observations)\n",
    "train_dataset = dataset.sample(frac = 0.8, random_state = 0)\n",
    "\n",
    "# Create test set by dropping the train rows from the inital dataset\n",
    "# Note that this won't affect the original dataset unless we use inplace = True\n",
    "test_dataset = dataset.drop(train_dataset.index)"
   ]
  },
  {
   "cell_type": "code",
   "execution_count": 229,
   "metadata": {},
   "outputs": [
    {
     "name": "stdout",
     "output_type": "stream",
     "text": [
      "The train set consists of 318 observations.\n",
      "The test set consists of 80 observations.\n"
     ]
    }
   ],
   "source": [
    "print('The train set consists of', len(train_dataset), 'observations.')\n",
    "print('The test set consists of', len(test_dataset), 'observations.')"
   ]
  },
  {
   "cell_type": "markdown",
   "metadata": {
    "colab_type": "text",
    "id": "J4ubs136WLNp"
   },
   "source": [
    "### Inspect the data\n",
    "\n",
    "Have a quick look at the joint distribution of a few pairs of columns from the training set."
   ]
  },
  {
   "cell_type": "code",
   "execution_count": 230,
   "metadata": {
    "colab": {},
    "colab_type": "code",
    "id": "oRKO_x8gWKv-",
    "scrolled": true
   },
   "outputs": [
    {
     "data": {
      "text/plain": [
       "<seaborn.axisgrid.PairGrid at 0x7fe079f5d898>"
      ]
     },
     "execution_count": 230,
     "metadata": {},
     "output_type": "execute_result"
    },
    {
     "data": {
      "image/png": "[encoded data removed]",
      "text/plain": [
       "<Figure size 720x720 with 20 Axes>"
      ]
     },
     "metadata": {
      "needs_background": "light"
     },
     "output_type": "display_data"
    }
   ],
   "source": [
    "sns.pairplot(train_dataset[[\"MPG\", \"Cylinders\", \"Displacement\", \"Weight\"]], diag_kind=\"kde\")"
   ]
  },
  {
   "cell_type": "markdown",
   "metadata": {},
   "source": [
    "*Comment*: Looks like there is correlation between Weight and Displacement, Weight and MPG, Weight and Cylinders for example. The relationsship between Weight and MPG does however look more quadratic than linear. This is always an interesting issue to deal with in regression."
   ]
  },
  {
   "cell_type": "markdown",
   "metadata": {
    "colab_type": "text",
    "id": "gavKO_6DWRMP"
   },
   "source": [
    "Also look at the overall statistics:"
   ]
  },
  {
   "cell_type": "code",
   "execution_count": 231,
   "metadata": {
    "colab": {},
    "colab_type": "code",
    "id": "yi2FzC3T21jR"
   },
   "outputs": [
    {
     "data": {
      "text/html": [
       "<div>\n",
       "<style scoped>\n",
       "    .dataframe tbody tr th:only-of-type {\n",
       "        vertical-align: middle;\n",
       "    }\n",
       "\n",
       "    .dataframe tbody tr th {\n",
       "        vertical-align: top;\n",
       "    }\n",
       "\n",
       "    .dataframe thead th {\n",
       "        text-align: right;\n",
       "    }\n",
       "</style>\n",
       "<table border=\"1\" class=\"dataframe\">\n",
       "  <thead>\n",
       "    <tr style=\"text-align: right;\">\n",
       "      <th></th>\n",
       "      <th>count</th>\n",
       "      <th>mean</th>\n",
       "      <th>std</th>\n",
       "      <th>min</th>\n",
       "      <th>25%</th>\n",
       "      <th>50%</th>\n",
       "      <th>75%</th>\n",
       "      <th>max</th>\n",
       "    </tr>\n",
       "  </thead>\n",
       "  <tbody>\n",
       "    <tr>\n",
       "      <th>Cylinders</th>\n",
       "      <td>318.0</td>\n",
       "      <td>5.427673</td>\n",
       "      <td>1.682941</td>\n",
       "      <td>3.0</td>\n",
       "      <td>4.00</td>\n",
       "      <td>4.0</td>\n",
       "      <td>6.00</td>\n",
       "      <td>8.0</td>\n",
       "    </tr>\n",
       "    <tr>\n",
       "      <th>Displacement</th>\n",
       "      <td>318.0</td>\n",
       "      <td>193.061321</td>\n",
       "      <td>103.812742</td>\n",
       "      <td>70.0</td>\n",
       "      <td>100.25</td>\n",
       "      <td>151.0</td>\n",
       "      <td>259.50</td>\n",
       "      <td>455.0</td>\n",
       "    </tr>\n",
       "    <tr>\n",
       "      <th>Horsepower</th>\n",
       "      <td>318.0</td>\n",
       "      <td>104.073418</td>\n",
       "      <td>38.368477</td>\n",
       "      <td>46.0</td>\n",
       "      <td>75.25</td>\n",
       "      <td>92.0</td>\n",
       "      <td>120.00</td>\n",
       "      <td>230.0</td>\n",
       "    </tr>\n",
       "    <tr>\n",
       "      <th>Weight</th>\n",
       "      <td>318.0</td>\n",
       "      <td>2963.823899</td>\n",
       "      <td>844.749805</td>\n",
       "      <td>1613.0</td>\n",
       "      <td>2219.25</td>\n",
       "      <td>2792.5</td>\n",
       "      <td>3571.25</td>\n",
       "      <td>5140.0</td>\n",
       "    </tr>\n",
       "    <tr>\n",
       "      <th>Acceleration</th>\n",
       "      <td>318.0</td>\n",
       "      <td>15.595912</td>\n",
       "      <td>2.796282</td>\n",
       "      <td>8.0</td>\n",
       "      <td>13.90</td>\n",
       "      <td>15.5</td>\n",
       "      <td>17.30</td>\n",
       "      <td>24.8</td>\n",
       "    </tr>\n",
       "    <tr>\n",
       "      <th>Model Year</th>\n",
       "      <td>318.0</td>\n",
       "      <td>75.946541</td>\n",
       "      <td>3.705266</td>\n",
       "      <td>70.0</td>\n",
       "      <td>73.00</td>\n",
       "      <td>76.0</td>\n",
       "      <td>79.00</td>\n",
       "      <td>82.0</td>\n",
       "    </tr>\n",
       "  </tbody>\n",
       "</table>\n",
       "</div>"
      ],
      "text/plain": [
       "              count         mean         std     min      25%     50%  \\\n",
       "Cylinders     318.0     5.427673    1.682941     3.0     4.00     4.0   \n",
       "Displacement  318.0   193.061321  103.812742    70.0   100.25   151.0   \n",
       "Horsepower    318.0   104.073418   38.368477    46.0    75.25    92.0   \n",
       "Weight        318.0  2963.823899  844.749805  1613.0  2219.25  2792.5   \n",
       "Acceleration  318.0    15.595912    2.796282     8.0    13.90    15.5   \n",
       "Model Year    318.0    75.946541    3.705266    70.0    73.00    76.0   \n",
       "\n",
       "                  75%     max  \n",
       "Cylinders        6.00     8.0  \n",
       "Displacement   259.50   455.0  \n",
       "Horsepower     120.00   230.0  \n",
       "Weight        3571.25  5140.0  \n",
       "Acceleration    17.30    24.8  \n",
       "Model Year      79.00    82.0  "
      ]
     },
     "execution_count": 231,
     "metadata": {},
     "output_type": "execute_result"
    }
   ],
   "source": [
    "# Checking overall statistics of the explaining variables\n",
    "train_stats = train_dataset.describe()\n",
    "train_stats.drop([\"MPG\", \"Europe\", \"Japan\", \"USA\"], axis = 1, inplace = True)\n",
    "train_stats = train_stats.transpose()\n",
    "train_stats"
   ]
  },
  {
   "cell_type": "markdown",
   "metadata": {},
   "source": [
    "*Comment*: Looking at the descriptive statistics of the explaining variables listed above, we can see for example that the number of cylinders go from 3 to 8 and that the standard deviation of Displacement looks quite high. Always good to know."
   ]
  },
  {
   "cell_type": "markdown",
   "metadata": {},
   "source": [
    "## Task 5:\n",
    "\n",
    "In similar fashion explore the data from the downloaded additional data sets.  "
   ]
  },
  {
   "cell_type": "code",
   "execution_count": 232,
   "metadata": {},
   "outputs": [],
   "source": [
    "# Split data into training and testing set\n",
    "train_fires = data.sample(frac=0.8,random_state=0)\n",
    "test_fires = data.drop(train_fires.index)"
   ]
  },
  {
   "cell_type": "code",
   "execution_count": 233,
   "metadata": {},
   "outputs": [
    {
     "data": {
      "text/html": [
       "<div>\n",
       "<style scoped>\n",
       "    .dataframe tbody tr th:only-of-type {\n",
       "        vertical-align: middle;\n",
       "    }\n",
       "\n",
       "    .dataframe tbody tr th {\n",
       "        vertical-align: top;\n",
       "    }\n",
       "\n",
       "    .dataframe thead th {\n",
       "        text-align: right;\n",
       "    }\n",
       "</style>\n",
       "<table border=\"1\" class=\"dataframe\">\n",
       "  <thead>\n",
       "    <tr style=\"text-align: right;\">\n",
       "      <th></th>\n",
       "      <th>X</th>\n",
       "      <th>Y</th>\n",
       "      <th>month</th>\n",
       "      <th>day</th>\n",
       "      <th>FFMC</th>\n",
       "      <th>DMC</th>\n",
       "      <th>DC</th>\n",
       "      <th>ISI</th>\n",
       "      <th>temp</th>\n",
       "      <th>RH</th>\n",
       "      <th>wind</th>\n",
       "      <th>rain</th>\n",
       "      <th>area</th>\n",
       "    </tr>\n",
       "  </thead>\n",
       "  <tbody>\n",
       "    <tr>\n",
       "      <th>213</th>\n",
       "      <td>7</td>\n",
       "      <td>3</td>\n",
       "      <td>mar</td>\n",
       "      <td>mon</td>\n",
       "      <td>87.6</td>\n",
       "      <td>52.2</td>\n",
       "      <td>103.8</td>\n",
       "      <td>5.0</td>\n",
       "      <td>11.0</td>\n",
       "      <td>46</td>\n",
       "      <td>5.8</td>\n",
       "      <td>0.0</td>\n",
       "      <td>27.35</td>\n",
       "    </tr>\n",
       "    <tr>\n",
       "      <th>435</th>\n",
       "      <td>2</td>\n",
       "      <td>5</td>\n",
       "      <td>jul</td>\n",
       "      <td>sat</td>\n",
       "      <td>90.8</td>\n",
       "      <td>84.7</td>\n",
       "      <td>376.6</td>\n",
       "      <td>5.6</td>\n",
       "      <td>23.8</td>\n",
       "      <td>51</td>\n",
       "      <td>1.8</td>\n",
       "      <td>0.0</td>\n",
       "      <td>0.00</td>\n",
       "    </tr>\n",
       "    <tr>\n",
       "      <th>343</th>\n",
       "      <td>8</td>\n",
       "      <td>6</td>\n",
       "      <td>sep</td>\n",
       "      <td>mon</td>\n",
       "      <td>91.5</td>\n",
       "      <td>130.1</td>\n",
       "      <td>807.1</td>\n",
       "      <td>7.5</td>\n",
       "      <td>15.9</td>\n",
       "      <td>51</td>\n",
       "      <td>4.5</td>\n",
       "      <td>0.0</td>\n",
       "      <td>2.18</td>\n",
       "    </tr>\n",
       "    <tr>\n",
       "      <th>230</th>\n",
       "      <td>4</td>\n",
       "      <td>4</td>\n",
       "      <td>sep</td>\n",
       "      <td>wed</td>\n",
       "      <td>92.9</td>\n",
       "      <td>133.3</td>\n",
       "      <td>699.6</td>\n",
       "      <td>9.2</td>\n",
       "      <td>26.4</td>\n",
       "      <td>21</td>\n",
       "      <td>4.5</td>\n",
       "      <td>0.0</td>\n",
       "      <td>88.49</td>\n",
       "    </tr>\n",
       "    <tr>\n",
       "      <th>171</th>\n",
       "      <td>8</td>\n",
       "      <td>6</td>\n",
       "      <td>aug</td>\n",
       "      <td>wed</td>\n",
       "      <td>85.6</td>\n",
       "      <td>90.4</td>\n",
       "      <td>609.6</td>\n",
       "      <td>6.6</td>\n",
       "      <td>17.4</td>\n",
       "      <td>50</td>\n",
       "      <td>4.0</td>\n",
       "      <td>0.0</td>\n",
       "      <td>2.69</td>\n",
       "    </tr>\n",
       "  </tbody>\n",
       "</table>\n",
       "</div>"
      ],
      "text/plain": [
       "     X  Y month  day  FFMC    DMC     DC  ISI  temp  RH  wind  rain   area\n",
       "213  7  3   mar  mon  87.6   52.2  103.8  5.0  11.0  46   5.8   0.0  27.35\n",
       "435  2  5   jul  sat  90.8   84.7  376.6  5.6  23.8  51   1.8   0.0   0.00\n",
       "343  8  6   sep  mon  91.5  130.1  807.1  7.5  15.9  51   4.5   0.0   2.18\n",
       "230  4  4   sep  wed  92.9  133.3  699.6  9.2  26.4  21   4.5   0.0  88.49\n",
       "171  8  6   aug  wed  85.6   90.4  609.6  6.6  17.4  50   4.0   0.0   2.69"
      ]
     },
     "execution_count": 233,
     "metadata": {},
     "output_type": "execute_result"
    }
   ],
   "source": [
    "# Look at the test set\n",
    "train_fires.head()"
   ]
  },
  {
   "cell_type": "code",
   "execution_count": 234,
   "metadata": {},
   "outputs": [
    {
     "data": {
      "text/html": [
       "<div>\n",
       "<style scoped>\n",
       "    .dataframe tbody tr th:only-of-type {\n",
       "        vertical-align: middle;\n",
       "    }\n",
       "\n",
       "    .dataframe tbody tr th {\n",
       "        vertical-align: top;\n",
       "    }\n",
       "\n",
       "    .dataframe thead th {\n",
       "        text-align: right;\n",
       "    }\n",
       "</style>\n",
       "<table border=\"1\" class=\"dataframe\">\n",
       "  <thead>\n",
       "    <tr style=\"text-align: right;\">\n",
       "      <th></th>\n",
       "      <th>X</th>\n",
       "      <th>Y</th>\n",
       "      <th>FFMC</th>\n",
       "      <th>DMC</th>\n",
       "      <th>DC</th>\n",
       "      <th>ISI</th>\n",
       "      <th>temp</th>\n",
       "      <th>RH</th>\n",
       "      <th>wind</th>\n",
       "      <th>rain</th>\n",
       "      <th>area</th>\n",
       "    </tr>\n",
       "  </thead>\n",
       "  <tbody>\n",
       "    <tr>\n",
       "      <th>count</th>\n",
       "      <td>414.000000</td>\n",
       "      <td>414.000000</td>\n",
       "      <td>414.000000</td>\n",
       "      <td>414.000000</td>\n",
       "      <td>414.000000</td>\n",
       "      <td>414.000000</td>\n",
       "      <td>414.000000</td>\n",
       "      <td>414.000000</td>\n",
       "      <td>414.000000</td>\n",
       "      <td>414.000000</td>\n",
       "      <td>414.000000</td>\n",
       "    </tr>\n",
       "    <tr>\n",
       "      <th>mean</th>\n",
       "      <td>4.669082</td>\n",
       "      <td>4.350242</td>\n",
       "      <td>90.534300</td>\n",
       "      <td>109.481643</td>\n",
       "      <td>541.928986</td>\n",
       "      <td>9.136957</td>\n",
       "      <td>18.800000</td>\n",
       "      <td>44.142512</td>\n",
       "      <td>3.967874</td>\n",
       "      <td>0.021256</td>\n",
       "      <td>13.569348</td>\n",
       "    </tr>\n",
       "    <tr>\n",
       "      <th>std</th>\n",
       "      <td>2.270809</td>\n",
       "      <td>1.205531</td>\n",
       "      <td>5.965789</td>\n",
       "      <td>62.796135</td>\n",
       "      <td>251.496567</td>\n",
       "      <td>4.760950</td>\n",
       "      <td>5.857786</td>\n",
       "      <td>16.491291</td>\n",
       "      <td>1.739613</td>\n",
       "      <td>0.320007</td>\n",
       "      <td>69.034251</td>\n",
       "    </tr>\n",
       "    <tr>\n",
       "      <th>min</th>\n",
       "      <td>1.000000</td>\n",
       "      <td>2.000000</td>\n",
       "      <td>18.700000</td>\n",
       "      <td>1.100000</td>\n",
       "      <td>7.900000</td>\n",
       "      <td>0.000000</td>\n",
       "      <td>2.200000</td>\n",
       "      <td>15.000000</td>\n",
       "      <td>0.400000</td>\n",
       "      <td>0.000000</td>\n",
       "      <td>0.000000</td>\n",
       "    </tr>\n",
       "    <tr>\n",
       "      <th>25%</th>\n",
       "      <td>3.000000</td>\n",
       "      <td>4.000000</td>\n",
       "      <td>90.200000</td>\n",
       "      <td>70.800000</td>\n",
       "      <td>425.775000</td>\n",
       "      <td>6.500000</td>\n",
       "      <td>15.400000</td>\n",
       "      <td>32.000000</td>\n",
       "      <td>2.700000</td>\n",
       "      <td>0.000000</td>\n",
       "      <td>0.000000</td>\n",
       "    </tr>\n",
       "    <tr>\n",
       "      <th>50%</th>\n",
       "      <td>4.000000</td>\n",
       "      <td>4.000000</td>\n",
       "      <td>91.700000</td>\n",
       "      <td>108.000000</td>\n",
       "      <td>663.000000</td>\n",
       "      <td>8.400000</td>\n",
       "      <td>19.150000</td>\n",
       "      <td>41.000000</td>\n",
       "      <td>4.000000</td>\n",
       "      <td>0.000000</td>\n",
       "      <td>0.450000</td>\n",
       "    </tr>\n",
       "    <tr>\n",
       "      <th>75%</th>\n",
       "      <td>6.000000</td>\n",
       "      <td>5.000000</td>\n",
       "      <td>92.900000</td>\n",
       "      <td>141.200000</td>\n",
       "      <td>709.100000</td>\n",
       "      <td>11.075000</td>\n",
       "      <td>22.800000</td>\n",
       "      <td>53.000000</td>\n",
       "      <td>4.900000</td>\n",
       "      <td>0.000000</td>\n",
       "      <td>6.577500</td>\n",
       "    </tr>\n",
       "    <tr>\n",
       "      <th>max</th>\n",
       "      <td>9.000000</td>\n",
       "      <td>9.000000</td>\n",
       "      <td>96.200000</td>\n",
       "      <td>291.300000</td>\n",
       "      <td>860.600000</td>\n",
       "      <td>56.100000</td>\n",
       "      <td>33.300000</td>\n",
       "      <td>100.000000</td>\n",
       "      <td>9.400000</td>\n",
       "      <td>6.400000</td>\n",
       "      <td>1090.840000</td>\n",
       "    </tr>\n",
       "  </tbody>\n",
       "</table>\n",
       "</div>"
      ],
      "text/plain": [
       "                X           Y        FFMC         DMC          DC         ISI  \\\n",
       "count  414.000000  414.000000  414.000000  414.000000  414.000000  414.000000   \n",
       "mean     4.669082    4.350242   90.534300  109.481643  541.928986    9.136957   \n",
       "std      2.270809    1.205531    5.965789   62.796135  251.496567    4.760950   \n",
       "min      1.000000    2.000000   18.700000    1.100000    7.900000    0.000000   \n",
       "25%      3.000000    4.000000   90.200000   70.800000  425.775000    6.500000   \n",
       "50%      4.000000    4.000000   91.700000  108.000000  663.000000    8.400000   \n",
       "75%      6.000000    5.000000   92.900000  141.200000  709.100000   11.075000   \n",
       "max      9.000000    9.000000   96.200000  291.300000  860.600000   56.100000   \n",
       "\n",
       "             temp          RH        wind        rain         area  \n",
       "count  414.000000  414.000000  414.000000  414.000000   414.000000  \n",
       "mean    18.800000   44.142512    3.967874    0.021256    13.569348  \n",
       "std      5.857786   16.491291    1.739613    0.320007    69.034251  \n",
       "min      2.200000   15.000000    0.400000    0.000000     0.000000  \n",
       "25%     15.400000   32.000000    2.700000    0.000000     0.000000  \n",
       "50%     19.150000   41.000000    4.000000    0.000000     0.450000  \n",
       "75%     22.800000   53.000000    4.900000    0.000000     6.577500  \n",
       "max     33.300000  100.000000    9.400000    6.400000  1090.840000  "
      ]
     },
     "execution_count": 234,
     "metadata": {},
     "output_type": "execute_result"
    }
   ],
   "source": [
    "# Inspect descriptive statistics\n",
    "train_fires.describe()"
   ]
  },
  {
   "cell_type": "markdown",
   "metadata": {},
   "source": [
    "*Comment*: Comparing the look at the full data and the descriptive statistics of the numerical variables, I note that month and day seem to be categorical values. I will inspect them a bit further and then dummy code them in an appropriate fashion. X and Y is, according to the description of the data, some kind of lang and lat coordinates. I'll try to plot them as well to look for patterns. Below is some of my data exploration."
   ]
  },
  {
   "cell_type": "code",
   "execution_count": 235,
   "metadata": {},
   "outputs": [
    {
     "data": {
      "text/plain": [
       "array(['mar', 'jul', 'sep', 'aug', 'feb', 'dec', 'jun', 'oct', 'apr',\n",
       "       'nov', 'jan', 'may'], dtype=object)"
      ]
     },
     "execution_count": 235,
     "metadata": {},
     "output_type": "execute_result"
    }
   ],
   "source": [
    "# Check the months present in the dataset\n",
    "months = train_fires['month'].unique()\n",
    "months"
   ]
  },
  {
   "cell_type": "code",
   "execution_count": 236,
   "metadata": {},
   "outputs": [
    {
     "data": {
      "image/png": "[encoded data removed]",
      "text/plain": [
       "<Figure size 432x288 with 1 Axes>"
      ]
     },
     "metadata": {
      "needs_background": "light"
     },
     "output_type": "display_data"
    }
   ],
   "source": [
    "# Geographical inspection (X and Y is coordinates in the park)\n",
    "train_fires.plot(kind = 'scatter', x = 'X', y = 'Y',\n",
    "                s = 'area', color = '#E98074')\n",
    "plt.savefig('long-lat-plot', transparent = True)"
   ]
  },
  {
   "cell_type": "markdown",
   "metadata": {},
   "source": [
    "*Comment*: The coordinates are hard to grasp the meaning of. Turns out they are not raw lang and lat values but values on a grid covering the park where the data was collected. See below for more comments and exploration."
   ]
  },
  {
   "cell_type": "code",
   "execution_count": 237,
   "metadata": {},
   "outputs": [
    {
     "data": {
      "image/png": "[encoded data removed]",
      "text/plain": [
       "<Figure size 432x288 with 1 Axes>"
      ]
     },
     "metadata": {
      "needs_background": "light"
     },
     "output_type": "display_data"
    }
   ],
   "source": [
    "# Plotting a second similar plot to better compare with the map\n",
    "train_fires.plot(kind = 'scatter', x = 'X', y = 'Y',\n",
    "                s = 'area', color = '#E98074')\n",
    "plt.axis([min(train_fires['X'])-1, max(train_fires['X'])+1, max(train_fires['Y'])-1, min(train_fires['Y'])-1])\n",
    "plt.savefig('long-lat-plot2', transparent = True)"
   ]
  },
  {
   "cell_type": "code",
   "execution_count": 238,
   "metadata": {},
   "outputs": [
    {
     "data": {
      "image/png": "[encoded data removed]",
      "text/plain": [
       "<IPython.core.display.Image object>"
      ]
     },
     "execution_count": 238,
     "metadata": {},
     "output_type": "execute_result"
    }
   ],
   "source": [
    "# This map is from the paper were they did the research on this dataset\n",
    "from IPython.display import Image\n",
    "Image(\"map.png\")"
   ]
  },
  {
   "cell_type": "code",
   "execution_count": 239,
   "metadata": {},
   "outputs": [
    {
     "data": {
      "image/png": "[encoded data removed]",
      "text/plain": [
       "<Figure size 432x288 with 1 Axes>"
      ]
     },
     "metadata": {
      "needs_background": "light"
     },
     "output_type": "display_data"
    },
    {
     "data": {
      "text/plain": [
       "<Figure size 432x288 with 0 Axes>"
      ]
     },
     "metadata": {},
     "output_type": "display_data"
    }
   ],
   "source": [
    "# Season inspection\n",
    "plt.bar(x = 'month', height = 'area', data = train_fires, color = '#E98074')\n",
    "plt.show()\n",
    "plt.savefig('months', transparent = True)"
   ]
  },
  {
   "cell_type": "markdown",
   "metadata": {},
   "source": [
    "*Comment*: As expected late summer months seem to have larger fires"
   ]
  },
  {
   "cell_type": "code",
   "execution_count": 240,
   "metadata": {},
   "outputs": [
    {
     "data": {
      "image/png": "[encoded data removed]",
      "text/plain": [
       "<Figure size 432x288 with 1 Axes>"
      ]
     },
     "metadata": {
      "needs_background": "light"
     },
     "output_type": "display_data"
    }
   ],
   "source": [
    "# Histogram of the outcome variable\n",
    "plt.hist(train_fires['area'], color = '#E98074')\n",
    "\n",
    "plt.savefig('outcome1', transparent = True)"
   ]
  },
  {
   "cell_type": "markdown",
   "metadata": {},
   "source": [
    "*Comment*: Like our visualizations show, the outcome variable is very skewed towards zero. Hence a log transformation is needed. Because many values are even 0, I'm going to do ln(x+1) transformation (which is recommended on the UCI repo for this data). In order to be able to evaluate both the transformed and original outcome variable I'm saving the original outcome in a vector before transformation. Furthermore we have two variables that we need to dummy code - month and day. Let's go a ahead and do these pre-processing steps."
   ]
  },
  {
   "cell_type": "code",
   "execution_count": 241,
   "metadata": {},
   "outputs": [],
   "source": [
    "import numpy as np"
   ]
  },
  {
   "cell_type": "code",
   "execution_count": 242,
   "metadata": {},
   "outputs": [],
   "source": [
    "# Log transformation of outcome variables \n",
    "# ln(x + 1) used bc some values are zero\n",
    "y_train_original = train_fires['area']\n",
    "train_fires['area'] = np.log(train_fires['area'] + 1)\n",
    "y_test_original = test_fires['area']\n",
    "test_fires['area'] = np.log(test_fires['area'] + 1)"
   ]
  },
  {
   "cell_type": "code",
   "execution_count": 243,
   "metadata": {},
   "outputs": [
    {
     "data": {
      "text/plain": [
       "(array([221.,  47.,  47.,  40.,  27.,  17.,   8.,   5.,   0.,   2.]),\n",
       " array([0.        , 0.69956196, 1.39912393, 2.09868589, 2.79824785,\n",
       "        3.49780981, 4.19737178, 4.89693374, 5.5964957 , 6.29605766,\n",
       "        6.99561963]),\n",
       " <a list of 10 Patch objects>)"
      ]
     },
     "execution_count": 243,
     "metadata": {},
     "output_type": "execute_result"
    },
    {
     "data": {
      "image/png": "[encoded data removed]",
      "text/plain": [
       "<Figure size 432x288 with 1 Axes>"
      ]
     },
     "metadata": {
      "needs_background": "light"
     },
     "output_type": "display_data"
    }
   ],
   "source": [
    "plt.hist(train_fires['area'], color = '#E98074')"
   ]
  },
  {
   "cell_type": "markdown",
   "metadata": {},
   "source": [
    "*Comment*: Even if dummy variables are a good solution to dealing with categorical data, they can be messy if we have many categories. This is the case for both month and day. For example the months have a rather large number of unique values, and since we don't have too many observations, it is better to but them into bigger bins of seasons. This is also supported by our bar chart above of the relation between area and month. For days I'm just going to split the days into weekday and weekend, since that's the only reasonable effect of days that I can think of (people hanging out more in the parks during weekends)."
   ]
  },
  {
   "cell_type": "code",
   "execution_count": 244,
   "metadata": {},
   "outputs": [],
   "source": [
    "# Function for converting month to season\n",
    "def month_to_season(month):\n",
    "    season = 'other'\n",
    "    if month in ['dec', 'jan', 'feb']:\n",
    "        season = 'winter'\n",
    "    if month in ['mar', 'apr', 'may']:\n",
    "        season = 'spring'\n",
    "    if month in ['jun', 'jul', 'aug']:\n",
    "        season = 'summer'\n",
    "    if month in ['sep', 'oct', 'nov']:\n",
    "        season = 'fall'\n",
    "    return season"
   ]
  },
  {
   "cell_type": "code",
   "execution_count": 245,
   "metadata": {},
   "outputs": [],
   "source": [
    "# Function for converting day to weekday/weekend\n",
    "def day_to_typeofday(old_day):\n",
    "    new_day = 'other'\n",
    "    if old_day in ['mon', 'tue', 'wed', 'thu', 'fri']:\n",
    "        new_day = 'weekday'\n",
    "    if old_day in ['sat', 'sun']:\n",
    "        new_day = 'weekend'\n",
    "    return new_day"
   ]
  },
  {
   "cell_type": "code",
   "execution_count": 246,
   "metadata": {},
   "outputs": [],
   "source": [
    "# Converting the months\n",
    "train_fires['season'] = train_fires['month'].apply(month_to_season)\n",
    "test_fires['season'] = test_fires['month'].apply(month_to_season)"
   ]
  },
  {
   "cell_type": "code",
   "execution_count": 247,
   "metadata": {},
   "outputs": [],
   "source": [
    "# Converting the days\n",
    "train_fires['day'] = train_fires['day'].apply(day_to_typeofday)\n",
    "test_fires['day'] = test_fires['day'].apply(day_to_typeofday)"
   ]
  },
  {
   "cell_type": "code",
   "execution_count": 248,
   "metadata": {},
   "outputs": [],
   "source": [
    "# Dropping months since it's now in the season column\n",
    "train_fires.drop('month', inplace = True, axis = 1)\n",
    "test_fires.drop('month', inplace = True, axis = 1)"
   ]
  },
  {
   "cell_type": "code",
   "execution_count": 249,
   "metadata": {},
   "outputs": [
    {
     "data": {
      "text/html": [
       "<div>\n",
       "<style scoped>\n",
       "    .dataframe tbody tr th:only-of-type {\n",
       "        vertical-align: middle;\n",
       "    }\n",
       "\n",
       "    .dataframe tbody tr th {\n",
       "        vertical-align: top;\n",
       "    }\n",
       "\n",
       "    .dataframe thead th {\n",
       "        text-align: right;\n",
       "    }\n",
       "</style>\n",
       "<table border=\"1\" class=\"dataframe\">\n",
       "  <thead>\n",
       "    <tr style=\"text-align: right;\">\n",
       "      <th></th>\n",
       "      <th>X</th>\n",
       "      <th>Y</th>\n",
       "      <th>day</th>\n",
       "      <th>FFMC</th>\n",
       "      <th>DMC</th>\n",
       "      <th>DC</th>\n",
       "      <th>ISI</th>\n",
       "      <th>temp</th>\n",
       "      <th>RH</th>\n",
       "      <th>wind</th>\n",
       "      <th>rain</th>\n",
       "      <th>area</th>\n",
       "      <th>season</th>\n",
       "    </tr>\n",
       "  </thead>\n",
       "  <tbody>\n",
       "    <tr>\n",
       "      <th>213</th>\n",
       "      <td>7</td>\n",
       "      <td>3</td>\n",
       "      <td>weekday</td>\n",
       "      <td>87.6</td>\n",
       "      <td>52.2</td>\n",
       "      <td>103.8</td>\n",
       "      <td>5.0</td>\n",
       "      <td>11.0</td>\n",
       "      <td>46</td>\n",
       "      <td>5.8</td>\n",
       "      <td>0.0</td>\n",
       "      <td>3.344627</td>\n",
       "      <td>spring</td>\n",
       "    </tr>\n",
       "    <tr>\n",
       "      <th>435</th>\n",
       "      <td>2</td>\n",
       "      <td>5</td>\n",
       "      <td>weekend</td>\n",
       "      <td>90.8</td>\n",
       "      <td>84.7</td>\n",
       "      <td>376.6</td>\n",
       "      <td>5.6</td>\n",
       "      <td>23.8</td>\n",
       "      <td>51</td>\n",
       "      <td>1.8</td>\n",
       "      <td>0.0</td>\n",
       "      <td>0.000000</td>\n",
       "      <td>summer</td>\n",
       "    </tr>\n",
       "    <tr>\n",
       "      <th>343</th>\n",
       "      <td>8</td>\n",
       "      <td>6</td>\n",
       "      <td>weekday</td>\n",
       "      <td>91.5</td>\n",
       "      <td>130.1</td>\n",
       "      <td>807.1</td>\n",
       "      <td>7.5</td>\n",
       "      <td>15.9</td>\n",
       "      <td>51</td>\n",
       "      <td>4.5</td>\n",
       "      <td>0.0</td>\n",
       "      <td>1.156881</td>\n",
       "      <td>fall</td>\n",
       "    </tr>\n",
       "    <tr>\n",
       "      <th>230</th>\n",
       "      <td>4</td>\n",
       "      <td>4</td>\n",
       "      <td>weekday</td>\n",
       "      <td>92.9</td>\n",
       "      <td>133.3</td>\n",
       "      <td>699.6</td>\n",
       "      <td>9.2</td>\n",
       "      <td>26.4</td>\n",
       "      <td>21</td>\n",
       "      <td>4.5</td>\n",
       "      <td>0.0</td>\n",
       "      <td>4.494127</td>\n",
       "      <td>fall</td>\n",
       "    </tr>\n",
       "    <tr>\n",
       "      <th>171</th>\n",
       "      <td>8</td>\n",
       "      <td>6</td>\n",
       "      <td>weekday</td>\n",
       "      <td>85.6</td>\n",
       "      <td>90.4</td>\n",
       "      <td>609.6</td>\n",
       "      <td>6.6</td>\n",
       "      <td>17.4</td>\n",
       "      <td>50</td>\n",
       "      <td>4.0</td>\n",
       "      <td>0.0</td>\n",
       "      <td>1.305626</td>\n",
       "      <td>summer</td>\n",
       "    </tr>\n",
       "  </tbody>\n",
       "</table>\n",
       "</div>"
      ],
      "text/plain": [
       "     X  Y      day  FFMC    DMC     DC  ISI  temp  RH  wind  rain      area  \\\n",
       "213  7  3  weekday  87.6   52.2  103.8  5.0  11.0  46   5.8   0.0  3.344627   \n",
       "435  2  5  weekend  90.8   84.7  376.6  5.6  23.8  51   1.8   0.0  0.000000   \n",
       "343  8  6  weekday  91.5  130.1  807.1  7.5  15.9  51   4.5   0.0  1.156881   \n",
       "230  4  4  weekday  92.9  133.3  699.6  9.2  26.4  21   4.5   0.0  4.494127   \n",
       "171  8  6  weekday  85.6   90.4  609.6  6.6  17.4  50   4.0   0.0  1.305626   \n",
       "\n",
       "     season  \n",
       "213  spring  \n",
       "435  summer  \n",
       "343    fall  \n",
       "230    fall  \n",
       "171  summer  "
      ]
     },
     "execution_count": 249,
     "metadata": {},
     "output_type": "execute_result"
    }
   ],
   "source": [
    "# Inspection\n",
    "train_fires.head()"
   ]
  },
  {
   "cell_type": "code",
   "execution_count": 250,
   "metadata": {},
   "outputs": [
    {
     "data": {
      "text/html": [
       "<div>\n",
       "<style scoped>\n",
       "    .dataframe tbody tr th:only-of-type {\n",
       "        vertical-align: middle;\n",
       "    }\n",
       "\n",
       "    .dataframe tbody tr th {\n",
       "        vertical-align: top;\n",
       "    }\n",
       "\n",
       "    .dataframe thead th {\n",
       "        text-align: right;\n",
       "    }\n",
       "</style>\n",
       "<table border=\"1\" class=\"dataframe\">\n",
       "  <thead>\n",
       "    <tr style=\"text-align: right;\">\n",
       "      <th></th>\n",
       "      <th>X</th>\n",
       "      <th>Y</th>\n",
       "      <th>FFMC</th>\n",
       "      <th>DMC</th>\n",
       "      <th>DC</th>\n",
       "      <th>ISI</th>\n",
       "      <th>temp</th>\n",
       "      <th>RH</th>\n",
       "      <th>wind</th>\n",
       "      <th>rain</th>\n",
       "      <th>area</th>\n",
       "      <th>weekday</th>\n",
       "      <th>weekend</th>\n",
       "      <th>fall</th>\n",
       "      <th>spring</th>\n",
       "      <th>summer</th>\n",
       "      <th>winter</th>\n",
       "    </tr>\n",
       "  </thead>\n",
       "  <tbody>\n",
       "    <tr>\n",
       "      <th>213</th>\n",
       "      <td>7</td>\n",
       "      <td>3</td>\n",
       "      <td>87.6</td>\n",
       "      <td>52.2</td>\n",
       "      <td>103.8</td>\n",
       "      <td>5.0</td>\n",
       "      <td>11.0</td>\n",
       "      <td>46</td>\n",
       "      <td>5.8</td>\n",
       "      <td>0.0</td>\n",
       "      <td>3.344627</td>\n",
       "      <td>1</td>\n",
       "      <td>0</td>\n",
       "      <td>0</td>\n",
       "      <td>1</td>\n",
       "      <td>0</td>\n",
       "      <td>0</td>\n",
       "    </tr>\n",
       "    <tr>\n",
       "      <th>435</th>\n",
       "      <td>2</td>\n",
       "      <td>5</td>\n",
       "      <td>90.8</td>\n",
       "      <td>84.7</td>\n",
       "      <td>376.6</td>\n",
       "      <td>5.6</td>\n",
       "      <td>23.8</td>\n",
       "      <td>51</td>\n",
       "      <td>1.8</td>\n",
       "      <td>0.0</td>\n",
       "      <td>0.000000</td>\n",
       "      <td>0</td>\n",
       "      <td>1</td>\n",
       "      <td>0</td>\n",
       "      <td>0</td>\n",
       "      <td>1</td>\n",
       "      <td>0</td>\n",
       "    </tr>\n",
       "    <tr>\n",
       "      <th>343</th>\n",
       "      <td>8</td>\n",
       "      <td>6</td>\n",
       "      <td>91.5</td>\n",
       "      <td>130.1</td>\n",
       "      <td>807.1</td>\n",
       "      <td>7.5</td>\n",
       "      <td>15.9</td>\n",
       "      <td>51</td>\n",
       "      <td>4.5</td>\n",
       "      <td>0.0</td>\n",
       "      <td>1.156881</td>\n",
       "      <td>1</td>\n",
       "      <td>0</td>\n",
       "      <td>1</td>\n",
       "      <td>0</td>\n",
       "      <td>0</td>\n",
       "      <td>0</td>\n",
       "    </tr>\n",
       "    <tr>\n",
       "      <th>230</th>\n",
       "      <td>4</td>\n",
       "      <td>4</td>\n",
       "      <td>92.9</td>\n",
       "      <td>133.3</td>\n",
       "      <td>699.6</td>\n",
       "      <td>9.2</td>\n",
       "      <td>26.4</td>\n",
       "      <td>21</td>\n",
       "      <td>4.5</td>\n",
       "      <td>0.0</td>\n",
       "      <td>4.494127</td>\n",
       "      <td>1</td>\n",
       "      <td>0</td>\n",
       "      <td>1</td>\n",
       "      <td>0</td>\n",
       "      <td>0</td>\n",
       "      <td>0</td>\n",
       "    </tr>\n",
       "    <tr>\n",
       "      <th>171</th>\n",
       "      <td>8</td>\n",
       "      <td>6</td>\n",
       "      <td>85.6</td>\n",
       "      <td>90.4</td>\n",
       "      <td>609.6</td>\n",
       "      <td>6.6</td>\n",
       "      <td>17.4</td>\n",
       "      <td>50</td>\n",
       "      <td>4.0</td>\n",
       "      <td>0.0</td>\n",
       "      <td>1.305626</td>\n",
       "      <td>1</td>\n",
       "      <td>0</td>\n",
       "      <td>0</td>\n",
       "      <td>0</td>\n",
       "      <td>1</td>\n",
       "      <td>0</td>\n",
       "    </tr>\n",
       "  </tbody>\n",
       "</table>\n",
       "</div>"
      ],
      "text/plain": [
       "     X  Y  FFMC    DMC     DC  ISI  temp  RH  wind  rain      area  weekday  \\\n",
       "213  7  3  87.6   52.2  103.8  5.0  11.0  46   5.8   0.0  3.344627        1   \n",
       "435  2  5  90.8   84.7  376.6  5.6  23.8  51   1.8   0.0  0.000000        0   \n",
       "343  8  6  91.5  130.1  807.1  7.5  15.9  51   4.5   0.0  1.156881        1   \n",
       "230  4  4  92.9  133.3  699.6  9.2  26.4  21   4.5   0.0  4.494127        1   \n",
       "171  8  6  85.6   90.4  609.6  6.6  17.4  50   4.0   0.0  1.305626        1   \n",
       "\n",
       "     weekend  fall  spring  summer  winter  \n",
       "213        0     0       1       0       0  \n",
       "435        1     0       0       1       0  \n",
       "343        0     1       0       0       0  \n",
       "230        0     1       0       0       0  \n",
       "171        0     0       0       1       0  "
      ]
     },
     "execution_count": 250,
     "metadata": {},
     "output_type": "execute_result"
    }
   ],
   "source": [
    "# Dummy coding\n",
    "train_fires = pd.get_dummies(train_fires, prefix='', prefix_sep='')\n",
    "test_fires = pd.get_dummies(test_fires, prefix = '', prefix_sep ='')\n",
    "train_fires.head()"
   ]
  },
  {
   "cell_type": "markdown",
   "metadata": {
    "colab_type": "text",
    "id": "Db7Auq1yXUvh"
   },
   "source": [
    "## Task 6:\n",
    "\n",
    "Normalize your dowloaded data sets. \n",
    "\n",
    "### Split features from labels\n",
    "\n",
    "Separate the target value, or \"label\", from the features. This label is the value that you will train the model to predict."
   ]
  },
  {
   "cell_type": "markdown",
   "metadata": {
    "colab_type": "text",
    "id": "mRklxK5s388r"
   },
   "source": [
    "### Normalize the data\n",
    "\n",
    "Look again at the `train_stats` block above and note how different the ranges of each feature are."
   ]
  },
  {
   "cell_type": "markdown",
   "metadata": {
    "colab_type": "text",
    "id": "-ywmerQ6dSox"
   },
   "source": [
    "It is good practice to normalize features that use different scales and ranges. Although the model *might* converge without feature normalization, it makes training more difficult, and it makes the resulting model dependent on the choice of units used in the input.\n",
    "\n",
    "Note: Although we intentionally generate these statistics from only the training dataset, these statistics will also be used to normalize the test dataset. We need to do that to project the test dataset into the same distribution that the model has been trained on."
   ]
  },
  {
   "cell_type": "markdown",
   "metadata": {},
   "source": [
    "#### Solution\n",
    "Normalizing the data is a bit trickier than what it might look like. Because of the dummy variables, we first have to pick them out of the data and then normalize the rest. Then we put the dummy variables back in. Doing this is another order would probably have been preferrable. "
   ]
  },
  {
   "cell_type": "code",
   "execution_count": 251,
   "metadata": {},
   "outputs": [],
   "source": [
    "# Splitting outcome value and explaining variable\n",
    "mpg_train = train_dataset['MPG']\n",
    "mpg_test = test_dataset['MPG']\n",
    "train_dataset.drop('MPG', axis = 1, inplace = True)\n",
    "test_dataset.drop('MPG', axis = 1, inplace = True)"
   ]
  },
  {
   "cell_type": "code",
   "execution_count": 252,
   "metadata": {},
   "outputs": [],
   "source": [
    "# Pick out dummies\n",
    "origin_list = ['Europe', 'Japan', 'USA']\n",
    "dummies_train = train_dataset[origin_list]\n",
    "train_dataset = train_dataset.drop(origin_list, axis = 1)\n",
    "dummies_test = test_dataset[origin_list]\n",
    "test_dataset = test_dataset.drop(origin_list, axis = 1)"
   ]
  },
  {
   "cell_type": "code",
   "execution_count": 253,
   "metadata": {
    "colab": {},
    "colab_type": "code",
    "id": "JlC5ooJrgjQF"
   },
   "outputs": [],
   "source": [
    "# Normalize\n",
    "def norm(x):\n",
    "  return (x - train_stats['mean']) / train_stats['std']\n",
    "normed_train_data = norm(train_dataset)\n",
    "normed_test_data = norm(test_dataset)"
   ]
  },
  {
   "cell_type": "code",
   "execution_count": 254,
   "metadata": {},
   "outputs": [
    {
     "data": {
      "text/html": [
       "<div>\n",
       "<style scoped>\n",
       "    .dataframe tbody tr th:only-of-type {\n",
       "        vertical-align: middle;\n",
       "    }\n",
       "\n",
       "    .dataframe tbody tr th {\n",
       "        vertical-align: top;\n",
       "    }\n",
       "\n",
       "    .dataframe thead th {\n",
       "        text-align: right;\n",
       "    }\n",
       "</style>\n",
       "<table border=\"1\" class=\"dataframe\">\n",
       "  <thead>\n",
       "    <tr style=\"text-align: right;\">\n",
       "      <th></th>\n",
       "      <th>Cylinders</th>\n",
       "      <th>Displacement</th>\n",
       "      <th>Horsepower</th>\n",
       "      <th>Weight</th>\n",
       "      <th>Acceleration</th>\n",
       "      <th>Model Year</th>\n",
       "    </tr>\n",
       "  </thead>\n",
       "  <tbody>\n",
       "    <tr>\n",
       "      <th>65</th>\n",
       "      <td>1.528471</td>\n",
       "      <td>1.521380</td>\n",
       "      <td>1.275177</td>\n",
       "      <td>1.379315</td>\n",
       "      <td>-0.928344</td>\n",
       "      <td>-1.065117</td>\n",
       "    </tr>\n",
       "    <tr>\n",
       "      <th>132</th>\n",
       "      <td>-0.848320</td>\n",
       "      <td>-0.511125</td>\n",
       "      <td>-0.757742</td>\n",
       "      <td>-0.499348</td>\n",
       "      <td>0.502127</td>\n",
       "      <td>-0.525344</td>\n",
       "    </tr>\n",
       "    <tr>\n",
       "      <th>74</th>\n",
       "      <td>1.528471</td>\n",
       "      <td>1.049377</td>\n",
       "      <td>0.936357</td>\n",
       "      <td>1.574639</td>\n",
       "      <td>0.144509</td>\n",
       "      <td>-1.065117</td>\n",
       "    </tr>\n",
       "    <tr>\n",
       "      <th>78</th>\n",
       "      <td>-0.848320</td>\n",
       "      <td>-0.703780</td>\n",
       "      <td>-0.444986</td>\n",
       "      <td>0.017965</td>\n",
       "      <td>1.396171</td>\n",
       "      <td>-1.065117</td>\n",
       "    </tr>\n",
       "    <tr>\n",
       "      <th>37</th>\n",
       "      <td>0.340075</td>\n",
       "      <td>0.375086</td>\n",
       "      <td>-0.106166</td>\n",
       "      <td>0.383754</td>\n",
       "      <td>-0.034300</td>\n",
       "      <td>-1.335003</td>\n",
       "    </tr>\n",
       "  </tbody>\n",
       "</table>\n",
       "</div>"
      ],
      "text/plain": [
       "     Cylinders  Displacement  Horsepower    Weight  Acceleration  Model Year\n",
       "65    1.528471      1.521380    1.275177  1.379315     -0.928344   -1.065117\n",
       "132  -0.848320     -0.511125   -0.757742 -0.499348      0.502127   -0.525344\n",
       "74    1.528471      1.049377    0.936357  1.574639      0.144509   -1.065117\n",
       "78   -0.848320     -0.703780   -0.444986  0.017965      1.396171   -1.065117\n",
       "37    0.340075      0.375086   -0.106166  0.383754     -0.034300   -1.335003"
      ]
     },
     "execution_count": 254,
     "metadata": {},
     "output_type": "execute_result"
    }
   ],
   "source": [
    "normed_train_data.head()"
   ]
  },
  {
   "cell_type": "code",
   "execution_count": 255,
   "metadata": {},
   "outputs": [],
   "source": [
    "# Put dummies back in\n",
    "normed_train_data = pd.concat([normed_train_data, \n",
    "                                dummies_train], axis = 1)\n",
    "\n",
    "normed_test_data = pd.concat([normed_test_data, \n",
    "                               dummies_test], axis = 1)"
   ]
  },
  {
   "cell_type": "code",
   "execution_count": 256,
   "metadata": {},
   "outputs": [
    {
     "data": {
      "text/html": [
       "<div>\n",
       "<style scoped>\n",
       "    .dataframe tbody tr th:only-of-type {\n",
       "        vertical-align: middle;\n",
       "    }\n",
       "\n",
       "    .dataframe tbody tr th {\n",
       "        vertical-align: top;\n",
       "    }\n",
       "\n",
       "    .dataframe thead th {\n",
       "        text-align: right;\n",
       "    }\n",
       "</style>\n",
       "<table border=\"1\" class=\"dataframe\">\n",
       "  <thead>\n",
       "    <tr style=\"text-align: right;\">\n",
       "      <th></th>\n",
       "      <th>Cylinders</th>\n",
       "      <th>Displacement</th>\n",
       "      <th>Horsepower</th>\n",
       "      <th>Weight</th>\n",
       "      <th>Acceleration</th>\n",
       "      <th>Model Year</th>\n",
       "      <th>Europe</th>\n",
       "      <th>Japan</th>\n",
       "      <th>USA</th>\n",
       "    </tr>\n",
       "  </thead>\n",
       "  <tbody>\n",
       "    <tr>\n",
       "      <th>9</th>\n",
       "      <td>1.528471</td>\n",
       "      <td>1.897057</td>\n",
       "      <td>2.239510</td>\n",
       "      <td>1.049040</td>\n",
       "      <td>-2.537624</td>\n",
       "      <td>-1.604889</td>\n",
       "      <td>0</td>\n",
       "      <td>0</td>\n",
       "      <td>1</td>\n",
       "    </tr>\n",
       "    <tr>\n",
       "      <th>25</th>\n",
       "      <td>1.528471</td>\n",
       "      <td>1.608075</td>\n",
       "      <td>2.891086</td>\n",
       "      <td>1.954633</td>\n",
       "      <td>-0.570726</td>\n",
       "      <td>-1.604889</td>\n",
       "      <td>0</td>\n",
       "      <td>0</td>\n",
       "      <td>1</td>\n",
       "    </tr>\n",
       "    <tr>\n",
       "      <th>28</th>\n",
       "      <td>1.528471</td>\n",
       "      <td>1.068642</td>\n",
       "      <td>2.317699</td>\n",
       "      <td>2.093136</td>\n",
       "      <td>1.038553</td>\n",
       "      <td>-1.604889</td>\n",
       "      <td>0</td>\n",
       "      <td>0</td>\n",
       "      <td>1</td>\n",
       "    </tr>\n",
       "    <tr>\n",
       "      <th>31</th>\n",
       "      <td>-0.848320</td>\n",
       "      <td>-0.771209</td>\n",
       "      <td>-0.236481</td>\n",
       "      <td>-0.871055</td>\n",
       "      <td>-0.570726</td>\n",
       "      <td>-1.335003</td>\n",
       "      <td>0</td>\n",
       "      <td>1</td>\n",
       "      <td>0</td>\n",
       "    </tr>\n",
       "    <tr>\n",
       "      <th>32</th>\n",
       "      <td>-0.848320</td>\n",
       "      <td>-0.915700</td>\n",
       "      <td>0.010320</td>\n",
       "      <td>-1.086504</td>\n",
       "      <td>1.217362</td>\n",
       "      <td>-1.335003</td>\n",
       "      <td>0</td>\n",
       "      <td>0</td>\n",
       "      <td>1</td>\n",
       "    </tr>\n",
       "  </tbody>\n",
       "</table>\n",
       "</div>"
      ],
      "text/plain": [
       "    Cylinders  Displacement  Horsepower    Weight  Acceleration  Model Year  \\\n",
       "9    1.528471      1.897057    2.239510  1.049040     -2.537624   -1.604889   \n",
       "25   1.528471      1.608075    2.891086  1.954633     -0.570726   -1.604889   \n",
       "28   1.528471      1.068642    2.317699  2.093136      1.038553   -1.604889   \n",
       "31  -0.848320     -0.771209   -0.236481 -0.871055     -0.570726   -1.335003   \n",
       "32  -0.848320     -0.915700    0.010320 -1.086504      1.217362   -1.335003   \n",
       "\n",
       "    Europe  Japan  USA  \n",
       "9        0      0    1  \n",
       "25       0      0    1  \n",
       "28       0      0    1  \n",
       "31       0      1    0  \n",
       "32       0      0    1  "
      ]
     },
     "execution_count": 256,
     "metadata": {},
     "output_type": "execute_result"
    }
   ],
   "source": [
    "# Check results\n",
    "normed_test_data.head()"
   ]
  },
  {
   "cell_type": "markdown",
   "metadata": {
    "colab_type": "text",
    "id": "BuiClDk45eS4"
   },
   "source": [
    "This normalized data is what we will use to train the model.\n",
    "\n",
    "Caution: The statistics used to normalize the inputs here (mean and standard deviation) need to be applied to any other data that is fed to the model. "
   ]
  },
  {
   "cell_type": "markdown",
   "metadata": {},
   "source": [
    "#### Solution\n",
    "I'm now going to normalize the data. I will put both test and train set into through a regular standardizing provedure to give them mean 0 and std 1, in order to better replicate the study from which I got the data. That way it satifies the need to put both training and testing to the same distribution like explained above. To not accidentally normalize the dummy variables I'm taking them out before and then putting them back in just like above."
   ]
  },
  {
   "cell_type": "code",
   "execution_count": 257,
   "metadata": {},
   "outputs": [],
   "source": [
    "# Pick out dummies\n",
    "dummies_list = ['fall', 'spring', 'summer', 'winter', 'weekend', 'weekday']\n",
    "fires_dummies_train = train_fires[dummies_list]\n",
    "fires_train_dataset = train_fires.drop(dummies_list, axis = 1)\n",
    "fires_dummies_test = test_fires[dummies_list]\n",
    "fires_test_dataset = test_fires.drop(dummies_list, axis = 1)"
   ]
  },
  {
   "cell_type": "code",
   "execution_count": 258,
   "metadata": {},
   "outputs": [],
   "source": [
    "# Separate the outcome variable from the features\n",
    "y_train = fires_train_dataset['area']\n",
    "fires_train_dataset.drop('area', axis = 1, inplace = True)\n",
    "\n",
    "y_test = fires_test_dataset['area']\n",
    "fires_test_dataset.drop('area', axis = 1, inplace = True)"
   ]
  },
  {
   "cell_type": "markdown",
   "metadata": {},
   "source": [
    "*Comment*: I know have the transformed outcome variable in *y_train* and *y_test*, but I will also do post-processing and transform the predictions into the original scale for evaluation. Because of this I have previously (when tranforming the data) saved the original values in *y_train_original* and *y_test_original*."
   ]
  },
  {
   "cell_type": "code",
   "execution_count": 259,
   "metadata": {},
   "outputs": [
    {
     "data": {
      "text/html": [
       "<div>\n",
       "<style scoped>\n",
       "    .dataframe tbody tr th:only-of-type {\n",
       "        vertical-align: middle;\n",
       "    }\n",
       "\n",
       "    .dataframe tbody tr th {\n",
       "        vertical-align: top;\n",
       "    }\n",
       "\n",
       "    .dataframe thead th {\n",
       "        text-align: right;\n",
       "    }\n",
       "</style>\n",
       "<table border=\"1\" class=\"dataframe\">\n",
       "  <thead>\n",
       "    <tr style=\"text-align: right;\">\n",
       "      <th></th>\n",
       "      <th>X</th>\n",
       "      <th>Y</th>\n",
       "      <th>FFMC</th>\n",
       "      <th>DMC</th>\n",
       "      <th>DC</th>\n",
       "      <th>ISI</th>\n",
       "      <th>temp</th>\n",
       "      <th>RH</th>\n",
       "      <th>wind</th>\n",
       "      <th>rain</th>\n",
       "    </tr>\n",
       "  </thead>\n",
       "  <tbody>\n",
       "    <tr>\n",
       "      <th>9</th>\n",
       "      <td>7</td>\n",
       "      <td>5</td>\n",
       "      <td>92.5</td>\n",
       "      <td>88.0</td>\n",
       "      <td>698.6</td>\n",
       "      <td>7.1</td>\n",
       "      <td>22.8</td>\n",
       "      <td>40</td>\n",
       "      <td>4.0</td>\n",
       "      <td>0.0</td>\n",
       "    </tr>\n",
       "    <tr>\n",
       "      <th>25</th>\n",
       "      <td>7</td>\n",
       "      <td>4</td>\n",
       "      <td>91.4</td>\n",
       "      <td>142.4</td>\n",
       "      <td>601.4</td>\n",
       "      <td>10.6</td>\n",
       "      <td>16.3</td>\n",
       "      <td>60</td>\n",
       "      <td>5.4</td>\n",
       "      <td>0.0</td>\n",
       "    </tr>\n",
       "    <tr>\n",
       "      <th>28</th>\n",
       "      <td>6</td>\n",
       "      <td>3</td>\n",
       "      <td>93.4</td>\n",
       "      <td>145.4</td>\n",
       "      <td>721.4</td>\n",
       "      <td>8.1</td>\n",
       "      <td>30.2</td>\n",
       "      <td>24</td>\n",
       "      <td>2.7</td>\n",
       "      <td>0.0</td>\n",
       "    </tr>\n",
       "    <tr>\n",
       "      <th>31</th>\n",
       "      <td>6</td>\n",
       "      <td>3</td>\n",
       "      <td>88.6</td>\n",
       "      <td>91.8</td>\n",
       "      <td>709.9</td>\n",
       "      <td>7.1</td>\n",
       "      <td>11.2</td>\n",
       "      <td>78</td>\n",
       "      <td>7.6</td>\n",
       "      <td>0.0</td>\n",
       "    </tr>\n",
       "    <tr>\n",
       "      <th>32</th>\n",
       "      <td>6</td>\n",
       "      <td>3</td>\n",
       "      <td>88.6</td>\n",
       "      <td>69.7</td>\n",
       "      <td>706.8</td>\n",
       "      <td>5.8</td>\n",
       "      <td>20.6</td>\n",
       "      <td>37</td>\n",
       "      <td>1.8</td>\n",
       "      <td>0.0</td>\n",
       "    </tr>\n",
       "  </tbody>\n",
       "</table>\n",
       "</div>"
      ],
      "text/plain": [
       "    X  Y  FFMC    DMC     DC   ISI  temp  RH  wind  rain\n",
       "9   7  5  92.5   88.0  698.6   7.1  22.8  40   4.0   0.0\n",
       "25  7  4  91.4  142.4  601.4  10.6  16.3  60   5.4   0.0\n",
       "28  6  3  93.4  145.4  721.4   8.1  30.2  24   2.7   0.0\n",
       "31  6  3  88.6   91.8  709.9   7.1  11.2  78   7.6   0.0\n",
       "32  6  3  88.6   69.7  706.8   5.8  20.6  37   1.8   0.0"
      ]
     },
     "execution_count": 259,
     "metadata": {},
     "output_type": "execute_result"
    }
   ],
   "source": [
    "fires_test_dataset.head()"
   ]
  },
  {
   "cell_type": "code",
   "execution_count": 260,
   "metadata": {},
   "outputs": [],
   "source": [
    "# Standardize\n",
    "from sklearn.preprocessing import StandardScaler\n",
    "\n",
    "scaler = StandardScaler()\n",
    "\n",
    "fires_train_scaled = pd.DataFrame(scaler.fit_transform(fires_train_dataset), \n",
    "                                  columns = fires_train_dataset.columns, \n",
    "                                  index = fires_train_dataset.index)\n",
    "\n",
    "fires_test_scaled = pd.DataFrame(scaler.fit_transform(fires_test_dataset), \n",
    "                                 columns = fires_test_dataset.columns, \n",
    "                                 index = fires_test_dataset.index)"
   ]
  },
  {
   "cell_type": "code",
   "execution_count": 261,
   "metadata": {},
   "outputs": [],
   "source": [
    "# Put dummies back in\n",
    "fires_train_scaled = pd.concat([fires_train_scaled, \n",
    "                                fires_dummies_train], axis = 1)\n",
    "\n",
    "fires_test_scaled = pd.concat([fires_test_scaled, \n",
    "                               fires_dummies_test], axis = 1)"
   ]
  },
  {
   "cell_type": "code",
   "execution_count": 262,
   "metadata": {},
   "outputs": [
    {
     "data": {
      "text/html": [
       "<div>\n",
       "<style scoped>\n",
       "    .dataframe tbody tr th:only-of-type {\n",
       "        vertical-align: middle;\n",
       "    }\n",
       "\n",
       "    .dataframe tbody tr th {\n",
       "        vertical-align: top;\n",
       "    }\n",
       "\n",
       "    .dataframe thead th {\n",
       "        text-align: right;\n",
       "    }\n",
       "</style>\n",
       "<table border=\"1\" class=\"dataframe\">\n",
       "  <thead>\n",
       "    <tr style=\"text-align: right;\">\n",
       "      <th></th>\n",
       "      <th>X</th>\n",
       "      <th>Y</th>\n",
       "      <th>FFMC</th>\n",
       "      <th>DMC</th>\n",
       "      <th>DC</th>\n",
       "      <th>ISI</th>\n",
       "      <th>temp</th>\n",
       "      <th>RH</th>\n",
       "      <th>wind</th>\n",
       "      <th>rain</th>\n",
       "      <th>fall</th>\n",
       "      <th>spring</th>\n",
       "      <th>summer</th>\n",
       "      <th>winter</th>\n",
       "      <th>weekend</th>\n",
       "      <th>weekday</th>\n",
       "    </tr>\n",
       "  </thead>\n",
       "  <tbody>\n",
       "    <tr>\n",
       "      <th>213</th>\n",
       "      <td>1.027712</td>\n",
       "      <td>-1.121394</td>\n",
       "      <td>-0.492450</td>\n",
       "      <td>-0.913288</td>\n",
       "      <td>-1.744195</td>\n",
       "      <td>-0.869986</td>\n",
       "      <td>-1.333172</td>\n",
       "      <td>0.112771</td>\n",
       "      <td>1.054454</td>\n",
       "      <td>-0.066504</td>\n",
       "      <td>0</td>\n",
       "      <td>1</td>\n",
       "      <td>0</td>\n",
       "      <td>0</td>\n",
       "      <td>0</td>\n",
       "      <td>1</td>\n",
       "    </tr>\n",
       "    <tr>\n",
       "      <th>435</th>\n",
       "      <td>-1.176811</td>\n",
       "      <td>0.539633</td>\n",
       "      <td>0.044591</td>\n",
       "      <td>-0.395114</td>\n",
       "      <td>-0.658176</td>\n",
       "      <td>-0.743809</td>\n",
       "      <td>0.854598</td>\n",
       "      <td>0.416328</td>\n",
       "      <td>-1.247690</td>\n",
       "      <td>-0.066504</td>\n",
       "      <td>0</td>\n",
       "      <td>0</td>\n",
       "      <td>1</td>\n",
       "      <td>0</td>\n",
       "      <td>1</td>\n",
       "      <td>0</td>\n",
       "    </tr>\n",
       "    <tr>\n",
       "      <th>343</th>\n",
       "      <td>1.468617</td>\n",
       "      <td>1.370147</td>\n",
       "      <td>0.162069</td>\n",
       "      <td>0.328735</td>\n",
       "      <td>1.055648</td>\n",
       "      <td>-0.344246</td>\n",
       "      <td>-0.495667</td>\n",
       "      <td>0.416328</td>\n",
       "      <td>0.306257</td>\n",
       "      <td>-0.066504</td>\n",
       "      <td>1</td>\n",
       "      <td>0</td>\n",
       "      <td>0</td>\n",
       "      <td>0</td>\n",
       "      <td>0</td>\n",
       "      <td>1</td>\n",
       "    </tr>\n",
       "    <tr>\n",
       "      <th>230</th>\n",
       "      <td>-0.295001</td>\n",
       "      <td>-0.290880</td>\n",
       "      <td>0.397024</td>\n",
       "      <td>0.379755</td>\n",
       "      <td>0.627690</td>\n",
       "      <td>0.013258</td>\n",
       "      <td>1.298988</td>\n",
       "      <td>-1.405015</td>\n",
       "      <td>0.306257</td>\n",
       "      <td>-0.066504</td>\n",
       "      <td>1</td>\n",
       "      <td>0</td>\n",
       "      <td>0</td>\n",
       "      <td>0</td>\n",
       "      <td>0</td>\n",
       "      <td>1</td>\n",
       "    </tr>\n",
       "    <tr>\n",
       "      <th>171</th>\n",
       "      <td>1.468617</td>\n",
       "      <td>1.370147</td>\n",
       "      <td>-0.828100</td>\n",
       "      <td>-0.304234</td>\n",
       "      <td>0.269399</td>\n",
       "      <td>-0.533512</td>\n",
       "      <td>-0.239287</td>\n",
       "      <td>0.355616</td>\n",
       "      <td>0.018489</td>\n",
       "      <td>-0.066504</td>\n",
       "      <td>0</td>\n",
       "      <td>0</td>\n",
       "      <td>1</td>\n",
       "      <td>0</td>\n",
       "      <td>0</td>\n",
       "      <td>1</td>\n",
       "    </tr>\n",
       "    <tr>\n",
       "      <th>...</th>\n",
       "      <td>...</td>\n",
       "      <td>...</td>\n",
       "      <td>...</td>\n",
       "      <td>...</td>\n",
       "      <td>...</td>\n",
       "      <td>...</td>\n",
       "      <td>...</td>\n",
       "      <td>...</td>\n",
       "      <td>...</td>\n",
       "      <td>...</td>\n",
       "      <td>...</td>\n",
       "      <td>...</td>\n",
       "      <td>...</td>\n",
       "      <td>...</td>\n",
       "      <td>...</td>\n",
       "      <td>...</td>\n",
       "    </tr>\n",
       "    <tr>\n",
       "      <th>305</th>\n",
       "      <td>-1.617715</td>\n",
       "      <td>-0.290880</td>\n",
       "      <td>-0.156799</td>\n",
       "      <td>-0.404680</td>\n",
       "      <td>0.686210</td>\n",
       "      <td>-0.722779</td>\n",
       "      <td>0.034184</td>\n",
       "      <td>0.477039</td>\n",
       "      <td>-1.017475</td>\n",
       "      <td>-0.066504</td>\n",
       "      <td>1</td>\n",
       "      <td>0</td>\n",
       "      <td>0</td>\n",
       "      <td>0</td>\n",
       "      <td>1</td>\n",
       "      <td>0</td>\n",
       "    </tr>\n",
       "    <tr>\n",
       "      <th>48</th>\n",
       "      <td>-0.295001</td>\n",
       "      <td>-0.290880</td>\n",
       "      <td>-0.559580</td>\n",
       "      <td>-1.364498</td>\n",
       "      <td>-1.899853</td>\n",
       "      <td>-1.059253</td>\n",
       "      <td>-1.196437</td>\n",
       "      <td>-0.555055</td>\n",
       "      <td>-1.247690</td>\n",
       "      <td>-0.066504</td>\n",
       "      <td>0</td>\n",
       "      <td>1</td>\n",
       "      <td>0</td>\n",
       "      <td>0</td>\n",
       "      <td>0</td>\n",
       "      <td>1</td>\n",
       "    </tr>\n",
       "    <tr>\n",
       "      <th>341</th>\n",
       "      <td>1.468617</td>\n",
       "      <td>1.370147</td>\n",
       "      <td>0.229199</td>\n",
       "      <td>0.035369</td>\n",
       "      <td>0.909147</td>\n",
       "      <td>-0.554542</td>\n",
       "      <td>-0.529850</td>\n",
       "      <td>0.416328</td>\n",
       "      <td>-1.017475</td>\n",
       "      <td>-0.066504</td>\n",
       "      <td>1</td>\n",
       "      <td>0</td>\n",
       "      <td>0</td>\n",
       "      <td>0</td>\n",
       "      <td>0</td>\n",
       "      <td>1</td>\n",
       "    </tr>\n",
       "    <tr>\n",
       "      <th>373</th>\n",
       "      <td>0.145903</td>\n",
       "      <td>-0.290880</td>\n",
       "      <td>0.715892</td>\n",
       "      <td>1.800349</td>\n",
       "      <td>0.623709</td>\n",
       "      <td>1.001650</td>\n",
       "      <td>0.256379</td>\n",
       "      <td>-0.130075</td>\n",
       "      <td>-0.729707</td>\n",
       "      <td>-0.066504</td>\n",
       "      <td>0</td>\n",
       "      <td>0</td>\n",
       "      <td>1</td>\n",
       "      <td>0</td>\n",
       "      <td>0</td>\n",
       "      <td>1</td>\n",
       "    </tr>\n",
       "    <tr>\n",
       "      <th>397</th>\n",
       "      <td>0.145903</td>\n",
       "      <td>1.370147</td>\n",
       "      <td>0.178851</td>\n",
       "      <td>1.145059</td>\n",
       "      <td>0.282934</td>\n",
       "      <td>-0.323216</td>\n",
       "      <td>0.940057</td>\n",
       "      <td>-0.676478</td>\n",
       "      <td>-0.211725</td>\n",
       "      <td>-0.066504</td>\n",
       "      <td>0</td>\n",
       "      <td>0</td>\n",
       "      <td>1</td>\n",
       "      <td>0</td>\n",
       "      <td>1</td>\n",
       "      <td>0</td>\n",
       "    </tr>\n",
       "  </tbody>\n",
       "</table>\n",
       "<p>414 rows × 16 columns</p>\n",
       "</div>"
      ],
      "text/plain": [
       "            X         Y      FFMC       DMC        DC       ISI      temp  \\\n",
       "213  1.027712 -1.121394 -0.492450 -0.913288 -1.744195 -0.869986 -1.333172   \n",
       "435 -1.176811  0.539633  0.044591 -0.395114 -0.658176 -0.743809  0.854598   \n",
       "343  1.468617  1.370147  0.162069  0.328735  1.055648 -0.344246 -0.495667   \n",
       "230 -0.295001 -0.290880  0.397024  0.379755  0.627690  0.013258  1.298988   \n",
       "171  1.468617  1.370147 -0.828100 -0.304234  0.269399 -0.533512 -0.239287   \n",
       "..        ...       ...       ...       ...       ...       ...       ...   \n",
       "305 -1.617715 -0.290880 -0.156799 -0.404680  0.686210 -0.722779  0.034184   \n",
       "48  -0.295001 -0.290880 -0.559580 -1.364498 -1.899853 -1.059253 -1.196437   \n",
       "341  1.468617  1.370147  0.229199  0.035369  0.909147 -0.554542 -0.529850   \n",
       "373  0.145903 -0.290880  0.715892  1.800349  0.623709  1.001650  0.256379   \n",
       "397  0.145903  1.370147  0.178851  1.145059  0.282934 -0.323216  0.940057   \n",
       "\n",
       "           RH      wind      rain  fall  spring  summer  winter  weekend  \\\n",
       "213  0.112771  1.054454 -0.066504     0       1       0       0        0   \n",
       "435  0.416328 -1.247690 -0.066504     0       0       1       0        1   \n",
       "343  0.416328  0.306257 -0.066504     1       0       0       0        0   \n",
       "230 -1.405015  0.306257 -0.066504     1       0       0       0        0   \n",
       "171  0.355616  0.018489 -0.066504     0       0       1       0        0   \n",
       "..        ...       ...       ...   ...     ...     ...     ...      ...   \n",
       "305  0.477039 -1.017475 -0.066504     1       0       0       0        1   \n",
       "48  -0.555055 -1.247690 -0.066504     0       1       0       0        0   \n",
       "341  0.416328 -1.017475 -0.066504     1       0       0       0        0   \n",
       "373 -0.130075 -0.729707 -0.066504     0       0       1       0        0   \n",
       "397 -0.676478 -0.211725 -0.066504     0       0       1       0        1   \n",
       "\n",
       "     weekday  \n",
       "213        1  \n",
       "435        0  \n",
       "343        1  \n",
       "230        1  \n",
       "171        1  \n",
       "..       ...  \n",
       "305        0  \n",
       "48         1  \n",
       "341        1  \n",
       "373        1  \n",
       "397        0  \n",
       "\n",
       "[414 rows x 16 columns]"
      ]
     },
     "execution_count": 262,
     "metadata": {},
     "output_type": "execute_result"
    }
   ],
   "source": [
    "# Check results\n",
    "fires_train_scaled"
   ]
  },
  {
   "cell_type": "markdown",
   "metadata": {
    "colab_type": "text",
    "id": "SmjdzxKzEu1-"
   },
   "source": [
    "## Project 2:  The model building for regression"
   ]
  },
  {
   "cell_type": "markdown",
   "metadata": {
    "colab_type": "text",
    "id": "6SWtkIjhrZwa"
   },
   "source": [
    "### Build the regression model\n",
    "\n",
    "Let's build our model. Here, we'll use a `Sequential` model with two densely connected hidden layers, and an output layer that returns a single, continuous value. The model building steps are wrapped in a function, `build_model`, since we'll create a second model, later on."
   ]
  },
  {
   "cell_type": "code",
   "execution_count": 263,
   "metadata": {
    "colab": {},
    "colab_type": "code",
    "id": "c26juK7ZG8j-"
   },
   "outputs": [],
   "source": [
    "# Function for building the model\n",
    "def build_model():\n",
    "  model = keras.Sequential([\n",
    "    layers.Dense(64, activation='relu', input_shape=[len(normed_train_data.keys())]),\n",
    "    layers.Dense(64, activation='relu'),\n",
    "    layers.Dense(1)\n",
    "  ])\n",
    "\n",
    "  optimizer = tf.keras.optimizers.RMSprop(0.001)\n",
    "\n",
    "  model.compile(loss='mse',\n",
    "                optimizer=optimizer,\n",
    "                metrics=['mae', 'mse'])\n",
    "  return model"
   ]
  },
  {
   "cell_type": "code",
   "execution_count": 264,
   "metadata": {
    "colab": {},
    "colab_type": "code",
    "id": "cGbPb-PHGbhs"
   },
   "outputs": [],
   "source": [
    "# Creating the model\n",
    "model = build_model()"
   ]
  },
  {
   "cell_type": "markdown",
   "metadata": {},
   "source": [
    "You can read about the implementation of sequential neural networks on Keras: https://keras.io/getting-started/sequential-model-guide/"
   ]
  },
  {
   "cell_type": "markdown",
   "metadata": {
    "colab_type": "text",
    "id": "Sj49Og4YGULr"
   },
   "source": [
    "### Inspect the model\n",
    "\n",
    "Use the `.summary` method to print a simple description of the model"
   ]
  },
  {
   "cell_type": "code",
   "execution_count": 265,
   "metadata": {
    "colab": {},
    "colab_type": "code",
    "id": "ReAD0n6MsFK-",
    "scrolled": true
   },
   "outputs": [
    {
     "name": "stdout",
     "output_type": "stream",
     "text": [
      "Model: \"sequential_5\"\n",
      "_________________________________________________________________\n",
      "Layer (type)                 Output Shape              Param #   \n",
      "=================================================================\n",
      "dense_15 (Dense)             (None, 64)                640       \n",
      "_________________________________________________________________\n",
      "dense_16 (Dense)             (None, 64)                4160      \n",
      "_________________________________________________________________\n",
      "dense_17 (Dense)             (None, 1)                 65        \n",
      "=================================================================\n",
      "Total params: 4,865\n",
      "Trainable params: 4,865\n",
      "Non-trainable params: 0\n",
      "_________________________________________________________________\n"
     ]
    }
   ],
   "source": [
    "# Check out model specificaiton\n",
    "model.summary()"
   ]
  },
  {
   "cell_type": "markdown",
   "metadata": {
    "colab_type": "text",
    "id": "Vt6W50qGsJAL"
   },
   "source": [
    "\n",
    "Now try out the model. Take a batch of `10` examples from the training data and call `model.predict` on it."
   ]
  },
  {
   "cell_type": "code",
   "execution_count": 266,
   "metadata": {
    "colab": {},
    "colab_type": "code",
    "id": "-d-gBaVtGTSC"
   },
   "outputs": [
    {
     "data": {
      "text/plain": [
       "array([[ 0.4154301 ],\n",
       "       [-0.11102501],\n",
       "       [ 0.23557383],\n",
       "       [-0.02224343],\n",
       "       [-0.02482447],\n",
       "       [-0.20317642],\n",
       "       [-0.01572575],\n",
       "       [-0.0771022 ],\n",
       "       [ 0.58688545],\n",
       "       [ 0.2817791 ]], dtype=float32)"
      ]
     },
     "execution_count": 266,
     "metadata": {},
     "output_type": "execute_result"
    }
   ],
   "source": [
    "# Try out model by feeding it only 10 examples\n",
    "example_batch = normed_train_data[:10]\n",
    "example_result = model.predict(example_batch)\n",
    "example_result"
   ]
  },
  {
   "cell_type": "markdown",
   "metadata": {
    "colab_type": "text",
    "id": "QlM8KrSOsaYo"
   },
   "source": [
    "It seems to be working, and it produces a result of the expected shape and type."
   ]
  },
  {
   "cell_type": "markdown",
   "metadata": {
    "colab_type": "text",
    "id": "0-qWCsh6DlyH"
   },
   "source": [
    "### Train the model\n",
    "\n",
    "Train the model for 1000 epochs, and record the training and validation accuracy in the `history` object."
   ]
  },
  {
   "cell_type": "code",
   "execution_count": 267,
   "metadata": {
    "colab": {},
    "colab_type": "code",
    "id": "sD7qHCmNIOY0"
   },
   "outputs": [
    {
     "name": "stdout",
     "output_type": "stream",
     "text": [
      "\n",
      "....................................................................................................\n",
      "....................................................................................................\n",
      "....................................................................................................\n",
      "....................................................................................................\n",
      "....................................................................................................\n",
      "....................................................................................................\n",
      "....................................................................................................\n",
      "....................................................................................................\n",
      "....................................................................................................\n",
      "...................................................................................................."
     ]
    }
   ],
   "source": [
    "# Display training progress by printing a single dot for each completed epoch\n",
    "class PrintDot(keras.callbacks.Callback):\n",
    "  def on_epoch_end(self, epoch, logs):\n",
    "    if epoch % 100 == 0: print('')\n",
    "    print('.', end='')\n",
    "\n",
    "EPOCHS = 1000\n",
    "\n",
    "history = model.fit(\n",
    "  normed_train_data, mpg_train,\n",
    "  epochs=EPOCHS, validation_split = 0.2, verbose=0,\n",
    "  callbacks=[PrintDot()])"
   ]
  },
  {
   "cell_type": "markdown",
   "metadata": {
    "colab_type": "text",
    "id": "tQm3pc0FYPQB"
   },
   "source": [
    "Visualize the model's training progress using the stats stored in the `history` object."
   ]
  },
  {
   "cell_type": "code",
   "execution_count": 268,
   "metadata": {
    "colab": {},
    "colab_type": "code",
    "id": "4Xj91b-dymEy"
   },
   "outputs": [
    {
     "data": {
      "text/html": [
       "<div>\n",
       "<style scoped>\n",
       "    .dataframe tbody tr th:only-of-type {\n",
       "        vertical-align: middle;\n",
       "    }\n",
       "\n",
       "    .dataframe tbody tr th {\n",
       "        vertical-align: top;\n",
       "    }\n",
       "\n",
       "    .dataframe thead th {\n",
       "        text-align: right;\n",
       "    }\n",
       "</style>\n",
       "<table border=\"1\" class=\"dataframe\">\n",
       "  <thead>\n",
       "    <tr style=\"text-align: right;\">\n",
       "      <th></th>\n",
       "      <th>loss</th>\n",
       "      <th>mean_absolute_error</th>\n",
       "      <th>mean_squared_error</th>\n",
       "      <th>val_loss</th>\n",
       "      <th>val_mean_absolute_error</th>\n",
       "      <th>val_mean_squared_error</th>\n",
       "      <th>epoch</th>\n",
       "    </tr>\n",
       "  </thead>\n",
       "  <tbody>\n",
       "    <tr>\n",
       "      <th>995</th>\n",
       "      <td>2.415999</td>\n",
       "      <td>1.032863</td>\n",
       "      <td>2.415998</td>\n",
       "      <td>7.503808</td>\n",
       "      <td>1.826124</td>\n",
       "      <td>7.503808</td>\n",
       "      <td>995</td>\n",
       "    </tr>\n",
       "    <tr>\n",
       "      <th>996</th>\n",
       "      <td>2.439146</td>\n",
       "      <td>1.070742</td>\n",
       "      <td>2.439146</td>\n",
       "      <td>7.741758</td>\n",
       "      <td>1.847006</td>\n",
       "      <td>7.741758</td>\n",
       "      <td>996</td>\n",
       "    </tr>\n",
       "    <tr>\n",
       "      <th>997</th>\n",
       "      <td>2.335446</td>\n",
       "      <td>1.048933</td>\n",
       "      <td>2.335446</td>\n",
       "      <td>7.499906</td>\n",
       "      <td>1.816888</td>\n",
       "      <td>7.499907</td>\n",
       "      <td>997</td>\n",
       "    </tr>\n",
       "    <tr>\n",
       "      <th>998</th>\n",
       "      <td>2.195332</td>\n",
       "      <td>1.010717</td>\n",
       "      <td>2.195332</td>\n",
       "      <td>7.577583</td>\n",
       "      <td>1.837405</td>\n",
       "      <td>7.577583</td>\n",
       "      <td>998</td>\n",
       "    </tr>\n",
       "    <tr>\n",
       "      <th>999</th>\n",
       "      <td>2.578553</td>\n",
       "      <td>1.107280</td>\n",
       "      <td>2.578553</td>\n",
       "      <td>7.720618</td>\n",
       "      <td>1.850827</td>\n",
       "      <td>7.720618</td>\n",
       "      <td>999</td>\n",
       "    </tr>\n",
       "  </tbody>\n",
       "</table>\n",
       "</div>"
      ],
      "text/plain": [
       "         loss  mean_absolute_error  mean_squared_error  val_loss  \\\n",
       "995  2.415999             1.032863            2.415998  7.503808   \n",
       "996  2.439146             1.070742            2.439146  7.741758   \n",
       "997  2.335446             1.048933            2.335446  7.499906   \n",
       "998  2.195332             1.010717            2.195332  7.577583   \n",
       "999  2.578553             1.107280            2.578553  7.720618   \n",
       "\n",
       "     val_mean_absolute_error  val_mean_squared_error  epoch  \n",
       "995                 1.826124                7.503808    995  \n",
       "996                 1.847006                7.741758    996  \n",
       "997                 1.816888                7.499907    997  \n",
       "998                 1.837405                7.577583    998  \n",
       "999                 1.850827                7.720618    999  "
      ]
     },
     "execution_count": 268,
     "metadata": {},
     "output_type": "execute_result"
    }
   ],
   "source": [
    "hist = pd.DataFrame(history.history)\n",
    "hist['epoch'] = history.epoch\n",
    "hist.tail()"
   ]
  },
  {
   "cell_type": "code",
   "execution_count": 269,
   "metadata": {
    "colab": {},
    "colab_type": "code",
    "id": "B6XriGbVPh2t"
   },
   "outputs": [
    {
     "data": {
      "image/png": "[encoded data removed]",
      "text/plain": [
       "<Figure size 432x288 with 1 Axes>"
      ]
     },
     "metadata": {
      "needs_background": "light"
     },
     "output_type": "display_data"
    },
    {
     "data": {
      "image/png": "[encoded data removed]",
      "text/plain": [
       "<Figure size 432x288 with 1 Axes>"
      ]
     },
     "metadata": {
      "needs_background": "light"
     },
     "output_type": "display_data"
    }
   ],
   "source": [
    "def plot_history(history):\n",
    "  hist = pd.DataFrame(history.history)\n",
    "  hist['epoch'] = history.epoch\n",
    "\n",
    "  plt.figure()\n",
    "  plt.xlabel('Epoch')\n",
    "  plt.ylabel('Mean Abs Error [MPG]')\n",
    "  plt.plot(hist['epoch'], hist['mean_absolute_error'],\n",
    "           label='Train Error')\n",
    "  plt.plot(hist['epoch'], hist['val_mean_absolute_error'],\n",
    "           label = 'Val Error')\n",
    "  plt.ylim([0,5])\n",
    "  plt.legend()\n",
    "\n",
    "  plt.figure()\n",
    "  plt.xlabel('Epoch')\n",
    "  plt.ylabel('Mean Square Error [$MPG^2$]')\n",
    "  plt.plot(hist['epoch'], hist['mean_squared_error'],\n",
    "           label='Train Error')\n",
    "  plt.plot(hist['epoch'], hist['val_mean_squared_error'],\n",
    "           label = 'Val Error')\n",
    "  plt.ylim([0,20])\n",
    "  plt.legend()\n",
    "  plt.show()\n",
    "\n",
    "\n",
    "plot_history(history)"
   ]
  },
  {
   "cell_type": "markdown",
   "metadata": {
    "colab_type": "text",
    "id": "AqsuANc11FYv"
   },
   "source": [
    "This graph shows little improvement, or even degradation in the validation error after about 100 epochs. Let's update the `model.fit` call to automatically stop training when the validation score doesn't improve. We'll use an *EarlyStopping callback* that tests a training condition for  every epoch. If a set amount of epochs elapses without showing improvement, then automatically stop the training.\n",
    "\n",
    "You can learn more about this callback [here](https://www.tensorflow.org/api_docs/python/tf/keras/callbacks/EarlyStopping)."
   ]
  },
  {
   "cell_type": "code",
   "execution_count": 270,
   "metadata": {
    "colab": {},
    "colab_type": "code",
    "id": "fdMZuhUgzMZ4"
   },
   "outputs": [
    {
     "name": "stdout",
     "output_type": "stream",
     "text": [
      "\n",
      "...................................................................."
     ]
    },
    {
     "data": {
      "image/png": "[encoded data removed]",
      "text/plain": [
       "<Figure size 432x288 with 1 Axes>"
      ]
     },
     "metadata": {
      "needs_background": "light"
     },
     "output_type": "display_data"
    },
    {
     "data": {
      "image/png": "[encoded data removed]",
      "text/plain": [
       "<Figure size 432x288 with 1 Axes>"
      ]
     },
     "metadata": {
      "needs_background": "light"
     },
     "output_type": "display_data"
    }
   ],
   "source": [
    "model = build_model()\n",
    "\n",
    "# The patience parameter is the amount of epochs to check for improvement\n",
    "early_stop = keras.callbacks.EarlyStopping(monitor='val_loss', patience=10)\n",
    "\n",
    "history = model.fit(normed_train_data, mpg_train, epochs=EPOCHS,\n",
    "                    validation_split = 0.2, verbose=0, callbacks=[early_stop, PrintDot()])\n",
    "\n",
    "plot_history(history)"
   ]
  },
  {
   "cell_type": "markdown",
   "metadata": {
    "colab_type": "text",
    "id": "3St8-DmrX8P4"
   },
   "source": [
    "The graph shows that on the validation set, the average error is usually around +/- 2 MPG. Is this good? We'll leave that decision up to you.\n",
    "\n",
    "Let's see how well the model generalizes by using the **test** set, which we did not use when training the model.  This tells us how well we can expect the model to predict when we use it in the real world."
   ]
  },
  {
   "cell_type": "code",
   "execution_count": 286,
   "metadata": {
    "colab": {},
    "colab_type": "code",
    "id": "jl_yNr5n1kms"
   },
   "outputs": [
    {
     "name": "stdout",
     "output_type": "stream",
     "text": [
      "80/80 - 0s - loss: 7.7067 - mean_absolute_error: 2.1665 - mean_squared_error: 7.7067\n",
      "Testing set Mean Abs Error:  2.17 MPG\n"
     ]
    }
   ],
   "source": [
    "loss, mae, mse = model.evaluate(normed_test_data, mpg_test, verbose=2)\n",
    "\n",
    "print(\"Testing set Mean Abs Error: {:5.2f} MPG\".format(mae))"
   ]
  },
  {
   "cell_type": "markdown",
   "metadata": {
    "colab_type": "text",
    "id": "ft603OzXuEZC"
   },
   "source": [
    "### Make predictions\n",
    "\n",
    "Finally, predict MPG values using data in the testing set:"
   ]
  },
  {
   "cell_type": "code",
   "execution_count": 273,
   "metadata": {
    "colab": {},
    "colab_type": "code",
    "id": "Xe7RXH3N3CWU"
   },
   "outputs": [
    {
     "data": {
      "image/png": "[encoded data removed]",
      "text/plain": [
       "<Figure size 432x288 with 1 Axes>"
      ]
     },
     "metadata": {
      "needs_background": "light"
     },
     "output_type": "display_data"
    }
   ],
   "source": [
    "test_predictions = model.predict(normed_test_data).flatten()\n",
    "\n",
    "a = plt.axes(aspect='equal')\n",
    "plt.scatter(mpg_test, test_predictions)\n",
    "plt.xlabel('True Values [MPG]')\n",
    "plt.ylabel('Predictions [MPG]')\n",
    "lims = [0, 50]\n",
    "plt.xlim(lims)\n",
    "plt.ylim(lims)\n",
    "_ = plt.plot(lims, lims)\n"
   ]
  },
  {
   "cell_type": "markdown",
   "metadata": {
    "colab_type": "text",
    "id": "19wyogbOSU5t"
   },
   "source": [
    "It looks like our model predicts reasonably well. Let's take a look at the error distribution."
   ]
  },
  {
   "cell_type": "code",
   "execution_count": 275,
   "metadata": {
    "colab": {},
    "colab_type": "code",
    "id": "f-OHX4DiXd8x"
   },
   "outputs": [
    {
     "data": {
      "image/png": "[encoded data removed]",
      "text/plain": [
       "<Figure size 432x288 with 1 Axes>"
      ]
     },
     "metadata": {
      "needs_background": "light"
     },
     "output_type": "display_data"
    }
   ],
   "source": [
    "error = test_predictions - mpg_test\n",
    "plt.hist(error, bins = 25)\n",
    "plt.xlabel(\"Prediction Error [MPG]\")\n",
    "_ = plt.ylabel(\"Count\")"
   ]
  },
  {
   "cell_type": "markdown",
   "metadata": {
    "colab_type": "text",
    "id": "m0CB5tBjSU5w"
   },
   "source": [
    "It's not quite gaussian, but we might expect that because the number of samples is very small."
   ]
  },
  {
   "cell_type": "markdown",
   "metadata": {},
   "source": [
    "## Task 1: \n",
    "\n",
    "Using the standard linear regression model and fit it into the same data set. Compare performance of the linear model with the one build on the neural network. "
   ]
  },
  {
   "cell_type": "markdown",
   "metadata": {},
   "source": [
    "#### Solution\n",
    "First I'm going to try to do in manually, and then I'll compare with sklearn build in linear regression task."
   ]
  },
  {
   "cell_type": "code",
   "execution_count": 276,
   "metadata": {},
   "outputs": [],
   "source": [
    "# Define class for linear regression\n",
    "class MultipleLinearRegression:\n",
    "    def __init__(self):\n",
    "        self.model_name = 'Multiple Linear Regression'\n",
    "    \n",
    "    def fit(self, x, y):\n",
    "        X = np.array(pd.merge(pd.DataFrame([1] * len(dataset)), x, left_index = True, right_index = True))\n",
    "        Y = np.array(y)\n",
    "        self.beta_hat = np.matmul(np.linalg.inv(np.matmul(X.T, X)), np.matmul(X.T, Y))\n",
    "    \n",
    "    def predict(self, x):\n",
    "        X = np.array(pd.merge(pd.DataFrame([1] * len(dataset)), x, left_index = True, right_index = True))\n",
    "        return np.matmul(X, self.beta_hat)"
   ]
  },
  {
   "cell_type": "code",
   "execution_count": 277,
   "metadata": {},
   "outputs": [],
   "source": [
    "# Fit model\n",
    "reg_model = MultipleLinearRegression()\n",
    "reg_model.fit(normed_train_data, mpg_train)"
   ]
  },
  {
   "cell_type": "code",
   "execution_count": 278,
   "metadata": {},
   "outputs": [
    {
     "data": {
      "text/plain": [
       "array([ 5.60000000e+01,  1.32713071e+01, -3.04253666e+01,  1.50759437e+01,\n",
       "       -6.32240476e+00,  2.80004933e-02,  1.45500118e+00, -4.00000000e+00,\n",
       "       -7.60000000e+01, -1.20000000e+01])"
      ]
     },
     "execution_count": 278,
     "metadata": {},
     "output_type": "execute_result"
    }
   ],
   "source": [
    "# Check coefficients\n",
    "reg_model.beta_hat"
   ]
  },
  {
   "cell_type": "code",
   "execution_count": 280,
   "metadata": {},
   "outputs": [
    {
     "data": {
      "text/plain": [
       "array([-0.76991935,  2.53204955, -0.88007189, -5.7364271 , -0.02373914,\n",
       "        3.00405401,  1.13125377,  0.8464283 , -1.97768207])"
      ]
     },
     "execution_count": 280,
     "metadata": {},
     "output_type": "execute_result"
    }
   ],
   "source": [
    "# Build linreg with scikit-learn\n",
    "from sklearn.linear_model import LinearRegression\n",
    "\n",
    "regr = LinearRegression(normalize = False)\n",
    "regr.fit(normed_train_data, mpg_train)\n",
    "regr.coef_"
   ]
  },
  {
   "cell_type": "code",
   "execution_count": 281,
   "metadata": {},
   "outputs": [
    {
     "data": {
      "text/plain": [
       "24.50925594632886"
      ]
     },
     "execution_count": 281,
     "metadata": {},
     "output_type": "execute_result"
    }
   ],
   "source": [
    "# Beta_0 is missing from the output above, it's here instead\n",
    "regr.intercept_"
   ]
  },
  {
   "cell_type": "markdown",
   "metadata": {},
   "source": [
    "*Comment*: As we can see, these coefficients doesn't match up. There's something I've done wrong. If you, the grader, can see what it is, please let me know in the feedback! :) I'll proceed with the model produced by sklearn."
   ]
  },
  {
   "cell_type": "code",
   "execution_count": 283,
   "metadata": {},
   "outputs": [],
   "source": [
    "# Get predictions\n",
    "y_pred = regr.predict(normed_test_data)"
   ]
  },
  {
   "cell_type": "code",
   "execution_count": 288,
   "metadata": {},
   "outputs": [],
   "source": [
    "# MSE and MAE\n",
    "reg_mse = np.mean((mpg_test - y_pred)**2)\n",
    "reg_mae = np.mean(np.abs(mpg_test - y_pred))"
   ]
  },
  {
   "cell_type": "code",
   "execution_count": 289,
   "metadata": {},
   "outputs": [
    {
     "name": "stdout",
     "output_type": "stream",
     "text": [
      "Linear Regression MSE: 9.493585087871262\n",
      "Neural Network MSE: 7.7067046\n",
      "\n",
      "Linear Regression MAE 2.4563907272970464\n",
      "Neural Network MAE 2.1665454\n"
     ]
    }
   ],
   "source": [
    "print('Linear Regression MSE:', reg_mse)\n",
    "print('Neural Network MSE:', mse)\n",
    "print('')\n",
    "print('Linear Regression MAE', reg_mae)\n",
    "print('Neural Network MAE', mae)"
   ]
  },
  {
   "cell_type": "markdown",
   "metadata": {},
   "source": [
    "*Comment*: As we can see above, the NN is performing a bit better than the linear regression. However, it's not a lot better. Some reasons for this could be that there are truly linear patterns in the data (so the NN doesn't have much advatage as in the case of non-linear dependencies) and that the data is rather small."
   ]
  },
  {
   "cell_type": "markdown",
   "metadata": {},
   "source": [
    "## Task 2: \n",
    "\n",
    "Build another neural network model and do analogous analysis. "
   ]
  },
  {
   "cell_type": "code",
   "execution_count": 294,
   "metadata": {},
   "outputs": [],
   "source": [
    "# Second model\n",
    "def build_model2():\n",
    "    model = keras.Sequential([\n",
    "        layers.Dense(14, activation='relu', input_shape=[len(normed_train_data.keys())]),\n",
    "        layers.Dense(14, activation='relu'),\n",
    "        layers.Dense(14, activation='relu'),\n",
    "        layers.Dense(14, activation='relu'),\n",
    "        layers.Dense(1)\n",
    "    ])\n",
    "    \n",
    "    optimizer = tf.keras.optimizers.RMSprop(0.001)\n",
    "    \n",
    "    model.compile(loss='mse',\n",
    "                optimizer=optimizer,\n",
    "                metrics=['mae', 'mse'])\n",
    "    \n",
    "    return model"
   ]
  },
  {
   "cell_type": "code",
   "execution_count": 295,
   "metadata": {},
   "outputs": [
    {
     "name": "stdout",
     "output_type": "stream",
     "text": [
      "\n",
      "....................................................................................................\n",
      "......................."
     ]
    },
    {
     "data": {
      "image/png": "[encoded data removed]",
      "text/plain": [
       "<Figure size 432x288 with 1 Axes>"
      ]
     },
     "metadata": {
      "needs_background": "light"
     },
     "output_type": "display_data"
    },
    {
     "data": {
      "image/png": "[encoded data removed]",
      "text/plain": [
       "<Figure size 432x288 with 1 Axes>"
      ]
     },
     "metadata": {
      "needs_background": "light"
     },
     "output_type": "display_data"
    }
   ],
   "source": [
    "# Fit with early stopping\n",
    "model2 = build_model2()\n",
    "\n",
    "# The patience parameter is the amount of epochs to check for improvement\n",
    "early_stop = keras.callbacks.EarlyStopping(monitor='val_loss', patience=10)\n",
    "\n",
    "history = model2.fit(normed_train_data, mpg_train, epochs=EPOCHS,\n",
    "                    validation_split = 0.2, verbose=0, callbacks=[early_stop, PrintDot()])\n",
    "\n",
    "plot_history(history)"
   ]
  },
  {
   "cell_type": "code",
   "execution_count": 298,
   "metadata": {},
   "outputs": [
    {
     "name": "stdout",
     "output_type": "stream",
     "text": [
      "80/80 - 0s - loss: 7.2331 - mean_absolute_error: 2.0713 - mean_squared_error: 7.2331\n",
      "Testing set Mean Abs Error:  2.07 MPG\n"
     ]
    }
   ],
   "source": [
    "# Evaluate\n",
    "loss, mae, mse = model2.evaluate(normed_test_data, mpg_test, verbose=2)\n",
    "\n",
    "print(\"Testing set Mean Abs Error: {:5.2f} MPG\".format(mae))"
   ]
  },
  {
   "cell_type": "markdown",
   "metadata": {},
   "source": [
    "*Comment*: The MSE and MAE have been shrunken a little bit in this network architecture."
   ]
  },
  {
   "cell_type": "markdown",
   "metadata": {},
   "source": [
    "## Task 3:\n",
    "\n",
    "Perform similar analysis on the additionally downloaded data and draw conclusions. "
   ]
  },
  {
   "cell_type": "markdown",
   "metadata": {},
   "source": [
    "#### Solution\n",
    "Below I've defined a neural network for the fires data. I have changed the metrics to Root Mean Squared Error (RMSE) and MAE (like before) in order to be able to compare with the paper that the dataset was originally analyzed in. "
   ]
  },
  {
   "cell_type": "code",
   "execution_count": 299,
   "metadata": {},
   "outputs": [],
   "source": [
    "# Build model\n",
    "def define_compile_model():\n",
    "    model = keras.Sequential([\n",
    "        layers.Dense(64, \n",
    "                     activation = 'relu', \n",
    "                     input_shape = [len(fires_train_scaled.columns)]),\n",
    "        layers.Dense(64,\n",
    "                    activation = 'relu'),\n",
    "        layers.Dense(1)\n",
    "    ])\n",
    "    \n",
    "    optimizer = tf.keras.optimizers.RMSprop(0.001)\n",
    "    \n",
    "    model.compile(loss='mae',\n",
    "                optimizer=optimizer,\n",
    "                metrics=[tf.keras.metrics.RootMeanSquaredError(), 'mae'])\n",
    "    \n",
    "    return model"
   ]
  },
  {
   "cell_type": "code",
   "execution_count": 328,
   "metadata": {},
   "outputs": [
    {
     "name": "stdout",
     "output_type": "stream",
     "text": [
      "\n",
      "....................................................................................................\n",
      "....................................................................................................\n",
      "....................................................................................................\n",
      "....................................................................................................\n",
      "....................................................................................................\n",
      "....................................................................................................\n",
      "....................................................................................................\n",
      "....................................................................................................\n",
      "....................................................................................................\n",
      "...................................................................................................."
     ]
    }
   ],
   "source": [
    "# Fit model\n",
    "fires_model = define_compile_model()\n",
    "\n",
    "history = fires_model.fit(fires_train_scaled,\n",
    "                          y_train, \n",
    "                          epochs = 1000,\n",
    "                          validation_split = 0.2,\n",
    "                          verbose = 0,\n",
    "                          callbacks = [PrintDot()])"
   ]
  },
  {
   "cell_type": "code",
   "execution_count": 302,
   "metadata": {},
   "outputs": [],
   "source": [
    "hist = pd.DataFrame(history.history)\n",
    "hist['epoch'] = history.epoch"
   ]
  },
  {
   "cell_type": "code",
   "execution_count": 303,
   "metadata": {},
   "outputs": [
    {
     "data": {
      "image/png": "[encoded data removed]",
      "text/plain": [
       "<Figure size 432x288 with 1 Axes>"
      ]
     },
     "metadata": {
      "needs_background": "light"
     },
     "output_type": "display_data"
    }
   ],
   "source": [
    "def plot_history1(history):\n",
    "  hist = pd.DataFrame(history.history)\n",
    "  hist['epoch'] = history.epoch\n",
    "\n",
    "  plt.figure()\n",
    "  plt.xlabel('Epoch')\n",
    "  plt.ylabel('Mean Abs Error [area]')\n",
    "  plt.plot(hist['epoch'], hist['mean_absolute_error'],\n",
    "           label='Train Error', color = '#0097a7')\n",
    "  plt.plot(hist['epoch'], hist['val_mean_absolute_error'],\n",
    "           label = 'Val Error', color = '#E98074')\n",
    "  plt.ylim([0,3])\n",
    "  plt.legend()\n",
    "\n",
    "plot_history1(history)\n",
    "plt.savefig('mae', transparent = True)"
   ]
  },
  {
   "cell_type": "code",
   "execution_count": 304,
   "metadata": {},
   "outputs": [
    {
     "data": {
      "image/png": "[encoded data removed]",
      "text/plain": [
       "<Figure size 432x288 with 1 Axes>"
      ]
     },
     "metadata": {
      "needs_background": "light"
     },
     "output_type": "display_data"
    }
   ],
   "source": [
    "def plot_history2(history):\n",
    "  hist = pd.DataFrame(history.history)\n",
    "  hist['epoch'] = history.epoch\n",
    "\n",
    "  plt.figure()\n",
    "  plt.xlabel('Epoch')\n",
    "  plt.ylabel('Root Mean Square Error [area]')\n",
    "  plt.plot(hist['epoch'], hist['root_mean_squared_error'],\n",
    "           label='Train Error', color = '#0097a7')\n",
    "  plt.plot(hist['epoch'], hist['val_root_mean_squared_error'],\n",
    "           label = 'Val Error', color = '#E98074')\n",
    "  plt.ylim([0,3])\n",
    "  plt.legend()\n",
    "\n",
    "\n",
    "plot_history2(history)\n",
    "plt.savefig('rmse', transparent = True)"
   ]
  },
  {
   "cell_type": "markdown",
   "metadata": {},
   "source": [
    "*Comment*: As can be seen above, the model almost immediately starts to overfit. Compared to the previous problem and data (cars), there is not even an initial decline in the model. I will try to investigate why that is."
   ]
  },
  {
   "cell_type": "code",
   "execution_count": 305,
   "metadata": {},
   "outputs": [
    {
     "data": {
      "text/html": [
       "<div>\n",
       "<style scoped>\n",
       "    .dataframe tbody tr th:only-of-type {\n",
       "        vertical-align: middle;\n",
       "    }\n",
       "\n",
       "    .dataframe tbody tr th {\n",
       "        vertical-align: top;\n",
       "    }\n",
       "\n",
       "    .dataframe thead th {\n",
       "        text-align: right;\n",
       "    }\n",
       "</style>\n",
       "<table border=\"1\" class=\"dataframe\">\n",
       "  <thead>\n",
       "    <tr style=\"text-align: right;\">\n",
       "      <th></th>\n",
       "      <th>loss</th>\n",
       "      <th>root_mean_squared_error</th>\n",
       "      <th>mean_absolute_error</th>\n",
       "      <th>val_loss</th>\n",
       "      <th>val_root_mean_squared_error</th>\n",
       "      <th>val_mean_absolute_error</th>\n",
       "      <th>epoch</th>\n",
       "    </tr>\n",
       "  </thead>\n",
       "  <tbody>\n",
       "    <tr>\n",
       "      <th>0</th>\n",
       "      <td>1.134803</td>\n",
       "      <td>1.686191</td>\n",
       "      <td>1.134803</td>\n",
       "      <td>1.050039</td>\n",
       "      <td>1.476801</td>\n",
       "      <td>1.050039</td>\n",
       "      <td>0</td>\n",
       "    </tr>\n",
       "    <tr>\n",
       "      <th>1</th>\n",
       "      <td>1.089129</td>\n",
       "      <td>1.587932</td>\n",
       "      <td>1.089129</td>\n",
       "      <td>1.053593</td>\n",
       "      <td>1.481822</td>\n",
       "      <td>1.053593</td>\n",
       "      <td>1</td>\n",
       "    </tr>\n",
       "    <tr>\n",
       "      <th>2</th>\n",
       "      <td>1.059367</td>\n",
       "      <td>1.564241</td>\n",
       "      <td>1.059367</td>\n",
       "      <td>1.063037</td>\n",
       "      <td>1.440464</td>\n",
       "      <td>1.063037</td>\n",
       "      <td>2</td>\n",
       "    </tr>\n",
       "    <tr>\n",
       "      <th>3</th>\n",
       "      <td>1.038839</td>\n",
       "      <td>1.497501</td>\n",
       "      <td>1.038839</td>\n",
       "      <td>1.067468</td>\n",
       "      <td>1.445221</td>\n",
       "      <td>1.067468</td>\n",
       "      <td>3</td>\n",
       "    </tr>\n",
       "    <tr>\n",
       "      <th>4</th>\n",
       "      <td>1.025262</td>\n",
       "      <td>1.503785</td>\n",
       "      <td>1.025262</td>\n",
       "      <td>1.071585</td>\n",
       "      <td>1.438454</td>\n",
       "      <td>1.071585</td>\n",
       "      <td>4</td>\n",
       "    </tr>\n",
       "  </tbody>\n",
       "</table>\n",
       "</div>"
      ],
      "text/plain": [
       "       loss  root_mean_squared_error  mean_absolute_error  val_loss  \\\n",
       "0  1.134803                 1.686191             1.134803  1.050039   \n",
       "1  1.089129                 1.587932             1.089129  1.053593   \n",
       "2  1.059367                 1.564241             1.059367  1.063037   \n",
       "3  1.038839                 1.497501             1.038839  1.067468   \n",
       "4  1.025262                 1.503785             1.025262  1.071585   \n",
       "\n",
       "   val_root_mean_squared_error  val_mean_absolute_error  epoch  \n",
       "0                     1.476801                 1.050039      0  \n",
       "1                     1.481822                 1.053593      1  \n",
       "2                     1.440464                 1.063037      2  \n",
       "3                     1.445221                 1.067468      3  \n",
       "4                     1.438454                 1.071585      4  "
      ]
     },
     "execution_count": 305,
     "metadata": {},
     "output_type": "execute_result"
    }
   ],
   "source": [
    "# Inspecting the data so everything looks correct\n",
    "hist.head()"
   ]
  },
  {
   "cell_type": "code",
   "execution_count": 329,
   "metadata": {},
   "outputs": [
    {
     "name": "stdout",
     "output_type": "stream",
     "text": [
      "\n",
      "............."
     ]
    }
   ],
   "source": [
    "# Inspecting further with the help of early stopping\n",
    "del fires_model\n",
    "fires_model = define_compile_model()\n",
    "\n",
    "# The patience parameter is the amount of epochs to check for improvement\n",
    "early_stop = keras.callbacks.EarlyStopping(monitor='val_loss', patience=10)\n",
    "\n",
    "history = fires_model.fit(fires_train_scaled, y_train, epochs=1000,\n",
    "                    validation_split = 0.2, verbose = 0, callbacks = [early_stop, PrintDot()])"
   ]
  },
  {
   "cell_type": "code",
   "execution_count": 307,
   "metadata": {},
   "outputs": [
    {
     "data": {
      "image/png": "[encoded data removed]",
      "text/plain": [
       "<Figure size 432x288 with 1 Axes>"
      ]
     },
     "metadata": {
      "needs_background": "light"
     },
     "output_type": "display_data"
    }
   ],
   "source": [
    "plot_history1(history)"
   ]
  },
  {
   "cell_type": "code",
   "execution_count": 308,
   "metadata": {},
   "outputs": [
    {
     "data": {
      "image/png": "[encoded data removed]",
      "text/plain": [
       "<Figure size 432x288 with 1 Axes>"
      ]
     },
     "metadata": {
      "needs_background": "light"
     },
     "output_type": "display_data"
    }
   ],
   "source": [
    "plot_history2(history)"
   ]
  },
  {
   "cell_type": "markdown",
   "metadata": {},
   "source": [
    "*Comment*: Again we can see the pattern of immediate fit (no initial decline in val error). I'll proceed to evaluate the model to compare with the results in the paper."
   ]
  },
  {
   "cell_type": "markdown",
   "metadata": {},
   "source": [
    "#### Note\n",
    "So, in the paper whose work I'm following (Cortez % Morais 2007) they post-process the data after prediction, meaning they transform it back to the original state with the inverse function of ln(x+1). The inverse of ln(x+1) is exp(y) - 1. There's a function for this in numpy, *np.expm1* which I can easily use. The reason I'm doing this is to be able to compare my neural network with the SVM algorithm used in the paper. Below I'm doing this evaluation step by step."
   ]
  },
  {
   "cell_type": "code",
   "execution_count": 309,
   "metadata": {},
   "outputs": [],
   "source": [
    "# Predict on test data\n",
    "y_pred = fires_model.predict(fires_test_scaled)"
   ]
  },
  {
   "cell_type": "code",
   "execution_count": 310,
   "metadata": {},
   "outputs": [],
   "source": [
    "# Reshaping the tensors that the model return\n",
    "y_pred = y_pred.reshape(len(y_pred))"
   ]
  },
  {
   "cell_type": "code",
   "execution_count": 311,
   "metadata": {},
   "outputs": [],
   "source": [
    "# Transform predictions\n",
    "y_pred_final = np.expm1(y_pred)"
   ]
  },
  {
   "cell_type": "code",
   "execution_count": 313,
   "metadata": {},
   "outputs": [
    {
     "data": {
      "text/plain": [
       "1.4376585228146117"
      ]
     },
     "execution_count": 313,
     "metadata": {},
     "output_type": "execute_result"
    }
   ],
   "source": [
    "# Calculating MAE of transformed data\n",
    "np.mean(np.abs(y_test - y_pred))"
   ]
  },
  {
   "cell_type": "code",
   "execution_count": 314,
   "metadata": {},
   "outputs": [
    {
     "data": {
      "text/plain": [
       "15.987882145595812"
      ]
     },
     "execution_count": 314,
     "metadata": {},
     "output_type": "execute_result"
    }
   ],
   "source": [
    "# Calculating MAE of original data\n",
    "np.mean(np.abs(y_test_original - y_pred_final))"
   ]
  },
  {
   "cell_type": "code",
   "execution_count": 317,
   "metadata": {},
   "outputs": [
    {
     "data": {
      "text/plain": [
       "1.8810493052657171"
      ]
     },
     "execution_count": 317,
     "metadata": {},
     "output_type": "execute_result"
    }
   ],
   "source": [
    "# Calculating RMSE of the tranformed data\n",
    "np.sqrt(np.mean((y_test - y_pred)**2))"
   ]
  },
  {
   "cell_type": "code",
   "execution_count": 318,
   "metadata": {},
   "outputs": [
    {
     "data": {
      "text/plain": [
       "106.11618111805832"
      ]
     },
     "execution_count": 318,
     "metadata": {},
     "output_type": "execute_result"
    }
   ],
   "source": [
    "# Calculating RMSE of the original data\n",
    "np.sqrt(np.mean((y_test_original - y_pred_final)**2))"
   ]
  },
  {
   "cell_type": "code",
   "execution_count": 319,
   "metadata": {},
   "outputs": [
    {
     "data": {
      "text/plain": [
       "(array([52., 10., 11., 11., 10.,  1.,  2.,  4.,  0.,  2.]),\n",
       " array([0.        , 0.56331096, 1.12662192, 1.68993289, 2.25324385,\n",
       "        2.81655481, 3.37986577, 3.94317673, 4.5064877 , 5.06979866,\n",
       "        5.63310962]),\n",
       " <a list of 10 Patch objects>)"
      ]
     },
     "execution_count": 319,
     "metadata": {},
     "output_type": "execute_result"
    },
    {
     "data": {
      "image/png": "[encoded data removed]",
      "text/plain": [
       "<Figure size 432x288 with 1 Axes>"
      ]
     },
     "metadata": {
      "needs_background": "light"
     },
     "output_type": "display_data"
    }
   ],
   "source": [
    "# Histogram of the original test data\n",
    "plt.hist(y_test_original, color = '#E98074')"
   ]
  },
  {
   "cell_type": "code",
   "execution_count": 321,
   "metadata": {},
   "outputs": [
    {
     "data": {
      "text/plain": [
       "(array([102.,   0.,   0.,   0.,   0.,   0.,   0.,   0.,   0.,   1.]),\n",
       " array([-7.7145201e-01,  1.0623461e+02,  2.1324068e+02,  3.2024673e+02,\n",
       "         4.2725281e+02,  5.3425885e+02,  6.4126495e+02,  7.4827100e+02,\n",
       "         8.5527704e+02,  9.6228314e+02,  1.0692892e+03], dtype=float32),\n",
       " <a list of 10 Patch objects>)"
      ]
     },
     "execution_count": 321,
     "metadata": {},
     "output_type": "execute_result"
    },
    {
     "data": {
      "image/png": "[encoded data removed]",
      "text/plain": [
       "<Figure size 432x288 with 1 Axes>"
      ]
     },
     "metadata": {
      "needs_background": "light"
     },
     "output_type": "display_data"
    }
   ],
   "source": [
    "# Histogram of the predictions\n",
    "plt.hist(y_pred_final, color = '#E98074')"
   ]
  },
  {
   "cell_type": "markdown",
   "metadata": {},
   "source": [
    "*Comment*: As we can see above, none of our really large values ended up in the test set. This makes the predictions very unstable. As we can see, it predicts low values for almost all predictions and then one really, really high, which then has a large effect on the test error. I've noticed this instability becuase when I ran the analysis earlier, the large prediction wasn't there, and so the error rate was much lower.\n",
    "\n",
    "#### Comparison with the results in the paper\n",
    "So, for comparison, Cortez and Morais (2007) achieves an MAE of 12.7 and and RMSE of 63.7 with their SVM regression algorithm. So this neural network is actually doing worse. Next I'll build another neural network to see if it can be improved. Finally I will do cross-validation to validate the results, as this hold-out approach of splitting the data into one train and one test set have proven to be very sensitive to where the really large values end up."
   ]
  },
  {
   "cell_type": "code",
   "execution_count": 322,
   "metadata": {},
   "outputs": [],
   "source": [
    "# Build model\n",
    "def define_compile_model2():\n",
    "    model = keras.Sequential([\n",
    "        layers.Dense(64, \n",
    "                     activation = 'relu', \n",
    "                     input_shape = [len(fires_train_scaled.columns)]),\n",
    "        layers.Dense(100,\n",
    "                    activation = 'relu'),\n",
    "        layers.Dense(52,\n",
    "                    activation = 'relu'),\n",
    "        layers.Dense(14,\n",
    "                    activation = 'relu'),\n",
    "        layers.Dense(1)\n",
    "    ])\n",
    "    \n",
    "    optimizer = tf.keras.optimizers.RMSprop(0.001)\n",
    "    \n",
    "    model.compile(loss='mae',\n",
    "                optimizer=optimizer,\n",
    "                metrics=[tf.keras.metrics.RootMeanSquaredError(), 'mae'])\n",
    "    \n",
    "    return model"
   ]
  },
  {
   "cell_type": "code",
   "execution_count": 330,
   "metadata": {},
   "outputs": [
    {
     "name": "stdout",
     "output_type": "stream",
     "text": [
      "\n",
      ".............."
     ]
    }
   ],
   "source": [
    "fires_model2 = define_compile_model2()\n",
    "\n",
    "# The patience parameter is the amount of epochs to check for improvement\n",
    "early_stop = keras.callbacks.EarlyStopping(monitor='val_loss', patience=10)\n",
    "\n",
    "history = fires_model2.fit(fires_train_scaled, y_train, epochs=1000,\n",
    "                    validation_split = 0.2, verbose = 0, callbacks = [early_stop, PrintDot()])"
   ]
  },
  {
   "cell_type": "code",
   "execution_count": 333,
   "metadata": {},
   "outputs": [
    {
     "name": "stdout",
     "output_type": "stream",
     "text": [
      "1.6325812682603131\n",
      "2.425220160918662\n"
     ]
    }
   ],
   "source": [
    "# Predict on train data\n",
    "y_pred = fires_model2.predict(fires_test_scaled)\n",
    "\n",
    "# Transform predictions\n",
    "y_pred = y_pred.reshape(len(y_pred))\n",
    "y_pred_final = np.expm1(y_pred)\n",
    "\n",
    "# Calculate MAE\n",
    "mae = np.mean(np.abs(y_test_original - y_pred_final))\n",
    "\n",
    "# Calculate RMSE\n",
    "rmse = np.sqrt(np.mean((y_test_original - y_pred_final)**2))\n",
    "\n",
    "print(mae)\n",
    "print(rmse)"
   ]
  },
  {
   "cell_type": "markdown",
   "metadata": {},
   "source": [
    "*Comment*: Now the predictions are a LOT better. We should be suspicious of this. Let's inspect the predictions with a histogram like we did before."
   ]
  },
  {
   "cell_type": "code",
   "execution_count": 334,
   "metadata": {},
   "outputs": [
    {
     "data": {
      "text/plain": [
       "(array([68., 19.,  7.,  2.,  1.,  3.,  1.,  1.,  0.,  1.]),\n",
       " array([-0.12956654,  1.1571716 ,  2.4439096 ,  3.7306478 ,  5.017386  ,\n",
       "         6.3041244 ,  7.5908623 ,  8.877601  , 10.164339  , 11.4510765 ,\n",
       "        12.737815  ], dtype=float32),\n",
       " <a list of 10 Patch objects>)"
      ]
     },
     "execution_count": 334,
     "metadata": {},
     "output_type": "execute_result"
    },
    {
     "data": {
      "image/png": "[encoded data removed]",
      "text/plain": [
       "<Figure size 432x288 with 1 Axes>"
      ]
     },
     "metadata": {
      "needs_background": "light"
     },
     "output_type": "display_data"
    }
   ],
   "source": [
    "# Histogram of the predictions\n",
    "plt.hist(y_pred_final, color = '#E98074')"
   ]
  },
  {
   "cell_type": "markdown",
   "metadata": {},
   "source": [
    "*Comment*: As expected, it's really just about that one prediction of 1000 that the model did before. Now it makes no such high predictions and consequently the errors are much lower, since there are no high values in the test set. "
   ]
  },
  {
   "cell_type": "markdown",
   "metadata": {},
   "source": [
    "#### CV Approach\n",
    "Because of the skewness in the distribution of the outcome variable, I will now turn to cross-validation instead. For this I'm going to put the data back together into one big set. This is how they did it in the paper. Otherwise it would be good to keep an extra test set on the side, but I'll discard that for now."
   ]
  },
  {
   "cell_type": "code",
   "execution_count": 336,
   "metadata": {},
   "outputs": [
    {
     "data": {
      "text/html": [
       "<div>\n",
       "<style scoped>\n",
       "    .dataframe tbody tr th:only-of-type {\n",
       "        vertical-align: middle;\n",
       "    }\n",
       "\n",
       "    .dataframe tbody tr th {\n",
       "        vertical-align: top;\n",
       "    }\n",
       "\n",
       "    .dataframe thead th {\n",
       "        text-align: right;\n",
       "    }\n",
       "</style>\n",
       "<table border=\"1\" class=\"dataframe\">\n",
       "  <thead>\n",
       "    <tr style=\"text-align: right;\">\n",
       "      <th></th>\n",
       "      <th>X</th>\n",
       "      <th>Y</th>\n",
       "      <th>FFMC</th>\n",
       "      <th>DMC</th>\n",
       "      <th>DC</th>\n",
       "      <th>ISI</th>\n",
       "      <th>temp</th>\n",
       "      <th>RH</th>\n",
       "      <th>wind</th>\n",
       "      <th>rain</th>\n",
       "      <th>fall</th>\n",
       "      <th>spring</th>\n",
       "      <th>summer</th>\n",
       "      <th>winter</th>\n",
       "      <th>weekend</th>\n",
       "      <th>weekday</th>\n",
       "    </tr>\n",
       "  </thead>\n",
       "  <tbody>\n",
       "    <tr>\n",
       "      <th>213</th>\n",
       "      <td>1.027712</td>\n",
       "      <td>-1.121394</td>\n",
       "      <td>-0.492450</td>\n",
       "      <td>-0.913288</td>\n",
       "      <td>-1.744195</td>\n",
       "      <td>-0.869986</td>\n",
       "      <td>-1.333172</td>\n",
       "      <td>0.112771</td>\n",
       "      <td>1.054454</td>\n",
       "      <td>-0.066504</td>\n",
       "      <td>0</td>\n",
       "      <td>1</td>\n",
       "      <td>0</td>\n",
       "      <td>0</td>\n",
       "      <td>0</td>\n",
       "      <td>1</td>\n",
       "    </tr>\n",
       "    <tr>\n",
       "      <th>435</th>\n",
       "      <td>-1.176811</td>\n",
       "      <td>0.539633</td>\n",
       "      <td>0.044591</td>\n",
       "      <td>-0.395114</td>\n",
       "      <td>-0.658176</td>\n",
       "      <td>-0.743809</td>\n",
       "      <td>0.854598</td>\n",
       "      <td>0.416328</td>\n",
       "      <td>-1.247690</td>\n",
       "      <td>-0.066504</td>\n",
       "      <td>0</td>\n",
       "      <td>0</td>\n",
       "      <td>1</td>\n",
       "      <td>0</td>\n",
       "      <td>1</td>\n",
       "      <td>0</td>\n",
       "    </tr>\n",
       "    <tr>\n",
       "      <th>343</th>\n",
       "      <td>1.468617</td>\n",
       "      <td>1.370147</td>\n",
       "      <td>0.162069</td>\n",
       "      <td>0.328735</td>\n",
       "      <td>1.055648</td>\n",
       "      <td>-0.344246</td>\n",
       "      <td>-0.495667</td>\n",
       "      <td>0.416328</td>\n",
       "      <td>0.306257</td>\n",
       "      <td>-0.066504</td>\n",
       "      <td>1</td>\n",
       "      <td>0</td>\n",
       "      <td>0</td>\n",
       "      <td>0</td>\n",
       "      <td>0</td>\n",
       "      <td>1</td>\n",
       "    </tr>\n",
       "    <tr>\n",
       "      <th>230</th>\n",
       "      <td>-0.295001</td>\n",
       "      <td>-0.290880</td>\n",
       "      <td>0.397024</td>\n",
       "      <td>0.379755</td>\n",
       "      <td>0.627690</td>\n",
       "      <td>0.013258</td>\n",
       "      <td>1.298988</td>\n",
       "      <td>-1.405015</td>\n",
       "      <td>0.306257</td>\n",
       "      <td>-0.066504</td>\n",
       "      <td>1</td>\n",
       "      <td>0</td>\n",
       "      <td>0</td>\n",
       "      <td>0</td>\n",
       "      <td>0</td>\n",
       "      <td>1</td>\n",
       "    </tr>\n",
       "    <tr>\n",
       "      <th>171</th>\n",
       "      <td>1.468617</td>\n",
       "      <td>1.370147</td>\n",
       "      <td>-0.828100</td>\n",
       "      <td>-0.304234</td>\n",
       "      <td>0.269399</td>\n",
       "      <td>-0.533512</td>\n",
       "      <td>-0.239287</td>\n",
       "      <td>0.355616</td>\n",
       "      <td>0.018489</td>\n",
       "      <td>-0.066504</td>\n",
       "      <td>0</td>\n",
       "      <td>0</td>\n",
       "      <td>1</td>\n",
       "      <td>0</td>\n",
       "      <td>0</td>\n",
       "      <td>1</td>\n",
       "    </tr>\n",
       "    <tr>\n",
       "      <th>...</th>\n",
       "      <td>...</td>\n",
       "      <td>...</td>\n",
       "      <td>...</td>\n",
       "      <td>...</td>\n",
       "      <td>...</td>\n",
       "      <td>...</td>\n",
       "      <td>...</td>\n",
       "      <td>...</td>\n",
       "      <td>...</td>\n",
       "      <td>...</td>\n",
       "      <td>...</td>\n",
       "      <td>...</td>\n",
       "      <td>...</td>\n",
       "      <td>...</td>\n",
       "      <td>...</td>\n",
       "      <td>...</td>\n",
       "    </tr>\n",
       "    <tr>\n",
       "      <th>496</th>\n",
       "      <td>-0.270275</td>\n",
       "      <td>0.692643</td>\n",
       "      <td>1.641247</td>\n",
       "      <td>0.861260</td>\n",
       "      <td>0.386230</td>\n",
       "      <td>2.286626</td>\n",
       "      <td>2.391861</td>\n",
       "      <td>-1.210842</td>\n",
       "      <td>-0.566075</td>\n",
       "      <td>-0.138768</td>\n",
       "      <td>0</td>\n",
       "      <td>0</td>\n",
       "      <td>1</td>\n",
       "      <td>0</td>\n",
       "      <td>0</td>\n",
       "      <td>1</td>\n",
       "    </tr>\n",
       "    <tr>\n",
       "      <th>506</th>\n",
       "      <td>-1.480635</td>\n",
       "      <td>-1.608718</td>\n",
       "      <td>-0.028367</td>\n",
       "      <td>0.735801</td>\n",
       "      <td>0.777202</td>\n",
       "      <td>-0.404584</td>\n",
       "      <td>-0.133915</td>\n",
       "      <td>1.804429</td>\n",
       "      <td>2.169382</td>\n",
       "      <td>-0.138768</td>\n",
       "      <td>0</td>\n",
       "      <td>0</td>\n",
       "      <td>1</td>\n",
       "      <td>0</td>\n",
       "      <td>0</td>\n",
       "      <td>1</td>\n",
       "    </tr>\n",
       "    <tr>\n",
       "      <th>509</th>\n",
       "      <td>0.133179</td>\n",
       "      <td>-0.074478</td>\n",
       "      <td>-0.028367</td>\n",
       "      <td>0.735801</td>\n",
       "      <td>0.777202</td>\n",
       "      <td>-0.404584</td>\n",
       "      <td>0.331831</td>\n",
       "      <td>1.676119</td>\n",
       "      <td>1.713472</td>\n",
       "      <td>8.198861</td>\n",
       "      <td>0</td>\n",
       "      <td>0</td>\n",
       "      <td>1</td>\n",
       "      <td>0</td>\n",
       "      <td>0</td>\n",
       "      <td>1</td>\n",
       "    </tr>\n",
       "    <tr>\n",
       "      <th>510</th>\n",
       "      <td>0.536632</td>\n",
       "      <td>0.692643</td>\n",
       "      <td>-0.028367</td>\n",
       "      <td>0.735801</td>\n",
       "      <td>0.777202</td>\n",
       "      <td>-0.404584</td>\n",
       "      <td>-0.187655</td>\n",
       "      <td>1.098727</td>\n",
       "      <td>0.599027</td>\n",
       "      <td>-0.138768</td>\n",
       "      <td>0</td>\n",
       "      <td>0</td>\n",
       "      <td>1</td>\n",
       "      <td>0</td>\n",
       "      <td>0</td>\n",
       "      <td>1</td>\n",
       "    </tr>\n",
       "    <tr>\n",
       "      <th>511</th>\n",
       "      <td>1.343539</td>\n",
       "      <td>1.459763</td>\n",
       "      <td>-3.046516</td>\n",
       "      <td>-0.871826</td>\n",
       "      <td>0.402593</td>\n",
       "      <td>-1.847294</td>\n",
       "      <td>1.532023</td>\n",
       "      <td>-0.633450</td>\n",
       "      <td>-0.768702</td>\n",
       "      <td>-0.138768</td>\n",
       "      <td>0</td>\n",
       "      <td>0</td>\n",
       "      <td>1</td>\n",
       "      <td>0</td>\n",
       "      <td>1</td>\n",
       "      <td>0</td>\n",
       "    </tr>\n",
       "  </tbody>\n",
       "</table>\n",
       "<p>517 rows × 16 columns</p>\n",
       "</div>"
      ],
      "text/plain": [
       "            X         Y      FFMC       DMC        DC       ISI      temp  \\\n",
       "213  1.027712 -1.121394 -0.492450 -0.913288 -1.744195 -0.869986 -1.333172   \n",
       "435 -1.176811  0.539633  0.044591 -0.395114 -0.658176 -0.743809  0.854598   \n",
       "343  1.468617  1.370147  0.162069  0.328735  1.055648 -0.344246 -0.495667   \n",
       "230 -0.295001 -0.290880  0.397024  0.379755  0.627690  0.013258  1.298988   \n",
       "171  1.468617  1.370147 -0.828100 -0.304234  0.269399 -0.533512 -0.239287   \n",
       "..        ...       ...       ...       ...       ...       ...       ...   \n",
       "496 -0.270275  0.692643  1.641247  0.861260  0.386230  2.286626  2.391861   \n",
       "506 -1.480635 -1.608718 -0.028367  0.735801  0.777202 -0.404584 -0.133915   \n",
       "509  0.133179 -0.074478 -0.028367  0.735801  0.777202 -0.404584  0.331831   \n",
       "510  0.536632  0.692643 -0.028367  0.735801  0.777202 -0.404584 -0.187655   \n",
       "511  1.343539  1.459763 -3.046516 -0.871826  0.402593 -1.847294  1.532023   \n",
       "\n",
       "           RH      wind      rain  fall  spring  summer  winter  weekend  \\\n",
       "213  0.112771  1.054454 -0.066504     0       1       0       0        0   \n",
       "435  0.416328 -1.247690 -0.066504     0       0       1       0        1   \n",
       "343  0.416328  0.306257 -0.066504     1       0       0       0        0   \n",
       "230 -1.405015  0.306257 -0.066504     1       0       0       0        0   \n",
       "171  0.355616  0.018489 -0.066504     0       0       1       0        0   \n",
       "..        ...       ...       ...   ...     ...     ...     ...      ...   \n",
       "496 -1.210842 -0.566075 -0.138768     0       0       1       0        0   \n",
       "506  1.804429  2.169382 -0.138768     0       0       1       0        0   \n",
       "509  1.676119  1.713472  8.198861     0       0       1       0        0   \n",
       "510  1.098727  0.599027 -0.138768     0       0       1       0        0   \n",
       "511 -0.633450 -0.768702 -0.138768     0       0       1       0        1   \n",
       "\n",
       "     weekday  \n",
       "213        1  \n",
       "435        0  \n",
       "343        1  \n",
       "230        1  \n",
       "171        1  \n",
       "..       ...  \n",
       "496        1  \n",
       "506        1  \n",
       "509        1  \n",
       "510        1  \n",
       "511        0  \n",
       "\n",
       "[517 rows x 16 columns]"
      ]
     },
     "execution_count": 336,
     "metadata": {},
     "output_type": "execute_result"
    }
   ],
   "source": [
    "# Put data into one dataframe\n",
    "all_scaled = pd.concat([fires_train_scaled, fires_test_scaled], axis = 0)\n",
    "all_scaled"
   ]
  },
  {
   "cell_type": "code",
   "execution_count": 338,
   "metadata": {},
   "outputs": [
    {
     "data": {
      "text/plain": [
       "(517,)"
      ]
     },
     "execution_count": 338,
     "metadata": {},
     "output_type": "execute_result"
    }
   ],
   "source": [
    "# Put labels/outcome variables together\n",
    "all_y = np.concatenate([y_train, y_test], axis = None)\n",
    "all_y.shape"
   ]
  },
  {
   "cell_type": "code",
   "execution_count": 339,
   "metadata": {},
   "outputs": [
    {
     "name": "stdout",
     "output_type": "stream",
     "text": [
      "510\n"
     ]
    }
   ],
   "source": [
    "# Remove the last 7 observations so that we can reshape it for CV\n",
    "all_scaled2 = all_scaled[:-7]\n",
    "print(len(all_scaled2))\n",
    "all_scaled2.reset_index(inplace = True)"
   ]
  },
  {
   "cell_type": "code",
   "execution_count": 340,
   "metadata": {},
   "outputs": [],
   "source": [
    "# Remove last 7 obs in labels as well\n",
    "all_y = all_y[:-7]"
   ]
  },
  {
   "cell_type": "code",
   "execution_count": 341,
   "metadata": {},
   "outputs": [],
   "source": [
    "# Remove the index label that was accidnetally created when we used reset index\n",
    "all_scaled2 = all_scaled2.drop('index', axis =1)"
   ]
  },
  {
   "cell_type": "code",
   "execution_count": 342,
   "metadata": {},
   "outputs": [],
   "source": [
    "# Shuffle and rearrange data\n",
    "perm = np.random.permutation(len(all_scaled2))\n",
    "rearr = perm.reshape(10, 51)"
   ]
  },
  {
   "cell_type": "code",
   "execution_count": 343,
   "metadata": {},
   "outputs": [
    {
     "name": "stdout",
     "output_type": "stream",
     "text": [
      "51\n"
     ]
    }
   ],
   "source": [
    "# Create cross validation set\n",
    "CV_data = np.array(all_scaled2)[rearr]\n",
    "CV_y = all_y[rearr]\n",
    "print(len(CV_data[0]))"
   ]
  },
  {
   "cell_type": "code",
   "execution_count": 344,
   "metadata": {},
   "outputs": [],
   "source": [
    "# Prepare cross validation set 1\n",
    "CVin = [list(rearr[0]), list(rearr[1])]\n",
    "for k in range(8):\n",
    "    CVin[1] = CVin[1] + list(rearr[k+2]%10)\n",
    "CVin = [CVin]"
   ]
  },
  {
   "cell_type": "code",
   "execution_count": 345,
   "metadata": {},
   "outputs": [],
   "source": [
    "# Same for the rest of the sets\n",
    "for i in range(9):\n",
    "    C = [list(rearr[i+1]), list(rearr[(i+2)%10])]\n",
    "    for k in range(8):\n",
    "        C[1] = C[1] + list(rearr[(i+3+k)%10])\n",
    "    CVin = CVin + [C]"
   ]
  },
  {
   "cell_type": "code",
   "execution_count": 347,
   "metadata": {},
   "outputs": [
    {
     "name": "stdout",
     "output_type": "stream",
     "text": [
      "\n",
      ".........................\n",
      ".............\n",
      "...........\n",
      "......................\n",
      "..............................................\n",
      ".............\n",
      "..............................\n",
      ".................................\n",
      "...........\n",
      "..........."
     ]
    }
   ],
   "source": [
    "# Cross validation on original model\n",
    "test_mae_list = []\n",
    "test_rmse_list = []\n",
    "\n",
    "for k in range(10):\n",
    "    \n",
    "    # Pick our training and test set needed for the CV procedure\n",
    "    testCVx = np.array(all_scaled2)[CVin[k][0]]\n",
    "    testCVy = all_y[CVin[k][0]]\n",
    "    trainCVx = np.array(all_scaled2)[CVin[k][1]]\n",
    "    trainCVy = all_y[CVin[k][1]]\n",
    "    \n",
    "    # Delete the old model\n",
    "    del model \n",
    "    \n",
    "    # Redefine model\n",
    "    model = define_compile_model()\n",
    "    \n",
    "    # Fit model\n",
    "    model.fit(trainCVx, trainCVy, epochs=1000,\n",
    "                    validation_split = 0.2, verbose = 0, callbacks = [early_stop, PrintDot()])\n",
    "    \n",
    "    # Predict on val data\n",
    "    y_pred = model.predict(testCVx)\n",
    "\n",
    "    # Transform predictions and original labels\n",
    "    y_pred = y_pred.reshape(len(y_pred))\n",
    "    y_pred_final = np.expm1(y_pred)\n",
    "    y_true_original = np.expm1(testCVy)\n",
    "\n",
    "    # Calculate MAE/MAD\n",
    "    mae = np.mean(np.abs(y_true_original - y_pred_final))\n",
    "\n",
    "    # Calculate RMSE\n",
    "    rmse = np.sqrt(np.mean((y_true_original - y_pred_final)**2))\n",
    "    \n",
    "    # Record the results in our lists\n",
    "    test_mae_list.append(mae)\n",
    "    test_rmse_list.append(rmse)"
   ]
  },
  {
   "cell_type": "code",
   "execution_count": 348,
   "metadata": {},
   "outputs": [
    {
     "data": {
      "text/plain": [
       "13.310254301503559"
      ]
     },
     "execution_count": 348,
     "metadata": {},
     "output_type": "execute_result"
    }
   ],
   "source": [
    "# Check CV MAE\n",
    "np.mean(test_mae_list)"
   ]
  },
  {
   "cell_type": "code",
   "execution_count": 349,
   "metadata": {},
   "outputs": [
    {
     "data": {
      "text/plain": [
       "47.16709012406989"
      ]
     },
     "execution_count": 349,
     "metadata": {},
     "output_type": "execute_result"
    }
   ],
   "source": [
    "# Check CV RMSE\n",
    "np.mean(test_rmse_list)"
   ]
  },
  {
   "cell_type": "markdown",
   "metadata": {},
   "source": [
    "*Comment*: Now we are achieving similar results as the paper this. That is quite impressive. Our RMSE is even lower, but I suspect that might be due to randomness. The paper did a cross-validation of several runs, which I feel is beyond the scope of this project. Furthermore, we can do the same thing on the second model, as can be seen below."
   ]
  },
  {
   "cell_type": "code",
   "execution_count": 350,
   "metadata": {},
   "outputs": [
    {
     "name": "stdout",
     "output_type": "stream",
     "text": [
      "\n",
      ".................................\n",
      ".............\n",
      "...........\n",
      "...................\n",
      "...........................\n",
      "............\n",
      ".........................\n",
      ".............................\n",
      "...........\n",
      "............"
     ]
    }
   ],
   "source": [
    "# Cross validation on original model\n",
    "test_mae_list = []\n",
    "test_rmse_list = []\n",
    "\n",
    "for k in range(10):\n",
    "    \n",
    "    # Pick our training and test set needed for the CV procedure\n",
    "    testCVx = np.array(all_scaled2)[CVin[k][0]]\n",
    "    testCVy = all_y[CVin[k][0]]\n",
    "    trainCVx = np.array(all_scaled2)[CVin[k][1]]\n",
    "    trainCVy = all_y[CVin[k][1]]\n",
    "    \n",
    "    # Delete the old model\n",
    "    del model \n",
    "    \n",
    "    # Redefine model\n",
    "    model = define_compile_model2()\n",
    "    \n",
    "    # Fit model\n",
    "    model.fit(trainCVx, trainCVy, epochs=1000,\n",
    "                    validation_split = 0.2, verbose = 0, callbacks = [early_stop, PrintDot()])\n",
    "    \n",
    "    # Predict on val data\n",
    "    y_pred = model.predict(testCVx)\n",
    "\n",
    "    # Transform predictions and original labels\n",
    "    y_pred = y_pred.reshape(len(y_pred))\n",
    "    y_pred_final = np.expm1(y_pred)\n",
    "    y_true_original = np.expm1(testCVy)\n",
    "\n",
    "    # Calculate MAE/MAD\n",
    "    mae = np.mean(np.abs(y_true_original - y_pred_final))\n",
    "\n",
    "    # Calculate RMSE\n",
    "    rmse = np.sqrt(np.mean((y_true_original - y_pred_final)**2))\n",
    "    \n",
    "    # Record the results in our lists\n",
    "    test_mae_list.append(mae)\n",
    "    test_rmse_list.append(rmse)"
   ]
  },
  {
   "cell_type": "code",
   "execution_count": 351,
   "metadata": {},
   "outputs": [
    {
     "data": {
      "text/plain": [
       "13.149000548954458"
      ]
     },
     "execution_count": 351,
     "metadata": {},
     "output_type": "execute_result"
    }
   ],
   "source": [
    "# Check CV MAE\n",
    "np.mean(test_mae_list)"
   ]
  },
  {
   "cell_type": "code",
   "execution_count": 352,
   "metadata": {},
   "outputs": [
    {
     "data": {
      "text/plain": [
       "46.089691974732474"
      ]
     },
     "execution_count": 352,
     "metadata": {},
     "output_type": "execute_result"
    }
   ],
   "source": [
    "# Check CV RMSE\n",
    "np.mean(test_rmse_list)"
   ]
  },
  {
   "cell_type": "markdown",
   "metadata": {},
   "source": [
    "*Comment*: Again we are achieving similar results as the study did. So in conclusion, a modern keras NN can achieve the same results as the best SVM algorithm did in the work by Cortez & Morais in 2007. With tuning, it could probably exceed it. However, great causion is needed when evaluating this data. Because of the nature of the outcome variable (continous, many 0 values, skewed, etc.) one has to be careful with drawing conclusions on the possibility to predict forest fire area. That was all for this lab!"
   ]
  },
  {
   "cell_type": "markdown",
   "metadata": {},
   "source": [
    "## Grader box: \n",
    "\n",
    "In what follows the grader will put the values according the following check list:\n",
    "\n",
    "* 1 Have all commands included in a raw notebook been evaluated? (0 or 0.5pt)\n",
    "* 2 Have all commands been experimented with? (0 or 0.5pt)\n",
    "* 3 Have all experiments been briefly commented? (0 or 0.5pt)\n",
    "* 4 Have all tasks been attempted? (0, 0.5, or 1pt)\n",
    "* 5 How many of the tasks have been completed? (0, 0.5, or 1pt)\n",
    "* 6 How many of the tasks (completed or not) have been commented? (0, 0.5, or 1pt)\n",
    "* 7 Have been the conclusions from performing the tasks clearly stated? (0, 0.5, or 1pt)\n",
    "* 8 Have been the overall organization of the submitted Lab notebook been neat and easy to follow by the grader? (0, or 0.5pt) \n",
    "\n",
    "\n",
    "#### 1 Have all commands included in a raw notebook been evaluated? (0 or 0.5pt)\n",
    "\n",
    "#### Grader's comment (if desired): \n",
    "N/A\n",
    "#### Grader's comment (if desired): \n",
    "N/A\n",
    "\n",
    "#### 2 Have all commands been experimented with? (0 or 0.5pt)\n",
    "\n",
    "#### Grader's comment (if desired): \n",
    "N/A\n",
    "\n",
    "#### 3 Have all experiments been briefly commented? (0 or 0.5pt)\n",
    "\n",
    "#### Grader's comment (if desired): \n",
    "N/A\n",
    "\n",
    "#### 4 Have all tasks been attempted? (0, 0.5, or 1pt)\n",
    "\n",
    "#### Grader's comment (if desired): \n",
    "N/A\n",
    "\n",
    "#### 5 How many of the tasks have been completed? (0, 0.5, or 1pt)\n",
    "\n",
    "#### Grader's comment (if desired): \n",
    "N/A\n",
    "\n",
    "#### 6 How many of the tasks (completed or not) have been commented? (0, 0.5, or 1pt)\n",
    "\n",
    "#### Grader's comment (if desired): \n",
    "N/A\n",
    "\n",
    "#### 7 Have been the conclusions from performing the tasks clearly stated? (0, 0.5, or 1pt)\n",
    "\n",
    "#### Grader's comment (if desired): \n",
    "N/A\n",
    "\n",
    "#### 8 Have been the overall organization of the submitted Lab notebook been neat and easy to follow by the grader? (0, or 0.5pt)\n",
    "\n",
    "#### Grader's comment (if desired): \n",
    "N/A\n",
    "\n",
    "### Overall score\n",
    "\n",
    "### Score and grader's comment (if desired): \n",
    "N/A"
   ]
  }
 ],
 "metadata": {
  "colab": {
   "collapsed_sections": [],
   "name": "regression.ipynb",
   "private_outputs": true,
   "provenance": [],
   "toc_visible": true,
   "version": "0.3.2"
  },
  "kernelspec": {
   "display_name": "Python 3",
   "language": "python",
   "name": "python3"
  },
  "language_info": {
   "codemirror_mode": {
    "name": "ipython",
    "version": 3
   },
   "file_extension": ".py",
   "mimetype": "text/x-python",
   "name": "python",
   "nbconvert_exporter": "python",
   "pygments_lexer": "ipython3",
   "version": "3.7.3"
  }
 },
 "nbformat": 4,
 "nbformat_minor": 1
}
