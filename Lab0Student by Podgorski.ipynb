{
 "cells": [
  {
   "cell_type": "markdown",
   "metadata": {},
   "source": [
    "# Deep learning and AI methods\n",
    "## Session 0: First things in Python\n",
    "* Instructor: [Krzysztof Podgorski](https://krys.neocities.org),  [Statistics, Lund University, LUSEM](https://www.stat.lu.se/)\n",
    "* For more information visit the [CANVAS class website](https://canvas.education.lu.se/courses/1712).\n",
    "\n",
    "This session attempts to give you a very concise introduction to Python programming by showing its features through hands-on approach on designing some simple mathematical models. It also show nice capacities of Jupyter Notebook in organizing reports on computational studies. This session accompanies Lecture 2, Organizing Labs and Final Project part, see CANVAS. "
   ]
  },
  {
   "cell_type": "markdown",
   "metadata": {},
   "source": [
    "### Project 1 \n",
    "In this small project we will learn some of Python programming tools. \n",
    "\n",
    "Here how one performs basic arithmetic operations:"
   ]
  },
  {
   "cell_type": "code",
   "execution_count": null,
   "metadata": {},
   "outputs": [],
   "source": [
    "a1=1; a2=2;\n",
    "u1=5; u2=4; \n",
    "f=[a1*u1*u2,a2*u1/u2]\n",
    "print(f)"
   ]
  },
  {
   "cell_type": "code",
   "execution_count": null,
   "metadata": {},
   "outputs": [],
   "source": [
    "b1=4; b2=1;\n",
    "v1=-2; v2=3;\n",
    "g=[1/(1+b1*v1**2),1/(1+b2*v2**2)]\n",
    "print(g)"
   ]
  },
  {
   "cell_type": "markdown",
   "metadata": {},
   "source": [
    "Matrices in Python"
   ]
  },
  {
   "cell_type": "code",
   "execution_count": null,
   "metadata": {
    "scrolled": true
   },
   "outputs": [],
   "source": [
    "ua=[[5,4],[1,2]]\n",
    "print(ua)\n",
    "print(ua[0][1])"
   ]
  },
  {
   "cell_type": "markdown",
   "metadata": {},
   "source": [
    "##### *NumPy* library in Python\n",
    "\n",
    "\n",
    "Most of the power of a programming language is in its libraries.\n",
    "A library is a collection of files (called modules) that contains functions for use by other programs.\n",
    "May also contain data values (e.g., numerical constants) and other things.\n",
    "Library’s contents are supposed to be related, but there’s no way to enforce that.\n",
    "The Python standard library is an extensive suite of modules that comes with Python itself.\n",
    "Many additional libraries are available from PyPI (the Python Package Index).\n",
    "\n",
    "\n",
    "A library is a collection of modules, but the terms are often used interchangeably, especially since many libraries only consist of a single module, so don’t worry if you mix them.\n",
    "\n",
    "A program must import a library module before using it.\n",
    "Use import to load a library module into a program’s memory.\n",
    "Then refer to things from the module as *module_name.thing_name*.\n",
    "\n",
    "Python uses . to mean “part of”.\n",
    "\n",
    "* *NumPy* is the fundamental package (library, module) for scientific computing with Python. It contains among other things:\n",
    "\n",
    "    * a powerful N-dimensional array object\n",
    "    * sophisticated functions\n",
    "    * useful linear algebra, Fourier transform, and random number capabilities"
   ]
  },
  {
   "cell_type": "code",
   "execution_count": null,
   "metadata": {},
   "outputs": [],
   "source": [
    "#Probably the most standard library \n",
    "import numpy\n",
    "\n",
    "print('pi is', numpy.pi)\n",
    "print('cos(pi) is', numpy.cos(numpy.pi))"
   ]
  },
  {
   "cell_type": "markdown",
   "metadata": {},
   "source": [
    "Import specific items from a library module to shorten programs.\n",
    "Use *from ... import ...* to load only specific items from a library module.\n",
    "Then refer to them directly without library name as prefix.\n",
    "\n",
    "\n"
   ]
  },
  {
   "cell_type": "code",
   "execution_count": null,
   "metadata": {},
   "outputs": [],
   "source": [
    "from numpy import cos, pi\n",
    "print('cos(pi) is', cos(pi))"
   ]
  },
  {
   "cell_type": "markdown",
   "metadata": {},
   "source": [
    "Create an alias for a library module when importing it to shorten programs.\n",
    "Use *import ... as ... to* give a library a short alias while importing it.\n",
    "Then refer to items in the library using that shortened name.\n"
   ]
  },
  {
   "cell_type": "code",
   "execution_count": 2,
   "metadata": {},
   "outputs": [
    {
     "name": "stdout",
     "output_type": "stream",
     "text": [
      "cos(pi) is -1.0\n"
     ]
    }
   ],
   "source": [
    "import numpy as np\n",
    "\n",
    "print('cos(pi) is', np.cos(np.pi))"
   ]
  },
  {
   "cell_type": "markdown",
   "metadata": {},
   "source": [
    "Some more complicate operations using mathematical functions:"
   ]
  },
  {
   "cell_type": "code",
   "execution_count": null,
   "metadata": {},
   "outputs": [],
   "source": [
    "c1=1; c2=2;\n",
    "w1=5; w2=4; \n",
    "h=np.exp(-c1*w1-c2*w2)\n",
    "print(h)"
   ]
  },
  {
   "cell_type": "markdown",
   "metadata": {},
   "source": [
    "##### Defining a function "
   ]
  },
  {
   "cell_type": "markdown",
   "metadata": {},
   "source": [
    "A function is a way to capture code that is commonly executed. Consider the following function that can be used to trim white space from a string capitalize the first letter."
   ]
  },
  {
   "cell_type": "code",
   "execution_count": null,
   "metadata": {},
   "outputs": [],
   "source": [
    "def process_string(str):\n",
    "    t = str.strip()\n",
    "    return t[0].upper()+t[1:]"
   ]
  },
  {
   "cell_type": "markdown",
   "metadata": {},
   "source": [
    "This function can now be called quite easily."
   ]
  },
  {
   "cell_type": "code",
   "execution_count": null,
   "metadata": {},
   "outputs": [],
   "source": [
    "str = process_string(\"  hello  \")\n",
    "print(str)"
   ]
  },
  {
   "cell_type": "markdown",
   "metadata": {},
   "source": [
    "##### Functions related to Topic 2 in Discussion 1  ####\n",
    "\n",
    "Defining numerical functions and their evaluations. "
   ]
  },
  {
   "cell_type": "code",
   "execution_count": null,
   "metadata": {},
   "outputs": [],
   "source": [
    "def f(u,a):\n",
    "    a1=a[0];a2=a[1];u1=u[0];u2=u[1]\n",
    "    return [a1*u1*u2,a2*u1/u2]"
   ]
  },
  {
   "cell_type": "code",
   "execution_count": null,
   "metadata": {},
   "outputs": [],
   "source": [
    "print(ua)\n",
    "\n",
    "u=ua[0];a=ua[1]\n",
    "print(f(u,a))"
   ]
  },
  {
   "cell_type": "markdown",
   "metadata": {},
   "source": [
    "#### TASK 1: \n",
    "After reading the first and third topics for *Discussion 1*, explain where we have in the code below parameters, where are there their estimators. How can the log-likelihood be evaluated?"
   ]
  },
  {
   "cell_type": "code",
   "execution_count": 3,
   "metadata": {},
   "outputs": [
    {
     "name": "stdout",
     "output_type": "stream",
     "text": [
      "(500, 2)\n",
      "[-3.0950715967765667, 2.040888989859701]\n",
      "[ 2.04088899 -3.0950716 ]\n",
      "[[0.97455079 0.07614625]\n",
      " [0.07614625 9.96159096]]\n"
     ]
    }
   ],
   "source": [
    "mu = [2, -3]\n",
    "\n",
    "Sigma = [[1, 0], [0, 10]]  # diagonal covariance\n",
    "\n",
    "X= np.random.multivariate_normal(mu, Sigma, 500)\n",
    "\n",
    "print(X.shape)\n",
    "\n",
    "print([ sum(X[:,1])/500 , sum(X[:,0])/500])\n",
    "\n",
    "#even better\n",
    "\n",
    "barX=np.mean(X, axis=0)\n",
    "\n",
    "print(barX)\n",
    "\n",
    "print(np.cov(np.transpose(X)))\n",
    "\n",
    "S=np.cov(np.transpose(X))\n"
   ]
  },
  {
   "cell_type": "code",
   "execution_count": 4,
   "metadata": {},
   "outputs": [
    {
     "name": "stdout",
     "output_type": "stream",
     "text": [
      "(500,)\n",
      "-1986.920866117046\n",
      "-1986.0287118289261\n"
     ]
    }
   ],
   "source": [
    "from scipy.stats import multivariate_normal\n",
    "\n",
    "ll=np.log(multivariate_normal.pdf(X, mean=mu, cov=Sigma))\n",
    "\n",
    "print(ll.shape)\n",
    "\n",
    "y = np.sum(ll)\n",
    "print(y)\n",
    "\n",
    "hatll=np.log(multivariate_normal.pdf(X, mean=barX, cov=S))\n",
    "\n",
    "\n",
    "haty = np.sum(hatll)\n",
    "print(haty)\n"
   ]
  },
  {
   "cell_type": "markdown",
   "metadata": {},
   "source": [
    "## Grader box: \n",
    "\n",
    "In what follows the grader will put the values according the following check list:\n",
    "\n",
    "* 1 Have all commands included in a raw notebook been evaluated? (0 or 0.5pt)\n",
    "* 2 Have all commands been experimented with? (0 or 0.5pt)\n",
    "* 3 Have all experiments been briefly commented? (0 or 0.5pt)\n",
    "* 4 Have all tasks been attempted? (0, 0.5, or 1pt)\n",
    "* 5 How many of the tasks have been completed? (0, 0.5, or 1pt)\n",
    "* 6 How many of the tasks (completed or not) have been commented? (0, 0.5, or 1pt)\n",
    "* 7 Have been the conclusions from performing the tasks clearly stated? (0, 0.5, or 1pt)\n",
    "* 8 Have been the overall organization of the submitted Lab notebook been neat and easy to follow by the grader? (0, or 0.5pt) \n"
   ]
  },
  {
   "cell_type": "markdown",
   "metadata": {},
   "source": [
    "#### 1 Have all commands included in a raw notebook been evaluated? (0 or 0.5pt)"
   ]
  },
  {
   "cell_type": "code",
   "execution_count": null,
   "metadata": {},
   "outputs": [],
   "source": [
    "Gr1=0"
   ]
  },
  {
   "cell_type": "markdown",
   "metadata": {},
   "source": [
    "#### Grader's comment (if desired): \n",
    "N/A"
   ]
  },
  {
   "cell_type": "markdown",
   "metadata": {},
   "source": [
    "#### 2 Have all commands been experimented with? (0 or 0.5pt)"
   ]
  },
  {
   "cell_type": "code",
   "execution_count": null,
   "metadata": {},
   "outputs": [],
   "source": [
    "Gr2=0"
   ]
  },
  {
   "cell_type": "markdown",
   "metadata": {},
   "source": [
    "#### Grader's comment (if desired): \n",
    "N/A"
   ]
  },
  {
   "cell_type": "markdown",
   "metadata": {},
   "source": [
    "#### 3 Have all experiments been briefly commented? (0 or 0.5pt)"
   ]
  },
  {
   "cell_type": "code",
   "execution_count": null,
   "metadata": {},
   "outputs": [],
   "source": [
    "Gr3=0"
   ]
  },
  {
   "cell_type": "markdown",
   "metadata": {},
   "source": [
    "#### Grader's comment (if desired): \n",
    "N/A"
   ]
  },
  {
   "cell_type": "markdown",
   "metadata": {},
   "source": [
    "#### 4 Have all tasks been attempted? (0, 0.5, or 1pt)"
   ]
  },
  {
   "cell_type": "code",
   "execution_count": null,
   "metadata": {},
   "outputs": [],
   "source": [
    "Gr4=0"
   ]
  },
  {
   "cell_type": "markdown",
   "metadata": {},
   "source": [
    "#### Grader's comment (if desired): \n",
    "N/A"
   ]
  },
  {
   "cell_type": "markdown",
   "metadata": {},
   "source": [
    "#### 5 How many of the tasks have been completed? (0, 0.5, or 1pt)"
   ]
  },
  {
   "cell_type": "code",
   "execution_count": null,
   "metadata": {},
   "outputs": [],
   "source": [
    "Gr5=0"
   ]
  },
  {
   "cell_type": "markdown",
   "metadata": {},
   "source": [
    "#### Grader's comment (if desired): \n",
    "N/A"
   ]
  },
  {
   "cell_type": "markdown",
   "metadata": {},
   "source": [
    "#### 6 How many of the tasks (completed or not) have been commented? (0, 0.5, or 1pt)"
   ]
  },
  {
   "cell_type": "code",
   "execution_count": null,
   "metadata": {},
   "outputs": [],
   "source": [
    "Gr6=0"
   ]
  },
  {
   "cell_type": "markdown",
   "metadata": {},
   "source": [
    "#### Grader's comment (if desired): \n",
    "N/A"
   ]
  },
  {
   "cell_type": "markdown",
   "metadata": {},
   "source": [
    "#### 7 Have been the conclusions from performing the tasks clearly stated? (0, 0.5, or 1pt)"
   ]
  },
  {
   "cell_type": "code",
   "execution_count": null,
   "metadata": {},
   "outputs": [],
   "source": [
    "Gr7=0"
   ]
  },
  {
   "cell_type": "markdown",
   "metadata": {},
   "source": [
    "#### Grader's comment (if desired): \n",
    "N/A"
   ]
  },
  {
   "cell_type": "markdown",
   "metadata": {},
   "source": [
    "#### 8 Have been the overall organization of the submitted Lab notebook been neat and easy to follow by the grader? (0, or 0.5pt)"
   ]
  },
  {
   "cell_type": "code",
   "execution_count": null,
   "metadata": {},
   "outputs": [],
   "source": [
    "Gr8=0"
   ]
  },
  {
   "cell_type": "markdown",
   "metadata": {},
   "source": [
    "#### Grader's comment (if desired): \n",
    "N/A"
   ]
  },
  {
   "cell_type": "markdown",
   "metadata": {},
   "source": [
    "### Overall score"
   ]
  },
  {
   "cell_type": "code",
   "execution_count": null,
   "metadata": {},
   "outputs": [],
   "source": [
    "Gr1+Gr2+Gr3+Gr4+Gr5+Gr6+Gr7+Gr8"
   ]
  },
  {
   "cell_type": "markdown",
   "metadata": {},
   "source": [
    "### Score and grader's comment (if desired): \n",
    "N/A"
   ]
  },
  {
   "cell_type": "code",
   "execution_count": null,
   "metadata": {},
   "outputs": [],
   "source": []
  }
 ],
 "metadata": {
  "kernelspec": {
   "display_name": "Python 3",
   "language": "python",
   "name": "python3"
  },
  "language_info": {
   "codemirror_mode": {
    "name": "ipython",
    "version": 3
   },
   "file_extension": ".py",
   "mimetype": "text/x-python",
   "name": "python",
   "nbconvert_exporter": "python",
   "pygments_lexer": "ipython3",
   "version": "3.7.3"
  }
 },
 "nbformat": 4,
 "nbformat_minor": 2
}
