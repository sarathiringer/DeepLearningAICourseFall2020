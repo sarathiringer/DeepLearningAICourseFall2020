{
 "cells": [
  {
   "cell_type": "markdown",
   "metadata": {
    "colab_type": "text",
    "id": "r38QRuzKqkQy"
   },
   "source": [
    "# Deep learning and AI methods\n",
    "## Session 5: Analyzing image data using convolution neural networks\n",
    "* Instructor: [Krzysztof Podgorski](https://krys.neocities.org),  [Statistics, Lund University, LUSEM](https://www.stat.lu.se/)\n",
    "* For more information visit the [CANVAS class website](https://canvas.education.lu.se/courses/1712).\n",
    "\n",
    "In this session you are ask to run the following Notebook in which convolution neural networks are used to analyse previously studied data set.\n",
    "\n",
    "### Main Task:\n",
    "\n",
    "Run the following code. Then explore on your own differented features of the presented tools. At the end of the notebook summarize what did you explore and draw some conclusions from your finding. This summary should not be longer than one page equivalent of a regular text. "
   ]
  },
  {
   "cell_type": "markdown",
   "metadata": {
    "colab_type": "text",
    "id": "jYysdyb-CaWM"
   },
   "source": [
    "# Image Classification with Convolutional Neural Networks"
   ]
  },
  {
   "cell_type": "markdown",
   "metadata": {
    "colab_type": "text",
    "id": "FbVhjPpzn6BM"
   },
   "source": [
    "In this tutorial, we'll build and train a neural network to classify images of clothing, like sneakers and shirts.\n",
    "\n",
    "It's okay if you don't understand everything. This is a fast-paced overview of a complete TensorFlow program, with explanations along the way. The goal is to get the general sense of a TensorFlow project, not to catch every detail.\n",
    "\n",
    "This guide uses [tf.keras](https://www.tensorflow.org/guide/keras), a high-level API to build and train models in TensorFlow."
   ]
  },
  {
   "cell_type": "markdown",
   "metadata": {
    "colab_type": "text",
    "id": "H0tMfX2vR0uD"
   },
   "source": [
    "## Install and import dependencies\n",
    "\n",
    "We'll need [TensorFlow Datasets](https://www.tensorflow.org/datasets/), an API that simplifies downloading and accessing datasets, and provides several sample datasets to work with. We're also using a few helper libraries."
   ]
  },
  {
   "cell_type": "code",
   "execution_count": 1,
   "metadata": {
    "colab": {},
    "colab_type": "code",
    "id": "dzLKpmZICaWN"
   },
   "outputs": [],
   "source": [
    "from __future__ import absolute_import, division, print_function, unicode_literals"
   ]
  },
  {
   "cell_type": "code",
   "execution_count": 2,
   "metadata": {
    "colab": {},
    "colab_type": "code",
    "id": "5HDhfftMGc_i"
   },
   "outputs": [],
   "source": [
    "try:\n",
    "  # Use the %tensorflow_version magic if in colab.\n",
    "  %tensorflow_version 2.x\n",
    "except Exception:\n",
    "  pass\n",
    "\n",
    "import tensorflow as tf"
   ]
  },
  {
   "cell_type": "code",
   "execution_count": 3,
   "metadata": {
    "colab": {},
    "colab_type": "code",
    "id": "uusvhUp9Gg37"
   },
   "outputs": [],
   "source": [
    "# Import TensorFlow Datasets\n",
    "import tensorflow_datasets as tfds\n",
    "tfds.disable_progress_bar()\n",
    "\n",
    "# Helper libraries\n",
    "import math\n",
    "import numpy as np\n",
    "import matplotlib.pyplot as plt"
   ]
  },
  {
   "cell_type": "code",
   "execution_count": 4,
   "metadata": {
    "colab": {},
    "colab_type": "code",
    "id": "UXZ44qIaG0Ru"
   },
   "outputs": [],
   "source": [
    "import logging\n",
    "logger = tf.get_logger()\n",
    "logger.setLevel(logging.ERROR)"
   ]
  },
  {
   "cell_type": "code",
   "execution_count": 5,
   "metadata": {},
   "outputs": [],
   "source": [
    "# Just something I need to set up to make fitting work without kernel dying\n",
    "import os\n",
    "os.environ['KMP_DUPLICATE_LIB_OK']='True'"
   ]
  },
  {
   "cell_type": "markdown",
   "metadata": {
    "colab_type": "text",
    "id": "yR0EdgrLCaWR"
   },
   "source": [
    "## Import the Fashion MNIST dataset"
   ]
  },
  {
   "cell_type": "code",
   "execution_count": 6,
   "metadata": {
    "colab": {},
    "colab_type": "code",
    "id": "7MqDQO0KCaWS"
   },
   "outputs": [
    {
     "name": "stderr",
     "output_type": "stream",
     "text": [
      "WARNING:absl:Warning: Setting shuffle_files=True because split=TRAIN and shuffle_files=None. This behavior will be deprecated on 2019-08-06, at which point shuffle_files=False will be the default for all splits.\n"
     ]
    }
   ],
   "source": [
    "dataset, metadata = tfds.load('fashion_mnist', as_supervised=True, with_info=True)\n",
    "train_dataset, test_dataset = dataset['train'], dataset['test']"
   ]
  },
  {
   "cell_type": "code",
   "execution_count": 7,
   "metadata": {
    "colab": {},
    "colab_type": "code",
    "id": "IjnLH5S2CaWx"
   },
   "outputs": [],
   "source": [
    "class_names = ['T-shirt/top', 'Trouser', 'Pullover', 'Dress', 'Coat',\n",
    "               'Sandal',      'Shirt',   'Sneaker',  'Bag',   'Ankle boot']"
   ]
  },
  {
   "cell_type": "markdown",
   "metadata": {
    "colab_type": "text",
    "id": "ES6uQoLKCaWr"
   },
   "source": [
    "## Preprocess the data\n",
    "\n",
    "The value of each pixel in the image data is an integer in the range `[0,255]`. For the model to work properly, these values need to be normalized to the range `[0,1]`. So here we create a normalization function, and then apply it to each image in the test and train datasets."
   ]
  },
  {
   "cell_type": "code",
   "execution_count": 8,
   "metadata": {
    "colab": {},
    "colab_type": "code",
    "id": "nAsH3Zm-76pB"
   },
   "outputs": [],
   "source": [
    "def normalize(images, labels):\n",
    "  images = tf.cast(images, tf.float32)\n",
    "  images /= 255\n",
    "  return images, labels\n",
    "\n",
    "# The map function applies the normalize function to each element in the train\n",
    "# and test datasets\n",
    "train_dataset =  train_dataset.map(normalize)\n",
    "test_dataset  =  test_dataset.map(normalize)\n",
    "\n",
    "# The first time you use the dataset, the images will be loaded from disk\n",
    "# Caching will keep them in memory, making training faster\n",
    "train_dataset =  train_dataset.cache()\n",
    "test_dataset  =  test_dataset.cache()"
   ]
  },
  {
   "cell_type": "markdown",
   "metadata": {
    "colab_type": "text",
    "id": "lIQbEiJGXM-q"
   },
   "source": [
    "### Check if the data are there\n",
    "\n",
    "Let's plot an image to see what it looks like."
   ]
  },
  {
   "cell_type": "code",
   "execution_count": 9,
   "metadata": {
    "colab": {},
    "colab_type": "code",
    "id": "oSzE9l7PjHx0"
   },
   "outputs": [
    {
     "data": {
      "image/png": "[encoded data removed]",
      "text/plain": [
       "<Figure size 432x288 with 2 Axes>"
      ]
     },
     "metadata": {
      "needs_background": "light"
     },
     "output_type": "display_data"
    }
   ],
   "source": [
    "# Take a single image, and remove the color dimension by reshaping\n",
    "for image, label in test_dataset.take(1):\n",
    "  break\n",
    "image = image.numpy().reshape((28,28))\n",
    "\n",
    "# Plot the image - voila a piece of fashion clothing\n",
    "plt.figure()\n",
    "plt.imshow(image, cmap=plt.cm.binary)\n",
    "plt.colorbar()\n",
    "plt.grid(False)\n",
    "plt.show()"
   ]
  },
  {
   "cell_type": "code",
   "execution_count": 10,
   "metadata": {},
   "outputs": [
    {
     "name": "stdout",
     "output_type": "stream",
     "text": [
      "Number of training examples: 60000\n",
      "Number of test examples:     10000\n"
     ]
    }
   ],
   "source": [
    "num_train_examples = metadata.splits['train'].num_examples\n",
    "num_test_examples = metadata.splits['test'].num_examples\n",
    "print(\"Number of training examples: {}\".format(num_train_examples))\n",
    "print(\"Number of test examples:     {}\".format(num_test_examples))"
   ]
  },
  {
   "cell_type": "markdown",
   "metadata": {
    "colab_type": "text",
    "id": "59veuiEZCaW4"
   },
   "source": [
    "## Build the model\n",
    "\n",
    "Building the neural network requires configuring the layers of the model, then compiling the model."
   ]
  },
  {
   "cell_type": "markdown",
   "metadata": {
    "colab_type": "text",
    "id": "Gxg1XGm0eOBy"
   },
   "source": [
    "### Setup the layers\n",
    "\n",
    "The basic building block of a neural network is the *layer*. A layer extracts a representation from the data fed into it. Hopefully, a series of connected layers results in a representation that is meaningful for the problem at hand.\n",
    "\n",
    "Much of deep learning consists of chaining together simple layers. Most layers, like `tf.keras.layers.Dense`, have internal parameters which are adjusted (\"learned\") during training."
   ]
  },
  {
   "cell_type": "code",
   "execution_count": 11,
   "metadata": {
    "colab": {},
    "colab_type": "code",
    "id": "9ODch-OFCaW4"
   },
   "outputs": [],
   "source": [
    "# Setting up a model with 5 hidden layers of different types and nr of nodes\n",
    "model = tf.keras.Sequential([\n",
    "    tf.keras.layers.Conv2D(32, (3,3), padding='same', activation=tf.nn.relu,\n",
    "                           input_shape=(28, 28, 1)),\n",
    "    tf.keras.layers.MaxPooling2D((2, 2), strides=2),\n",
    "    tf.keras.layers.Conv2D(64, (3,3), padding='same', activation=tf.nn.relu),\n",
    "    tf.keras.layers.MaxPooling2D((2, 2), strides=2),\n",
    "    tf.keras.layers.Flatten(),\n",
    "    tf.keras.layers.Dense(128, activation=tf.nn.relu),\n",
    "    tf.keras.layers.Dense(10,  activation=tf.nn.softmax)\n",
    "])"
   ]
  },
  {
   "cell_type": "markdown",
   "metadata": {
    "colab_type": "text",
    "id": "gut8A_7rCaW6"
   },
   "source": [
    "This network layers are:\n",
    "\n",
    "* **\"convolutions\"** `tf.keras.layers.Conv2D and MaxPooling2D`— Network start with two pairs of Conv/MaxPool. The first layer is a Conv2D filters (3,3) being applied to the input image, retaining the original image size by using padding, and creating 32 output (convoluted) images (so this layer creates 32 convoluted images of the same size as input). After that, the 32 outputs are reduced in size using a MaxPooling2D (2,2) with a stride of 2. The next Conv2D also has a (3,3) kernel, takes the 32 images as input and creates 64 outputs which are again reduced in size by a MaxPooling2D layer. So far in the course, we have described what a Convolution does, but we haven't yet covered how you chain multiples of these together. We will get back to this in lesson 4 when we use color images. At this point, it's enough if you understand the kind of operation a convolutional filter performs\n",
    "\n",
    "* **output** `tf.keras.layers.Dense` — A 128-neuron, followed by 10-node *softmax* layer. Each node represents a class of clothing. As in the previous layer, the final layer takes input from the 128 nodes in the layer before it, and outputs a value in the range `[0, 1]`, representing the probability that the image belongs to that class. The sum of all 10 node values is 1.\n",
    "\n",
    "\n",
    "### Compile the model\n",
    "\n",
    "Before the model is ready for training, it needs a few more settings. These are added during the model's *compile* step:\n",
    "\n",
    "\n",
    "* *Loss function* — An algorithm for measuring how far the model's outputs are from the desired output. The goal of training is this measures loss.\n",
    "* *Optimizer* —An algorithm for adjusting the inner parameters of the model in order to minimize loss.\n",
    "* *Metrics* —Used to monitor the training and testing steps. The following example uses *accuracy*, the fraction of the images that are correctly classified."
   ]
  },
  {
   "cell_type": "code",
   "execution_count": 12,
   "metadata": {
    "colab": {},
    "colab_type": "code",
    "id": "Lhan11blCaW7"
   },
   "outputs": [],
   "source": [
    "# Setting up the same compiler as we've used before\n",
    "model.compile(optimizer='adam',\n",
    "              loss='sparse_categorical_crossentropy',\n",
    "              metrics=['accuracy'])"
   ]
  },
  {
   "cell_type": "markdown",
   "metadata": {
    "colab_type": "text",
    "id": "qKF6uW-BCaW-"
   },
   "source": [
    "## Train the model\n",
    "\n",
    "First, we define the iteration behavior for the train dataset:\n",
    "1. Repeat forever by specifying `dataset.repeat()` (the `epochs` parameter described below limits how long we perform training).\n",
    "2. The `dataset.shuffle(60000)` randomizes the order so our model cannot learn anything from the order of the examples.\n",
    "3. And `dataset.batch(32)` tells `model.fit` to use batches of 32 images and labels when updating the model variables.\n",
    "\n",
    "Training is performed by calling the `model.fit` method:\n",
    "1. Feed the training data to the model using `train_dataset`.\n",
    "2. The model learns to associate images and labels.\n",
    "3. The `epochs=5` parameter limits training to 5 full iterations of the training dataset, so a total of 5 * 60000 = 300000 examples.\n",
    "\n",
    "(Don't worry about `steps_per_epoch`, the requirement to have this flag will soon be removed.)"
   ]
  },
  {
   "cell_type": "code",
   "execution_count": 13,
   "metadata": {
    "colab": {},
    "colab_type": "code",
    "id": "o_Dp8971McQ1"
   },
   "outputs": [],
   "source": [
    "BATCH_SIZE = 32\n",
    "train_dataset = train_dataset.repeat().shuffle(num_train_examples).batch(BATCH_SIZE)\n",
    "test_dataset = test_dataset.batch(BATCH_SIZE)"
   ]
  },
  {
   "cell_type": "code",
   "execution_count": 14,
   "metadata": {},
   "outputs": [],
   "source": [
    "from tensorflow import keras\n",
    "\n",
    "# Defining the PrintDot class in order to make the output more compact\n",
    "# while still being able to view the fitting process\n",
    "class PrintDot(keras.callbacks.Callback):\n",
    "  def on_epoch_end(self, epoch, logs):\n",
    "    if epoch % 100 == 0: print('')\n",
    "    print('.', end='')"
   ]
  },
  {
   "cell_type": "code",
   "execution_count": 15,
   "metadata": {
    "colab": {},
    "colab_type": "code",
    "id": "xvwvpA64CaW_"
   },
   "outputs": [
    {
     "name": "stdout",
     "output_type": "stream",
     "text": [
      "\n",
      ".........."
     ]
    },
    {
     "data": {
      "text/plain": [
       "<tensorflow.python.keras.callbacks.History at 0x7f8db5bdd3d0>"
      ]
     },
     "execution_count": 15,
     "metadata": {},
     "output_type": "execute_result"
    }
   ],
   "source": [
    "model.fit(train_dataset,\n",
    "          epochs=10,\n",
    "          steps_per_epoch=math.ceil(num_train_examples/BATCH_SIZE),\n",
    "          verbose=0,\n",
    "          callbacks=[PrintDot()])"
   ]
  },
  {
   "cell_type": "markdown",
   "metadata": {
    "colab_type": "text",
    "id": "W3ZVOhugCaXA"
   },
   "source": [
    "As the model trains, the loss and accuracy metrics are displayed. This model reaches an accuracy of about 0.97 (or 97%) on the training data."
   ]
  },
  {
   "cell_type": "markdown",
   "metadata": {},
   "source": [
    "*Comment*: Since I choose not to have the training process displayed, I can't actually see the train accuracy. Instead I should have saved the output from the fitting process into a history object, like we did in lab 4. I'll keep this in mind for the coming tasks."
   ]
  },
  {
   "cell_type": "markdown",
   "metadata": {
    "colab_type": "text",
    "id": "oEw4bZgGCaXB"
   },
   "source": [
    "## Evaluate accuracy\n",
    "\n",
    "Next, compare how the model performs on the test dataset. Use all examples we have in the test dataset to assess accuracy."
   ]
  },
  {
   "cell_type": "code",
   "execution_count": 16,
   "metadata": {
    "colab": {},
    "colab_type": "code",
    "id": "VflXLEeECaXC"
   },
   "outputs": [
    {
     "name": "stdout",
     "output_type": "stream",
     "text": [
      "313/313 [==============================] - 20s 64ms/step - loss: 0.2907 - accuracy: 0.9177\n",
      "Accuracy on test dataset: 0.9177\n"
     ]
    }
   ],
   "source": [
    "test_loss, test_accuracy = model.evaluate(test_dataset, steps=math.ceil(num_test_examples/32))\n",
    "print('Accuracy on test dataset:', test_accuracy)"
   ]
  },
  {
   "cell_type": "markdown",
   "metadata": {
    "colab_type": "text",
    "id": "yWfgsmVXCaXG"
   },
   "source": [
    "As it turns out, the accuracy on the test dataset is smaller than the accuracy on the training dataset. This is completely normal, since the model was trained on the `train_dataset`. When the model sees images it has never seen during training, (that is, from the `test_dataset`), we can expect performance to go down. "
   ]
  },
  {
   "cell_type": "markdown",
   "metadata": {
    "colab_type": "text",
    "id": "-KtnHECKZni_"
   },
   "source": [
    "## Task 1:\n",
    "\n",
    "Experiment with different models and see how the accuracy results differ. In particular change the following parameters:\n",
    "*   Set training epochs set to 1\n",
    "*   Number of neurons in the Dense layer following the Flatten one. For example, go really low (e.g. 10) in ranges up to 512 and see how accuracy changes\n",
    "*   Add additional Dense layers between the Flatten and the final Dense(10, activation=tf.nn.softmax), experiment with different units in these layers\n",
    "*   Don't normalize the pixel values, and see the effect that has\n",
    "\n",
    "\n",
    "Remember to enable GPU to make everything run faster (Runtime -> Change runtime type -> Hardware accelerator -> GPU).\n",
    "Also, if you run into trouble, simply reset the entire environment and start from the beginning:\n",
    "*   Edit -> Clear all outputs\n",
    "*   Runtime -> Reset all runtimes"
   ]
  },
  {
   "cell_type": "markdown",
   "metadata": {
    "colab_type": "text",
    "id": "DvogTtak_62F"
   },
   "source": [
    " Adjusting the epochs value for the CNN"
   ]
  },
  {
   "cell_type": "markdown",
   "metadata": {
    "colab_type": "text",
    "id": "HqVQGB1LiqRr"
   },
   "source": [
    "I create a new model with the same model architecture as above, as otherwise Python will remember the training. Thus, one could not get a proper insight on how adjusting the epochs value will affect the model performance."
   ]
  },
  {
   "cell_type": "markdown",
   "metadata": {},
   "source": [
    "#### Solution\n",
    "So what I'm going to do now is experiment a little bit with some different parts of the neural networks. I'll mark the different experiments with new headlines so as to make it easier to follow what I'm doing. Some of it is code that was already included in this notebook, while some of it will be my own."
   ]
  },
  {
   "cell_type": "markdown",
   "metadata": {},
   "source": [
    "#### Changing the number of epochs to 1"
   ]
  },
  {
   "cell_type": "code",
   "execution_count": 17,
   "metadata": {
    "colab": {},
    "colab_type": "code",
    "id": "5czE43FOjDIa"
   },
   "outputs": [],
   "source": [
    "# Specifying a new model to see what happens when we train with 1 epoch\n",
    "model_new = tf.keras.Sequential([\n",
    "    tf.keras.layers.Conv2D(32, (3,3), padding='same', activation=tf.nn.relu,\n",
    "                           input_shape=(28, 28, 1)),\n",
    "    tf.keras.layers.MaxPooling2D((2, 2), strides=2),\n",
    "    tf.keras.layers.Conv2D(64, (3,3), padding='same', activation=tf.nn.relu),\n",
    "    tf.keras.layers.MaxPooling2D((2, 2), strides=2),\n",
    "    tf.keras.layers.Flatten(),\n",
    "    tf.keras.layers.Dense(128, activation=tf.nn.relu),\n",
    "    tf.keras.layers.Dense(10,  activation=tf.nn.softmax)\n",
    "])\n",
    "model_new.compile(optimizer='adam',\n",
    "              loss='sparse_categorical_crossentropy',\n",
    "              metrics=['accuracy'])"
   ]
  },
  {
   "cell_type": "code",
   "execution_count": 19,
   "metadata": {},
   "outputs": [
    {
     "name": "stdout",
     "output_type": "stream",
     "text": [
      "\n",
      ".\n",
      "Accuracy: [0.90595]\n"
     ]
    }
   ],
   "source": [
    "# Fitting the model with one epoch\n",
    "history1 = model_new.fit(train_dataset,\n",
    "                    epochs=1,\n",
    "                    steps_per_epoch=math.ceil(num_train_examples/BATCH_SIZE),\n",
    "                    verbose=0,\n",
    "                    callbacks=[PrintDot()])\n",
    "print('\\nAccuracy:', history1.history['accuracy'])"
   ]
  },
  {
   "cell_type": "code",
   "execution_count": 20,
   "metadata": {},
   "outputs": [
    {
     "name": "stdout",
     "output_type": "stream",
     "text": [
      "313/313 [==============================] - 7s 23ms/step - loss: 0.2586 - accuracy: 0.9068\n",
      "Accuracy on test dataset: 0.9068\n"
     ]
    }
   ],
   "source": [
    "test_loss1, test_accuracy1 = model_new.evaluate(test_dataset, steps=math.ceil(num_test_examples/32))\n",
    "print('Accuracy on test dataset:', test_accuracy1)"
   ]
  },
  {
   "cell_type": "markdown",
   "metadata": {},
   "source": [
    "*Comment*: The train accuracy with just one epoch is 85,78%, which is lower than before (97%). That makes sense, since the network basically wasn't given the chance to adjust it's predictions and get better at the task. It's still really high though!"
   ]
  },
  {
   "cell_type": "markdown",
   "metadata": {},
   "source": [
    "#### Number of neurons in the last hidden layer\n",
    "Here I'll try and see what happens when we adjust the number of nodes in the Dense layer that comes after the Faltten-layer in the original architecture. I'll use 5 epochs for training to save time since the models take quite long to run on my computer."
   ]
  },
  {
   "cell_type": "code",
   "execution_count": 21,
   "metadata": {},
   "outputs": [
    {
     "name": "stdout",
     "output_type": "stream",
     "text": [
      "\n",
      "313/313 [==============================] - 7s 24ms/step - loss: 0.2743 - accuracy: 0.9046\n",
      "\n",
      "Train accuracy: 0.91678333\n",
      "Test accuracy: 0.9046\n"
     ]
    }
   ],
   "source": [
    "# Training a model with only 10 nodes in the last hidden layer\n",
    "\n",
    "# Define model\n",
    "model10 = tf.keras.Sequential([\n",
    "    tf.keras.layers.Conv2D(32, (3,3), padding='same', activation=tf.nn.relu,\n",
    "                           input_shape=(28, 28, 1)),\n",
    "    tf.keras.layers.MaxPooling2D((2, 2), strides=2),\n",
    "    tf.keras.layers.Conv2D(64, (3,3), padding='same', activation=tf.nn.relu),\n",
    "    tf.keras.layers.MaxPooling2D((2, 2), strides=2),\n",
    "    tf.keras.layers.Flatten(),\n",
    "    tf.keras.layers.Dense(10, activation=tf.nn.relu),\n",
    "    tf.keras.layers.Dense(10,  activation=tf.nn.softmax)\n",
    "])\n",
    "\n",
    "# Compile model\n",
    "model10.compile(optimizer='adam',\n",
    "              loss='sparse_categorical_crossentropy',\n",
    "              metrics=['accuracy'])\n",
    "\n",
    "# Fit model\n",
    "history10 = model10.fit(train_dataset,\n",
    "                    epochs=5,\n",
    "                    steps_per_epoch=math.ceil(num_train_examples/BATCH_SIZE),\n",
    "                    verbose=0,\n",
    "                    callbacks=[PrintDot()])\n",
    "\n",
    "# Test model\n",
    "test_loss10, test_accuracy10 = model10.evaluate(test_dataset, steps=math.ceil(num_test_examples/32))\n",
    "\n",
    "# Print accuracy\n",
    "print('\\nTrain accuracy:', history10.history['accuracy'][np.max(history10.epoch)])\n",
    "print('Test accuracy:', test_accuracy10)"
   ]
  },
  {
   "cell_type": "code",
   "execution_count": 22,
   "metadata": {},
   "outputs": [
    {
     "name": "stdout",
     "output_type": "stream",
     "text": [
      "\n",
      "313/313 [==============================] - 6s 21ms/step - loss: 0.2610 - accuracy: 0.9132\n",
      "\n",
      "Train accuracy: 0.9467667\n",
      "Test accuracy: 0.9132\n"
     ]
    }
   ],
   "source": [
    "# Training a model with 220 nodes in the last hidden layer\n",
    "\n",
    "# Define model\n",
    "model220 = tf.keras.Sequential([\n",
    "    tf.keras.layers.Conv2D(32, (3,3), padding='same', activation=tf.nn.relu,\n",
    "                           input_shape=(28, 28, 1)),\n",
    "    tf.keras.layers.MaxPooling2D((2, 2), strides=2),\n",
    "    tf.keras.layers.Conv2D(64, (3,3), padding='same', activation=tf.nn.relu),\n",
    "    tf.keras.layers.MaxPooling2D((2, 2), strides=2),\n",
    "    tf.keras.layers.Flatten(),\n",
    "    tf.keras.layers.Dense(220, activation=tf.nn.relu),\n",
    "    tf.keras.layers.Dense(10,  activation=tf.nn.softmax)\n",
    "])\n",
    "\n",
    "# Compile model\n",
    "model220.compile(optimizer='adam',\n",
    "              loss='sparse_categorical_crossentropy',\n",
    "              metrics=['accuracy'])\n",
    "\n",
    "# Fit model\n",
    "history220 = model220.fit(train_dataset,\n",
    "                    epochs=5,\n",
    "                    steps_per_epoch=math.ceil(num_train_examples/BATCH_SIZE),\n",
    "                    verbose=0,\n",
    "                    callbacks=[PrintDot()])\n",
    "\n",
    "# Test model\n",
    "test_loss220, test_accuracy220 = model220.evaluate(test_dataset, steps=math.ceil(num_test_examples/32))\n",
    "\n",
    "# Print accuracy\n",
    "print('\\nTrain accuracy:', history220.history['accuracy'][np.max(history220.epoch)])\n",
    "print('Test accuracy:', test_accuracy220)"
   ]
  },
  {
   "cell_type": "code",
   "execution_count": 23,
   "metadata": {},
   "outputs": [
    {
     "name": "stdout",
     "output_type": "stream",
     "text": [
      "\n",
      "313/313 [==============================] - 8s 27ms/step - loss: 0.2872 - accuracy: 0.8967\n",
      "\n",
      "Train accuracy: 0.91915\n",
      "Test accuracy: 0.8967\n"
     ]
    }
   ],
   "source": [
    "# Training a model with 512 nodes in the last hidden layer\n",
    "\n",
    "# Define model\n",
    "model512 = tf.keras.Sequential([\n",
    "    tf.keras.layers.Conv2D(32, (3,3), padding='same', activation=tf.nn.relu,\n",
    "                           input_shape=(28, 28, 1)),\n",
    "    tf.keras.layers.MaxPooling2D((2, 2), strides=2),\n",
    "    tf.keras.layers.Conv2D(64, (3,3), padding='same', activation=tf.nn.relu),\n",
    "    tf.keras.layers.MaxPooling2D((2, 2), strides=2),\n",
    "    tf.keras.layers.Flatten(),\n",
    "    tf.keras.layers.Dense(10, activation=tf.nn.relu),\n",
    "    tf.keras.layers.Dense(10,  activation=tf.nn.softmax)\n",
    "])\n",
    "\n",
    "# Compile model\n",
    "model512.compile(optimizer='adam',\n",
    "              loss='sparse_categorical_crossentropy',\n",
    "              metrics=['accuracy'])\n",
    "\n",
    "# Fit model\n",
    "history512 = model512.fit(train_dataset,\n",
    "                    epochs=5,\n",
    "                    steps_per_epoch=math.ceil(num_train_examples/BATCH_SIZE),\n",
    "                    verbose=0,\n",
    "                    callbacks=[PrintDot()])\n",
    "\n",
    "# Test model\n",
    "test_loss512, test_accuracy512 = model512.evaluate(test_dataset, steps=math.ceil(num_test_examples/32))\n",
    "\n",
    "# Print accuracy\n",
    "print('\\nTrain accuracy:', history512.history['accuracy'][np.max(history512.epoch)])\n",
    "print('Test accuracy:', test_accuracy512)"
   ]
  },
  {
   "cell_type": "code",
   "execution_count": 24,
   "metadata": {},
   "outputs": [
    {
     "data": {
      "text/plain": [
       "<BarContainer object of 3 artists>"
      ]
     },
     "execution_count": 24,
     "metadata": {},
     "output_type": "execute_result"
    },
    {
     "data": {
      "image/png": "[encoded data removed]",
      "text/plain": [
       "<Figure size 432x288 with 1 Axes>"
      ]
     },
     "metadata": {
      "needs_background": "light"
     },
     "output_type": "display_data"
    }
   ],
   "source": [
    "# Plotting the accuracy rates for comparison\n",
    "y = [test_accuracy10, test_accuracy220, test_accuracy512]\n",
    "x = ['10 nodes', '220 nodes', '512 nodes']\n",
    "plt.bar(x, y)"
   ]
  },
  {
   "cell_type": "markdown",
   "metadata": {},
   "source": [
    "*Comment*: As we can see in the figure above, adjusting the node size doesn't really make much of a difference. More nodes does not mean higher accuracy for this task, which we can see if we look at the accuracy of the network with 512 nodes."
   ]
  },
  {
   "cell_type": "markdown",
   "metadata": {},
   "source": [
    "*Note*: Adding additional dense layers and trying on unnormalized data seems to be placed under the next task even though it was stated in task 1. So I will do them there, together with adjusting and experimenting with more models. In the end I will try to compare all of them. "
   ]
  },
  {
   "cell_type": "markdown",
   "metadata": {},
   "source": [
    "## Task 2:\n",
    "\n",
    "Experiment with at least two more models that involve the convolution in one layer. Make the fit of your models and compare the accuracy betweem the model. Make predictions and explore the models. Illustrate your findings and comment. Comapare with the results to other methods explored in the previous labs on this data set. DO NOT experiment with cross-validation as it can be computationally too expensive for the convolution considered models. "
   ]
  },
  {
   "cell_type": "markdown",
   "metadata": {
    "colab_type": "text",
    "id": "yVVOzaoYAH8K"
   },
   "source": [
    "#### Adjusting the architecture of the CNN"
   ]
  },
  {
   "cell_type": "code",
   "execution_count": 25,
   "metadata": {
    "colab": {},
    "colab_type": "code",
    "id": "vS59p1CdBul7"
   },
   "outputs": [
    {
     "name": "stdout",
     "output_type": "stream",
     "text": [
      "\n",
      "313/313 [==============================] - 6s 18ms/step - loss: 0.2430 - accuracy: 0.9154\n",
      "\n",
      "Train accuracy: 0.93541664\n",
      "Test accuracy: 0.9154\n"
     ]
    }
   ],
   "source": [
    "# Set up different model architectures of the CNN\n",
    "# Model 2: 50 Units in the hidden layer\n",
    "\n",
    "modelarch2 = tf.keras.Sequential([\n",
    "    tf.keras.layers.Conv2D(32, (3,3), padding='same', activation=tf.nn.relu,\n",
    "                           input_shape=(28, 28, 1)),\n",
    "    tf.keras.layers.MaxPooling2D((2, 2), strides=2),\n",
    "    tf.keras.layers.Conv2D(64, (3,3), padding='same', activation=tf.nn.relu),\n",
    "    tf.keras.layers.MaxPooling2D((2, 2), strides=2),\n",
    "    tf.keras.layers.Flatten(),\n",
    "    tf.keras.layers.Dense(50, activation=tf.nn.relu),\n",
    "    tf.keras.layers.Dense(10,  activation=tf.nn.softmax)\n",
    "])\n",
    "\n",
    "modelarch2.compile(optimizer='adam',\n",
    "              loss='sparse_categorical_crossentropy',\n",
    "              metrics=['accuracy'])\n",
    "\n",
    "historyarch2 = modelarch2.fit(train_dataset,\n",
    "                    epochs=5,\n",
    "                    steps_per_epoch=math.ceil(num_train_examples/BATCH_SIZE),\n",
    "                    verbose=0,\n",
    "                    callbacks=[PrintDot()])\n",
    "\n",
    "test_lossarch2, test_accuracyarch2 = modelarch2.evaluate(test_dataset, steps=math.ceil(num_test_examples/32))\n",
    "\n",
    "# Print accuracy\n",
    "print('\\nTrain accuracy:', historyarch2.history['accuracy'][np.max(historyarch2.epoch)])\n",
    "print('Test accuracy:', test_accuracyarch2)"
   ]
  },
  {
   "cell_type": "code",
   "execution_count": 26,
   "metadata": {},
   "outputs": [
    {
     "name": "stdout",
     "output_type": "stream",
     "text": [
      "\n",
      "313/313 [==============================] - 6s 20ms/step - loss: 0.2534 - accuracy: 0.9096\n",
      "\n",
      "Train accuracy: 0.92135\n",
      "Test accuracy: 0.9096\n"
     ]
    }
   ],
   "source": [
    "# Model with one more pooling and Conv2D layer\n",
    "\n",
    "modelarch3 = tf.keras.Sequential([\n",
    "    tf.keras.layers.Conv2D(32, (3,3), padding='same', activation=tf.nn.relu,\n",
    "                           input_shape=(28, 28, 1)),\n",
    "    tf.keras.layers.MaxPooling2D((2, 2), strides=2),\n",
    "    tf.keras.layers.Conv2D(64, (3,3), padding='same', activation=tf.nn.relu),\n",
    "    tf.keras.layers.MaxPooling2D((2, 2), strides=2),\n",
    "    tf.keras.layers.Conv2D(32, (3,3), padding='same', activation=tf.nn.relu),\n",
    "    tf.keras.layers.MaxPooling2D((2, 2), strides=2),\n",
    "    tf.keras.layers.Flatten(),\n",
    "    tf.keras.layers.Dense(50, activation=tf.nn.relu),\n",
    "    tf.keras.layers.Dense(10,  activation=tf.nn.softmax)\n",
    "])\n",
    "\n",
    "modelarch3.compile(optimizer='adam',\n",
    "              loss='sparse_categorical_crossentropy',\n",
    "              metrics=['accuracy'])\n",
    "\n",
    "historyarch3 = modelarch3.fit(train_dataset,\n",
    "                    epochs=5,\n",
    "                    steps_per_epoch=math.ceil(num_train_examples/BATCH_SIZE),\n",
    "                    verbose=0,\n",
    "                    callbacks=[PrintDot()])\n",
    "\n",
    "test_lossarch3, test_accuracyarch3 = modelarch3.evaluate(test_dataset, steps=math.ceil(num_test_examples/32))\n",
    "\n",
    "# Print accuracy\n",
    "print('\\nTrain accuracy:', historyarch3.history['accuracy'][np.max(historyarch3.epoch)])\n",
    "print('Test accuracy:', test_accuracyarch3)"
   ]
  },
  {
   "cell_type": "code",
   "execution_count": 27,
   "metadata": {},
   "outputs": [
    {
     "name": "stdout",
     "output_type": "stream",
     "text": [
      "\n",
      "313/313 [==============================] - 4s 13ms/step - loss: 0.2702 - accuracy: 0.9072\n",
      "\n",
      "Train accuracy: 0.92838335\n",
      "Test accuracy: 0.9072\n"
     ]
    }
   ],
   "source": [
    "# Model with one less pooling and Conv2D layer\n",
    "\n",
    "modelarch4 = tf.keras.Sequential([\n",
    "    tf.keras.layers.Conv2D(32, (3,3), padding='same', activation=tf.nn.relu,\n",
    "                           input_shape=(28, 28, 1)),\n",
    "    tf.keras.layers.MaxPooling2D((2, 2), strides=2),\n",
    "    tf.keras.layers.Flatten(),\n",
    "    tf.keras.layers.Dense(50, activation=tf.nn.relu),\n",
    "    tf.keras.layers.Dense(10,  activation=tf.nn.softmax)\n",
    "])\n",
    "\n",
    "modelarch4.compile(optimizer='adam',\n",
    "              loss='sparse_categorical_crossentropy',\n",
    "              metrics=['accuracy'])\n",
    "\n",
    "historyarch4 = modelarch4.fit(train_dataset,\n",
    "                    epochs=5,\n",
    "                    steps_per_epoch=math.ceil(num_train_examples/BATCH_SIZE),\n",
    "                    verbose=0,\n",
    "                    callbacks=[PrintDot()])\n",
    "\n",
    "test_lossarch4, test_accuracyarch4 = modelarch4.evaluate(test_dataset, steps=math.ceil(num_test_examples/32))\n",
    "\n",
    "# Print accuracy\n",
    "print('\\nTrain accuracy:', historyarch4.history['accuracy'][np.max(historyarch4.epoch)])\n",
    "print('Test accuracy:', test_accuracyarch4)"
   ]
  },
  {
   "cell_type": "code",
   "execution_count": 28,
   "metadata": {},
   "outputs": [
    {
     "data": {
      "text/plain": [
       "<BarContainer object of 3 artists>"
      ]
     },
     "execution_count": 28,
     "metadata": {},
     "output_type": "execute_result"
    },
    {
     "data": {
      "image/png": "[encoded data removed]",
      "text/plain": [
       "<Figure size 432x288 with 1 Axes>"
      ]
     },
     "metadata": {
      "needs_background": "light"
     },
     "output_type": "display_data"
    }
   ],
   "source": [
    "# Plotting the accuracy rates for comparison\n",
    "y = [test_accuracyarch4, test_accuracyarch2, test_accuracyarch3]\n",
    "x = ['1 Conv2D\\n1 Pooling', '2 Conv2D\\n2 Pooling', '3 Conv2D\\n3 Pooling']\n",
    "plt.bar(x, y)"
   ]
  },
  {
   "cell_type": "markdown",
   "metadata": {},
   "source": [
    "*Comment*: Again we can see that more complexity doeasn't really contribute to higher accuracy. Compared to the setup in the first model, we can even take away one set of Conv2D and Pooling layers and still achieve the same test accuracy."
   ]
  },
  {
   "cell_type": "markdown",
   "metadata": {
    "colab_type": "text",
    "id": "-fB1icMWRAwl"
   },
   "source": [
    "#### Adding additional dense layers"
   ]
  },
  {
   "cell_type": "code",
   "execution_count": 29,
   "metadata": {
    "colab": {},
    "colab_type": "code",
    "id": "XlnRl0CARKYL"
   },
   "outputs": [
    {
     "name": "stdout",
     "output_type": "stream",
     "text": [
      "\n",
      "313/313 [==============================] - 6s 18ms/step - loss: 0.2382 - accuracy: 0.9132\n",
      "\n",
      "Train accuracy: 0.9332167\n",
      "Test accuracy: 0.9132\n"
     ]
    }
   ],
   "source": [
    "# 2 hidden layers\n",
    "modelA = tf.keras.Sequential([\n",
    "    tf.keras.layers.Conv2D(32, (3,3), padding='same', activation=tf.nn.relu,\n",
    "                           input_shape=(28, 28, 1)),\n",
    "    tf.keras.layers.MaxPooling2D((2, 2), strides=2),\n",
    "    tf.keras.layers.Conv2D(64, (3,3), padding='same', activation=tf.nn.relu),\n",
    "    tf.keras.layers.MaxPooling2D((2, 2), strides=2),\n",
    "    tf.keras.layers.Flatten(),\n",
    "    tf.keras.layers.Dense(64, activation=tf.nn.relu),\n",
    "    tf.keras.layers.Dense(64, activation=tf.nn.relu),\n",
    "    tf.keras.layers.Dense(10,  activation=tf.nn.softmax)\n",
    "])\n",
    "\n",
    "modelA.compile(optimizer='adam',\n",
    "              loss='sparse_categorical_crossentropy',\n",
    "              metrics=['accuracy'])\n",
    "\n",
    "historyA = modelA.fit(train_dataset,\n",
    "                    epochs=5,\n",
    "                    steps_per_epoch=math.ceil(num_train_examples/BATCH_SIZE),\n",
    "                    verbose=0,\n",
    "                    callbacks=[PrintDot()])\n",
    "\n",
    "test_lossA, test_accuracyA = modelA.evaluate(test_dataset, steps=math.ceil(num_test_examples/32))\n",
    "\n",
    "# Print accuracy\n",
    "print('\\nTrain accuracy:', historyA.history['accuracy'][np.max(historyA.epoch)])\n",
    "print('Test accuracy:', test_accuracyA)"
   ]
  },
  {
   "cell_type": "code",
   "execution_count": 30,
   "metadata": {},
   "outputs": [
    {
     "name": "stdout",
     "output_type": "stream",
     "text": [
      "\n",
      "313/313 [==============================] - 7s 22ms/step - loss: 0.2933 - accuracy: 0.8923\n",
      "\n",
      "Train accuracy: 0.91926664\n",
      "Test accuracy: 0.8923\n"
     ]
    }
   ],
   "source": [
    "# 4 hidden layers\n",
    "modelB = tf.keras.Sequential([\n",
    "    tf.keras.layers.Conv2D(32, (3,3), padding='same', activation=tf.nn.relu,\n",
    "                           input_shape=(28, 28, 1)),\n",
    "    tf.keras.layers.MaxPooling2D((2, 2), strides=2),\n",
    "    tf.keras.layers.Conv2D(64, (3,3), padding='same', activation=tf.nn.relu),\n",
    "    tf.keras.layers.MaxPooling2D((2, 2), strides=2),\n",
    "    tf.keras.layers.Flatten(),\n",
    "    tf.keras.layers.Dense(32, activation=tf.nn.relu),\n",
    "    tf.keras.layers.Dense(32, activation=tf.nn.relu),\n",
    "    tf.keras.layers.Dense(32, activation=tf.nn.relu),\n",
    "    tf.keras.layers.Dense(32, activation=tf.nn.relu),\n",
    "    tf.keras.layers.Dense(10,  activation=tf.nn.softmax)\n",
    "])\n",
    "\n",
    "modelB.compile(optimizer='adam',\n",
    "              loss='sparse_categorical_crossentropy',\n",
    "              metrics=['accuracy'])\n",
    "\n",
    "historyB = modelB.fit(train_dataset,\n",
    "                    epochs=5,\n",
    "                    steps_per_epoch=math.ceil(num_train_examples/BATCH_SIZE),\n",
    "                    verbose=0,\n",
    "                    callbacks=[PrintDot()])\n",
    "\n",
    "test_lossB, test_accuracyB = modelB.evaluate(test_dataset, steps=math.ceil(num_test_examples/32))\n",
    "\n",
    "# Print accuracy\n",
    "print('\\nTrain accuracy:', historyB.history['accuracy'][np.max(historyB.epoch)])\n",
    "print('Test accuracy:', test_accuracyB)"
   ]
  },
  {
   "cell_type": "code",
   "execution_count": 31,
   "metadata": {},
   "outputs": [
    {
     "name": "stdout",
     "output_type": "stream",
     "text": [
      "\n",
      "313/313 [==============================] - 6s 20ms/step - loss: 0.3225 - accuracy: 0.8866\n",
      "\n",
      "Train accuracy: 0.89073336\n",
      "Test accuracy: 0.8866\n"
     ]
    }
   ],
   "source": [
    "# 8 hidden layers\n",
    "modelC = tf.keras.Sequential([\n",
    "    tf.keras.layers.Conv2D(32, (3,3), padding='same', activation=tf.nn.relu,\n",
    "                           input_shape=(28, 28, 1)),\n",
    "    tf.keras.layers.MaxPooling2D((2, 2), strides=2),\n",
    "    tf.keras.layers.Conv2D(64, (3,3), padding='same', activation=tf.nn.relu),\n",
    "    tf.keras.layers.MaxPooling2D((2, 2), strides=2),\n",
    "    tf.keras.layers.Flatten(),\n",
    "    tf.keras.layers.Dense(12, activation=tf.nn.relu),\n",
    "    tf.keras.layers.Dense(12, activation=tf.nn.relu),\n",
    "    tf.keras.layers.Dense(12, activation=tf.nn.relu),\n",
    "    tf.keras.layers.Dense(12, activation=tf.nn.relu),\n",
    "    tf.keras.layers.Dense(12, activation=tf.nn.relu),\n",
    "    tf.keras.layers.Dense(12, activation=tf.nn.relu),\n",
    "    tf.keras.layers.Dense(12, activation=tf.nn.relu),\n",
    "    tf.keras.layers.Dense(12, activation=tf.nn.relu),\n",
    "    tf.keras.layers.Dense(10,  activation=tf.nn.softmax)\n",
    "])\n",
    "\n",
    "modelC.compile(optimizer='adam',\n",
    "              loss='sparse_categorical_crossentropy',\n",
    "              metrics=['accuracy'])\n",
    "\n",
    "historyC = modelC.fit(train_dataset,\n",
    "                    epochs=5,\n",
    "                    steps_per_epoch=math.ceil(num_train_examples/BATCH_SIZE),\n",
    "                    verbose=0,\n",
    "                    callbacks=[PrintDot()])\n",
    "\n",
    "test_lossC, test_accuracyC = modelC.evaluate(test_dataset, steps=math.ceil(num_test_examples/32))\n",
    "\n",
    "# Print accuracy\n",
    "print('\\nTrain accuracy:', historyC.history['accuracy'][np.max(historyC.epoch)])\n",
    "print('Test accuracy:', test_accuracyC)"
   ]
  },
  {
   "cell_type": "code",
   "execution_count": 32,
   "metadata": {},
   "outputs": [
    {
     "data": {
      "text/plain": [
       "<BarContainer object of 3 artists>"
      ]
     },
     "execution_count": 32,
     "metadata": {},
     "output_type": "execute_result"
    },
    {
     "data": {
      "image/png": "[encoded data removed]",
      "text/plain": [
       "<Figure size 432x288 with 1 Axes>"
      ]
     },
     "metadata": {
      "needs_background": "light"
     },
     "output_type": "display_data"
    }
   ],
   "source": [
    "# Plotting the accuracy rates for comparison\n",
    "y = [test_accuracyA, test_accuracyB, test_accuracyC]\n",
    "x = ['2 hidden layers', '4 hidden layers', '8 hidden layers']\n",
    "plt.bar(x, y)"
   ]
  },
  {
   "cell_type": "markdown",
   "metadata": {},
   "source": [
    "*Comment*: Once again, adding complexity has is not contributing to accuracy. Accuracy even decreases as we increade the number of hidden layers."
   ]
  },
  {
   "cell_type": "markdown",
   "metadata": {
    "colab_type": "text",
    "id": "FTodgmkvU0o6"
   },
   "source": [
    "#### Unnormalized pixel values"
   ]
  },
  {
   "cell_type": "code",
   "execution_count": 33,
   "metadata": {
    "colab": {},
    "colab_type": "code",
    "id": "qrfqXw4fVGSt"
   },
   "outputs": [
    {
     "name": "stderr",
     "output_type": "stream",
     "text": [
      "WARNING:absl:Warning: Setting shuffle_files=True because split=TRAIN and shuffle_files=None. This behavior will be deprecated on 2019-08-06, at which point shuffle_files=False will be the default for all splits.\n"
     ]
    }
   ],
   "source": [
    "#Download the data again, but this time storing it as dataset2\n",
    "dataset2, metadata2 = tfds.load('fashion_mnist', as_supervised=True, with_info=True)\n",
    "train_dataset2, test_dataset2 = dataset2['train'], dataset2['test']"
   ]
  },
  {
   "cell_type": "code",
   "execution_count": 34,
   "metadata": {
    "colab": {},
    "colab_type": "code",
    "id": "xd435mgnVr4D"
   },
   "outputs": [],
   "source": [
    "class_names = ['T-shirt/top', 'Trouser', 'Pullover', 'Dress', 'Coat',\n",
    "               'Sandal',      'Shirt',   'Sneaker',  'Bag',   'Ankle boot']"
   ]
  },
  {
   "cell_type": "code",
   "execution_count": 35,
   "metadata": {
    "colab": {},
    "colab_type": "code",
    "id": "iPHGdD-NVtXL"
   },
   "outputs": [
    {
     "name": "stdout",
     "output_type": "stream",
     "text": [
      "Number of training examples in dataset2: 60000\n",
      "Number of test examples in dataset2:     10000\n"
     ]
    }
   ],
   "source": [
    "num_train_examples2 = metadata2.splits['train'].num_examples\n",
    "num_test_examples2 = metadata2.splits['test'].num_examples\n",
    "print(\"Number of training examples in dataset2: {}\".format(num_train_examples2))\n",
    "print(\"Number of test examples in dataset2:     {}\".format(num_test_examples2))"
   ]
  },
  {
   "cell_type": "code",
   "execution_count": 36,
   "metadata": {},
   "outputs": [],
   "source": [
    "# Keep in memory\n",
    "train_dataset2 =  train_dataset2.cache()\n",
    "test_dataset2  =  test_dataset2.cache()"
   ]
  },
  {
   "cell_type": "code",
   "execution_count": 37,
   "metadata": {},
   "outputs": [],
   "source": [
    "# Shuffle and split into batches\n",
    "BATCH_SIZE = 32\n",
    "train_dataset2 = train_dataset2.repeat().shuffle(num_train_examples2).batch(BATCH_SIZE)\n",
    "test_dataset2 = test_dataset2.batch(BATCH_SIZE)"
   ]
  },
  {
   "cell_type": "markdown",
   "metadata": {
    "colab_type": "text",
    "id": "CCv_jD8DWT_s"
   },
   "source": [
    "For comparison reasons, I just train the unnormalized dataset with the very first model with 128 hidden units and one hidden layer."
   ]
  },
  {
   "cell_type": "code",
   "execution_count": 38,
   "metadata": {
    "colab": {},
    "colab_type": "code",
    "id": "qIW8iYgdWJV-"
   },
   "outputs": [
    {
     "name": "stdout",
     "output_type": "stream",
     "text": [
      "\n",
      "313/313 [==============================] - 19s 60ms/step - loss: 0.3080 - accuracy: 0.9023\n",
      "\n",
      "Train accuracy: 0.92481667\n",
      "Test accuracy: 0.9023\n"
     ]
    }
   ],
   "source": [
    "model_unscaled = tf.keras.Sequential([\n",
    "    tf.keras.layers.Conv2D(32, (3,3), padding='same', activation=tf.nn.relu,\n",
    "                           input_shape=(28, 28, 1)),\n",
    "    tf.keras.layers.MaxPooling2D((2, 2), strides=2),\n",
    "    tf.keras.layers.Conv2D(64, (3,3), padding='same', activation=tf.nn.relu),\n",
    "    tf.keras.layers.MaxPooling2D((2, 2), strides=2),\n",
    "    tf.keras.layers.Flatten(),\n",
    "    tf.keras.layers.Dense(128, activation=tf.nn.relu),\n",
    "    tf.keras.layers.Dense(10,  activation=tf.nn.softmax)\n",
    "])\n",
    "\n",
    "model_unscaled.compile(optimizer='adam',\n",
    "              loss='sparse_categorical_crossentropy',\n",
    "              metrics=['accuracy'])\n",
    "\n",
    "history_unscaled = model_unscaled.fit(train_dataset2,\n",
    "                    epochs=5,\n",
    "                    steps_per_epoch=math.ceil(num_train_examples/BATCH_SIZE),\n",
    "                    verbose=0,\n",
    "                    callbacks=[PrintDot()])\n",
    "\n",
    "test_loss_unscaled, test_accuracy_unscaled = model_unscaled.evaluate(test_dataset2, steps=math.ceil(num_test_examples/32))\n",
    "\n",
    "# Print accuracy\n",
    "print('\\nTrain accuracy:', history_unscaled.history['accuracy'][np.max(history_unscaled.epoch)])\n",
    "print('Test accuracy:', test_accuracy_unscaled)"
   ]
  },
  {
   "cell_type": "markdown",
   "metadata": {},
   "source": [
    "*Comment*: I can't see much of a difference here, to be honest. But I know it's supposed to take more training for the network to find the right parameters. However, since I'm constantly working with 5 epochs to reduce the time it takes to train each network, that might be why I can't really see the difference."
   ]
  },
  {
   "cell_type": "markdown",
   "metadata": {
    "colab_type": "text",
    "id": "YFc2HbEVCaXd"
   },
   "source": [
    "## Task 3: \n",
    "\n",
    "Use the reduced data set with 4 x 4 pixels and check the performance of your preferred convolution neural network on the reduced data set. Compare with all the previous results and comment. "
   ]
  },
  {
   "cell_type": "markdown",
   "metadata": {},
   "source": [
    "*Comment*: In order to do this, I first need to load the data anew to get it into the dimensions that I've used on previous labs when reducing the number of dimensions. Then I reduce the dimensions to 4, and then I run a model on that data."
   ]
  },
  {
   "cell_type": "code",
   "execution_count": 39,
   "metadata": {},
   "outputs": [
    {
     "name": "stderr",
     "output_type": "stream",
     "text": [
      "WARNING:absl:Warning: Setting shuffle_files=True because split=TRAIN and shuffle_files=None. This behavior will be deprecated on 2019-08-06, at which point shuffle_files=False will be the default for all splits.\n"
     ]
    }
   ],
   "source": [
    "# Load data\n",
    "dataset3, metadata3 = tfds.load('fashion_mnist', as_supervised = True, with_info = True)\n",
    "train_dataset3, test_dataset3 = dataset3['train'], dataset3['test']"
   ]
  },
  {
   "cell_type": "code",
   "execution_count": 40,
   "metadata": {},
   "outputs": [],
   "source": [
    "# Keep in memory\n",
    "train_dataset3 =  train_dataset3.cache()\n",
    "test_dataset3  =  test_dataset3.cache()"
   ]
  },
  {
   "cell_type": "code",
   "execution_count": 41,
   "metadata": {},
   "outputs": [],
   "source": [
    "# Normalize the data\n",
    "train_dataset3 =  train_dataset3.map(normalize)\n",
    "test_dataset3  =  test_dataset3.map(normalize)"
   ]
  },
  {
   "cell_type": "code",
   "execution_count": 42,
   "metadata": {},
   "outputs": [],
   "source": [
    "# Stating function for dimension reduction\n",
    "def reduce_size(images, labels):\n",
    "  images = tf.image.resize(images, [4,4])\n",
    "  return images, labels"
   ]
  },
  {
   "cell_type": "code",
   "execution_count": 43,
   "metadata": {},
   "outputs": [],
   "source": [
    "# Reduce the size to 4x4\n",
    "train_dataset_reduced = train_dataset3.map(reduce_size)\n",
    "test_dataset_reduced = test_dataset3.map(reduce_size)"
   ]
  },
  {
   "cell_type": "code",
   "execution_count": 44,
   "metadata": {},
   "outputs": [
    {
     "name": "stdout",
     "output_type": "stream",
     "text": [
      "[[0.         0.         0.33333334 0.        ]\n",
      " [0.         0.5686275  0.2784314  0.        ]\n",
      " [0.         0.41568628 0.30980393 0.        ]\n",
      " [0.         0.         0.30980393 0.        ]]\n"
     ]
    },
    {
     "data": {
      "image/png": "[encoded data removed]",
      "text/plain": [
       "<Figure size 432x288 with 2 Axes>"
      ]
     },
     "metadata": {
      "needs_background": "light"
     },
     "output_type": "display_data"
    }
   ],
   "source": [
    "# Take a single image, and remove the color dimension by reshaping\n",
    "for image, label in train_dataset_reduced.take(1):\n",
    "  break\n",
    "image = image.numpy().reshape((4,4))\n",
    "print(image)\n",
    "\n",
    "# Plot the image - voila a piece of fashion clothing\n",
    "plt.figure()\n",
    "plt.imshow(image, cmap=plt.cm.binary)\n",
    "plt.colorbar()\n",
    "plt.grid(False)\n",
    "plt.show()"
   ]
  },
  {
   "cell_type": "code",
   "execution_count": 45,
   "metadata": {},
   "outputs": [
    {
     "name": "stdout",
     "output_type": "stream",
     "text": [
      "[[0.         0.38431373 0.33333334 0.        ]\n",
      " [0.         0.42352942 0.4627451  0.        ]\n",
      " [0.         0.44705883 0.45882353 0.        ]\n",
      " [0.         0.42745098 0.34901962 0.        ]]\n"
     ]
    },
    {
     "data": {
      "image/png": "[encoded data removed]",
      "text/plain": [
       "<Figure size 432x288 with 2 Axes>"
      ]
     },
     "metadata": {
      "needs_background": "light"
     },
     "output_type": "display_data"
    }
   ],
   "source": [
    "# Take a single image, and remove the color dimension by reshaping\n",
    "for image, label in test_dataset_reduced.take(1):\n",
    "  break\n",
    "image = image.numpy().reshape((4,4))\n",
    "print(image)\n",
    "\n",
    "# Plot the image - voila a piece of fashion clothing\n",
    "plt.figure()\n",
    "plt.imshow(image, cmap=plt.cm.binary)\n",
    "plt.colorbar()\n",
    "plt.grid(False)\n",
    "plt.show()"
   ]
  },
  {
   "cell_type": "markdown",
   "metadata": {},
   "source": [
    "*Comment*: As we can see above, the size reduction isn't keeping the information (as we as humans know it) very well when we only use 4x4. It will be interesting to see if there is a pattern that the network can detect."
   ]
  },
  {
   "cell_type": "code",
   "execution_count": 46,
   "metadata": {},
   "outputs": [],
   "source": [
    "# Shuffle and create batches\n",
    "BATCH_SIZE = 32\n",
    "train_dataset_reduced = train_dataset_reduced.repeat().shuffle(metadata3.splits['train'].num_examples).batch(BATCH_SIZE)\n",
    "test_dataset_reduced = test_dataset_reduced.batch(BATCH_SIZE)"
   ]
  },
  {
   "cell_type": "markdown",
   "metadata": {},
   "source": [
    "*Comment*: Drawing on the experience from the previous experiments, I will build a model for the 4x4 data that is aimed to be as non-complex as possible. For example, I'll only use one Covd2D layer and one pooling layer. The last hidden layer will only have 20 nodes. "
   ]
  },
  {
   "cell_type": "code",
   "execution_count": 47,
   "metadata": {},
   "outputs": [
    {
     "name": "stdout",
     "output_type": "stream",
     "text": [
      "\n",
      "313/313 [==============================] - 19s 60ms/step - loss: 1.0299 - accuracy: 0.5963\n",
      "\n",
      "Train accuracy: 0.60445\n",
      "Test accuracy: 0.5963\n"
     ]
    }
   ],
   "source": [
    "# Build model\n",
    "model4x4 = tf.keras.Sequential([\n",
    "    tf.keras.layers.Conv2D(32, (3,3), padding='same', activation=tf.nn.relu,\n",
    "                           input_shape=(4, 4, 1)),\n",
    "    tf.keras.layers.MaxPooling2D((2, 2), strides=2),\n",
    "    tf.keras.layers.Flatten(),\n",
    "    tf.keras.layers.Dense(20, activation=tf.nn.relu),\n",
    "    tf.keras.layers.Dense(10,  activation=tf.nn.softmax)\n",
    "])\n",
    "\n",
    "model4x4.compile(optimizer='adam',\n",
    "              loss='sparse_categorical_crossentropy',\n",
    "              metrics=['accuracy'])\n",
    "\n",
    "history4x4 = model4x4.fit(train_dataset_reduced,\n",
    "                    epochs=5,\n",
    "                    steps_per_epoch=math.ceil(metadata3.splits['train'].num_examples/BATCH_SIZE),\n",
    "                    verbose=0,\n",
    "                    callbacks=[PrintDot()])\n",
    "\n",
    "test_loss4x4, test_accuracy4x4 = model4x4.evaluate(test_dataset_reduced, steps=math.ceil(num_test_examples/32))\n",
    "\n",
    "# Print accuracy\n",
    "print('\\nTrain accuracy:', history4x4.history['accuracy'][np.max(history4x4.epoch)])\n",
    "print('Test accuracy:', test_accuracy4x4)"
   ]
  },
  {
   "cell_type": "markdown",
   "metadata": {},
   "source": [
    "*Comment*: It turns out that the network is quite bad at dealing with the data. The accuracy is a lot lower than for the models trained with examples of 28*28 pixel images."
   ]
  },
  {
   "cell_type": "code",
   "execution_count": 51,
   "metadata": {},
   "outputs": [
    {
     "data": {
      "text/plain": [
       "[0.90595]"
      ]
     },
     "execution_count": 51,
     "metadata": {},
     "output_type": "execute_result"
    }
   ],
   "source": [
    "history1.history['accuracy']"
   ]
  },
  {
   "cell_type": "code",
   "execution_count": 52,
   "metadata": {},
   "outputs": [
    {
     "name": "stdout",
     "output_type": "stream",
     "text": [
      "Highest train accuracy was: [0.97]\n",
      "It came from the model on list place: 0\n"
     ]
    },
    {
     "name": "stderr",
     "output_type": "stream",
     "text": [
      "/Users/Sara/anaconda3/lib/python3.7/site-packages/ipykernel_launcher.py:16: VisibleDeprecationWarning: Creating an ndarray from ragged nested sequences (which is a list-or-tuple of lists-or-tuples-or ndarrays with different lengths or shapes) is deprecated. If you meant to do this, you must specify 'dtype=object' when creating the ndarray\n",
      "  app.launch_new_instance()\n",
      "/Users/Sara/anaconda3/lib/python3.7/site-packages/ipykernel_launcher.py:17: VisibleDeprecationWarning: Creating an ndarray from ragged nested sequences (which is a list-or-tuple of lists-or-tuples-or ndarrays with different lengths or shapes) is deprecated. If you meant to do this, you must specify 'dtype=object' when creating the ndarray\n"
     ]
    }
   ],
   "source": [
    "# Finding the highest train accuracy amongst all models\n",
    "all_train_accuracy = [[0.97],\n",
    "                      history1.history['accuracy'],\n",
    "                      history10.history['accuracy'][np.max(history10.epoch)],\n",
    "                      history220.history['accuracy'][np.max(history220.epoch)],\n",
    "                      history512.history['accuracy'][np.max(history512.epoch)],\n",
    "                      historyarch2.history['accuracy'][np.max(historyarch2.epoch)],\n",
    "                      historyarch3.history['accuracy'][np.max(historyarch3.epoch)],\n",
    "                      historyarch4.history['accuracy'][np.max(historyarch4.epoch)],\n",
    "                      historyA.history['accuracy'][np.max(historyA.epoch)],\n",
    "                      historyB.history['accuracy'][np.max(historyB.epoch)],\n",
    "                      historyC.history['accuracy'][np.max(historyC.epoch)],\n",
    "                      history_unscaled.history['accuracy'][np.max(history_unscaled.epoch)],\n",
    "                      history4x4.history['accuracy'][np.max(history4x4.epoch)]]\n",
    "\n",
    "print('Highest train accuracy was:', np.max(np.array(all_train_accuracy)))\n",
    "print('It came from the model on list place:', np.argmax(np.array(all_train_accuracy)))"
   ]
  },
  {
   "cell_type": "code",
   "execution_count": 55,
   "metadata": {},
   "outputs": [
    {
     "name": "stderr",
     "output_type": "stream",
     "text": [
      "/Users/Sara/anaconda3/lib/python3.7/site-packages/numpy/lib/stride_tricks.py:256: VisibleDeprecationWarning: Creating an ndarray from ragged nested sequences (which is a list-or-tuple of lists-or-tuples-or ndarrays with different lengths or shapes) is deprecated. If you meant to do this, you must specify 'dtype=object' when creating the ndarray\n",
      "  args = [np.array(_m, copy=False, subok=subok) for _m in args]\n"
     ]
    },
    {
     "data": {
      "text/plain": [
       "<BarContainer object of 13 artists>"
      ]
     },
     "execution_count": 55,
     "metadata": {},
     "output_type": "execute_result"
    },
    {
     "data": {
      "image/png": "[encoded data removed]",
      "text/plain": [
       "<Figure size 432x288 with 1 Axes>"
      ]
     },
     "metadata": {
      "needs_background": "light"
     },
     "output_type": "display_data"
    }
   ],
   "source": [
    "plt.bar(range(len(all_train_accuracy)), height = all_train_accuracy)"
   ]
  },
  {
   "cell_type": "code",
   "execution_count": 57,
   "metadata": {},
   "outputs": [
    {
     "name": "stdout",
     "output_type": "stream",
     "text": [
      "Highest test accuracy was: 0.9177\n",
      "It came from the model on list place: 0\n"
     ]
    }
   ],
   "source": [
    "# Finding the highest test accuracy amongst all models\n",
    "all_test_accuracy = [test_accuracy,\n",
    "                     test_accuracy1,\n",
    "                     test_accuracy10,\n",
    "                     test_accuracy220,\n",
    "                     test_accuracy512,\n",
    "                     test_accuracyarch2,\n",
    "                     test_accuracyarch3,\n",
    "                     test_accuracyarch4,\n",
    "                     test_accuracyA,\n",
    "                     test_accuracyB,\n",
    "                     test_accuracyC,\n",
    "                     test_accuracy_unscaled,\n",
    "                     test_accuracy4x4]\n",
    "\n",
    "print('Highest test accuracy was:', np.max(all_test_accuracy))\n",
    "print('It came from the model on list place:', np.argmax(all_test_accuracy))"
   ]
  },
  {
   "cell_type": "code",
   "execution_count": 59,
   "metadata": {},
   "outputs": [
    {
     "data": {
      "text/plain": [
       "<BarContainer object of 13 artists>"
      ]
     },
     "execution_count": 59,
     "metadata": {},
     "output_type": "execute_result"
    },
    {
     "data": {
      "image/png": "[encoded data removed]",
      "text/plain": [
       "<Figure size 432x288 with 1 Axes>"
      ]
     },
     "metadata": {
      "needs_background": "light"
     },
     "output_type": "display_data"
    }
   ],
   "source": [
    "plt.bar(range(len(all_test_accuracy)), height = all_test_accuracy)"
   ]
  },
  {
   "cell_type": "markdown",
   "metadata": {},
   "source": [
    "*Comment*: All models performed very equally, apart from the last one which was trained and tested on the low dim data. The very first model specified performed best in all cases, however, it was also trained with more epochs, so that might be why. To compare, I'll try my last model on the high-dimensional data and train it for 10 epochs."
   ]
  },
  {
   "cell_type": "code",
   "execution_count": 60,
   "metadata": {},
   "outputs": [
    {
     "name": "stdout",
     "output_type": "stream",
     "text": [
      "\n",
      "313/313 [==============================] - 3s 10ms/step - loss: 0.2744 - accuracy: 0.9110\n",
      "\n",
      "Train accuracy: 0.94406664\n",
      "Test accuracy: 0.911\n"
     ]
    }
   ],
   "source": [
    "# Build model\n",
    "last_model = tf.keras.Sequential([\n",
    "    tf.keras.layers.Conv2D(32, (3,3), padding='same', activation=tf.nn.relu,\n",
    "                           input_shape=(28, 28, 1)),\n",
    "    tf.keras.layers.MaxPooling2D((2, 2), strides=2),\n",
    "    tf.keras.layers.Flatten(),\n",
    "    tf.keras.layers.Dense(20, activation=tf.nn.relu),\n",
    "    tf.keras.layers.Dense(10,  activation=tf.nn.softmax)\n",
    "])\n",
    "\n",
    "last_model.compile(optimizer='adam',\n",
    "              loss='sparse_categorical_crossentropy',\n",
    "              metrics=['accuracy'])\n",
    "\n",
    "last_history = last_model.fit(train_dataset,\n",
    "                    epochs=10,\n",
    "                    steps_per_epoch=math.ceil(metadata3.splits['train'].num_examples/BATCH_SIZE),\n",
    "                    verbose=0,\n",
    "                    callbacks=[PrintDot()])\n",
    "\n",
    "last_test_loss, last_test_accuracy = last_model.evaluate(test_dataset, steps=math.ceil(num_test_examples/32))\n",
    "\n",
    "# Print accuracy\n",
    "print('\\nTrain accuracy:', last_history.history['accuracy'][np.max(last_history.epoch)])\n",
    "print('Test accuracy:', last_test_accuracy)"
   ]
  },
  {
   "cell_type": "markdown",
   "metadata": {},
   "source": [
    "### Summary (as per requested as the main task)\n",
    "In this notebook I have built several deep learning models with the aim of classifying images of clothes. All models have performed with a very high accuracy, apart from the model trained and tested on low dimensional data. This is expected, since the NN structure makes very good use of high dimensional data and can detect patterns that other algorithms can't. Still though, a 59 % test accuracy on that data is surprisngly high, given that a naive chance classifier would only be expected to be right 10 % of the time due to the 10 categories.\n",
    "\n",
    "My overall impression from my experiments are that more complex network doesn't really (at least nessecerily) contribute to higher accuracy. However, too little complexity can reduce accuracy. This was shown in my last network, where I kept the complecity at a minimum (fewer nodes in last hidden layer, one one set of Conv2D + Pooling layers, etc.) while still using the full-dimensional data. This network didn't perform better than the original model, and only slightly better than most other models tried in this lab.\n",
    "\n",
    "Naturally, these results aren't very stable because they risk being very affected by the randomness of what we get in the train vs test data. From before, in previous labs, we know for example that the NN can be bad at predicting a sneaker if it is turned in the other direction on the picture, compared to the other sneakers. Since there are fewer examples on the sneaker turned in the \"wrong\" direction, we are more sensitive to where those pictures end up with regards to training and test set. As such, it is always better to cross-validate. In this case however, it was very clear that it was not possible to do cross-validation since it would've taken a veeery long time.\n",
    "\n",
    "In conclusion, neural networks are quite cool since they can obviously rather easily be trained to do a good job at classifying images, which \"normal\" statistical models often can't."
   ]
  },
  {
   "cell_type": "markdown",
   "metadata": {},
   "source": [
    "## Grader box: \n",
    "\n",
    "In what follows the grader will put the values according the following check list:\n",
    "\n",
    "* 1 Have all commands included in a raw notebook been evaluated? (0 or 0.5pt)\n",
    "* 2 Have all commands been experimented with? (0 or 0.5pt)\n",
    "* 3 Have all experiments been briefly commented? (0 or 0.5pt)\n",
    "* 4 Have all tasks been attempted? (0, 0.5, or 1pt)\n",
    "* 5 How many of the tasks have been completed? (0, 0.5, or 1pt)\n",
    "* 6 How many of the tasks (completed or not) have been commented? (0, 0.5, or 1pt)\n",
    "* 7 Have been the conclusions from performing the tasks clearly stated? (0, 0.5, or 1pt)\n",
    "* 8 Have been the overall organization of the submitted Lab notebook been neat and easy to follow by the grader? (0, or 0.5pt) \n",
    "\n",
    "\n",
    "#### 1 Have all commands included in a raw notebook been evaluated? (0 or 0.5pt)\n",
    "\n",
    "#### Grader's comment (if desired): \n",
    "N/A\n",
    "#### Grader's comment (if desired): \n",
    "N/A\n",
    "\n",
    "#### 2 Have all commands been experimented with? (0 or 0.5pt)\n",
    "\n",
    "#### Grader's comment (if desired): \n",
    "N/A\n",
    "\n",
    "#### 3 Have all experiments been briefly commented? (0 or 0.5pt)\n",
    "\n",
    "#### Grader's comment (if desired): \n",
    "N/A\n",
    "\n",
    "#### 4 Have all tasks been attempted? (0, 0.5, or 1pt)\n",
    "\n",
    "#### Grader's comment (if desired): \n",
    "N/A\n",
    "\n",
    "#### 5 How many of the tasks have been completed? (0, 0.5, or 1pt)\n",
    "\n",
    "#### Grader's comment (if desired): \n",
    "N/A\n",
    "\n",
    "#### 6 How many of the tasks (completed or not) have been commented? (0, 0.5, or 1pt)\n",
    "\n",
    "#### Grader's comment (if desired): \n",
    "N/A\n",
    "\n",
    "#### 7 Have been the conclusions from performing the tasks clearly stated? (0, 0.5, or 1pt)\n",
    "\n",
    "#### Grader's comment (if desired): \n",
    "N/A\n",
    "\n",
    "#### 8 Have been the overall organization of the submitted Lab notebook been neat and easy to follow by the grader? (0, or 0.5pt)\n",
    "\n",
    "#### Grader's comment (if desired): \n",
    "N/A\n",
    "\n",
    "### Overall score\n",
    "\n",
    "### Score and grader's comment (if desired): \n",
    "N/A"
   ]
  }
 ],
 "metadata": {
  "accelerator": "GPU",
  "colab": {
   "collapsed_sections": [],
   "name": "Lab4Student_Buelent_v3.ipynb",
   "private_outputs": true,
   "provenance": [],
   "toc_visible": true
  },
  "kernelspec": {
   "display_name": "Python 3",
   "language": "python",
   "name": "python3"
  },
  "language_info": {
   "codemirror_mode": {
    "name": "ipython",
    "version": 3
   },
   "file_extension": ".py",
   "mimetype": "text/x-python",
   "name": "python",
   "nbconvert_exporter": "python",
   "pygments_lexer": "ipython3",
   "version": "3.7.9"
  }
 },
 "nbformat": 4,
 "nbformat_minor": 1
}
