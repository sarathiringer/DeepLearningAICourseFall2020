{
 "cells": [
  {
   "cell_type": "markdown",
   "metadata": {
    "colab_type": "text",
    "id": "MhoQ0WE77laV"
   },
   "source": [
    "# Deep learning and AI methods\n",
    "## Session 2: Classification of cloth images\n",
    "* Instructor: [Krzysztof Podgorski](https://krys.neocities.org),  [Statistics, Lund University, LUSEM](https://www.stat.lu.se/)\n",
    "* For more information visit the [CANVAS class website](https://canvas.education.lu.se/courses/1712).\n",
    "\n",
    "In this session we learn some basic about *TensorFlow* and *Keras* by solving an example of immage recognition problem."
   ]
  },
  {
   "cell_type": "markdown",
   "metadata": {
    "colab_type": "text",
    "id": "jYysdyb-CaWM"
   },
   "source": [
    "## Project 1 Basic classification: Classify images of clothing"
   ]
  },
  {
   "cell_type": "markdown",
   "metadata": {
    "colab_type": "text",
    "id": "FbVhjPpzn6BM"
   },
   "source": [
    "This project trains a neural network model to classify images of clothing, like sneakers and shirts. It's okay if you don't understand all the details; this is a fast-paced overview of a complete TensorFlow program with the details explained as you go.\n",
    "\n",
    "This guide uses [tf.keras](https://www.tensorflow.org/guide/keras), a high-level API to build and train models in TensorFlow."
   ]
  },
  {
   "cell_type": "code",
   "execution_count": 2,
   "metadata": {
    "colab": {},
    "colab_type": "code",
    "id": "dzLKpmZICaWN"
   },
   "outputs": [
    {
     "name": "stdout",
     "output_type": "stream",
     "text": [
      "1.15.0\n"
     ]
    }
   ],
   "source": [
    "from __future__ import absolute_import, division, print_function, unicode_literals\n",
    "\n",
    "# TensorFlow and tf.keras\n",
    "import tensorflow as tf\n",
    "from tensorflow import keras\n",
    "\n",
    "# Helper libraries\n",
    "import numpy as np\n",
    "import matplotlib.pyplot as plt\n",
    "\n",
    "print(tf.__version__)"
   ]
  },
  {
   "cell_type": "markdown",
   "metadata": {
    "colab_type": "text",
    "id": "yR0EdgrLCaWR"
   },
   "source": [
    "#### Import the Fashion MNIST dataset"
   ]
  },
  {
   "cell_type": "markdown",
   "metadata": {
    "colab_type": "text",
    "id": "DLdCchMdCaWQ"
   },
   "source": [
    "This guide uses the [Fashion MNIST](https://github.com/zalandoresearch/fashion-mnist) dataset which contains 70,000 grayscale images in 10 categories. The images show individual articles of clothing at low resolution (28 by 28 pixels), as seen here:\n",
    "\n",
    "<table>\n",
    "  <tr><td>\n",
    "    <img src=\"https://tensorflow.org/images/fashion-mnist-sprite.png\"\n",
    "         alt=\"Fashion MNIST sprite\"  width=\"600\">\n",
    "  </td></tr>\n",
    "  <tr><td align=\"center\">\n",
    "    <b>Figure 1.</b> <a href=\"https://github.com/zalandoresearch/fashion-mnist\">Fashion-MNIST samples</a> (by Zalando, MIT License).<br/>&nbsp;\n",
    "  </td></tr>\n",
    "</table>\n",
    "\n",
    "Fashion MNIST is intended as a drop-in replacement for the classic [MNIST](http://yann.lecun.com/exdb/mnist/) dataset—often used as the \"Hello, World\" of machine learning programs for computer vision. The MNIST dataset contains images of handwritten digits (0, 1, 2, etc.) in a format identical to that of the articles of clothing you'll use here.\n",
    "\n",
    "This guide uses Fashion MNIST for variety, and because it's a slightly more challenging problem than regular MNIST. Both datasets are relatively small and are used to verify that an algorithm works as expected. They're good starting points to test and debug code.\n",
    "\n",
    "Here, 60,000 images are used to train the network and 10,000 images to evaluate how accurately the network learned to classify images. You can access the Fashion MNIST directly from TensorFlow. Import and load the Fashion MNIST data directly from TensorFlow:"
   ]
  },
  {
   "cell_type": "code",
   "execution_count": 2,
   "metadata": {
    "colab": {},
    "colab_type": "code",
    "id": "7MqDQO0KCaWS"
   },
   "outputs": [],
   "source": [
    "fashion_mnist = keras.datasets.fashion_mnist\n",
    "\n",
    "(train_images, train_labels), (test_images, test_labels) = fashion_mnist.load_data()"
   ]
  },
  {
   "cell_type": "markdown",
   "metadata": {
    "colab_type": "text",
    "id": "t9FDsUlxCaWW"
   },
   "source": [
    "Loading the dataset returns four NumPy arrays:\n",
    "\n",
    "* The `train_images` and `train_labels` arrays are the *training set*—the data the model uses to learn.\n",
    "* The model is tested against the *test set*, the `test_images`, and `test_labels` arrays.\n",
    "\n",
    "The images are 28x28 NumPy arrays, with pixel values ranging from 0 to 255."
   ]
  },
  {
   "cell_type": "markdown",
   "metadata": {
    "colab_type": "text",
    "id": "Brm0b_KACaWX"
   },
   "source": [
    "#### Explore the data\n",
    "\n",
    "Let's explore the format of the dataset before training the model. The following shows there are 60,000 images in the training set, with each image represented as 28 x 28 pixels:"
   ]
  },
  {
   "cell_type": "code",
   "execution_count": 3,
   "metadata": {},
   "outputs": [
    {
     "data": {
      "text/plain": [
       "60000"
      ]
     },
     "execution_count": 3,
     "metadata": {},
     "output_type": "execute_result"
    }
   ],
   "source": [
    "len(train_images)"
   ]
  },
  {
   "cell_type": "code",
   "execution_count": 4,
   "metadata": {},
   "outputs": [
    {
     "data": {
      "text/plain": [
       "array([[  0,   0,   0,   0,   0,   1,   0,   0,   0,   0,  41, 188, 103,\n",
       "         54,  48,  43,  87, 168, 133,  16,   0,   0,   0,   0,   0,   0,\n",
       "          0,   0],\n",
       "       [  0,   0,   0,   1,   0,   0,   0,  49, 136, 219, 216, 228, 236,\n",
       "        255, 255, 255, 255, 217, 215, 254, 231, 160,  45,   0,   0,   0,\n",
       "          0,   0],\n",
       "       [  0,   0,   0,   0,   0,  14, 176, 222, 224, 212, 203, 198, 196,\n",
       "        200, 215, 204, 202, 201, 201, 201, 209, 218, 224, 164,   0,   0,\n",
       "          0,   0],\n",
       "       [  0,   0,   0,   0,   0, 188, 219, 200, 198, 202, 198, 199, 199,\n",
       "        201, 196, 198, 198, 200, 200, 200, 200, 201, 200, 225,  41,   0,\n",
       "          0,   0],\n",
       "       [  0,   0,   0,   0,  51, 219, 199, 203, 203, 212, 238, 248, 250,\n",
       "        245, 249, 246, 247, 252, 248, 235, 207, 203, 203, 222, 140,   0,\n",
       "          0,   0],\n",
       "       [  0,   0,   0,   0, 116, 226, 206, 204, 207, 204, 101,  75,  47,\n",
       "         73,  48,  50,  45,  51,  63, 113, 222, 202, 206, 220, 224,   0,\n",
       "          0,   0],\n",
       "       [  0,   0,   0,   0, 200, 222, 209, 203, 215, 200,   0,  70,  98,\n",
       "          0, 103,  59,  68,  71,  49,   0, 219, 206, 214, 210, 250,  38,\n",
       "          0,   0],\n",
       "       [  0,   0,   0,   0, 247, 218, 212, 210, 215, 214,   0, 254, 243,\n",
       "        139, 255, 174, 251, 255, 205,   0, 215, 217, 214, 208, 220,  95,\n",
       "          0,   0],\n",
       "       [  0,   0,   0,  45, 226, 214, 214, 215, 224, 205,   0,  42,  35,\n",
       "         60,  16,  17,  12,  13,  70,   0, 189, 216, 212, 206, 212, 156,\n",
       "          0,   0],\n",
       "       [  0,   0,   0, 164, 235, 214, 211, 220, 216, 201,  52,  71,  89,\n",
       "         94,  83,  78,  70,  76,  92,  87, 206, 207, 222, 213, 219, 208,\n",
       "          0,   0],\n",
       "       [  0,   0,   0, 106, 187, 223, 237, 248, 211, 198, 252, 250, 248,\n",
       "        245, 248, 252, 253, 250, 252, 239, 201, 212, 225, 215, 193, 113,\n",
       "          0,   0],\n",
       "       [  0,   0,   0,   0,   0,  17,  54, 159, 222, 193, 208, 192, 197,\n",
       "        200, 200, 200, 200, 201, 203, 195, 210, 165,   0,   0,   0,   0,\n",
       "          0,   0],\n",
       "       [  0,   0,   0,   0,   0,   0,   0,  47, 225, 192, 214, 203, 206,\n",
       "        204, 204, 205, 206, 204, 212, 197, 218, 107,   0,   0,   0,   0,\n",
       "          0,   0],\n",
       "       [  0,   0,   0,   0,   1,   6,   0,  46, 212, 195, 212, 202, 206,\n",
       "        205, 204, 205, 206, 204, 212, 200, 218,  91,   0,   3,   1,   0,\n",
       "          0,   0],\n",
       "       [  0,   0,   0,   0,   0,   1,   0,  11, 197, 199, 205, 202, 205,\n",
       "        206, 204, 205, 207, 204, 205, 205, 218,  77,   0,   5,   0,   0,\n",
       "          0,   0],\n",
       "       [  0,   0,   0,   0,   0,   3,   0,   2, 191, 198, 201, 205, 206,\n",
       "        205, 205, 206, 209, 206, 199, 209, 219,  74,   0,   5,   0,   0,\n",
       "          0,   0],\n",
       "       [  0,   0,   0,   0,   0,   2,   0,   0, 188, 197, 200, 207, 207,\n",
       "        204, 207, 207, 210, 208, 198, 207, 221,  72,   0,   4,   0,   0,\n",
       "          0,   0],\n",
       "       [  0,   0,   0,   0,   0,   2,   0,   0, 215, 198, 203, 206, 208,\n",
       "        205, 207, 207, 210, 208, 200, 202, 222,  75,   0,   4,   0,   0,\n",
       "          0,   0],\n",
       "       [  0,   0,   0,   0,   0,   1,   0,   0, 212, 198, 209, 206, 209,\n",
       "        206, 208, 207, 211, 206, 205, 198, 221,  80,   0,   3,   0,   0,\n",
       "          0,   0],\n",
       "       [  0,   0,   0,   0,   0,   1,   0,   0, 204, 201, 205, 208, 207,\n",
       "        205, 211, 205, 210, 210, 209, 195, 221,  96,   0,   3,   0,   0,\n",
       "          0,   0],\n",
       "       [  0,   0,   0,   0,   0,   1,   0,   0, 202, 201, 205, 209, 207,\n",
       "        205, 213, 206, 210, 209, 210, 194, 217, 105,   0,   2,   0,   0,\n",
       "          0,   0],\n",
       "       [  0,   0,   0,   0,   0,   1,   0,   0, 204, 204, 205, 208, 207,\n",
       "        205, 215, 207, 210, 208, 211, 193, 213, 115,   0,   2,   0,   0,\n",
       "          0,   0],\n",
       "       [  0,   0,   0,   0,   0,   0,   0,   0, 204, 207, 207, 208, 206,\n",
       "        206, 215, 210, 210, 207, 212, 195, 210, 118,   0,   2,   0,   0,\n",
       "          0,   0],\n",
       "       [  0,   0,   0,   0,   0,   1,   0,   0, 198, 208, 208, 208, 204,\n",
       "        207, 212, 212, 210, 207, 211, 196, 207, 121,   0,   1,   0,   0,\n",
       "          0,   0],\n",
       "       [  0,   0,   0,   0,   0,   1,   0,   0, 198, 210, 207, 208, 206,\n",
       "        209, 213, 212, 211, 207, 210, 197, 207, 124,   0,   1,   0,   0,\n",
       "          0,   0],\n",
       "       [  0,   0,   0,   0,   0,   0,   0,   0, 172, 210, 203, 201, 199,\n",
       "        204, 207, 205, 204, 201, 205, 197, 206, 127,   0,   0,   0,   0,\n",
       "          0,   0],\n",
       "       [  0,   0,   0,   0,   0,   0,   0,   0, 188, 221, 214, 234, 236,\n",
       "        238, 244, 244, 244, 240, 243, 214, 224, 162,   0,   2,   0,   0,\n",
       "          0,   0],\n",
       "       [  0,   0,   0,   0,   0,   1,   0,   0, 139, 146, 130, 135, 135,\n",
       "        137, 125, 124, 125, 121, 119, 114, 130,  76,   0,   0,   0,   0,\n",
       "          0,   0]], dtype=uint8)"
      ]
     },
     "execution_count": 4,
     "metadata": {},
     "output_type": "execute_result"
    }
   ],
   "source": [
    "train_images[1]"
   ]
  },
  {
   "cell_type": "code",
   "execution_count": 5,
   "metadata": {},
   "outputs": [
    {
     "data": {
      "image/png": "[encoded data removed]",
      "text/plain": [
       "<Figure size 432x288 with 2 Axes>"
      ]
     },
     "metadata": {
      "needs_background": "light"
     },
     "output_type": "display_data"
    }
   ],
   "source": [
    "plt.figure()\n",
    "plt.imshow(train_images[1])\n",
    "plt.colorbar()\n",
    "plt.grid(False)\n",
    "plt.show()"
   ]
  },
  {
   "cell_type": "markdown",
   "metadata": {},
   "source": [
    "### Task 1:\n",
    "\n",
    "Cross-validation is a method of checking performance of different methods on some subsamples of the training data to decide for a best performing model among a number of them under consideration. For the so-called $k$-fold crossvalidation, one splits the training data into $k$ equal sized portions using random sampling. One can utilize for the purpose the following random permutation function and Python list reshaping methods."
   ]
  },
  {
   "cell_type": "code",
   "execution_count": 6,
   "metadata": {
    "colab": {},
    "colab_type": "code",
    "id": "IjnLH5S2CaWx"
   },
   "outputs": [],
   "source": [
    "class_names = ['T-shirt/top', 'Trouser', 'Pullover', 'Dress', 'Coat',\n",
    "               'Sandal', 'Shirt', 'Sneaker', 'Bag', 'Ankle boot']"
   ]
  },
  {
   "cell_type": "code",
   "execution_count": 7,
   "metadata": {},
   "outputs": [
    {
     "name": "stdout",
     "output_type": "stream",
     "text": [
      "[ 1  5  7  2  0 10  6  8  3  4 11  9]\n",
      "[[ 1  5  7]\n",
      " [ 2  0 10]\n",
      " [ 6  8  3]\n",
      " [ 4 11  9]]\n"
     ]
    }
   ],
   "source": [
    "perm=np.random.permutation(12)\n",
    "print(perm)\n",
    "rearr=perm.reshape(4, 3)\n",
    "print(rearr)"
   ]
  },
  {
   "cell_type": "code",
   "execution_count": 8,
   "metadata": {},
   "outputs": [
    {
     "data": {
      "image/png": "[encoded data removed]",
      "text/plain": [
       "<Figure size 432x288 with 2 Axes>"
      ]
     },
     "metadata": {
      "needs_background": "light"
     },
     "output_type": "display_data"
    }
   ],
   "source": [
    "small_images=train_images[rearr]\n",
    "small_labels=train_labels[rearr]\n",
    "plt.figure()\n",
    "plt.imshow(small_images[1][0])\n",
    "plt.colorbar()\n",
    "plt.grid(False)\n",
    "plt.xlabel(class_names[small_labels[1][0]])\n",
    "plt.show()"
   ]
  },
  {
   "cell_type": "markdown",
   "metadata": {},
   "source": [
    "Thus rearrangement to 10 batches of the training data could start with the following command."
   ]
  },
  {
   "cell_type": "code",
   "execution_count": 9,
   "metadata": {},
   "outputs": [],
   "source": [
    "perm=np.random.permutation(60000)\n",
    "rearr=perm.reshape(10,6000)"
   ]
  },
  {
   "cell_type": "code",
   "execution_count": 10,
   "metadata": {},
   "outputs": [
    {
     "data": {
      "text/plain": [
       "6000"
      ]
     },
     "execution_count": 10,
     "metadata": {},
     "output_type": "execute_result"
    }
   ],
   "source": [
    "CV_images=train_images[rearr]\n",
    "CV_labels=train_labels[rearr]\n",
    "len(CV_images[0])"
   ]
  },
  {
   "cell_type": "markdown",
   "metadata": {
    "colab_type": "text",
    "id": "t9FDsUlxCaWW"
   },
   "source": [
    "#### Further description of the data\n",
    "\n",
    "The *labels* are an array of integers, ranging from 0 to 9. These correspond to the *class* of clothing the image represents:\n",
    "\n",
    "<table>\n",
    "  <tr>\n",
    "    <th>Label</th>\n",
    "    <th>Class</th>\n",
    "  </tr>\n",
    "  <tr>\n",
    "    <td>0</td>\n",
    "    <td>T-shirt/top</td>\n",
    "  </tr>\n",
    "  <tr>\n",
    "    <td>1</td>\n",
    "    <td>Trouser</td>\n",
    "  </tr>\n",
    "    <tr>\n",
    "    <td>2</td>\n",
    "    <td>Pullover</td>\n",
    "  </tr>\n",
    "    <tr>\n",
    "    <td>3</td>\n",
    "    <td>Dress</td>\n",
    "  </tr>\n",
    "    <tr>\n",
    "    <td>4</td>\n",
    "    <td>Coat</td>\n",
    "  </tr>\n",
    "    <tr>\n",
    "    <td>5</td>\n",
    "    <td>Sandal</td>\n",
    "  </tr>\n",
    "    <tr>\n",
    "    <td>6</td>\n",
    "    <td>Shirt</td>\n",
    "  </tr>\n",
    "    <tr>\n",
    "    <td>7</td>\n",
    "    <td>Sneaker</td>\n",
    "  </tr>\n",
    "    <tr>\n",
    "    <td>8</td>\n",
    "    <td>Bag</td>\n",
    "  </tr>\n",
    "    <tr>\n",
    "    <td>9</td>\n",
    "    <td>Ankle boot</td>\n",
    "  </tr>\n",
    "</table>\n",
    "\n",
    "Each image is mapped to a single label. Since the *class names* are not included with the dataset, store them here to use later when plotting the images:"
   ]
  },
  {
   "cell_type": "code",
   "execution_count": 11,
   "metadata": {
    "colab": {},
    "colab_type": "code",
    "id": "zW5k_xz1CaWX"
   },
   "outputs": [
    {
     "data": {
      "text/plain": [
       "(60000, 28, 28)"
      ]
     },
     "execution_count": 11,
     "metadata": {},
     "output_type": "execute_result"
    }
   ],
   "source": [
    "train_images.shape"
   ]
  },
  {
   "cell_type": "markdown",
   "metadata": {
    "colab_type": "text",
    "id": "cIAcvQqMCaWf"
   },
   "source": [
    "Likewise, there are 60,000 labels in the training set:"
   ]
  },
  {
   "cell_type": "code",
   "execution_count": 12,
   "metadata": {
    "colab": {},
    "colab_type": "code",
    "id": "TRFYHB2mCaWb"
   },
   "outputs": [
    {
     "data": {
      "text/plain": [
       "60000"
      ]
     },
     "execution_count": 12,
     "metadata": {},
     "output_type": "execute_result"
    }
   ],
   "source": [
    "len(train_labels)"
   ]
  },
  {
   "cell_type": "markdown",
   "metadata": {
    "colab_type": "text",
    "id": "YSlYxFuRCaWk"
   },
   "source": [
    "Each label is an integer between 0 and 9:"
   ]
  },
  {
   "cell_type": "code",
   "execution_count": 13,
   "metadata": {
    "colab": {},
    "colab_type": "code",
    "id": "XKnCTHz4CaWg"
   },
   "outputs": [
    {
     "data": {
      "text/plain": [
       "array([9, 0, 0, ..., 3, 0, 5], dtype=uint8)"
      ]
     },
     "execution_count": 13,
     "metadata": {},
     "output_type": "execute_result"
    }
   ],
   "source": [
    "train_labels"
   ]
  },
  {
   "cell_type": "markdown",
   "metadata": {
    "colab_type": "text",
    "id": "TMPI88iZpO2T"
   },
   "source": [
    "There are 10,000 images in the test set. Again, each image is represented as 28 x 28 pixels:"
   ]
  },
  {
   "cell_type": "code",
   "execution_count": 14,
   "metadata": {
    "colab": {},
    "colab_type": "code",
    "id": "2KFnYlcwCaWl"
   },
   "outputs": [
    {
     "data": {
      "text/plain": [
       "(10000, 28, 28)"
      ]
     },
     "execution_count": 14,
     "metadata": {},
     "output_type": "execute_result"
    }
   ],
   "source": [
    "test_images.shape"
   ]
  },
  {
   "cell_type": "markdown",
   "metadata": {
    "colab_type": "text",
    "id": "rd0A0Iu0CaWq"
   },
   "source": [
    "And the test set contains 10,000 images labels:"
   ]
  },
  {
   "cell_type": "code",
   "execution_count": 15,
   "metadata": {
    "colab": {},
    "colab_type": "code",
    "id": "iJmPr5-ACaWn"
   },
   "outputs": [
    {
     "data": {
      "text/plain": [
       "10000"
      ]
     },
     "execution_count": 15,
     "metadata": {},
     "output_type": "execute_result"
    }
   ],
   "source": [
    "len(test_labels)"
   ]
  },
  {
   "cell_type": "markdown",
   "metadata": {
    "colab_type": "text",
    "id": "ES6uQoLKCaWr"
   },
   "source": [
    "#### Preprocess the data\n",
    "\n",
    "The data must be preprocessed before training the network. If you inspect the first image in the training set, you will see that the pixel values fall in the range of 0 to 255:"
   ]
  },
  {
   "cell_type": "code",
   "execution_count": 16,
   "metadata": {
    "colab": {},
    "colab_type": "code",
    "id": "m4VEw8Ud9Quh"
   },
   "outputs": [
    {
     "data": {
      "image/png": "[encoded data removed]",
      "text/plain": [
       "<Figure size 432x288 with 2 Axes>"
      ]
     },
     "metadata": {
      "needs_background": "light"
     },
     "output_type": "display_data"
    }
   ],
   "source": [
    "plt.figure()\n",
    "plt.imshow(train_images[0])\n",
    "plt.colorbar()\n",
    "plt.grid(False)\n",
    "plt.show()"
   ]
  },
  {
   "cell_type": "markdown",
   "metadata": {
    "colab_type": "text",
    "id": "Wz7l27Lz9S1P"
   },
   "source": [
    "Scale these values to a range of 0 to 1 before feeding them to the neural network model. To do so, divide the values by 255. It's important that the *training set* and the *testing set* be preprocessed in the same way:"
   ]
  },
  {
   "cell_type": "code",
   "execution_count": 17,
   "metadata": {
    "colab": {},
    "colab_type": "code",
    "id": "bW5WzIPlCaWv"
   },
   "outputs": [],
   "source": [
    "train_images = train_images / 255.0\n",
    "\n",
    "test_images = test_images / 255.0"
   ]
  },
  {
   "cell_type": "markdown",
   "metadata": {
    "colab_type": "text",
    "id": "Ee638AlnCaWz"
   },
   "source": [
    "To verify that the data is in the correct format and that you're ready to build and train the network, let's display the first 25 images from the *training set* and display the class name below each image."
   ]
  },
  {
   "cell_type": "code",
   "execution_count": 18,
   "metadata": {
    "colab": {},
    "colab_type": "code",
    "id": "oZTImqg_CaW1",
    "scrolled": true
   },
   "outputs": [
    {
     "data": {
      "image/png": "[encoded data removed]",
      "text/plain": [
       "<Figure size 720x720 with 25 Axes>"
      ]
     },
     "metadata": {},
     "output_type": "display_data"
    }
   ],
   "source": [
    "plt.figure(figsize=(10,10))\n",
    "for i in range(25):\n",
    "    plt.subplot(5,5,i+1)\n",
    "    plt.xticks([])\n",
    "    plt.yticks([])\n",
    "    plt.grid(False)\n",
    "    plt.imshow(train_images[i], cmap=plt.cm.binary)\n",
    "    plt.xlabel(class_names[train_labels[i]])\n",
    "plt.show()"
   ]
  },
  {
   "cell_type": "code",
   "execution_count": 19,
   "metadata": {},
   "outputs": [
    {
     "data": {
      "text/plain": [
       "10"
      ]
     },
     "execution_count": 19,
     "metadata": {},
     "output_type": "execute_result"
    }
   ],
   "source": [
    "len(CV_images)"
   ]
  },
  {
   "cell_type": "markdown",
   "metadata": {},
   "source": [
    "### Task 2:\n",
    "\n",
    "Prepare ten cross-validation data sets for  the 10 fold cross validation method using the partition of the data obtained in Task 1. In each of the set you should have 90% data for the training and 10% for testing. "
   ]
  },
  {
   "cell_type": "code",
   "execution_count": 35,
   "metadata": {},
   "outputs": [],
   "source": [
    "CV_images=CV_images/255.0"
   ]
  },
  {
   "cell_type": "markdown",
   "metadata": {},
   "source": [
    "There are many ways to prepare your data for cross-validation. One way is to use list *rearr* that one could use to create split randomly training set into ten equally sized parts. This commented code could be utilized in Task 1. "
   ]
  },
  {
   "cell_type": "code",
   "execution_count": 36,
   "metadata": {},
   "outputs": [],
   "source": [
    "#perm=np.random.permutation(60000)\n",
    "#rearr=perm.reshape(10,6000)\n",
    "#len(rearr)"
   ]
  },
  {
   "cell_type": "markdown",
   "metadata": {},
   "source": [
    "Here is an example how a list with the cross-validation data could be created. For illustration, it is presented for a small size of the data (12 data points, with 3 splits, 4 data points for test in a validation step and 8 for training in such a validation step. "
   ]
  },
  {
   "cell_type": "code",
   "execution_count": 95,
   "metadata": {},
   "outputs": [
    {
     "name": "stdout",
     "output_type": "stream",
     "text": [
      "[ 9  0  6  4  5 11  1 10  3  7  8  2]\n",
      "[[ 9  0  6  4]\n",
      " [ 5 11  1 10]\n",
      " [ 3  7  8  2]]\n"
     ]
    }
   ],
   "source": [
    "perm1=np.random.permutation(12)\n",
    "print(perm1)\n",
    "rearr1=perm1.reshape(3,4)\n",
    "print(rearr1)"
   ]
  },
  {
   "cell_type": "code",
   "execution_count": 96,
   "metadata": {},
   "outputs": [
    {
     "name": "stdout",
     "output_type": "stream",
     "text": [
      "[[9, 0, 6, 4], [5, 11, 1, 10]]\n",
      "[[[9, 0, 6, 4], [5, 11, 1, 10, 3, 7, 8, 2]]]\n"
     ]
    }
   ],
   "source": [
    "CVin=[list(rearr1[0]),list(rearr1[1])]\n",
    "print(CVin)\n",
    "for k in range(1):\n",
    "    CVin[1]=CVin[1]+list(rearr1[(k+2)%3])\n",
    "CVin=[CVin]    \n",
    "print(CVin)"
   ]
  },
  {
   "cell_type": "markdown",
   "metadata": {},
   "source": [
    "In the above I use the reminder of division of an integer by an integer as illustrated in the next line."
   ]
  },
  {
   "cell_type": "code",
   "execution_count": 97,
   "metadata": {},
   "outputs": [
    {
     "data": {
      "text/plain": [
       "2"
      ]
     },
     "execution_count": 97,
     "metadata": {},
     "output_type": "execute_result"
    }
   ],
   "source": [
    "5%3"
   ]
  },
  {
   "cell_type": "markdown",
   "metadata": {},
   "source": [
    "Assuming that the first grouping for the cross-validation is constructed above. We go for construction of the remaining two. "
   ]
  },
  {
   "cell_type": "code",
   "execution_count": 98,
   "metadata": {},
   "outputs": [
    {
     "name": "stdout",
     "output_type": "stream",
     "text": [
      "[[[9, 0, 6, 4], [5, 11, 1, 10, 3, 7, 8, 2]], [[5, 11, 1, 10], [3, 7, 8, 2, 9, 0, 6, 4]], [[3, 7, 8, 2], [9, 0, 6, 4, 5, 11, 1, 10]]]\n"
     ]
    }
   ],
   "source": [
    "for i in range(2):\n",
    "    C=[list(rearr1[i+1]),list(rearr1[(i+2)%3])]\n",
    "    for k in range(1):\n",
    "        C[1]=C[1]+list(rearr1[(i+3+k)%3])\n",
    "    CVin=CVin+[C]\n",
    "print(CVin)"
   ]
  },
  {
   "cell_type": "markdown",
   "metadata": {},
   "source": [
    "Once the indexes are defined in *CVin* subsampling from the data can be done as follows. The second testing CV data and the second training CV data are obtained in this simple example as follows."
   ]
  },
  {
   "cell_type": "code",
   "execution_count": 99,
   "metadata": {},
   "outputs": [
    {
     "data": {
      "text/plain": [
       "4"
      ]
     },
     "execution_count": 99,
     "metadata": {},
     "output_type": "execute_result"
    }
   ],
   "source": [
    "testCVim=train_images[CVin[1][0]]\n",
    "testCVlb=train_labels[CVin[1][0]]\n",
    "len(testCVim)"
   ]
  },
  {
   "cell_type": "code",
   "execution_count": 100,
   "metadata": {},
   "outputs": [
    {
     "data": {
      "text/plain": [
       "8"
      ]
     },
     "execution_count": 100,
     "metadata": {},
     "output_type": "execute_result"
    }
   ],
   "source": [
    "trainCVim=train_images[CVin[1][1]]\n",
    "trainCVlb=train_labels[CVin[1][1]]\n",
    "len(trainCVim)"
   ]
  },
  {
   "cell_type": "code",
   "execution_count": 101,
   "metadata": {},
   "outputs": [
    {
     "data": {
      "image/png": "[encoded data removed]",
      "text/plain": [
       "<Figure size 432x288 with 2 Axes>"
      ]
     },
     "metadata": {
      "needs_background": "light"
     },
     "output_type": "display_data"
    }
   ],
   "source": [
    "plt.figure()\n",
    "plt.imshow(trainCVim[0])\n",
    "plt.colorbar()\n",
    "plt.grid(False)\n",
    "plt.show()"
   ]
  },
  {
   "cell_type": "code",
   "execution_count": 102,
   "metadata": {},
   "outputs": [],
   "source": [
    "# importing time module  \n",
    "import time  \n",
    "  \n"
   ]
  },
  {
   "cell_type": "code",
   "execution_count": 118,
   "metadata": {},
   "outputs": [
    {
     "data": {
      "text/plain": [
       "0.05688786506652832"
      ]
     },
     "execution_count": 118,
     "metadata": {},
     "output_type": "execute_result"
    }
   ],
   "source": [
    "a=time.time()  #To clock the performance\n",
    "\n",
    "#We start with the first set for 10-fold validation\n",
    "\n",
    "CVin=[list(rearr[0]),list(rearr[1])]\n",
    "for k in range(8):\n",
    "    CVin[1]=CVin[1]+list(rearr[(k+2)%10])\n",
    "CVin=[CVin]   #Here the list is initiated with the first set in it \n",
    "\n",
    "\n",
    "#We turn to the next nine sets\n",
    "\n",
    "for i in range(9):\n",
    "    C=[list(rearr[i+1]),list(rearr[(i+2)%10])]\n",
    "    for k in range(8):\n",
    "        C[1]=C[1]+list(rearr[(i+3+k)%10])\n",
    "    CVin=CVin+[C]\n",
    "    \n",
    "time.time()-a"
   ]
  },
  {
   "cell_type": "markdown",
   "metadata": {},
   "source": [
    "The following code is an alternative method as suggested by Mathias Johansson. It is very compact although a bit slower. "
   ]
  },
  {
   "cell_type": "code",
   "execution_count": 116,
   "metadata": {
    "scrolled": true
   },
   "outputs": [
    {
     "data": {
      "text/plain": [
       "3.4306609630584717"
      ]
     },
     "execution_count": 116,
     "metadata": {},
     "output_type": "execute_result"
    }
   ],
   "source": [
    "a=time.time()  #To clock the performance\n",
    "\n",
    "\n",
    "\n",
    "\n",
    "#   The first containing all the data from the scrambled, not in the current out\n",
    "\n",
    "#   The second list is simply the outs.\n",
    "\n",
    "\n",
    "k_fold = [([_ for _ in perm if _ not in out], out) for out in rearr]\n",
    "\n",
    "\n",
    "    \n",
    "time.time()-a"
   ]
  },
  {
   "cell_type": "code",
   "execution_count": 104,
   "metadata": {
    "scrolled": true
   },
   "outputs": [
    {
     "name": "stdout",
     "output_type": "stream",
     "text": [
      "10\n",
      "2\n",
      "6000\n",
      "54000\n"
     ]
    }
   ],
   "source": [
    "print(len(CVin))\n",
    "print(len(CVin[0]))\n",
    "print(len(CVin[0][0]))\n",
    "print(len(CVin[1][1]))\n"
   ]
  },
  {
   "cell_type": "markdown",
   "metadata": {},
   "source": [
    "### Task 2:\n",
    "\n",
    "Print images of the first picture in each of the ten batches created for the cross-validation purposes. "
   ]
  },
  {
   "cell_type": "code",
   "execution_count": 20,
   "metadata": {},
   "outputs": [
    {
     "data": {
      "image/png": "[encoded data removed]",
      "text/plain": [
       "<Figure size 720x720 with 10 Axes>"
      ]
     },
     "metadata": {},
     "output_type": "display_data"
    }
   ],
   "source": [
    "plt.figure(figsize=(10,10))\n",
    "for i in range(10):\n",
    "    plt.subplot(2,5,i+1)\n",
    "    plt.xticks([])\n",
    "    plt.yticks([])\n",
    "    plt.grid(False)\n",
    "    plt.imshow(CV_images[i][1], cmap=plt.cm.binary)\n",
    "    plt.xlabel(class_names[CV_labels[i][1]])\n",
    "plt.show()"
   ]
  },
  {
   "cell_type": "markdown",
   "metadata": {
    "colab_type": "text",
    "id": "59veuiEZCaW4"
   },
   "source": [
    "### Build the model\n",
    "\n",
    "Building the neural network requires configuring the layers of the model, then compiling the model."
   ]
  },
  {
   "cell_type": "markdown",
   "metadata": {
    "colab_type": "text",
    "id": "Gxg1XGm0eOBy"
   },
   "source": [
    "#### Set up the layers\n",
    "\n",
    "The basic building block of a neural network is the *layer*. Layers extract representations from the data fed into them. Hopefully, these representations are meaningful for the problem at hand.\n",
    "\n",
    "Most of deep learning consists of chaining together simple layers. Most layers, such as `tf.keras.layers.Dense`, have parameters that are learned during training."
   ]
  },
  {
   "cell_type": "code",
   "execution_count": 21,
   "metadata": {
    "colab": {},
    "colab_type": "code",
    "id": "9ODch-OFCaW4"
   },
   "outputs": [],
   "source": [
    "model= keras.Sequential([\n",
    "    keras.layers.Flatten(input_shape=(28, 28)),\n",
    "    keras.layers.Dense(128, activation='relu'),\n",
    "    keras.layers.Dense(10, activation='softmax')\n",
    "])"
   ]
  },
  {
   "cell_type": "markdown",
   "metadata": {
    "colab_type": "text",
    "id": "gut8A_7rCaW6"
   },
   "source": [
    "The first layer in this network, `tf.keras.layers.Flatten`, transforms the format of the images from a two-dimensional array (of 28 by 28 pixels) to a one-dimensional array (of 28 * 28 = 784 pixels). Think of this layer as unstacking rows of pixels in the image and lining them up. This layer has no parameters to learn; it only reformats the data.\n",
    "\n",
    "After the pixels are flattened, the network consists of a sequence of two `tf.keras.layers.Dense` layers. These are densely connected, or fully connected, neural layers. The first `Dense` layer has 128 nodes (or neurons). The second (and last) layer is a 10-node *softmax* layer that returns an array of 10 probability scores that sum to 1. Each node contains a score that indicates the probability that the current image belongs to one of the 10 classes.\n",
    "\n",
    "### Compile the model\n",
    "\n",
    "Before the model is ready for training, it needs a few more settings. These are added during the model's *compile* step:\n",
    "\n",
    "* *Loss function* —This measures how accurate the model is during training. You want to minimize this function to \"steer\" the model in the right direction.\n",
    "* *Optimizer* —This is how the model is updated based on the data it sees and its loss function.\n",
    "* *Metrics* —Used to monitor the training and testing steps. The following example uses *accuracy*, the fraction of the images that are correctly classified."
   ]
  },
  {
   "cell_type": "code",
   "execution_count": 22,
   "metadata": {
    "colab": {},
    "colab_type": "code",
    "id": "Lhan11blCaW7"
   },
   "outputs": [],
   "source": [
    "model.compile(optimizer='adam',\n",
    "              loss='sparse_categorical_crossentropy',\n",
    "              metrics=['accuracy'])"
   ]
  },
  {
   "cell_type": "markdown",
   "metadata": {
    "colab_type": "text",
    "id": "qKF6uW-BCaW-"
   },
   "source": [
    "### Train the model\n",
    "\n",
    "Training the neural network model requires the following steps:\n",
    "\n",
    "1. Feed the training data to the model. In this example, the training data is in the `train_images` and `train_labels` arrays.\n",
    "2. The model learns to associate images and labels.\n",
    "3. You ask the model to make predictions about a test set—in this example, the `test_images` array. Verify that the predictions match the labels from the `test_labels` array.\n",
    "\n",
    "To start training,  call the `model.fit` method—so called because it \"fits\" the model to the training data:"
   ]
  },
  {
   "cell_type": "code",
   "execution_count": 23,
   "metadata": {
    "colab": {},
    "colab_type": "code",
    "id": "xvwvpA64CaW_"
   },
   "outputs": [
    {
     "name": "stdout",
     "output_type": "stream",
     "text": [
      "WARNING:tensorflow:From /Users/mats-ksp/.conda/envs/tensorflow/lib/python3.6/site-packages/tensorflow/python/ops/math_grad.py:1250: add_dispatch_support.<locals>.wrapper (from tensorflow.python.ops.array_ops) is deprecated and will be removed in a future version.\n",
      "Instructions for updating:\n",
      "Use tf.where in 2.0, which has the same broadcast rule as np.where\n",
      "Train on 60000 samples\n",
      "Epoch 1/10\n",
      "60000/60000 [==============================] - 3s 45us/sample - loss: 0.5064 - accuracy: 0.8229\n",
      "Epoch 2/10\n",
      "60000/60000 [==============================] - 2s 41us/sample - loss: 0.3791 - accuracy: 0.8637\n",
      "Epoch 3/10\n",
      "60000/60000 [==============================] - 3s 42us/sample - loss: 0.3385 - accuracy: 0.8767\n",
      "Epoch 4/10\n",
      "60000/60000 [==============================] - 3s 42us/sample - loss: 0.3136 - accuracy: 0.8843\n",
      "Epoch 5/10\n",
      "60000/60000 [==============================] - 3s 55us/sample - loss: 0.2959 - accuracy: 0.8909\n",
      "Epoch 6/10\n",
      "60000/60000 [==============================] - 4s 60us/sample - loss: 0.2804 - accuracy: 0.8958\n",
      "Epoch 7/10\n",
      "60000/60000 [==============================] - 3s 57us/sample - loss: 0.2670 - accuracy: 0.9008\n",
      "Epoch 8/10\n",
      "60000/60000 [==============================] - 3s 55us/sample - loss: 0.2581 - accuracy: 0.9044\n",
      "Epoch 9/10\n",
      "60000/60000 [==============================] - 3s 46us/sample - loss: 0.2472 - accuracy: 0.9088\n",
      "Epoch 10/10\n",
      "60000/60000 [==============================] - 3s 55us/sample - loss: 0.2373 - accuracy: 0.9106s - loss: 0.2380 \n"
     ]
    },
    {
     "data": {
      "text/plain": [
       "<tensorflow.python.keras.callbacks.History at 0x62f552748>"
      ]
     },
     "execution_count": 23,
     "metadata": {},
     "output_type": "execute_result"
    }
   ],
   "source": [
    "model.fit(train_images, train_labels, epochs=10)"
   ]
  },
  {
   "cell_type": "markdown",
   "metadata": {
    "colab_type": "text",
    "id": "W3ZVOhugCaXA"
   },
   "source": [
    "As the model trains, the loss and accuracy metrics are displayed. This model reaches an accuracy of about 0.88 (or 88%) on the training data."
   ]
  },
  {
   "cell_type": "markdown",
   "metadata": {
    "colab_type": "text",
    "id": "oEw4bZgGCaXB"
   },
   "source": [
    "#### Evaluate accuracy\n",
    "\n",
    "Next, compare how the model performs on the test dataset:"
   ]
  },
  {
   "cell_type": "code",
   "execution_count": 24,
   "metadata": {
    "colab": {},
    "colab_type": "code",
    "id": "VflXLEeECaXC"
   },
   "outputs": [
    {
     "name": "stdout",
     "output_type": "stream",
     "text": [
      "10000/10000 - 0s - loss: 0.3441 - accuracy: 0.8827\n",
      "\n",
      "Test accuracy: 0.8827\n"
     ]
    }
   ],
   "source": [
    "test_loss, test_acc = model.evaluate(test_images,  test_labels, verbose=2)\n",
    "\n",
    "print('\\nTest accuracy:', test_acc)"
   ]
  },
  {
   "cell_type": "markdown",
   "metadata": {
    "colab_type": "text",
    "id": "yWfgsmVXCaXG"
   },
   "source": [
    "It turns out that the accuracy on the test dataset is a little less than the accuracy on the training dataset. This gap between training accuracy and test accuracy represents *overfitting*. Overfitting is when a machine learning model performs worse on new, previously unseen inputs than on the training data."
   ]
  },
  {
   "cell_type": "markdown",
   "metadata": {},
   "source": [
    "### Task 3:\n",
    "\n",
    "Consider five other designs of neural networks that you would test on the above data set. In your design change the number of layers and the number of neuron per layer but preserve the total number of neurons.\n"
   ]
  },
  {
   "cell_type": "markdown",
   "metadata": {},
   "source": [
    "#### Design No. 1\n"
   ]
  },
  {
   "cell_type": "code",
   "execution_count": 85,
   "metadata": {
    "colab": {},
    "colab_type": "code",
    "id": "9ODch-OFCaW4"
   },
   "outputs": [],
   "source": [
    "model1 = keras.Sequential([\n",
    "    keras.layers.Flatten(input_shape=(28, 28)),\n",
    "    keras.layers.Dense(88, activation='relu'),\n",
    "    keras.layers.Dense(40, activation='relu'),\n",
    "    keras.layers.Dense(10, activation='softmax'),\n",
    "])"
   ]
  },
  {
   "cell_type": "code",
   "execution_count": 86,
   "metadata": {
    "colab": {},
    "colab_type": "code",
    "id": "Lhan11blCaW7"
   },
   "outputs": [],
   "source": [
    "model1.compile(optimizer='adam',\n",
    "              loss='sparse_categorical_crossentropy',\n",
    "              metrics=['accuracy'])"
   ]
  },
  {
   "cell_type": "markdown",
   "metadata": {},
   "source": [
    "#### Design No. 2\n"
   ]
  },
  {
   "cell_type": "code",
   "execution_count": 87,
   "metadata": {
    "colab": {},
    "colab_type": "code",
    "id": "9ODch-OFCaW4"
   },
   "outputs": [],
   "source": [
    "model2 = keras.Sequential([\n",
    "    keras.layers.Flatten(input_shape=(28, 28)),\n",
    "    keras.layers.Dense(20, activation='relu'),\n",
    "    keras.layers.Dense(108, activation='relu'),\n",
    "    keras.layers.Dense(10, activation='softmax'),\n",
    "])"
   ]
  },
  {
   "cell_type": "code",
   "execution_count": 88,
   "metadata": {
    "colab": {},
    "colab_type": "code",
    "id": "Lhan11blCaW7"
   },
   "outputs": [],
   "source": [
    "model2.compile(optimizer='adam',\n",
    "              loss='sparse_categorical_crossentropy',\n",
    "              metrics=['accuracy'])"
   ]
  },
  {
   "cell_type": "markdown",
   "metadata": {},
   "source": [
    "#### Design No. 3\n"
   ]
  },
  {
   "cell_type": "code",
   "execution_count": 89,
   "metadata": {
    "colab": {},
    "colab_type": "code",
    "id": "9ODch-OFCaW4"
   },
   "outputs": [],
   "source": [
    "model3 = keras.Sequential([\n",
    "    keras.layers.Flatten(input_shape=(28, 28)),\n",
    "    keras.layers.Dense(110, activation='relu'),\n",
    "    keras.layers.Dense(18, activation='relu'),\n",
    "    keras.layers.Dense(10, activation='softmax'),\n",
    "])"
   ]
  },
  {
   "cell_type": "code",
   "execution_count": 90,
   "metadata": {
    "colab": {},
    "colab_type": "code",
    "id": "Lhan11blCaW7"
   },
   "outputs": [],
   "source": [
    "model3.compile(optimizer='adam',\n",
    "              loss='sparse_categorical_crossentropy',\n",
    "              metrics=['accuracy'])"
   ]
  },
  {
   "cell_type": "markdown",
   "metadata": {},
   "source": [
    "#### Design No. 4\n"
   ]
  },
  {
   "cell_type": "code",
   "execution_count": 91,
   "metadata": {
    "colab": {},
    "colab_type": "code",
    "id": "9ODch-OFCaW4"
   },
   "outputs": [],
   "source": [
    "model4 = keras.Sequential([\n",
    "    keras.layers.Flatten(input_shape=(28, 28)),\n",
    "    keras.layers.Dense(48, activation='relu'),\n",
    "    keras.layers.Dense(40, activation='relu'),\n",
    "    keras.layers.Dense(40, activation='relu'),\n",
    "    keras.layers.Dense(10,activation='softmax'),\n",
    "])"
   ]
  },
  {
   "cell_type": "code",
   "execution_count": 92,
   "metadata": {
    "colab": {},
    "colab_type": "code",
    "id": "Lhan11blCaW7"
   },
   "outputs": [],
   "source": [
    "model4.compile(optimizer='adam',\n",
    "              loss='sparse_categorical_crossentropy',\n",
    "              metrics=['accuracy'])"
   ]
  },
  {
   "cell_type": "markdown",
   "metadata": {},
   "source": [
    "#### Design No. 5\n"
   ]
  },
  {
   "cell_type": "code",
   "execution_count": 93,
   "metadata": {
    "colab": {},
    "colab_type": "code",
    "id": "9ODch-OFCaW4"
   },
   "outputs": [],
   "source": [
    "model5 = keras.Sequential([\n",
    "    keras.layers.Flatten(input_shape=(28, 28)),\n",
    "    keras.layers.Dense(50, activation='relu'),\n",
    "    keras.layers.Dense(20, activation='relu'),\n",
    "    keras.layers.Dense(58, activation='relu'),\n",
    "    keras.layers.Dense(10, activation='softmax'),\n",
    "])"
   ]
  },
  {
   "cell_type": "code",
   "execution_count": 94,
   "metadata": {
    "colab": {},
    "colab_type": "code",
    "id": "Lhan11blCaW7"
   },
   "outputs": [],
   "source": [
    "model5.compile(optimizer='adam',\n",
    "              loss='sparse_categorical_crossentropy',\n",
    "              metrics=['accuracy'])"
   ]
  },
  {
   "cell_type": "markdown",
   "metadata": {},
   "source": [
    "### Inspect the model\n",
    "\n",
    "Use the `.summary` method to print a simple description of the model"
   ]
  },
  {
   "cell_type": "code",
   "execution_count": 106,
   "metadata": {},
   "outputs": [
    {
     "name": "stdout",
     "output_type": "stream",
     "text": [
      "Model: \"sequential\"\n",
      "_________________________________________________________________\n",
      "Layer (type)                 Output Shape              Param #   \n",
      "=================================================================\n",
      "flatten (Flatten)            (None, 784)               0         \n",
      "_________________________________________________________________\n",
      "dense (Dense)                (None, 128)               100480    \n",
      "_________________________________________________________________\n",
      "dense_1 (Dense)              (None, 10)                1290      \n",
      "=================================================================\n",
      "Total params: 101,770\n",
      "Trainable params: 101,770\n",
      "Non-trainable params: 0\n",
      "_________________________________________________________________\n"
     ]
    }
   ],
   "source": [
    "model.summary()"
   ]
  },
  {
   "cell_type": "code",
   "execution_count": 105,
   "metadata": {
    "scrolled": true
   },
   "outputs": [
    {
     "name": "stdout",
     "output_type": "stream",
     "text": [
      "Model: \"sequential_6\"\n",
      "_________________________________________________________________\n",
      "Layer (type)                 Output Shape              Param #   \n",
      "=================================================================\n",
      "flatten_6 (Flatten)          (None, 784)               0         \n",
      "_________________________________________________________________\n",
      "dense_19 (Dense)             (None, 88)                69080     \n",
      "_________________________________________________________________\n",
      "dense_20 (Dense)             (None, 40)                3560      \n",
      "_________________________________________________________________\n",
      "dense_21 (Dense)             (None, 10)                410       \n",
      "=================================================================\n",
      "Total params: 73,050\n",
      "Trainable params: 73,050\n",
      "Non-trainable params: 0\n",
      "_________________________________________________________________\n"
     ]
    }
   ],
   "source": [
    "model1.summary()"
   ]
  },
  {
   "cell_type": "code",
   "execution_count": 107,
   "metadata": {},
   "outputs": [
    {
     "name": "stdout",
     "output_type": "stream",
     "text": [
      "Model: \"sequential_7\"\n",
      "_________________________________________________________________\n",
      "Layer (type)                 Output Shape              Param #   \n",
      "=================================================================\n",
      "flatten_7 (Flatten)          (None, 784)               0         \n",
      "_________________________________________________________________\n",
      "dense_22 (Dense)             (None, 20)                15700     \n",
      "_________________________________________________________________\n",
      "dense_23 (Dense)             (None, 108)               2268      \n",
      "_________________________________________________________________\n",
      "dense_24 (Dense)             (None, 10)                1090      \n",
      "=================================================================\n",
      "Total params: 19,058\n",
      "Trainable params: 19,058\n",
      "Non-trainable params: 0\n",
      "_________________________________________________________________\n"
     ]
    }
   ],
   "source": [
    "model2.summary()"
   ]
  },
  {
   "cell_type": "code",
   "execution_count": 108,
   "metadata": {},
   "outputs": [
    {
     "name": "stdout",
     "output_type": "stream",
     "text": [
      "Model: \"sequential_8\"\n",
      "_________________________________________________________________\n",
      "Layer (type)                 Output Shape              Param #   \n",
      "=================================================================\n",
      "flatten_8 (Flatten)          (None, 784)               0         \n",
      "_________________________________________________________________\n",
      "dense_25 (Dense)             (None, 110)               86350     \n",
      "_________________________________________________________________\n",
      "dense_26 (Dense)             (None, 18)                1998      \n",
      "_________________________________________________________________\n",
      "dense_27 (Dense)             (None, 10)                190       \n",
      "=================================================================\n",
      "Total params: 88,538\n",
      "Trainable params: 88,538\n",
      "Non-trainable params: 0\n",
      "_________________________________________________________________\n"
     ]
    }
   ],
   "source": [
    "model3.summary()"
   ]
  },
  {
   "cell_type": "code",
   "execution_count": 109,
   "metadata": {},
   "outputs": [
    {
     "name": "stdout",
     "output_type": "stream",
     "text": [
      "Model: \"sequential_9\"\n",
      "_________________________________________________________________\n",
      "Layer (type)                 Output Shape              Param #   \n",
      "=================================================================\n",
      "flatten_9 (Flatten)          (None, 784)               0         \n",
      "_________________________________________________________________\n",
      "dense_28 (Dense)             (None, 48)                37680     \n",
      "_________________________________________________________________\n",
      "dense_29 (Dense)             (None, 40)                1960      \n",
      "_________________________________________________________________\n",
      "dense_30 (Dense)             (None, 40)                1640      \n",
      "_________________________________________________________________\n",
      "dense_31 (Dense)             (None, 10)                410       \n",
      "=================================================================\n",
      "Total params: 41,690\n",
      "Trainable params: 41,690\n",
      "Non-trainable params: 0\n",
      "_________________________________________________________________\n"
     ]
    }
   ],
   "source": [
    "model4.summary()"
   ]
  },
  {
   "cell_type": "code",
   "execution_count": 110,
   "metadata": {},
   "outputs": [
    {
     "name": "stdout",
     "output_type": "stream",
     "text": [
      "Model: \"sequential_10\"\n",
      "_________________________________________________________________\n",
      "Layer (type)                 Output Shape              Param #   \n",
      "=================================================================\n",
      "flatten_10 (Flatten)         (None, 784)               0         \n",
      "_________________________________________________________________\n",
      "dense_32 (Dense)             (None, 50)                39250     \n",
      "_________________________________________________________________\n",
      "dense_33 (Dense)             (None, 20)                1020      \n",
      "_________________________________________________________________\n",
      "dense_34 (Dense)             (None, 58)                1218      \n",
      "_________________________________________________________________\n",
      "dense_35 (Dense)             (None, 10)                590       \n",
      "=================================================================\n",
      "Total params: 42,078\n",
      "Trainable params: 42,078\n",
      "Non-trainable params: 0\n",
      "_________________________________________________________________\n"
     ]
    }
   ],
   "source": [
    "model5.summary()"
   ]
  },
  {
   "cell_type": "markdown",
   "metadata": {},
   "source": [
    "### Task 5:\n",
    "\n",
    "Use the 10 fold cross validation method to investigate the performance of the networks designed by you as well as the the one that was originally trained above (for the total of six networks). Select the one that based on the performed cross validation worked best. "
   ]
  },
  {
   "cell_type": "code",
   "execution_count": 111,
   "metadata": {},
   "outputs": [
    {
     "name": "stdout",
     "output_type": "stream",
     "text": [
      "Help on method fit in module tensorflow.python.keras.engine.training:\n",
      "\n",
      "fit(x=None, y=None, batch_size=None, epochs=1, verbose=1, callbacks=None, validation_split=0.0, validation_data=None, shuffle=True, class_weight=None, sample_weight=None, initial_epoch=0, steps_per_epoch=None, validation_steps=None, validation_freq=1, max_queue_size=10, workers=1, use_multiprocessing=False, **kwargs) method of tensorflow.python.keras.engine.sequential.Sequential instance\n",
      "    Trains the model for a fixed number of epochs (iterations on a dataset).\n",
      "    \n",
      "    Arguments:\n",
      "        x: Input data. It could be:\n",
      "          - A Numpy array (or array-like), or a list of arrays\n",
      "            (in case the model has multiple inputs).\n",
      "          - A TensorFlow tensor, or a list of tensors\n",
      "            (in case the model has multiple inputs).\n",
      "          - A dict mapping input names to the corresponding array/tensors,\n",
      "            if the model has named inputs.\n",
      "          - A `tf.data` dataset or a dataset iterator. Should return a tuple\n",
      "            of either `(inputs, targets)` or\n",
      "            `(inputs, targets, sample_weights)`.\n",
      "          - A generator or `keras.utils.Sequence` returning `(inputs, targets)`\n",
      "            or `(inputs, targets, sample weights)`.\n",
      "        y: Target data. Like the input data `x`,\n",
      "          it could be either Numpy array(s) or TensorFlow tensor(s).\n",
      "          It should be consistent with `x` (you cannot have Numpy inputs and\n",
      "          tensor targets, or inversely). If `x` is a dataset, dataset\n",
      "          iterator, generator, or `keras.utils.Sequence` instance, `y` should\n",
      "          not be specified (since targets will be obtained from `x`).\n",
      "        batch_size: Integer or `None`.\n",
      "            Number of samples per gradient update.\n",
      "            If unspecified, `batch_size` will default to 32.\n",
      "            Do not specify the `batch_size` if your data is in the\n",
      "            form of symbolic tensors, dataset, dataset iterators,\n",
      "            generators, or `keras.utils.Sequence` instances (since they generate\n",
      "            batches).\n",
      "        epochs: Integer. Number of epochs to train the model.\n",
      "            An epoch is an iteration over the entire `x` and `y`\n",
      "            data provided.\n",
      "            Note that in conjunction with `initial_epoch`,\n",
      "            `epochs` is to be understood as \"final epoch\".\n",
      "            The model is not trained for a number of iterations\n",
      "            given by `epochs`, but merely until the epoch\n",
      "            of index `epochs` is reached.\n",
      "        verbose: 0, 1, or 2. Verbosity mode.\n",
      "            0 = silent, 1 = progress bar, 2 = one line per epoch.\n",
      "            Note that the progress bar is not particularly useful when\n",
      "            logged to a file, so verbose=2 is recommended when not running\n",
      "            interactively (eg, in a production environment).\n",
      "        callbacks: List of `keras.callbacks.Callback` instances.\n",
      "            List of callbacks to apply during training.\n",
      "            See `tf.keras.callbacks`.\n",
      "        validation_split: Float between 0 and 1.\n",
      "            Fraction of the training data to be used as validation data.\n",
      "            The model will set apart this fraction of the training data,\n",
      "            will not train on it, and will evaluate\n",
      "            the loss and any model metrics\n",
      "            on this data at the end of each epoch.\n",
      "            The validation data is selected from the last samples\n",
      "            in the `x` and `y` data provided, before shuffling. This argument is\n",
      "            not supported when `x` is a dataset, dataset iterator, generator or\n",
      "           `keras.utils.Sequence` instance.\n",
      "        validation_data: Data on which to evaluate\n",
      "            the loss and any model metrics at the end of each epoch.\n",
      "            The model will not be trained on this data.\n",
      "            `validation_data` will override `validation_split`.\n",
      "            `validation_data` could be:\n",
      "              - tuple `(x_val, y_val)` of Numpy arrays or tensors\n",
      "              - tuple `(x_val, y_val, val_sample_weights)` of Numpy arrays\n",
      "              - dataset or a dataset iterator\n",
      "            For the first two cases, `batch_size` must be provided.\n",
      "            For the last case, `validation_steps` must be provided.\n",
      "        shuffle: Boolean (whether to shuffle the training data\n",
      "            before each epoch) or str (for 'batch').\n",
      "            'batch' is a special option for dealing with the\n",
      "            limitations of HDF5 data; it shuffles in batch-sized chunks.\n",
      "            Has no effect when `steps_per_epoch` is not `None`.\n",
      "        class_weight: Optional dictionary mapping class indices (integers)\n",
      "            to a weight (float) value, used for weighting the loss function\n",
      "            (during training only).\n",
      "            This can be useful to tell the model to\n",
      "            \"pay more attention\" to samples from\n",
      "            an under-represented class.\n",
      "        sample_weight: Optional Numpy array of weights for\n",
      "            the training samples, used for weighting the loss function\n",
      "            (during training only). You can either pass a flat (1D)\n",
      "            Numpy array with the same length as the input samples\n",
      "            (1:1 mapping between weights and samples),\n",
      "            or in the case of temporal data,\n",
      "            you can pass a 2D array with shape\n",
      "            `(samples, sequence_length)`,\n",
      "            to apply a different weight to every timestep of every sample.\n",
      "            In this case you should make sure to specify\n",
      "            `sample_weight_mode=\"temporal\"` in `compile()`. This argument is not\n",
      "            supported when `x` is a dataset, dataset iterator, generator, or\n",
      "           `keras.utils.Sequence` instance, instead provide the sample_weights\n",
      "            as the third element of `x`.\n",
      "        initial_epoch: Integer.\n",
      "            Epoch at which to start training\n",
      "            (useful for resuming a previous training run).\n",
      "        steps_per_epoch: Integer or `None`.\n",
      "            Total number of steps (batches of samples)\n",
      "            before declaring one epoch finished and starting the\n",
      "            next epoch. When training with input tensors such as\n",
      "            TensorFlow data tensors, the default `None` is equal to\n",
      "            the number of samples in your dataset divided by\n",
      "            the batch size, or 1 if that cannot be determined. If x is a\n",
      "            `tf.data` dataset or a dataset iterator, and 'steps_per_epoch'\n",
      "            is None, the epoch will run until the input dataset is exhausted.\n",
      "        validation_steps: Only relevant if `validation_data` is provided and\n",
      "            is a dataset or dataset iterator. Total number of steps (batches of\n",
      "            samples) to draw before stopping when performing validation\n",
      "            at the end of every epoch. If validation_data is a `tf.data` dataset\n",
      "            or a dataset iterator, and 'validation_steps' is None, validation\n",
      "            will run until the `validation_data` dataset is exhausted.\n",
      "        validation_freq: Only relevant if validation data is provided. Integer\n",
      "            or `collections.Container` instance (e.g. list, tuple, etc.). If an\n",
      "            integer, specifies how many training epochs to run before a new\n",
      "            validation run is performed, e.g. `validation_freq=2` runs\n",
      "            validation every 2 epochs. If a Container, specifies the epochs on\n",
      "            which to run validation, e.g. `validation_freq=[1, 2, 10]` runs\n",
      "            validation at the end of the 1st, 2nd, and 10th epochs.\n",
      "        max_queue_size: Integer. Used for generator or `keras.utils.Sequence`\n",
      "            input only. Maximum size for the generator queue.\n",
      "            If unspecified, `max_queue_size` will default to 10.\n",
      "        workers: Integer. Used for generator or `keras.utils.Sequence` input\n",
      "            only. Maximum number of processes to spin up\n",
      "            when using process-based threading. If unspecified, `workers`\n",
      "            will default to 1. If 0, will execute the generator on the main\n",
      "            thread.\n",
      "        use_multiprocessing: Boolean. Used for generator or\n",
      "            `keras.utils.Sequence` input only. If `True`, use process-based\n",
      "            threading. If unspecified, `use_multiprocessing` will default to\n",
      "            `False`. Note that because this implementation relies on\n",
      "            multiprocessing, you should not pass non-picklable arguments to\n",
      "            the generator as they can't be passed easily to children processes.\n",
      "        **kwargs: Used for backwards compatibility.\n",
      "    \n",
      "    Returns:\n",
      "        A `History` object. Its `History.history` attribute is\n",
      "        a record of training loss values and metrics values\n",
      "        at successive epochs, as well as validation loss values\n",
      "        and validation metrics values (if applicable).\n",
      "    \n",
      "    Raises:\n",
      "        RuntimeError: If the model was never compiled.\n",
      "        ValueError: In case of mismatch between the provided input data\n",
      "            and what the model expects.\n",
      "\n"
     ]
    }
   ],
   "source": [
    "help(model.fit)"
   ]
  },
  {
   "cell_type": "code",
   "execution_count": 129,
   "metadata": {},
   "outputs": [
    {
     "name": "stdout",
     "output_type": "stream",
     "text": [
      "Train on 54000 samples\n",
      "Epoch 1/10\n",
      "54000/54000 [==============================] - 2s 43us/sample - loss: 0.5080 - accuracy: 0.8214\n",
      "Epoch 2/10\n",
      "54000/54000 [==============================] - 2s 40us/sample - loss: 0.3853 - accuracy: 0.8607\n",
      "Epoch 3/10\n",
      "54000/54000 [==============================] - 2s 40us/sample - loss: 0.3426 - accuracy: 0.8759\n",
      "Epoch 4/10\n",
      "54000/54000 [==============================] - 2s 40us/sample - loss: 0.3200 - accuracy: 0.8822\n",
      "Epoch 5/10\n",
      "54000/54000 [==============================] - 2s 40us/sample - loss: 0.2982 - accuracy: 0.8891\n",
      "Epoch 6/10\n",
      "54000/54000 [==============================] - 2s 40us/sample - loss: 0.2842 - accuracy: 0.8944\n",
      "Epoch 7/10\n",
      "54000/54000 [==============================] - 2s 40us/sample - loss: 0.2714 - accuracy: 0.9003\n",
      "Epoch 8/10\n",
      "54000/54000 [==============================] - 2s 40us/sample - loss: 0.2586 - accuracy: 0.9036\n",
      "Epoch 9/10\n",
      "54000/54000 [==============================] - 2s 40us/sample - loss: 0.2494 - accuracy: 0.9074\n",
      "Epoch 10/10\n",
      "54000/54000 [==============================] - 2s 40us/sample - loss: 0.2409 - accuracy: 0.9108\n",
      "6000/6000 - 0s - loss: 0.3397 - accuracy: 0.8797\n",
      "Train on 54000 samples\n",
      "Epoch 1/10\n",
      "54000/54000 [==============================] - 2s 43us/sample - loss: 0.5099 - accuracy: 0.8222\n",
      "Epoch 2/10\n",
      "54000/54000 [==============================] - 2s 41us/sample - loss: 0.3763 - accuracy: 0.8634\n",
      "Epoch 3/10\n",
      "54000/54000 [==============================] - 2s 42us/sample - loss: 0.3424 - accuracy: 0.8755\n",
      "Epoch 4/10\n",
      "54000/54000 [==============================] - 2s 41us/sample - loss: 0.3157 - accuracy: 0.8833s - loss: 0.3155 - accuracy: 0.88\n",
      "Epoch 5/10\n",
      "54000/54000 [==============================] - 2s 43us/sample - loss: 0.2962 - accuracy: 0.8905\n",
      "Epoch 6/10\n",
      "54000/54000 [==============================] - 3s 60us/sample - loss: 0.2826 - accuracy: 0.8959\n",
      "Epoch 7/10\n",
      "54000/54000 [==============================] - 3s 48us/sample - loss: 0.2715 - accuracy: 0.8979\n",
      "Epoch 8/10\n",
      "54000/54000 [==============================] - 3s 54us/sample - loss: 0.2588 - accuracy: 0.9030\n",
      "Epoch 9/10\n",
      "54000/54000 [==============================] - 2s 46us/sample - loss: 0.2483 - accuracy: 0.9078\n",
      "Epoch 10/10\n",
      "54000/54000 [==============================] - 2s 42us/sample - loss: 0.2395 - accuracy: 0.9109\n",
      "6000/6000 - 0s - loss: 0.3260 - accuracy: 0.8853\n",
      "Train on 54000 samples\n",
      "Epoch 1/10\n",
      "54000/54000 [==============================] - 2s 44us/sample - loss: 0.5050 - accuracy: 0.8218\n",
      "Epoch 2/10\n",
      "54000/54000 [==============================] - 2s 43us/sample - loss: 0.3796 - accuracy: 0.8646\n",
      "Epoch 3/10\n",
      "54000/54000 [==============================] - 3s 52us/sample - loss: 0.3407 - accuracy: 0.8756\n",
      "Epoch 4/10\n",
      "54000/54000 [==============================] - 3s 53us/sample - loss: 0.3169 - accuracy: 0.8835s -\n",
      "Epoch 5/10\n",
      "54000/54000 [==============================] - 3s 63us/sample - loss: 0.2969 - accuracy: 0.8923\n",
      "Epoch 6/10\n",
      "54000/54000 [==============================] - 3s 49us/sample - loss: 0.2832 - accuracy: 0.8954s - loss: 0.2821 - \n",
      "Epoch 7/10\n",
      "54000/54000 [==============================] - 3s 61us/sample - loss: 0.2715 - accuracy: 0.8999s - loss: 0.2705 - accuracy\n",
      "Epoch 8/10\n",
      "54000/54000 [==============================] - 3s 60us/sample - loss: 0.2606 - accuracy: 0.9035\n",
      "Epoch 9/10\n",
      "54000/54000 [==============================] - 2s 44us/sample - loss: 0.2515 - accuracy: 0.9065\n",
      "Epoch 10/10\n",
      "54000/54000 [==============================] - 2s 44us/sample - loss: 0.2429 - accuracy: 0.9084\n",
      "6000/6000 - 0s - loss: 0.3227 - accuracy: 0.8830\n",
      "Train on 54000 samples\n",
      "Epoch 1/10\n",
      "54000/54000 [==============================] - 3s 47us/sample - loss: 0.5178 - accuracy: 0.8185\n",
      "Epoch 2/10\n",
      "54000/54000 [==============================] - 3s 47us/sample - loss: 0.3824 - accuracy: 0.8614\n",
      "Epoch 3/10\n",
      "54000/54000 [==============================] - 3s 49us/sample - loss: 0.3437 - accuracy: 0.8748\n",
      "Epoch 4/10\n",
      "54000/54000 [==============================] - 2s 44us/sample - loss: 0.3174 - accuracy: 0.8839\n",
      "Epoch 5/10\n",
      "54000/54000 [==============================] - 3s 48us/sample - loss: 0.2972 - accuracy: 0.8914s - loss: 0.2971 - accuracy: \n",
      "Epoch 6/10\n",
      "54000/54000 [==============================] - 3s 51us/sample - loss: 0.2865 - accuracy: 0.8938\n",
      "Epoch 7/10\n",
      "54000/54000 [==============================] - 2s 46us/sample - loss: 0.2724 - accuracy: 0.8987\n",
      "Epoch 8/10\n",
      "54000/54000 [==============================] - 2s 43us/sample - loss: 0.2600 - accuracy: 0.9025\n",
      "Epoch 9/10\n",
      "54000/54000 [==============================] - 2s 45us/sample - loss: 0.2538 - accuracy: 0.9050\n",
      "Epoch 10/10\n",
      "54000/54000 [==============================] - 2s 43us/sample - loss: 0.2424 - accuracy: 0.9089\n",
      "6000/6000 - 0s - loss: 0.3018 - accuracy: 0.8963\n",
      "Train on 54000 samples\n",
      "Epoch 1/10\n",
      "54000/54000 [==============================] - 3s 47us/sample - loss: 0.5109 - accuracy: 0.8227\n",
      "Epoch 2/10\n",
      "54000/54000 [==============================] - 3s 47us/sample - loss: 0.3793 - accuracy: 0.8626\n",
      "Epoch 3/10\n",
      "54000/54000 [==============================] - 2s 44us/sample - loss: 0.3435 - accuracy: 0.8760\n",
      "Epoch 4/10\n",
      "54000/54000 [==============================] - 2s 44us/sample - loss: 0.3182 - accuracy: 0.8833s - l\n",
      "Epoch 5/10\n",
      "54000/54000 [==============================] - 2s 45us/sample - loss: 0.3007 - accuracy: 0.8902\n",
      "Epoch 6/10\n",
      "54000/54000 [==============================] - 2s 41us/sample - loss: 0.2871 - accuracy: 0.8937\n",
      "Epoch 7/10\n",
      "54000/54000 [==============================] - 2s 39us/sample - loss: 0.2730 - accuracy: 0.8988\n",
      "Epoch 8/10\n",
      "54000/54000 [==============================] - 2s 39us/sample - loss: 0.2639 - accuracy: 0.9019\n",
      "Epoch 9/10\n",
      "54000/54000 [==============================] - 2s 38us/sample - loss: 0.2528 - accuracy: 0.9058\n",
      "Epoch 10/10\n",
      "54000/54000 [==============================] - 2s 37us/sample - loss: 0.2447 - accuracy: 0.9085\n",
      "6000/6000 - 0s - loss: 0.2809 - accuracy: 0.8955\n",
      "Train on 54000 samples\n",
      "Epoch 1/10\n",
      "54000/54000 [==============================] - 2s 39us/sample - loss: 0.5054 - accuracy: 0.8218\n",
      "Epoch 2/10\n",
      "54000/54000 [==============================] - 2s 39us/sample - loss: 0.3792 - accuracy: 0.8649\n",
      "Epoch 3/10\n",
      "54000/54000 [==============================] - 2s 36us/sample - loss: 0.3415 - accuracy: 0.8761\n",
      "Epoch 4/10\n",
      "54000/54000 [==============================] - 2s 39us/sample - loss: 0.3139 - accuracy: 0.8850\n",
      "Epoch 5/10\n",
      "54000/54000 [==============================] - 2s 38us/sample - loss: 0.2962 - accuracy: 0.8901\n",
      "Epoch 6/10\n",
      "54000/54000 [==============================] - 2s 38us/sample - loss: 0.2801 - accuracy: 0.8964\n",
      "Epoch 7/10\n",
      "54000/54000 [==============================] - 2s 39us/sample - loss: 0.2683 - accuracy: 0.8998\n",
      "Epoch 8/10\n",
      "54000/54000 [==============================] - 2s 38us/sample - loss: 0.2569 - accuracy: 0.9042\n",
      "Epoch 9/10\n",
      "54000/54000 [==============================] - 2s 38us/sample - loss: 0.2473 - accuracy: 0.9066\n",
      "Epoch 10/10\n",
      "54000/54000 [==============================] - 2s 38us/sample - loss: 0.2357 - accuracy: 0.9122\n",
      "6000/6000 - 0s - loss: 0.3025 - accuracy: 0.8915\n",
      "Train on 54000 samples\n",
      "Epoch 1/10\n",
      "54000/54000 [==============================] - 2s 39us/sample - loss: 0.5089 - accuracy: 0.8200\n",
      "Epoch 2/10\n",
      "54000/54000 [==============================] - 2s 37us/sample - loss: 0.3822 - accuracy: 0.8623\n",
      "Epoch 3/10\n",
      "54000/54000 [==============================] - 2s 45us/sample - loss: 0.3423 - accuracy: 0.8744\n",
      "Epoch 4/10\n",
      "54000/54000 [==============================] - 2s 37us/sample - loss: 0.3181 - accuracy: 0.8830\n",
      "Epoch 5/10\n",
      "54000/54000 [==============================] - 2s 37us/sample - loss: 0.3014 - accuracy: 0.8882\n",
      "Epoch 6/10\n",
      "54000/54000 [==============================] - 2s 39us/sample - loss: 0.2849 - accuracy: 0.8946\n",
      "Epoch 7/10\n",
      "54000/54000 [==============================] - 2s 38us/sample - loss: 0.2702 - accuracy: 0.9001\n",
      "Epoch 8/10\n",
      "54000/54000 [==============================] - 2s 38us/sample - loss: 0.2611 - accuracy: 0.9031\n",
      "Epoch 9/10\n",
      "54000/54000 [==============================] - 2s 37us/sample - loss: 0.2505 - accuracy: 0.9078\n",
      "Epoch 10/10\n",
      "54000/54000 [==============================] - 2s 39us/sample - loss: 0.2406 - accuracy: 0.9097\n",
      "6000/6000 - 0s - loss: 0.3071 - accuracy: 0.8880\n",
      "Train on 54000 samples\n",
      "Epoch 1/10\n",
      "54000/54000 [==============================] - 2s 42us/sample - loss: 0.5113 - accuracy: 0.8195\n",
      "Epoch 2/10\n",
      "54000/54000 [==============================] - 2s 41us/sample - loss: 0.3859 - accuracy: 0.8611\n",
      "Epoch 3/10\n",
      "54000/54000 [==============================] - 2s 41us/sample - loss: 0.3438 - accuracy: 0.8739s - loss: 0.3432 - accura\n",
      "Epoch 4/10\n",
      "54000/54000 [==============================] - 2s 43us/sample - loss: 0.3211 - accuracy: 0.8829s - l\n",
      "Epoch 5/10\n",
      "54000/54000 [==============================] - 2s 44us/sample - loss: 0.2992 - accuracy: 0.8899\n",
      "Epoch 6/10\n",
      "54000/54000 [==============================] - 2s 44us/sample - loss: 0.2869 - accuracy: 0.8936\n",
      "Epoch 7/10\n",
      "54000/54000 [==============================] - 2s 40us/sample - loss: 0.2759 - accuracy: 0.8972s - loss: 0.2756 - accuracy: \n",
      "Epoch 8/10\n",
      "54000/54000 [==============================] - 2s 42us/sample - loss: 0.2627 - accuracy: 0.9016\n",
      "Epoch 9/10\n",
      "54000/54000 [==============================] - 2s 42us/sample - loss: 0.2525 - accuracy: 0.9061\n",
      "Epoch 10/10\n",
      "54000/54000 [==============================] - 2s 44us/sample - loss: 0.2426 - accuracy: 0.9091\n",
      "6000/6000 - 0s - loss: 0.2848 - accuracy: 0.9008\n",
      "Train on 54000 samples\n",
      "Epoch 1/10\n",
      "54000/54000 [==============================] - 3s 46us/sample - loss: 0.5161 - accuracy: 0.8182\n",
      "Epoch 2/10\n",
      "54000/54000 [==============================] - 2s 41us/sample - loss: 0.3851 - accuracy: 0.8610\n",
      "Epoch 3/10\n",
      "54000/54000 [==============================] - 2s 45us/sample - loss: 0.3451 - accuracy: 0.8735\n",
      "Epoch 4/10\n",
      "54000/54000 [==============================] - 2s 44us/sample - loss: 0.3203 - accuracy: 0.8832\n",
      "Epoch 5/10\n",
      "54000/54000 [==============================] - 2s 43us/sample - loss: 0.3007 - accuracy: 0.8889\n",
      "Epoch 6/10\n",
      "54000/54000 [==============================] - 2s 44us/sample - loss: 0.2870 - accuracy: 0.8946\n",
      "Epoch 7/10\n",
      "54000/54000 [==============================] - 2s 43us/sample - loss: 0.2735 - accuracy: 0.8985\n",
      "Epoch 8/10\n",
      "54000/54000 [==============================] - 2s 43us/sample - loss: 0.2643 - accuracy: 0.9016s - loss: 0.2640 - accuracy\n",
      "Epoch 9/10\n",
      "54000/54000 [==============================] - 2s 41us/sample - loss: 0.2519 - accuracy: 0.9062\n",
      "Epoch 10/10\n",
      "54000/54000 [==============================] - 2s 42us/sample - loss: 0.2427 - accuracy: 0.9086\n",
      "6000/6000 - 0s - loss: 0.3179 - accuracy: 0.8895\n",
      "Train on 54000 samples\n",
      "Epoch 1/10\n",
      "54000/54000 [==============================] - 2s 44us/sample - loss: 0.5053 - accuracy: 0.8214\n",
      "Epoch 2/10\n",
      "54000/54000 [==============================] - 2s 43us/sample - loss: 0.3837 - accuracy: 0.8631\n",
      "Epoch 3/10\n",
      "54000/54000 [==============================] - 2s 43us/sample - loss: 0.3423 - accuracy: 0.8749\n",
      "Epoch 4/10\n",
      "54000/54000 [==============================] - 2s 43us/sample - loss: 0.3185 - accuracy: 0.8829\n",
      "Epoch 5/10\n",
      "54000/54000 [==============================] - 2s 45us/sample - loss: 0.3006 - accuracy: 0.8883\n",
      "Epoch 6/10\n",
      "54000/54000 [==============================] - 2s 45us/sample - loss: 0.2869 - accuracy: 0.8941\n",
      "Epoch 7/10\n",
      "54000/54000 [==============================] - 2s 43us/sample - loss: 0.2718 - accuracy: 0.8986\n",
      "Epoch 8/10\n",
      "54000/54000 [==============================] - 2s 41us/sample - loss: 0.2619 - accuracy: 0.9021\n",
      "Epoch 9/10\n",
      "54000/54000 [==============================] - 2s 37us/sample - loss: 0.2526 - accuracy: 0.9051\n",
      "Epoch 10/10\n",
      "54000/54000 [==============================] - 2s 37us/sample - loss: 0.2431 - accuracy: 0.9102\n",
      "6000/6000 - 0s - loss: 0.3267 - accuracy: 0.8818\n"
     ]
    },
    {
     "data": {
      "text/plain": [
       "0.8891500055789947"
      ]
     },
     "execution_count": 129,
     "metadata": {},
     "output_type": "execute_result"
    }
   ],
   "source": [
    "a=0\n",
    "for k in range(10):\n",
    "    testCVim=train_images[CVin[k][0]]\n",
    "    testCVlb=train_labels[CVin[k][0]]\n",
    "    trainCVim=train_images[CVin[k][1]]\n",
    "    trainCVlb=train_labels[CVin[k][1]]\n",
    "    del model\n",
    "#The following part of redfining the model is necessary since the values of the parameters are somehow remembered\n",
    "#and the crossvalidation does not work. \n",
    "\n",
    "    model= keras.Sequential([\n",
    "        keras.layers.Flatten(input_shape=(28, 28)),\n",
    "        keras.layers.Dense(128, activation='relu'),\n",
    "        keras.layers.Dense(10, activation='softmax')\n",
    "        ])\n",
    "    model.compile(optimizer='adam',\n",
    "              loss='sparse_categorical_crossentropy',\n",
    "              metrics=['accuracy'])\n",
    "#The end of redefining of the model\n",
    "\n",
    "    model.fit(trainCVim, trainCVlb, epochs=10)\n",
    "    test_loss, test_acc = model.evaluate(testCVim,  testCVlb, verbose=2)\n",
    "    a=a+test_acc\n",
    "accu=a/10\n",
    "accu"
   ]
  },
  {
   "cell_type": "code",
   "execution_count": 130,
   "metadata": {},
   "outputs": [
    {
     "name": "stdout",
     "output_type": "stream",
     "text": [
      "Train on 54000 samples\n",
      "Epoch 1/10\n",
      "54000/54000 [==============================] - 3s 51us/sample - loss: 0.5187 - accuracy: 0.8168\n",
      "Epoch 2/10\n",
      "54000/54000 [==============================] - 2s 42us/sample - loss: 0.3796 - accuracy: 0.8636\n",
      "Epoch 3/10\n",
      "54000/54000 [==============================] - 2s 43us/sample - loss: 0.3452 - accuracy: 0.8734\n",
      "Epoch 4/10\n",
      "54000/54000 [==============================] - 2s 40us/sample - loss: 0.3214 - accuracy: 0.8817\n",
      "Epoch 5/10\n",
      "54000/54000 [==============================] - 2s 39us/sample - loss: 0.3050 - accuracy: 0.8873\n",
      "Epoch 6/10\n",
      "54000/54000 [==============================] - 2s 40us/sample - loss: 0.2934 - accuracy: 0.8914\n",
      "Epoch 7/10\n",
      "54000/54000 [==============================] - 2s 40us/sample - loss: 0.2763 - accuracy: 0.8979\n",
      "Epoch 8/10\n",
      "54000/54000 [==============================] - 2s 44us/sample - loss: 0.2694 - accuracy: 0.8998\n",
      "Epoch 9/10\n",
      "54000/54000 [==============================] - 3s 58us/sample - loss: 0.2601 - accuracy: 0.9023\n",
      "Epoch 10/10\n",
      "54000/54000 [==============================] - 3s 48us/sample - loss: 0.2515 - accuracy: 0.9062\n",
      "6000/6000 - 0s - loss: 0.3200 - accuracy: 0.8843\n",
      "Train on 54000 samples\n",
      "Epoch 1/10\n",
      "54000/54000 [==============================] - 3s 51us/sample - loss: 0.5212 - accuracy: 0.8164\n",
      "Epoch 2/10\n",
      "54000/54000 [==============================] - 3s 63us/sample - loss: 0.3811 - accuracy: 0.8619\n",
      "Epoch 3/10\n",
      "54000/54000 [==============================] - 3s 56us/sample - loss: 0.3450 - accuracy: 0.8749\n",
      "Epoch 4/10\n",
      "54000/54000 [==============================] - 3s 46us/sample - loss: 0.3217 - accuracy: 0.8817\n",
      "Epoch 5/10\n",
      "54000/54000 [==============================] - 2s 46us/sample - loss: 0.3048 - accuracy: 0.8855\n",
      "Epoch 6/10\n",
      "54000/54000 [==============================] - 2s 45us/sample - loss: 0.2914 - accuracy: 0.8929\n",
      "Epoch 7/10\n",
      "54000/54000 [==============================] - 2s 45us/sample - loss: 0.2759 - accuracy: 0.8967\n",
      "Epoch 8/10\n",
      "54000/54000 [==============================] - 2s 46us/sample - loss: 0.2671 - accuracy: 0.8996\n",
      "Epoch 9/10\n",
      "54000/54000 [==============================] - 3s 63us/sample - loss: 0.2581 - accuracy: 0.9040\n",
      "Epoch 10/10\n",
      "54000/54000 [==============================] - 4s 67us/sample - loss: 0.2511 - accuracy: 0.9064\n",
      "6000/6000 - 0s - loss: 0.3464 - accuracy: 0.8840\n",
      "Train on 54000 samples\n",
      "Epoch 1/10\n",
      "54000/54000 [==============================] - 4s 69us/sample - loss: 0.5188 - accuracy: 0.8180\n",
      "Epoch 2/10\n",
      "54000/54000 [==============================] - 3s 51us/sample - loss: 0.3833 - accuracy: 0.8602\n",
      "Epoch 3/10\n",
      "54000/54000 [==============================] - 4s 65us/sample - loss: 0.3441 - accuracy: 0.8744\n",
      "Epoch 4/10\n",
      "54000/54000 [==============================] - 3s 61us/sample - loss: 0.3220 - accuracy: 0.8809s\n",
      "Epoch 5/10\n",
      "54000/54000 [==============================] - 3s 52us/sample - loss: 0.3048 - accuracy: 0.8872\n",
      "Epoch 6/10\n",
      "54000/54000 [==============================] - 3s 53us/sample - loss: 0.2899 - accuracy: 0.8940\n",
      "Epoch 7/10\n",
      "54000/54000 [==============================] - 3s 57us/sample - loss: 0.2789 - accuracy: 0.8978\n",
      "Epoch 8/10\n",
      "54000/54000 [==============================] - 3s 49us/sample - loss: 0.2713 - accuracy: 0.8994\n",
      "Epoch 9/10\n",
      "54000/54000 [==============================] - 3s 50us/sample - loss: 0.2603 - accuracy: 0.9035\n",
      "Epoch 10/10\n",
      "54000/54000 [==============================] - 3s 51us/sample - loss: 0.2519 - accuracy: 0.9071\n",
      "6000/6000 - 0s - loss: 0.3292 - accuracy: 0.8827\n",
      "Train on 54000 samples\n",
      "Epoch 1/10\n",
      "54000/54000 [==============================] - 3s 51us/sample - loss: 0.5220 - accuracy: 0.8163\n",
      "Epoch 2/10\n",
      "54000/54000 [==============================] - 3s 50us/sample - loss: 0.3857 - accuracy: 0.8594\n",
      "Epoch 3/10\n",
      "54000/54000 [==============================] - 2s 41us/sample - loss: 0.3472 - accuracy: 0.8733\n",
      "Epoch 4/10\n",
      "54000/54000 [==============================] - 2s 42us/sample - loss: 0.3262 - accuracy: 0.8796\n",
      "Epoch 5/10\n",
      "54000/54000 [==============================] - 3s 50us/sample - loss: 0.3050 - accuracy: 0.8861s - loss: 0.3046 - accuracy: 0.\n",
      "Epoch 6/10\n",
      "54000/54000 [==============================] - 3s 47us/sample - loss: 0.2903 - accuracy: 0.8918\n",
      "Epoch 7/10\n",
      "54000/54000 [==============================] - 2s 43us/sample - loss: 0.2828 - accuracy: 0.8950\n",
      "Epoch 8/10\n",
      "54000/54000 [==============================] - 2s 42us/sample - loss: 0.2685 - accuracy: 0.8998\n",
      "Epoch 9/10\n",
      "54000/54000 [==============================] - 2s 42us/sample - loss: 0.2601 - accuracy: 0.9018\n",
      "Epoch 10/10\n",
      "54000/54000 [==============================] - 2s 40us/sample - loss: 0.2523 - accuracy: 0.9062\n",
      "6000/6000 - 0s - loss: 0.3126 - accuracy: 0.8950\n",
      "Train on 54000 samples\n",
      "Epoch 1/10\n",
      "54000/54000 [==============================] - 2s 45us/sample - loss: 0.5286 - accuracy: 0.8133\n",
      "Epoch 2/10\n",
      "54000/54000 [==============================] - 2s 41us/sample - loss: 0.3869 - accuracy: 0.8597\n",
      "Epoch 3/10\n",
      "54000/54000 [==============================] - 3s 51us/sample - loss: 0.3517 - accuracy: 0.8716\n",
      "Epoch 4/10\n",
      "54000/54000 [==============================] - 2s 41us/sample - loss: 0.3286 - accuracy: 0.8795\n",
      "Epoch 5/10\n",
      "54000/54000 [==============================] - 2s 44us/sample - loss: 0.3105 - accuracy: 0.8864\n",
      "Epoch 6/10\n",
      "54000/54000 [==============================] - 2s 41us/sample - loss: 0.2962 - accuracy: 0.8901\n",
      "Epoch 7/10\n",
      "54000/54000 [==============================] - 2s 42us/sample - loss: 0.2845 - accuracy: 0.8939\n",
      "Epoch 8/10\n",
      "54000/54000 [==============================] - 2s 41us/sample - loss: 0.2729 - accuracy: 0.8983\n",
      "Epoch 9/10\n",
      "54000/54000 [==============================] - 3s 64us/sample - loss: 0.2626 - accuracy: 0.9021\n",
      "Epoch 10/10\n",
      "54000/54000 [==============================] - 3s 64us/sample - loss: 0.2545 - accuracy: 0.9036\n",
      "6000/6000 - 0s - loss: 0.2919 - accuracy: 0.8928\n",
      "Train on 54000 samples\n",
      "Epoch 1/10\n",
      "54000/54000 [==============================] - 4s 68us/sample - loss: 0.5203 - accuracy: 0.8153\n",
      "Epoch 2/10\n",
      "54000/54000 [==============================] - 4s 71us/sample - loss: 0.3868 - accuracy: 0.8603\n",
      "Epoch 3/10\n",
      "54000/54000 [==============================] - 3s 54us/sample - loss: 0.3465 - accuracy: 0.8740\n",
      "Epoch 4/10\n",
      "54000/54000 [==============================] - 3s 48us/sample - loss: 0.3231 - accuracy: 0.8823s - loss: - ETA: 0s\n",
      "Epoch 5/10\n",
      "54000/54000 [==============================] - 3s 47us/sample - loss: 0.3027 - accuracy: 0.8889\n",
      "Epoch 6/10\n",
      "54000/54000 [==============================] - 3s 48us/sample - loss: 0.2915 - accuracy: 0.8929\n",
      "Epoch 7/10\n",
      "54000/54000 [==============================] - 3s 51us/sample - loss: 0.2775 - accuracy: 0.8969\n",
      "Epoch 8/10\n",
      "54000/54000 [==============================] - 3s 49us/sample - loss: 0.2681 - accuracy: 0.9001\n",
      "Epoch 9/10\n",
      "54000/54000 [==============================] - 3s 63us/sample - loss: 0.2544 - accuracy: 0.9046\n",
      "Epoch 10/10\n",
      "54000/54000 [==============================] - 2s 44us/sample - loss: 0.2496 - accuracy: 0.9054s - loss: 0.2488 - \n",
      "6000/6000 - 0s - loss: 0.3254 - accuracy: 0.8862\n",
      "Train on 54000 samples\n",
      "Epoch 1/10\n",
      "54000/54000 [==============================] - 3s 48us/sample - loss: 0.5138 - accuracy: 0.8188\n",
      "Epoch 2/10\n",
      "54000/54000 [==============================] - 3s 49us/sample - loss: 0.3817 - accuracy: 0.8627\n",
      "Epoch 3/10\n",
      "54000/54000 [==============================] - 3s 60us/sample - loss: 0.3474 - accuracy: 0.8734\n",
      "Epoch 4/10\n",
      "54000/54000 [==============================] - 3s 49us/sample - loss: 0.3227 - accuracy: 0.8824\n",
      "Epoch 5/10\n",
      "54000/54000 [==============================] - 2s 40us/sample - loss: 0.3060 - accuracy: 0.8864s - loss: 0.3058 - accu\n",
      "Epoch 6/10\n",
      "54000/54000 [==============================] - 2s 40us/sample - loss: 0.2923 - accuracy: 0.8914\n",
      "Epoch 7/10\n",
      "54000/54000 [==============================] - 2s 40us/sample - loss: 0.2768 - accuracy: 0.8962\n",
      "Epoch 8/10\n",
      "54000/54000 [==============================] - 2s 40us/sample - loss: 0.2694 - accuracy: 0.9001\n",
      "Epoch 9/10\n",
      "54000/54000 [==============================] - 3s 48us/sample - loss: 0.2589 - accuracy: 0.9035\n",
      "Epoch 10/10\n",
      "54000/54000 [==============================] - 2s 40us/sample - loss: 0.2493 - accuracy: 0.9066\n",
      "6000/6000 - 0s - loss: 0.3429 - accuracy: 0.8772\n",
      "Train on 54000 samples\n",
      "Epoch 1/10\n",
      "54000/54000 [==============================] - 2s 43us/sample - loss: 0.5256 - accuracy: 0.8135\n",
      "Epoch 2/10\n",
      "54000/54000 [==============================] - 2s 41us/sample - loss: 0.3869 - accuracy: 0.8600\n",
      "Epoch 3/10\n",
      "54000/54000 [==============================] - 2s 40us/sample - loss: 0.3461 - accuracy: 0.8722s - los\n",
      "Epoch 4/10\n",
      "54000/54000 [==============================] - 2s 34us/sample - loss: 0.3237 - accuracy: 0.8804\n",
      "Epoch 5/10\n",
      "54000/54000 [==============================] - 2s 34us/sample - loss: 0.3041 - accuracy: 0.8865\n",
      "Epoch 6/10\n",
      "54000/54000 [==============================] - 2s 34us/sample - loss: 0.2919 - accuracy: 0.8913\n",
      "Epoch 7/10\n",
      "54000/54000 [==============================] - 2s 36us/sample - loss: 0.2794 - accuracy: 0.8957\n",
      "Epoch 8/10\n",
      "54000/54000 [==============================] - 2s 36us/sample - loss: 0.2663 - accuracy: 0.9005\n",
      "Epoch 9/10\n",
      "54000/54000 [==============================] - 2s 34us/sample - loss: 0.2601 - accuracy: 0.9025\n",
      "Epoch 10/10\n",
      "54000/54000 [==============================] - 2s 34us/sample - loss: 0.2516 - accuracy: 0.9066\n",
      "6000/6000 - 0s - loss: 0.3446 - accuracy: 0.8872\n",
      "Train on 54000 samples\n",
      "Epoch 1/10\n",
      "54000/54000 [==============================] - 2s 36us/sample - loss: 0.5238 - accuracy: 0.8160\n",
      "Epoch 2/10\n",
      "54000/54000 [==============================] - 2s 33us/sample - loss: 0.3862 - accuracy: 0.8611\n",
      "Epoch 3/10\n",
      "54000/54000 [==============================] - 2s 34us/sample - loss: 0.3497 - accuracy: 0.8730\n",
      "Epoch 4/10\n",
      "54000/54000 [==============================] - 2s 33us/sample - loss: 0.3264 - accuracy: 0.8788\n",
      "Epoch 5/10\n",
      "54000/54000 [==============================] - 2s 34us/sample - loss: 0.3046 - accuracy: 0.8865\n",
      "Epoch 6/10\n",
      "54000/54000 [==============================] - 2s 33us/sample - loss: 0.2924 - accuracy: 0.8903\n",
      "Epoch 7/10\n",
      "54000/54000 [==============================] - 2s 33us/sample - loss: 0.2804 - accuracy: 0.8946\n",
      "Epoch 8/10\n",
      "54000/54000 [==============================] - 2s 33us/sample - loss: 0.2690 - accuracy: 0.8992\n",
      "Epoch 9/10\n",
      "54000/54000 [==============================] - 2s 34us/sample - loss: 0.2610 - accuracy: 0.9014\n",
      "Epoch 10/10\n",
      "54000/54000 [==============================] - 2s 34us/sample - loss: 0.2505 - accuracy: 0.9072\n",
      "6000/6000 - 0s - loss: 0.3158 - accuracy: 0.8863\n",
      "Train on 54000 samples\n",
      "Epoch 1/10\n",
      "54000/54000 [==============================] - 2s 41us/sample - loss: 0.5190 - accuracy: 0.8170\n",
      "Epoch 2/10\n",
      "54000/54000 [==============================] - 3s 46us/sample - loss: 0.3771 - accuracy: 0.8630\n",
      "Epoch 3/10\n",
      "54000/54000 [==============================] - 3s 49us/sample - loss: 0.3421 - accuracy: 0.8746\n",
      "Epoch 4/10\n",
      "54000/54000 [==============================] - 3s 48us/sample - loss: 0.3204 - accuracy: 0.8814\n",
      "Epoch 5/10\n",
      "54000/54000 [==============================] - 3s 47us/sample - loss: 0.3024 - accuracy: 0.8880\n",
      "Epoch 6/10\n",
      "54000/54000 [==============================] - 3s 56us/sample - loss: 0.2891 - accuracy: 0.8924\n",
      "Epoch 7/10\n",
      "54000/54000 [==============================] - 3s 48us/sample - loss: 0.2741 - accuracy: 0.8980\n",
      "Epoch 8/10\n",
      "54000/54000 [==============================] - 3s 49us/sample - loss: 0.2653 - accuracy: 0.9007\n",
      "Epoch 9/10\n",
      "54000/54000 [==============================] - 3s 55us/sample - loss: 0.2539 - accuracy: 0.9052\n",
      "Epoch 10/10\n",
      "54000/54000 [==============================] - 4s 65us/sample - loss: 0.2461 - accuracy: 0.9067\n",
      "6000/6000 - 0s - loss: 0.3497 - accuracy: 0.8795\n"
     ]
    },
    {
     "data": {
      "text/plain": [
       "0.8855166673660279"
      ]
     },
     "execution_count": 130,
     "metadata": {},
     "output_type": "execute_result"
    }
   ],
   "source": [
    "a1=0\n",
    "for k in range(10):\n",
    "    testCVim=train_images[CVin[k][0]]\n",
    "    testCVlb=train_labels[CVin[k][0]]\n",
    "    trainCVim=train_images[CVin[k][1]]\n",
    "    trainCVlb=train_labels[CVin[k][1]]\n",
    "    model1 = keras.Sequential([\n",
    "        keras.layers.Flatten(input_shape=(28, 28)),\n",
    "        keras.layers.Dense(88, activation='relu'),\n",
    "        keras.layers.Dense(40, activation='relu'),\n",
    "        keras.layers.Dense(10, activation='softmax'),\n",
    "        ])\n",
    "    model1.compile(optimizer='adam',\n",
    "              loss='sparse_categorical_crossentropy',\n",
    "              metrics=['accuracy'])\n",
    "    model1.fit(trainCVim, trainCVlb, epochs=10)\n",
    "    test_loss, test_acc = model1.evaluate(testCVim,  testCVlb, verbose=2)\n",
    "    a1=a1+test_acc\n",
    "a1/10\n",
    "accu1=a1/10\n",
    "accu1"
   ]
  },
  {
   "cell_type": "code",
   "execution_count": 131,
   "metadata": {},
   "outputs": [
    {
     "name": "stdout",
     "output_type": "stream",
     "text": [
      "Train on 54000 samples\n",
      "Epoch 1/10\n",
      "54000/54000 [==============================] - 2s 42us/sample - loss: 0.5579 - accuracy: 0.8040\n",
      "Epoch 2/10\n",
      "54000/54000 [==============================] - 2s 41us/sample - loss: 0.4079 - accuracy: 0.8528\n",
      "Epoch 3/10\n",
      "54000/54000 [==============================] - 2s 40us/sample - loss: 0.3758 - accuracy: 0.8637\n",
      "Epoch 4/10\n",
      "54000/54000 [==============================] - 3s 47us/sample - loss: 0.3535 - accuracy: 0.8713\n",
      "Epoch 5/10\n",
      "54000/54000 [==============================] - 2s 46us/sample - loss: 0.3380 - accuracy: 0.8776\n",
      "Epoch 6/10\n",
      "54000/54000 [==============================] - 2s 41us/sample - loss: 0.3269 - accuracy: 0.8794\n",
      "Epoch 7/10\n",
      "54000/54000 [==============================] - 2s 39us/sample - loss: 0.3143 - accuracy: 0.8836\n",
      "Epoch 8/10\n",
      "54000/54000 [==============================] - 2s 39us/sample - loss: 0.3067 - accuracy: 0.8861\n",
      "Epoch 9/10\n",
      "54000/54000 [==============================] - 2s 39us/sample - loss: 0.2976 - accuracy: 0.8903\n",
      "Epoch 10/10\n",
      "54000/54000 [==============================] - 2s 39us/sample - loss: 0.2903 - accuracy: 0.8915\n",
      "6000/6000 - 0s - loss: 0.3390 - accuracy: 0.8802\n",
      "Train on 54000 samples\n",
      "Epoch 1/10\n",
      "54000/54000 [==============================] - 3s 52us/sample - loss: 0.5423 - accuracy: 0.8105\n",
      "Epoch 2/10\n",
      "54000/54000 [==============================] - 3s 58us/sample - loss: 0.3909 - accuracy: 0.8583\n",
      "Epoch 3/10\n",
      "54000/54000 [==============================] - 2s 44us/sample - loss: 0.3490 - accuracy: 0.8729\n",
      "Epoch 4/10\n",
      "54000/54000 [==============================] - 2s 43us/sample - loss: 0.3237 - accuracy: 0.8809\n",
      "Epoch 5/10\n",
      "54000/54000 [==============================] - 2s 42us/sample - loss: 0.3054 - accuracy: 0.8861\n",
      "Epoch 6/10\n",
      "54000/54000 [==============================] - 2s 42us/sample - loss: 0.2932 - accuracy: 0.8909\n",
      "Epoch 7/10\n",
      "54000/54000 [==============================] - 2s 42us/sample - loss: 0.2795 - accuracy: 0.8967\n",
      "Epoch 8/10\n",
      "54000/54000 [==============================] - 2s 42us/sample - loss: 0.2684 - accuracy: 0.8994\n",
      "Epoch 9/10\n",
      "54000/54000 [==============================] - 2s 42us/sample - loss: 0.2610 - accuracy: 0.9027\n",
      "Epoch 10/10\n",
      "54000/54000 [==============================] - 2s 43us/sample - loss: 0.2499 - accuracy: 0.9067\n",
      "6000/6000 - 0s - loss: 0.3185 - accuracy: 0.8872\n",
      "Train on 54000 samples\n",
      "Epoch 1/10\n",
      "54000/54000 [==============================] - 2s 41us/sample - loss: 0.5455 - accuracy: 0.8055\n",
      "Epoch 2/10\n",
      "54000/54000 [==============================] - 2s 38us/sample - loss: 0.3934 - accuracy: 0.8574\n",
      "Epoch 3/10\n",
      "54000/54000 [==============================] - 2s 38us/sample - loss: 0.3564 - accuracy: 0.8695\n",
      "Epoch 4/10\n",
      "54000/54000 [==============================] - 2s 38us/sample - loss: 0.3356 - accuracy: 0.8767\n",
      "Epoch 5/10\n",
      "54000/54000 [==============================] - 2s 39us/sample - loss: 0.3205 - accuracy: 0.8816\n",
      "Epoch 6/10\n",
      "54000/54000 [==============================] - 2s 38us/sample - loss: 0.3089 - accuracy: 0.8851s - loss: 0.3092 - accuracy: 0.88\n",
      "Epoch 7/10\n",
      "54000/54000 [==============================] - 2s 38us/sample - loss: 0.2981 - accuracy: 0.8901\n",
      "Epoch 8/10\n",
      "54000/54000 [==============================] - 2s 38us/sample - loss: 0.2876 - accuracy: 0.8941\n",
      "Epoch 9/10\n",
      "54000/54000 [==============================] - 2s 38us/sample - loss: 0.2789 - accuracy: 0.8963\n",
      "Epoch 10/10\n",
      "54000/54000 [==============================] - 2s 38us/sample - loss: 0.2735 - accuracy: 0.8979\n",
      "6000/6000 - 0s - loss: 0.3235 - accuracy: 0.8853\n",
      "Train on 54000 samples\n",
      "Epoch 1/10\n",
      "54000/54000 [==============================] - 2s 42us/sample - loss: 0.5524 - accuracy: 0.8039\n",
      "Epoch 2/10\n",
      "54000/54000 [==============================] - 2s 40us/sample - loss: 0.3985 - accuracy: 0.8561\n",
      "Epoch 3/10\n",
      "54000/54000 [==============================] - 2s 39us/sample - loss: 0.3633 - accuracy: 0.8686\n",
      "Epoch 4/10\n",
      "54000/54000 [==============================] - 2s 39us/sample - loss: 0.3410 - accuracy: 0.8748\n",
      "Epoch 5/10\n",
      "54000/54000 [==============================] - 2s 39us/sample - loss: 0.3260 - accuracy: 0.8800\n",
      "Epoch 6/10\n",
      "54000/54000 [==============================] - 2s 39us/sample - loss: 0.3084 - accuracy: 0.8870\n",
      "Epoch 7/10\n",
      "54000/54000 [==============================] - 2s 39us/sample - loss: 0.2973 - accuracy: 0.8906\n",
      "Epoch 8/10\n",
      "54000/54000 [==============================] - 2s 40us/sample - loss: 0.2850 - accuracy: 0.8943\n",
      "Epoch 9/10\n",
      "54000/54000 [==============================] - 2s 39us/sample - loss: 0.2758 - accuracy: 0.8971\n",
      "Epoch 10/10\n",
      "54000/54000 [==============================] - 2s 39us/sample - loss: 0.2689 - accuracy: 0.8997\n",
      "6000/6000 - 0s - loss: 0.3290 - accuracy: 0.8867\n",
      "Train on 54000 samples\n",
      "Epoch 1/10\n",
      "54000/54000 [==============================] - 2s 37us/sample - loss: 0.5513 - accuracy: 0.8030\n",
      "Epoch 2/10\n",
      "54000/54000 [==============================] - 2s 35us/sample - loss: 0.4040 - accuracy: 0.8533\n",
      "Epoch 3/10\n",
      "54000/54000 [==============================] - 2s 35us/sample - loss: 0.3716 - accuracy: 0.8651\n",
      "Epoch 4/10\n",
      "54000/54000 [==============================] - 2s 37us/sample - loss: 0.3512 - accuracy: 0.8704\n",
      "Epoch 5/10\n",
      "54000/54000 [==============================] - 2s 42us/sample - loss: 0.3336 - accuracy: 0.8761\n",
      "Epoch 6/10\n",
      "54000/54000 [==============================] - 2s 40us/sample - loss: 0.3201 - accuracy: 0.8811\n",
      "Epoch 7/10\n",
      "54000/54000 [==============================] - 2s 40us/sample - loss: 0.3104 - accuracy: 0.8840\n",
      "Epoch 8/10\n",
      "54000/54000 [==============================] - 2s 41us/sample - loss: 0.3020 - accuracy: 0.8873\n",
      "Epoch 9/10\n",
      "54000/54000 [==============================] - 2s 39us/sample - loss: 0.2960 - accuracy: 0.8880\n",
      "Epoch 10/10\n",
      "54000/54000 [==============================] - 2s 39us/sample - loss: 0.2894 - accuracy: 0.8910s - loss: 0.2903 - accuracy\n",
      "6000/6000 - 0s - loss: 0.3424 - accuracy: 0.8830\n",
      "Train on 54000 samples\n",
      "Epoch 1/10\n",
      "54000/54000 [==============================] - 3s 51us/sample - loss: 0.5397 - accuracy: 0.8109\n",
      "Epoch 2/10\n",
      "54000/54000 [==============================] - 3s 48us/sample - loss: 0.3859 - accuracy: 0.8609\n",
      "Epoch 3/10\n",
      "54000/54000 [==============================] - 3s 49us/sample - loss: 0.3484 - accuracy: 0.8721\n",
      "Epoch 4/10\n",
      "54000/54000 [==============================] - 3s 49us/sample - loss: 0.3226 - accuracy: 0.8805s - los\n",
      "Epoch 5/10\n",
      "54000/54000 [==============================] - 3s 49us/sample - loss: 0.3037 - accuracy: 0.8880\n",
      "Epoch 6/10\n",
      "54000/54000 [==============================] - 3s 49us/sample - loss: 0.2909 - accuracy: 0.8914\n",
      "Epoch 7/10\n",
      "54000/54000 [==============================] - 3s 48us/sample - loss: 0.2762 - accuracy: 0.8963\n",
      "Epoch 8/10\n",
      "54000/54000 [==============================] - 3s 49us/sample - loss: 0.2667 - accuracy: 0.9007\n",
      "Epoch 9/10\n",
      "54000/54000 [==============================] - 3s 49us/sample - loss: 0.2589 - accuracy: 0.9030\n",
      "Epoch 10/10\n",
      "54000/54000 [==============================] - 3s 49us/sample - loss: 0.2492 - accuracy: 0.9074\n",
      "6000/6000 - 0s - loss: 0.3326 - accuracy: 0.8828\n",
      "Train on 54000 samples\n",
      "Epoch 1/10\n",
      "54000/54000 [==============================] - 3s 48us/sample - loss: 0.5428 - accuracy: 0.8035\n",
      "Epoch 2/10\n",
      "54000/54000 [==============================] - 2s 45us/sample - loss: 0.3870 - accuracy: 0.8580\n",
      "Epoch 3/10\n",
      "54000/54000 [==============================] - 2s 45us/sample - loss: 0.3560 - accuracy: 0.8687\n",
      "Epoch 4/10\n",
      "54000/54000 [==============================] - 2s 45us/sample - loss: 0.3306 - accuracy: 0.8786\n",
      "Epoch 5/10\n",
      "54000/54000 [==============================] - 2s 44us/sample - loss: 0.3179 - accuracy: 0.8824\n",
      "Epoch 6/10\n",
      "54000/54000 [==============================] - 2s 44us/sample - loss: 0.3054 - accuracy: 0.8866\n",
      "Epoch 7/10\n",
      "54000/54000 [==============================] - 2s 45us/sample - loss: 0.2922 - accuracy: 0.8899\n",
      "Epoch 8/10\n",
      "54000/54000 [==============================] - 2s 45us/sample - loss: 0.2834 - accuracy: 0.8944\n",
      "Epoch 9/10\n",
      "54000/54000 [==============================] - 2s 44us/sample - loss: 0.2733 - accuracy: 0.8983\n",
      "Epoch 10/10\n",
      "54000/54000 [==============================] - 2s 45us/sample - loss: 0.2653 - accuracy: 0.8993\n",
      "6000/6000 - 0s - loss: 0.3592 - accuracy: 0.8757\n",
      "Train on 54000 samples\n",
      "Epoch 1/10\n",
      "54000/54000 [==============================] - 2s 38us/sample - loss: 0.5528 - accuracy: 0.8028\n"
     ]
    },
    {
     "name": "stdout",
     "output_type": "stream",
     "text": [
      "Epoch 2/10\n",
      "54000/54000 [==============================] - 2s 34us/sample - loss: 0.3955 - accuracy: 0.8552\n",
      "Epoch 3/10\n",
      "54000/54000 [==============================] - 2s 34us/sample - loss: 0.3644 - accuracy: 0.8654\n",
      "Epoch 4/10\n",
      "54000/54000 [==============================] - 2s 34us/sample - loss: 0.3385 - accuracy: 0.8752\n",
      "Epoch 5/10\n",
      "54000/54000 [==============================] - 2s 34us/sample - loss: 0.3235 - accuracy: 0.8814\n",
      "Epoch 6/10\n",
      "54000/54000 [==============================] - 2s 34us/sample - loss: 0.3101 - accuracy: 0.8862\n",
      "Epoch 7/10\n",
      "54000/54000 [==============================] - 2s 36us/sample - loss: 0.2991 - accuracy: 0.8879\n",
      "Epoch 8/10\n",
      "54000/54000 [==============================] - 2s 34us/sample - loss: 0.2900 - accuracy: 0.8922\n",
      "Epoch 9/10\n",
      "54000/54000 [==============================] - 2s 34us/sample - loss: 0.2823 - accuracy: 0.8935\n",
      "Epoch 10/10\n",
      "54000/54000 [==============================] - 2s 36us/sample - loss: 0.2753 - accuracy: 0.8971\n",
      "6000/6000 - 0s - loss: 0.3404 - accuracy: 0.8780\n",
      "Train on 54000 samples\n",
      "Epoch 1/10\n",
      "54000/54000 [==============================] - 3s 64us/sample - loss: 0.5568 - accuracy: 0.8022\n",
      "Epoch 2/10\n",
      "54000/54000 [==============================] - 3s 58us/sample - loss: 0.4009 - accuracy: 0.8566\n",
      "Epoch 3/10\n",
      "54000/54000 [==============================] - 3s 54us/sample - loss: 0.3680 - accuracy: 0.8661s - loss: 0.3689 - accura\n",
      "Epoch 4/10\n",
      "54000/54000 [==============================] - 2s 43us/sample - loss: 0.3498 - accuracy: 0.8704s - loss: 0.3490 - accuracy\n",
      "Epoch 5/10\n",
      "54000/54000 [==============================] - 2s 41us/sample - loss: 0.3364 - accuracy: 0.8758\n",
      "Epoch 6/10\n",
      "54000/54000 [==============================] - 2s 45us/sample - loss: 0.3213 - accuracy: 0.8816\n",
      "Epoch 7/10\n",
      "54000/54000 [==============================] - 3s 50us/sample - loss: 0.3142 - accuracy: 0.8853\n",
      "Epoch 8/10\n",
      "54000/54000 [==============================] - 2s 46us/sample - loss: 0.3055 - accuracy: 0.8874\n",
      "Epoch 9/10\n",
      "54000/54000 [==============================] - 3s 47us/sample - loss: 0.2978 - accuracy: 0.8904\n",
      "Epoch 10/10\n",
      "54000/54000 [==============================] - 3s 48us/sample - loss: 0.2924 - accuracy: 0.8916\n",
      "6000/6000 - 0s - loss: 0.3410 - accuracy: 0.8717\n",
      "Train on 54000 samples\n",
      "Epoch 1/10\n",
      "54000/54000 [==============================] - 3s 53us/sample - loss: 0.5247 - accuracy: 0.8145\n",
      "Epoch 2/10\n",
      "54000/54000 [==============================] - 3s 59us/sample - loss: 0.3868 - accuracy: 0.8622\n",
      "Epoch 3/10\n",
      "54000/54000 [==============================] - 3s 64us/sample - loss: 0.3448 - accuracy: 0.8760\n",
      "Epoch 4/10\n",
      "54000/54000 [==============================] - 3s 64us/sample - loss: 0.3216 - accuracy: 0.8825\n",
      "Epoch 5/10\n",
      "54000/54000 [==============================] - 3s 65us/sample - loss: 0.3037 - accuracy: 0.8881\n",
      "Epoch 6/10\n",
      "54000/54000 [==============================] - 3s 63us/sample - loss: 0.2909 - accuracy: 0.8929\n",
      "Epoch 7/10\n",
      "54000/54000 [==============================] - 3s 51us/sample - loss: 0.2778 - accuracy: 0.8964\n",
      "Epoch 8/10\n",
      "54000/54000 [==============================] - 3s 54us/sample - loss: 0.2682 - accuracy: 0.9021\n",
      "Epoch 9/10\n",
      "54000/54000 [==============================] - 3s 50us/sample - loss: 0.2591 - accuracy: 0.9026\n",
      "Epoch 10/10\n",
      "54000/54000 [==============================] - 3s 56us/sample - loss: 0.2498 - accuracy: 0.9064\n",
      "6000/6000 - 0s - loss: 0.3541 - accuracy: 0.8780\n",
      "Train on 54000 samples\n",
      "Epoch 1/10\n",
      "54000/54000 [==============================] - 3s 52us/sample - loss: 0.5346 - accuracy: 0.8123\n",
      "Epoch 2/10\n",
      "54000/54000 [==============================] - 3s 56us/sample - loss: 0.3961 - accuracy: 0.8566\n",
      "Epoch 3/10\n",
      "54000/54000 [==============================] - 3s 53us/sample - loss: 0.3609 - accuracy: 0.8684\n",
      "Epoch 4/10\n",
      "54000/54000 [==============================] - 2s 45us/sample - loss: 0.3385 - accuracy: 0.8758\n",
      "Epoch 5/10\n",
      "54000/54000 [==============================] - 2s 45us/sample - loss: 0.3212 - accuracy: 0.8822\n",
      "Epoch 6/10\n",
      "54000/54000 [==============================] - 2s 45us/sample - loss: 0.3081 - accuracy: 0.8858\n",
      "Epoch 7/10\n",
      "54000/54000 [==============================] - 2s 45us/sample - loss: 0.2960 - accuracy: 0.8907\n",
      "Epoch 8/10\n",
      "54000/54000 [==============================] - 3s 46us/sample - loss: 0.2880 - accuracy: 0.8937\n",
      "Epoch 9/10\n",
      "54000/54000 [==============================] - 2s 45us/sample - loss: 0.2777 - accuracy: 0.8978\n",
      "Epoch 10/10\n",
      "54000/54000 [==============================] - 3s 51us/sample - loss: 0.2697 - accuracy: 0.8994\n",
      "6000/6000 - 0s - loss: 0.3488 - accuracy: 0.8733\n",
      "Train on 54000 samples\n",
      "Epoch 1/10\n",
      "54000/54000 [==============================] - 3s 57us/sample - loss: 0.5565 - accuracy: 0.8019\n",
      "Epoch 2/10\n",
      "54000/54000 [==============================] - 3s 53us/sample - loss: 0.4003 - accuracy: 0.8584\n",
      "Epoch 3/10\n",
      "54000/54000 [==============================] - 3s 56us/sample - loss: 0.3603 - accuracy: 0.8698\n",
      "Epoch 4/10\n",
      "54000/54000 [==============================] - 3s 59us/sample - loss: 0.3397 - accuracy: 0.8762\n",
      "Epoch 5/10\n",
      "54000/54000 [==============================] - 3s 57us/sample - loss: 0.3231 - accuracy: 0.8816\n",
      "Epoch 6/10\n",
      "54000/54000 [==============================] - 3s 55us/sample - loss: 0.3090 - accuracy: 0.8864\n",
      "Epoch 7/10\n",
      "54000/54000 [==============================] - 3s 62us/sample - loss: 0.2980 - accuracy: 0.8900\n",
      "Epoch 8/10\n",
      "54000/54000 [==============================] - 3s 55us/sample - loss: 0.2881 - accuracy: 0.8943\n",
      "Epoch 9/10\n",
      "54000/54000 [==============================] - 3s 52us/sample - loss: 0.2803 - accuracy: 0.8971\n",
      "Epoch 10/10\n",
      "54000/54000 [==============================] - 3s 47us/sample - loss: 0.2724 - accuracy: 0.8985\n",
      "6000/6000 - 0s - loss: 0.3332 - accuracy: 0.8762\n",
      "Train on 54000 samples\n",
      "Epoch 1/10\n",
      "54000/54000 [==============================] - 3s 52us/sample - loss: 0.5672 - accuracy: 0.8000\n",
      "Epoch 2/10\n",
      "54000/54000 [==============================] - 2s 45us/sample - loss: 0.4128 - accuracy: 0.8515\n",
      "Epoch 3/10\n",
      "54000/54000 [==============================] - 2s 35us/sample - loss: 0.3765 - accuracy: 0.8642\n",
      "Epoch 4/10\n",
      "54000/54000 [==============================] - 2s 35us/sample - loss: 0.3543 - accuracy: 0.8703\n",
      "Epoch 5/10\n",
      "54000/54000 [==============================] - 2s 35us/sample - loss: 0.3356 - accuracy: 0.8765\n",
      "Epoch 6/10\n",
      "54000/54000 [==============================] - 2s 35us/sample - loss: 0.3266 - accuracy: 0.8797\n",
      "Epoch 7/10\n",
      "54000/54000 [==============================] - 2s 35us/sample - loss: 0.3154 - accuracy: 0.8836\n",
      "Epoch 8/10\n",
      "54000/54000 [==============================] - 2s 35us/sample - loss: 0.3068 - accuracy: 0.8861\n",
      "Epoch 9/10\n",
      "54000/54000 [==============================] - 2s 34us/sample - loss: 0.2991 - accuracy: 0.8884\n",
      "Epoch 10/10\n",
      "54000/54000 [==============================] - 2s 34us/sample - loss: 0.2911 - accuracy: 0.8912\n",
      "6000/6000 - 0s - loss: 0.3287 - accuracy: 0.8887\n",
      "Train on 54000 samples\n",
      "Epoch 1/10\n",
      "54000/54000 [==============================] - 2s 46us/sample - loss: 0.5461 - accuracy: 0.8085\n",
      "Epoch 2/10\n",
      "54000/54000 [==============================] - 2s 44us/sample - loss: 0.3957 - accuracy: 0.8581\n",
      "Epoch 3/10\n",
      "54000/54000 [==============================] - 2s 43us/sample - loss: 0.3547 - accuracy: 0.8706\n",
      "Epoch 4/10\n",
      "54000/54000 [==============================] - 2s 43us/sample - loss: 0.3283 - accuracy: 0.8796\n",
      "Epoch 5/10\n",
      "54000/54000 [==============================] - 3s 58us/sample - loss: 0.3108 - accuracy: 0.8863s - loss: 0.3107 - accuracy: 0.\n",
      "Epoch 6/10\n",
      "54000/54000 [==============================] - 3s 53us/sample - loss: 0.2967 - accuracy: 0.8904\n",
      "Epoch 7/10\n",
      "54000/54000 [==============================] - 3s 55us/sample - loss: 0.2820 - accuracy: 0.8960\n",
      "Epoch 8/10\n",
      "54000/54000 [==============================] - 3s 51us/sample - loss: 0.2724 - accuracy: 0.8994s - loss: 0.2722 - accuracy: 0.89\n",
      "Epoch 9/10\n",
      "54000/54000 [==============================] - 3s 52us/sample - loss: 0.2635 - accuracy: 0.9029\n",
      "Epoch 10/10\n",
      "54000/54000 [==============================] - 3s 53us/sample - loss: 0.2538 - accuracy: 0.9052\n",
      "6000/6000 - 0s - loss: 0.3235 - accuracy: 0.8918\n",
      "Train on 54000 samples\n",
      "Epoch 1/10\n",
      "54000/54000 [==============================] - 3s 49us/sample - loss: 0.5547 - accuracy: 0.8019\n",
      "Epoch 2/10\n",
      "54000/54000 [==============================] - 2s 43us/sample - loss: 0.3933 - accuracy: 0.8562\n",
      "Epoch 3/10\n",
      "54000/54000 [==============================] - 2s 44us/sample - loss: 0.3572 - accuracy: 0.8685\n",
      "Epoch 4/10\n",
      "54000/54000 [==============================] - 2s 43us/sample - loss: 0.3357 - accuracy: 0.8763\n",
      "Epoch 5/10\n",
      "54000/54000 [==============================] - 2s 43us/sample - loss: 0.3182 - accuracy: 0.8822\n",
      "Epoch 6/10\n",
      "54000/54000 [==============================] - 2s 43us/sample - loss: 0.3034 - accuracy: 0.8877\n",
      "Epoch 7/10\n",
      "54000/54000 [==============================] - 2s 43us/sample - loss: 0.2919 - accuracy: 0.8927\n",
      "Epoch 8/10\n",
      "54000/54000 [==============================] - 2s 43us/sample - loss: 0.2833 - accuracy: 0.8941\n",
      "Epoch 9/10\n",
      "54000/54000 [==============================] - 2s 43us/sample - loss: 0.2725 - accuracy: 0.8977\n",
      "Epoch 10/10\n",
      "54000/54000 [==============================] - 2s 44us/sample - loss: 0.2671 - accuracy: 0.8993\n",
      "6000/6000 - 0s - loss: 0.3056 - accuracy: 0.8933\n",
      "Train on 54000 samples\n",
      "Epoch 1/10\n",
      "54000/54000 [==============================] - 3s 48us/sample - loss: 0.5642 - accuracy: 0.8019\n",
      "Epoch 2/10\n",
      "54000/54000 [==============================] - 2s 45us/sample - loss: 0.4057 - accuracy: 0.8538\n",
      "Epoch 3/10\n",
      "54000/54000 [==============================] - 2s 45us/sample - loss: 0.3706 - accuracy: 0.8652\n",
      "Epoch 4/10\n",
      "54000/54000 [==============================] - 2s 45us/sample - loss: 0.3456 - accuracy: 0.8750\n",
      "Epoch 5/10\n",
      "54000/54000 [==============================] - 2s 45us/sample - loss: 0.3289 - accuracy: 0.8798\n",
      "Epoch 6/10\n",
      "54000/54000 [==============================] - 2s 45us/sample - loss: 0.3148 - accuracy: 0.8845\n",
      "Epoch 7/10\n",
      "54000/54000 [==============================] - 3s 50us/sample - loss: 0.3043 - accuracy: 0.8870\n",
      "Epoch 8/10\n",
      "54000/54000 [==============================] - 3s 46us/sample - loss: 0.2947 - accuracy: 0.8901\n",
      "Epoch 9/10\n",
      "54000/54000 [==============================] - 2s 40us/sample - loss: 0.2866 - accuracy: 0.8934\n",
      "Epoch 10/10\n",
      "54000/54000 [==============================] - 2s 39us/sample - loss: 0.2790 - accuracy: 0.8948\n",
      "6000/6000 - 0s - loss: 0.3306 - accuracy: 0.8823\n",
      "Train on 54000 samples\n",
      "Epoch 1/10\n",
      "54000/54000 [==============================] - 2s 37us/sample - loss: 0.5557 - accuracy: 0.8042\n",
      "Epoch 2/10\n",
      "54000/54000 [==============================] - 2s 36us/sample - loss: 0.4039 - accuracy: 0.8540\n",
      "Epoch 3/10\n",
      "54000/54000 [==============================] - 3s 51us/sample - loss: 0.3700 - accuracy: 0.8656\n",
      "Epoch 4/10\n",
      "54000/54000 [==============================] - 3s 52us/sample - loss: 0.3486 - accuracy: 0.8731\n",
      "Epoch 5/10\n",
      "54000/54000 [==============================] - 3s 49us/sample - loss: 0.3324 - accuracy: 0.8777s - loss: 0.3334 - accuracy\n",
      "Epoch 6/10\n",
      "54000/54000 [==============================] - 2s 44us/sample - loss: 0.3205 - accuracy: 0.8809\n",
      "Epoch 7/10\n",
      "54000/54000 [==============================] - 2s 34us/sample - loss: 0.3092 - accuracy: 0.8862\n",
      "Epoch 8/10\n",
      "54000/54000 [==============================] - 2s 34us/sample - loss: 0.2997 - accuracy: 0.8889\n",
      "Epoch 9/10\n",
      "54000/54000 [==============================] - 2s 35us/sample - loss: 0.2941 - accuracy: 0.8908\n",
      "Epoch 10/10\n",
      "54000/54000 [==============================] - 2s 42us/sample - loss: 0.2864 - accuracy: 0.8926\n",
      "6000/6000 - 0s - loss: 0.3095 - accuracy: 0.8838\n",
      "Train on 54000 samples\n",
      "Epoch 1/10\n",
      "54000/54000 [==============================] - 3s 48us/sample - loss: 0.5493 - accuracy: 0.8098\n",
      "Epoch 2/10\n",
      "54000/54000 [==============================] - 2s 44us/sample - loss: 0.4000 - accuracy: 0.8567\n",
      "Epoch 3/10\n",
      "54000/54000 [==============================] - 2s 45us/sample - loss: 0.3576 - accuracy: 0.8700\n",
      "Epoch 4/10\n",
      "54000/54000 [==============================] - 3s 50us/sample - loss: 0.3331 - accuracy: 0.8796\n",
      "Epoch 5/10\n",
      "54000/54000 [==============================] - 3s 63us/sample - loss: 0.3157 - accuracy: 0.8856\n",
      "Epoch 6/10\n",
      "54000/54000 [==============================] - 3s 59us/sample - loss: 0.2993 - accuracy: 0.8902\n",
      "Epoch 7/10\n",
      "54000/54000 [==============================] - 2s 41us/sample - loss: 0.2888 - accuracy: 0.8953\n",
      "Epoch 8/10\n",
      "54000/54000 [==============================] - 2s 41us/sample - loss: 0.2773 - accuracy: 0.8982\n",
      "Epoch 9/10\n",
      "54000/54000 [==============================] - 3s 48us/sample - loss: 0.2663 - accuracy: 0.9024\n",
      "Epoch 10/10\n",
      "54000/54000 [==============================] - 3s 62us/sample - loss: 0.2563 - accuracy: 0.9053s - loss: 0.256\n",
      "6000/6000 - 0s - loss: 0.3029 - accuracy: 0.8888\n",
      "Train on 54000 samples\n",
      "Epoch 1/10\n",
      "54000/54000 [==============================] - 3s 53us/sample - loss: 0.5607 - accuracy: 0.8014\n",
      "Epoch 2/10\n",
      "54000/54000 [==============================] - 3s 59us/sample - loss: 0.3995 - accuracy: 0.8559\n",
      "Epoch 3/10\n",
      "54000/54000 [==============================] - 3s 64us/sample - loss: 0.3626 - accuracy: 0.8680\n",
      "Epoch 4/10\n",
      "54000/54000 [==============================] - 3s 54us/sample - loss: 0.3396 - accuracy: 0.8755\n",
      "Epoch 5/10\n",
      "54000/54000 [==============================] - 2s 44us/sample - loss: 0.3227 - accuracy: 0.8804\n",
      "Epoch 6/10\n",
      "54000/54000 [==============================] - 2s 43us/sample - loss: 0.3092 - accuracy: 0.8854\n",
      "Epoch 7/10\n",
      "54000/54000 [==============================] - 2s 43us/sample - loss: 0.2998 - accuracy: 0.8886\n",
      "Epoch 8/10\n",
      "54000/54000 [==============================] - 2s 43us/sample - loss: 0.2874 - accuracy: 0.8927\n",
      "Epoch 9/10\n",
      "54000/54000 [==============================] - 2s 43us/sample - loss: 0.2793 - accuracy: 0.8957\n",
      "Epoch 10/10\n",
      "54000/54000 [==============================] - 2s 44us/sample - loss: 0.2716 - accuracy: 0.8984\n",
      "6000/6000 - 0s - loss: 0.3120 - accuracy: 0.8858\n",
      "Train on 54000 samples\n",
      "Epoch 1/10\n",
      "54000/54000 [==============================] - 3s 49us/sample - loss: 0.5830 - accuracy: 0.7926s - loss:\n",
      "Epoch 2/10\n",
      "54000/54000 [==============================] - 2s 44us/sample - loss: 0.4110 - accuracy: 0.8525\n",
      "Epoch 3/10\n",
      "54000/54000 [==============================] - 3s 51us/sample - loss: 0.3724 - accuracy: 0.8660\n",
      "Epoch 4/10\n",
      "54000/54000 [==============================] - 2s 46us/sample - loss: 0.3485 - accuracy: 0.8735\n",
      "Epoch 5/10\n",
      "54000/54000 [==============================] - 2s 44us/sample - loss: 0.3335 - accuracy: 0.8786\n",
      "Epoch 6/10\n",
      "54000/54000 [==============================] - 2s 45us/sample - loss: 0.3173 - accuracy: 0.8832\n",
      "Epoch 7/10\n",
      "54000/54000 [==============================] - 3s 53us/sample - loss: 0.3062 - accuracy: 0.8878\n",
      "Epoch 8/10\n",
      "54000/54000 [==============================] - 3s 52us/sample - loss: 0.2970 - accuracy: 0.8905\n",
      "Epoch 9/10\n",
      "54000/54000 [==============================] - 3s 55us/sample - loss: 0.2872 - accuracy: 0.8933\n",
      "Epoch 10/10\n",
      "54000/54000 [==============================] - 3s 54us/sample - loss: 0.2811 - accuracy: 0.8954\n",
      "6000/6000 - 0s - loss: 0.3206 - accuracy: 0.8810\n",
      "Train on 54000 samples\n",
      "Epoch 1/10\n",
      "54000/54000 [==============================] - 2s 46us/sample - loss: 0.5686 - accuracy: 0.7982\n",
      "Epoch 2/10\n",
      "54000/54000 [==============================] - 2s 44us/sample - loss: 0.4152 - accuracy: 0.8529\n",
      "Epoch 3/10\n",
      "54000/54000 [==============================] - 2s 45us/sample - loss: 0.3808 - accuracy: 0.8627\n",
      "Epoch 4/10\n",
      "54000/54000 [==============================] - 3s 48us/sample - loss: 0.3559 - accuracy: 0.8713\n",
      "Epoch 5/10\n",
      "54000/54000 [==============================] - 2s 42us/sample - loss: 0.3388 - accuracy: 0.8759\n",
      "Epoch 6/10\n",
      "54000/54000 [==============================] - 2s 35us/sample - loss: 0.3266 - accuracy: 0.8801\n",
      "Epoch 7/10\n",
      "54000/54000 [==============================] - 2s 35us/sample - loss: 0.3179 - accuracy: 0.8826\n",
      "Epoch 8/10\n",
      "54000/54000 [==============================] - 2s 36us/sample - loss: 0.3090 - accuracy: 0.8856\n",
      "Epoch 9/10\n",
      "54000/54000 [==============================] - 2s 36us/sample - loss: 0.3013 - accuracy: 0.8878\n",
      "Epoch 10/10\n",
      "54000/54000 [==============================] - 2s 36us/sample - loss: 0.2930 - accuracy: 0.8913\n",
      "6000/6000 - 0s - loss: 0.3671 - accuracy: 0.8668\n",
      "Train on 54000 samples\n",
      "Epoch 1/10\n",
      "54000/54000 [==============================] - 3s 46us/sample - loss: 0.5195 - accuracy: 0.8181\n",
      "Epoch 2/10\n",
      "54000/54000 [==============================] - 3s 51us/sample - loss: 0.3783 - accuracy: 0.8641\n",
      "Epoch 3/10\n"
     ]
    },
    {
     "name": "stdout",
     "output_type": "stream",
     "text": [
      "54000/54000 [==============================] - 2s 41us/sample - loss: 0.3410 - accuracy: 0.8754\n",
      "Epoch 4/10\n",
      "54000/54000 [==============================] - 3s 47us/sample - loss: 0.3160 - accuracy: 0.8834\n",
      "Epoch 5/10\n",
      "54000/54000 [==============================] - 3s 50us/sample - loss: 0.3012 - accuracy: 0.8887\n",
      "Epoch 6/10\n",
      "54000/54000 [==============================] - 3s 48us/sample - loss: 0.2859 - accuracy: 0.8947\n",
      "Epoch 7/10\n",
      "54000/54000 [==============================] - 2s 46us/sample - loss: 0.2759 - accuracy: 0.8976s - l\n",
      "Epoch 8/10\n",
      "54000/54000 [==============================] - 2s 45us/sample - loss: 0.2637 - accuracy: 0.9030\n",
      "Epoch 9/10\n",
      "54000/54000 [==============================] - 2s 46us/sample - loss: 0.2547 - accuracy: 0.9047\n",
      "Epoch 10/10\n",
      "54000/54000 [==============================] - 2s 46us/sample - loss: 0.2456 - accuracy: 0.9078\n",
      "6000/6000 - 0s - loss: 0.3329 - accuracy: 0.8805\n",
      "Train on 54000 samples\n",
      "Epoch 1/10\n",
      "54000/54000 [==============================] - 2s 41us/sample - loss: 0.5510 - accuracy: 0.8068\n",
      "Epoch 2/10\n",
      "54000/54000 [==============================] - 2s 38us/sample - loss: 0.3976 - accuracy: 0.8573\n",
      "Epoch 3/10\n",
      "54000/54000 [==============================] - 2s 40us/sample - loss: 0.3591 - accuracy: 0.8701\n",
      "Epoch 4/10\n",
      "54000/54000 [==============================] - 2s 40us/sample - loss: 0.3379 - accuracy: 0.8769\n",
      "Epoch 5/10\n",
      "54000/54000 [==============================] - 2s 40us/sample - loss: 0.3211 - accuracy: 0.8816\n",
      "Epoch 6/10\n",
      "54000/54000 [==============================] - 3s 49us/sample - loss: 0.3054 - accuracy: 0.8861\n",
      "Epoch 7/10\n",
      "54000/54000 [==============================] - 3s 53us/sample - loss: 0.2938 - accuracy: 0.8909\n",
      "Epoch 8/10\n",
      "54000/54000 [==============================] - 2s 45us/sample - loss: 0.2853 - accuracy: 0.8930\n",
      "Epoch 9/10\n",
      "54000/54000 [==============================] - 3s 47us/sample - loss: 0.2771 - accuracy: 0.8961\n",
      "Epoch 10/10\n",
      "54000/54000 [==============================] - 2s 43us/sample - loss: 0.2690 - accuracy: 0.8985\n",
      "6000/6000 - 0s - loss: 0.3520 - accuracy: 0.8742\n",
      "Train on 54000 samples\n",
      "Epoch 1/10\n",
      "54000/54000 [==============================] - 3s 61us/sample - loss: 0.5478 - accuracy: 0.8045\n",
      "Epoch 2/10\n",
      "54000/54000 [==============================] - 3s 59us/sample - loss: 0.3995 - accuracy: 0.8562\n",
      "Epoch 3/10\n",
      "54000/54000 [==============================] - 4s 65us/sample - loss: 0.3645 - accuracy: 0.8674\n",
      "Epoch 4/10\n",
      "54000/54000 [==============================] - 3s 59us/sample - loss: 0.3411 - accuracy: 0.8752\n",
      "Epoch 5/10\n",
      "54000/54000 [==============================] - 3s 59us/sample - loss: 0.3238 - accuracy: 0.8800s - loss: 0.3237 - accuracy: \n",
      "Epoch 6/10\n",
      "54000/54000 [==============================] - 3s 55us/sample - loss: 0.3110 - accuracy: 0.8844\n",
      "Epoch 7/10\n",
      "54000/54000 [==============================] - 3s 47us/sample - loss: 0.3000 - accuracy: 0.8892\n",
      "Epoch 8/10\n",
      "54000/54000 [==============================] - 2s 46us/sample - loss: 0.2907 - accuracy: 0.8934\n",
      "Epoch 9/10\n",
      "54000/54000 [==============================] - 2s 46us/sample - loss: 0.2798 - accuracy: 0.8951\n",
      "Epoch 10/10\n",
      "54000/54000 [==============================] - 3s 53us/sample - loss: 0.2757 - accuracy: 0.8965\n",
      "6000/6000 - 0s - loss: 0.3449 - accuracy: 0.8767\n",
      "Train on 54000 samples\n",
      "Epoch 1/10\n",
      "54000/54000 [==============================] - 3s 59us/sample - loss: 0.5552 - accuracy: 0.8055\n",
      "Epoch 2/10\n",
      "54000/54000 [==============================] - 3s 56us/sample - loss: 0.4110 - accuracy: 0.8548\n",
      "Epoch 3/10\n",
      "54000/54000 [==============================] - 3s 58us/sample - loss: 0.3762 - accuracy: 0.8644\n",
      "Epoch 4/10\n",
      "54000/54000 [==============================] - 2s 44us/sample - loss: 0.3530 - accuracy: 0.8719\n",
      "Epoch 5/10\n",
      "54000/54000 [==============================] - 2s 39us/sample - loss: 0.3346 - accuracy: 0.8786\n",
      "Epoch 6/10\n",
      "54000/54000 [==============================] - 2s 39us/sample - loss: 0.3222 - accuracy: 0.8817\n",
      "Epoch 7/10\n",
      "54000/54000 [==============================] - 3s 48us/sample - loss: 0.3120 - accuracy: 0.8849\n",
      "Epoch 8/10\n",
      "54000/54000 [==============================] - 3s 49us/sample - loss: 0.3033 - accuracy: 0.8886\n",
      "Epoch 9/10\n",
      "54000/54000 [==============================] - 2s 39us/sample - loss: 0.2954 - accuracy: 0.8917\n",
      "Epoch 10/10\n",
      "54000/54000 [==============================] - 2s 40us/sample - loss: 0.2893 - accuracy: 0.8936\n",
      "6000/6000 - 0s - loss: 0.3438 - accuracy: 0.8757\n",
      "Train on 54000 samples\n",
      "Epoch 1/10\n",
      "54000/54000 [==============================] - 3s 55us/sample - loss: 0.5289 - accuracy: 0.8153\n",
      "Epoch 2/10\n",
      "54000/54000 [==============================] - 3s 64us/sample - loss: 0.3863 - accuracy: 0.8608\n",
      "Epoch 3/10\n",
      "54000/54000 [==============================] - 3s 57us/sample - loss: 0.3507 - accuracy: 0.8717\n",
      "Epoch 4/10\n",
      "54000/54000 [==============================] - 3s 56us/sample - loss: 0.3260 - accuracy: 0.8814\n",
      "Epoch 5/10\n",
      "54000/54000 [==============================] - 3s 50us/sample - loss: 0.3064 - accuracy: 0.8875\n",
      "Epoch 6/10\n",
      "54000/54000 [==============================] - 2s 46us/sample - loss: 0.2929 - accuracy: 0.8922\n",
      "Epoch 7/10\n",
      "54000/54000 [==============================] - 3s 56us/sample - loss: 0.2793 - accuracy: 0.8960\n",
      "Epoch 8/10\n",
      "54000/54000 [==============================] - 3s 48us/sample - loss: 0.2677 - accuracy: 0.9005\n",
      "Epoch 9/10\n",
      "54000/54000 [==============================] - 2s 45us/sample - loss: 0.2590 - accuracy: 0.9035\n",
      "Epoch 10/10\n",
      "54000/54000 [==============================] - 2s 46us/sample - loss: 0.2493 - accuracy: 0.9065\n",
      "6000/6000 - 0s - loss: 0.3373 - accuracy: 0.8787\n",
      "Train on 54000 samples\n",
      "Epoch 1/10\n",
      "54000/54000 [==============================] - 3s 48us/sample - loss: 0.5489 - accuracy: 0.8092\n",
      "Epoch 2/10\n",
      "54000/54000 [==============================] - 2s 45us/sample - loss: 0.3984 - accuracy: 0.8547\n",
      "Epoch 3/10\n",
      "54000/54000 [==============================] - 2s 46us/sample - loss: 0.3567 - accuracy: 0.8702\n",
      "Epoch 4/10\n",
      "54000/54000 [==============================] - 3s 49us/sample - loss: 0.3325 - accuracy: 0.8767\n",
      "Epoch 5/10\n",
      "54000/54000 [==============================] - 3s 47us/sample - loss: 0.3144 - accuracy: 0.8836\n",
      "Epoch 6/10\n",
      "54000/54000 [==============================] - 2s 46us/sample - loss: 0.3042 - accuracy: 0.8872\n",
      "Epoch 7/10\n",
      "54000/54000 [==============================] - 2s 44us/sample - loss: 0.2920 - accuracy: 0.8921\n",
      "Epoch 8/10\n",
      "54000/54000 [==============================] - 3s 47us/sample - loss: 0.2817 - accuracy: 0.8949\n",
      "Epoch 9/10\n",
      "54000/54000 [==============================] - 2s 38us/sample - loss: 0.2750 - accuracy: 0.8972\n",
      "Epoch 10/10\n",
      "54000/54000 [==============================] - 2s 45us/sample - loss: 0.2674 - accuracy: 0.8999\n",
      "6000/6000 - 0s - loss: 0.3488 - accuracy: 0.8685\n",
      "Train on 54000 samples\n",
      "Epoch 1/10\n",
      "54000/54000 [==============================] - 3s 61us/sample - loss: 0.5548 - accuracy: 0.8042\n",
      "Epoch 2/10\n",
      "54000/54000 [==============================] - 3s 53us/sample - loss: 0.3973 - accuracy: 0.8572\n",
      "Epoch 3/10\n",
      "54000/54000 [==============================] - 3s 58us/sample - loss: 0.3612 - accuracy: 0.8688\n",
      "Epoch 4/10\n",
      "54000/54000 [==============================] - 3s 58us/sample - loss: 0.3407 - accuracy: 0.8747\n",
      "Epoch 5/10\n",
      "54000/54000 [==============================] - 3s 49us/sample - loss: 0.3232 - accuracy: 0.8806\n",
      "Epoch 6/10\n",
      "54000/54000 [==============================] - 3s 56us/sample - loss: 0.3086 - accuracy: 0.8859\n",
      "Epoch 7/10\n",
      "54000/54000 [==============================] - 3s 63us/sample - loss: 0.3006 - accuracy: 0.8892s - loss: 0\n",
      "Epoch 8/10\n",
      "54000/54000 [==============================] - 3s 61us/sample - loss: 0.2902 - accuracy: 0.8922\n",
      "Epoch 9/10\n",
      "54000/54000 [==============================] - 3s 65us/sample - loss: 0.2798 - accuracy: 0.8961\n",
      "Epoch 10/10\n",
      "54000/54000 [==============================] - 3s 64us/sample - loss: 0.2742 - accuracy: 0.8986\n",
      "6000/6000 - 0s - loss: 0.3288 - accuracy: 0.8768\n",
      "Train on 54000 samples\n",
      "Epoch 1/10\n",
      "54000/54000 [==============================] - 3s 51us/sample - loss: 0.5591 - accuracy: 0.8014\n",
      "Epoch 2/10\n",
      "54000/54000 [==============================] - 3s 47us/sample - loss: 0.4092 - accuracy: 0.8534s - loss: 0.4091 - accuracy: 0.85\n",
      "Epoch 3/10\n",
      "54000/54000 [==============================] - 3s 51us/sample - loss: 0.3699 - accuracy: 0.8658\n",
      "Epoch 4/10\n",
      "54000/54000 [==============================] - 2s 41us/sample - loss: 0.3517 - accuracy: 0.8722\n",
      "Epoch 5/10\n",
      "54000/54000 [==============================] - 2s 40us/sample - loss: 0.3324 - accuracy: 0.8782\n",
      "Epoch 6/10\n",
      "54000/54000 [==============================] - 2s 40us/sample - loss: 0.3210 - accuracy: 0.8816\n",
      "Epoch 7/10\n",
      "54000/54000 [==============================] - 2s 45us/sample - loss: 0.3122 - accuracy: 0.8853\n",
      "Epoch 8/10\n",
      "54000/54000 [==============================] - 2s 44us/sample - loss: 0.3040 - accuracy: 0.8876\n",
      "Epoch 9/10\n",
      "54000/54000 [==============================] - 2s 42us/sample - loss: 0.2937 - accuracy: 0.8895\n",
      "Epoch 10/10\n",
      "54000/54000 [==============================] - 3s 48us/sample - loss: 0.2889 - accuracy: 0.8924\n",
      "6000/6000 - 0s - loss: 0.3329 - accuracy: 0.8822\n",
      "Train on 54000 samples\n",
      "Epoch 1/10\n",
      "54000/54000 [==============================] - 3s 61us/sample - loss: 0.5573 - accuracy: 0.8059\n",
      "Epoch 2/10\n",
      "54000/54000 [==============================] - 3s 52us/sample - loss: 0.3907 - accuracy: 0.8594\n",
      "Epoch 3/10\n",
      "54000/54000 [==============================] - 3s 52us/sample - loss: 0.3544 - accuracy: 0.8714\n",
      "Epoch 4/10\n",
      "54000/54000 [==============================] - 3s 52us/sample - loss: 0.3298 - accuracy: 0.8790s - loss: 0.3\n",
      "Epoch 5/10\n",
      "54000/54000 [==============================] - 3s 52us/sample - loss: 0.3111 - accuracy: 0.8853\n",
      "Epoch 6/10\n",
      "54000/54000 [==============================] - 3s 59us/sample - loss: 0.2976 - accuracy: 0.8906\n",
      "Epoch 7/10\n",
      "54000/54000 [==============================] - 3s 55us/sample - loss: 0.2860 - accuracy: 0.8943s - loss: 0 - ETA: 0s - loss: 0.2869 - ac\n",
      "Epoch 8/10\n",
      "54000/54000 [==============================] - 2s 45us/sample - loss: 0.2730 - accuracy: 0.8981\n",
      "Epoch 9/10\n",
      "54000/54000 [==============================] - 3s 52us/sample - loss: 0.2646 - accuracy: 0.9025\n",
      "Epoch 10/10\n",
      "54000/54000 [==============================] - 3s 47us/sample - loss: 0.2572 - accuracy: 0.9053\n",
      "6000/6000 - 0s - loss: 0.3165 - accuracy: 0.8853\n",
      "Train on 54000 samples\n",
      "Epoch 1/10\n",
      "54000/54000 [==============================] - 3s 56us/sample - loss: 0.5441 - accuracy: 0.8069\n",
      "Epoch 2/10\n",
      "54000/54000 [==============================] - 3s 54us/sample - loss: 0.4026 - accuracy: 0.8555\n",
      "Epoch 3/10\n",
      "54000/54000 [==============================] - 2s 39us/sample - loss: 0.3620 - accuracy: 0.8683\n",
      "Epoch 4/10\n",
      "54000/54000 [==============================] - 2s 38us/sample - loss: 0.3378 - accuracy: 0.8760\n",
      "Epoch 5/10\n",
      "54000/54000 [==============================] - 2s 38us/sample - loss: 0.3204 - accuracy: 0.8810\n",
      "Epoch 6/10\n",
      "54000/54000 [==============================] - 2s 41us/sample - loss: 0.3055 - accuracy: 0.8863s - loss: 0.3063 - accuracy\n",
      "Epoch 7/10\n",
      "54000/54000 [==============================] - 2s 44us/sample - loss: 0.2959 - accuracy: 0.8897\n",
      "Epoch 8/10\n",
      "54000/54000 [==============================] - 2s 44us/sample - loss: 0.2851 - accuracy: 0.8939\n",
      "Epoch 9/10\n",
      "54000/54000 [==============================] - 2s 41us/sample - loss: 0.2754 - accuracy: 0.8965\n",
      "Epoch 10/10\n",
      "54000/54000 [==============================] - 2s 38us/sample - loss: 0.2701 - accuracy: 0.8971\n",
      "6000/6000 - 0s - loss: 0.3154 - accuracy: 0.8833\n",
      "Train on 54000 samples\n",
      "Epoch 1/10\n",
      "54000/54000 [==============================] - 2s 42us/sample - loss: 0.5565 - accuracy: 0.8032\n",
      "Epoch 2/10\n",
      "54000/54000 [==============================] - 2s 39us/sample - loss: 0.4109 - accuracy: 0.8529\n",
      "Epoch 3/10\n",
      "54000/54000 [==============================] - 2s 39us/sample - loss: 0.3729 - accuracy: 0.8652\n",
      "Epoch 4/10\n",
      "54000/54000 [==============================] - 2s 40us/sample - loss: 0.3476 - accuracy: 0.8734\n",
      "Epoch 5/10\n",
      "54000/54000 [==============================] - 2s 39us/sample - loss: 0.3295 - accuracy: 0.8779\n",
      "Epoch 6/10\n",
      "54000/54000 [==============================] - 2s 39us/sample - loss: 0.3161 - accuracy: 0.8836\n",
      "Epoch 7/10\n",
      "54000/54000 [==============================] - 2s 39us/sample - loss: 0.3028 - accuracy: 0.8875\n",
      "Epoch 8/10\n",
      "54000/54000 [==============================] - 2s 40us/sample - loss: 0.2927 - accuracy: 0.8915\n",
      "Epoch 9/10\n",
      "54000/54000 [==============================] - 3s 52us/sample - loss: 0.2852 - accuracy: 0.8931\n",
      "Epoch 10/10\n",
      "54000/54000 [==============================] - 3s 62us/sample - loss: 0.2757 - accuracy: 0.8958\n",
      "6000/6000 - 0s - loss: 0.3203 - accuracy: 0.8875\n",
      "Train on 54000 samples\n",
      "Epoch 1/10\n",
      "54000/54000 [==============================] - 2s 44us/sample - loss: 0.5572 - accuracy: 0.8054\n",
      "Epoch 2/10\n",
      "54000/54000 [==============================] - 2s 44us/sample - loss: 0.4089 - accuracy: 0.8530\n",
      "Epoch 3/10\n",
      "54000/54000 [==============================] - 2s 41us/sample - loss: 0.3742 - accuracy: 0.8642\n",
      "Epoch 4/10\n",
      "54000/54000 [==============================] - 2s 41us/sample - loss: 0.3521 - accuracy: 0.8712\n",
      "Epoch 5/10\n",
      "54000/54000 [==============================] - 2s 42us/sample - loss: 0.3376 - accuracy: 0.8760\n",
      "Epoch 6/10\n",
      "54000/54000 [==============================] - 2s 42us/sample - loss: 0.3246 - accuracy: 0.8804\n",
      "Epoch 7/10\n",
      "54000/54000 [==============================] - 2s 41us/sample - loss: 0.3136 - accuracy: 0.8852\n",
      "Epoch 8/10\n",
      "54000/54000 [==============================] - 2s 41us/sample - loss: 0.3029 - accuracy: 0.8885\n",
      "Epoch 9/10\n",
      "54000/54000 [==============================] - 2s 42us/sample - loss: 0.2966 - accuracy: 0.8892\n",
      "Epoch 10/10\n",
      "54000/54000 [==============================] - 2s 41us/sample - loss: 0.2890 - accuracy: 0.8925\n",
      "6000/6000 - 0s - loss: 0.3338 - accuracy: 0.8795\n",
      "Train on 54000 samples\n",
      "Epoch 1/10\n",
      "54000/54000 [==============================] - 3s 55us/sample - loss: 0.5394 - accuracy: 0.8110s - loss: 0.5429 - accuracy: \n",
      "Epoch 2/10\n",
      "54000/54000 [==============================] - 3s 53us/sample - loss: 0.3918 - accuracy: 0.8588\n",
      "Epoch 3/10\n",
      "54000/54000 [==============================] - 3s 52us/sample - loss: 0.3508 - accuracy: 0.8726\n",
      "Epoch 4/10\n",
      "54000/54000 [==============================] - 3s 52us/sample - loss: 0.3288 - accuracy: 0.8789\n",
      "Epoch 5/10\n",
      "54000/54000 [==============================] - 3s 52us/sample - loss: 0.3090 - accuracy: 0.8858\n",
      "Epoch 6/10\n",
      "54000/54000 [==============================] - 3s 53us/sample - loss: 0.2956 - accuracy: 0.8903\n",
      "Epoch 7/10\n",
      "54000/54000 [==============================] - 3s 53us/sample - loss: 0.2815 - accuracy: 0.8957\n",
      "Epoch 8/10\n",
      "54000/54000 [==============================] - 3s 52us/sample - loss: 0.2717 - accuracy: 0.8982\n",
      "Epoch 9/10\n",
      "54000/54000 [==============================] - 3s 52us/sample - loss: 0.2599 - accuracy: 0.9024\n",
      "Epoch 10/10\n",
      "54000/54000 [==============================] - 3s 52us/sample - loss: 0.2516 - accuracy: 0.9049\n",
      "6000/6000 - 0s - loss: 0.2997 - accuracy: 0.8922\n",
      "Train on 54000 samples\n",
      "Epoch 1/10\n",
      "54000/54000 [==============================] - 3s 48us/sample - loss: 0.5434 - accuracy: 0.8071\n",
      "Epoch 2/10\n",
      "54000/54000 [==============================] - 2s 42us/sample - loss: 0.3963 - accuracy: 0.8555\n",
      "Epoch 3/10\n",
      "54000/54000 [==============================] - 2s 41us/sample - loss: 0.3602 - accuracy: 0.8678\n",
      "Epoch 4/10\n",
      "54000/54000 [==============================] - 2s 46us/sample - loss: 0.3390 - accuracy: 0.8748\n",
      "Epoch 5/10\n",
      "54000/54000 [==============================] - 2s 45us/sample - loss: 0.3208 - accuracy: 0.8822\n",
      "Epoch 6/10\n",
      "54000/54000 [==============================] - 2s 46us/sample - loss: 0.3077 - accuracy: 0.8861\n",
      "Epoch 7/10\n",
      "54000/54000 [==============================] - 2s 41us/sample - loss: 0.2952 - accuracy: 0.8909\n",
      "Epoch 8/10\n",
      "54000/54000 [==============================] - 2s 41us/sample - loss: 0.2853 - accuracy: 0.8941\n",
      "Epoch 9/10\n",
      "54000/54000 [==============================] - 2s 41us/sample - loss: 0.2764 - accuracy: 0.8965\n",
      "Epoch 10/10\n",
      "54000/54000 [==============================] - 2s 42us/sample - loss: 0.2683 - accuracy: 0.8992\n",
      "6000/6000 - 0s - loss: 0.3458 - accuracy: 0.8753\n",
      "Train on 54000 samples\n",
      "Epoch 1/10\n",
      "54000/54000 [==============================] - 3s 54us/sample - loss: 0.5646 - accuracy: 0.8004\n",
      "Epoch 2/10\n",
      "54000/54000 [==============================] - 3s 51us/sample - loss: 0.4044 - accuracy: 0.8541\n",
      "Epoch 3/10\n",
      "54000/54000 [==============================] - 3s 53us/sample - loss: 0.3664 - accuracy: 0.8655\n",
      "Epoch 4/10\n"
     ]
    },
    {
     "name": "stdout",
     "output_type": "stream",
     "text": [
      "54000/54000 [==============================] - 3s 53us/sample - loss: 0.3421 - accuracy: 0.8739\n",
      "Epoch 5/10\n",
      "54000/54000 [==============================] - 3s 55us/sample - loss: 0.3294 - accuracy: 0.8791\n",
      "Epoch 6/10\n",
      "54000/54000 [==============================] - 3s 51us/sample - loss: 0.3129 - accuracy: 0.8856\n",
      "Epoch 7/10\n",
      "54000/54000 [==============================] - 3s 56us/sample - loss: 0.3017 - accuracy: 0.8886\n",
      "Epoch 8/10\n",
      "54000/54000 [==============================] - 3s 55us/sample - loss: 0.2912 - accuracy: 0.8919\n",
      "Epoch 9/10\n",
      "54000/54000 [==============================] - 3s 57us/sample - loss: 0.2838 - accuracy: 0.8945\n",
      "Epoch 10/10\n",
      "54000/54000 [==============================] - 3s 52us/sample - loss: 0.2761 - accuracy: 0.8958s - loss: 0.2756 - accuracy: 0.\n",
      "6000/6000 - 0s - loss: 0.3470 - accuracy: 0.8790\n",
      "Train on 54000 samples\n",
      "Epoch 1/10\n",
      "54000/54000 [==============================] - 3s 48us/sample - loss: 0.5452 - accuracy: 0.8067s - ETA: \n",
      "Epoch 2/10\n",
      "54000/54000 [==============================] - 2s 46us/sample - loss: 0.3997 - accuracy: 0.8548\n",
      "Epoch 3/10\n",
      "54000/54000 [==============================] - 3s 53us/sample - loss: 0.3708 - accuracy: 0.8647\n",
      "Epoch 4/10\n",
      "54000/54000 [==============================] - 3s 56us/sample - loss: 0.3502 - accuracy: 0.8713\n",
      "Epoch 5/10\n",
      "54000/54000 [==============================] - 3s 53us/sample - loss: 0.3363 - accuracy: 0.8772\n",
      "Epoch 6/10\n",
      "54000/54000 [==============================] - 3s 56us/sample - loss: 0.3220 - accuracy: 0.8822s - loss: 0.3223 - ac\n",
      "Epoch 7/10\n",
      "54000/54000 [==============================] - 3s 56us/sample - loss: 0.3111 - accuracy: 0.8847\n",
      "Epoch 8/10\n",
      "54000/54000 [==============================] - 2s 44us/sample - loss: 0.3043 - accuracy: 0.8869\n",
      "Epoch 9/10\n",
      "54000/54000 [==============================] - 2s 42us/sample - loss: 0.2955 - accuracy: 0.8895\n",
      "Epoch 10/10\n",
      "54000/54000 [==============================] - 2s 43us/sample - loss: 0.2888 - accuracy: 0.8924s - loss: 0.2\n",
      "6000/6000 - 0s - loss: 0.3660 - accuracy: 0.8673\n",
      "Train on 54000 samples\n",
      "Epoch 1/10\n",
      "54000/54000 [==============================] - 3s 58us/sample - loss: 0.5249 - accuracy: 0.8164s - loss: 0.5390 - ac\n",
      "Epoch 2/10\n",
      "54000/54000 [==============================] - 3s 54us/sample - loss: 0.3912 - accuracy: 0.8587\n",
      "Epoch 3/10\n",
      "54000/54000 [==============================] - 3s 54us/sample - loss: 0.3488 - accuracy: 0.8736\n",
      "Epoch 4/10\n",
      "54000/54000 [==============================] - 3s 54us/sample - loss: 0.3246 - accuracy: 0.8820\n",
      "Epoch 5/10\n",
      "54000/54000 [==============================] - 3s 55us/sample - loss: 0.3078 - accuracy: 0.8861\n",
      "Epoch 6/10\n",
      "54000/54000 [==============================] - 3s 56us/sample - loss: 0.2911 - accuracy: 0.8912\n",
      "Epoch 7/10\n",
      "54000/54000 [==============================] - 3s 58us/sample - loss: 0.2780 - accuracy: 0.8972\n",
      "Epoch 8/10\n",
      "54000/54000 [==============================] - 3s 60us/sample - loss: 0.2677 - accuracy: 0.9008\n",
      "Epoch 9/10\n",
      "54000/54000 [==============================] - 3s 65us/sample - loss: 0.2584 - accuracy: 0.9041\n",
      "Epoch 10/10\n",
      "54000/54000 [==============================] - 3s 64us/sample - loss: 0.2516 - accuracy: 0.9057\n",
      "6000/6000 - 0s - loss: 0.3165 - accuracy: 0.8888\n",
      "Train on 54000 samples\n",
      "Epoch 1/10\n",
      "54000/54000 [==============================] - 3s 55us/sample - loss: 0.5526 - accuracy: 0.8050\n",
      "Epoch 2/10\n",
      "54000/54000 [==============================] - 3s 58us/sample - loss: 0.3992 - accuracy: 0.8549\n",
      "Epoch 3/10\n",
      "54000/54000 [==============================] - 3s 54us/sample - loss: 0.3627 - accuracy: 0.8676\n",
      "Epoch 4/10\n",
      "54000/54000 [==============================] - 3s 51us/sample - loss: 0.3378 - accuracy: 0.8751\n",
      "Epoch 5/10\n",
      "54000/54000 [==============================] - 3s 60us/sample - loss: 0.3199 - accuracy: 0.8817\n",
      "Epoch 6/10\n",
      "54000/54000 [==============================] - 3s 49us/sample - loss: 0.3074 - accuracy: 0.8867\n",
      "Epoch 7/10\n",
      "54000/54000 [==============================] - 3s 48us/sample - loss: 0.2964 - accuracy: 0.8894\n",
      "Epoch 8/10\n",
      "54000/54000 [==============================] - 3s 47us/sample - loss: 0.2855 - accuracy: 0.8922\n",
      "Epoch 9/10\n",
      "54000/54000 [==============================] - 3s 54us/sample - loss: 0.2752 - accuracy: 0.8966\n",
      "Epoch 10/10\n",
      "54000/54000 [==============================] - 3s 56us/sample - loss: 0.2704 - accuracy: 0.8977\n",
      "6000/6000 - 0s - loss: 0.3361 - accuracy: 0.8815\n",
      "Train on 54000 samples\n",
      "Epoch 1/10\n",
      "54000/54000 [==============================] - 3s 63us/sample - loss: 0.5538 - accuracy: 0.8043\n",
      "Epoch 2/10\n",
      "54000/54000 [==============================] - 3s 51us/sample - loss: 0.3996 - accuracy: 0.8557\n",
      "Epoch 3/10\n",
      "54000/54000 [==============================] - 3s 55us/sample - loss: 0.3610 - accuracy: 0.8681s - loss: 0.3615 - accuracy: 0.\n",
      "Epoch 4/10\n",
      "54000/54000 [==============================] - 3s 59us/sample - loss: 0.3385 - accuracy: 0.8754\n",
      "Epoch 5/10\n",
      "54000/54000 [==============================] - 4s 74us/sample - loss: 0.3223 - accuracy: 0.8805\n",
      "Epoch 6/10\n",
      "54000/54000 [==============================] - 3s 54us/sample - loss: 0.3073 - accuracy: 0.8862\n",
      "Epoch 7/10\n",
      "54000/54000 [==============================] - 3s 61us/sample - loss: 0.2975 - accuracy: 0.8901\n",
      "Epoch 8/10\n",
      "54000/54000 [==============================] - 3s 62us/sample - loss: 0.2856 - accuracy: 0.8953s - loss: 0\n",
      "Epoch 9/10\n",
      "54000/54000 [==============================] - 3s 55us/sample - loss: 0.2803 - accuracy: 0.8946s - loss: 0.2715 - accuracy - - ETA: 0s -\n",
      "Epoch 10/10\n",
      "54000/54000 [==============================] - 3s 55us/sample - loss: 0.2720 - accuracy: 0.8978\n",
      "6000/6000 - 0s - loss: 0.3485 - accuracy: 0.8745\n"
     ]
    }
   ],
   "source": [
    "a2=0\n",
    "a3=0\n",
    "a4=0\n",
    "a5=0\n",
    "for k in range(10):\n",
    "    testCVim=train_images[CVin[k][0]]\n",
    "    testCVlb=train_labels[CVin[k][0]]\n",
    "    trainCVim=train_images[CVin[k][1]]\n",
    "    trainCVlb=train_labels[CVin[k][1]]\n",
    "    model2 = keras.Sequential([\n",
    "        keras.layers.Flatten(input_shape=(28, 28)),\n",
    "        keras.layers.Dense(20, activation='relu'),\n",
    "        keras.layers.Dense(108, activation='relu'),\n",
    "        keras.layers.Dense(10, activation='softmax'),\n",
    "        ])\n",
    "    \n",
    "    model2.compile(optimizer='adam',\n",
    "              loss='sparse_categorical_crossentropy',\n",
    "              metrics=['accuracy'])\n",
    "    model2.fit(trainCVim, trainCVlb, epochs=10)\n",
    "    test_loss, test_acc = model2.evaluate(testCVim,  testCVlb, verbose=2)\n",
    "    a2=a2+test_acc\n",
    "\n",
    "    model3 = keras.Sequential([\n",
    "        keras.layers.Flatten(input_shape=(28, 28)),\n",
    "        keras.layers.Dense(110, activation='relu'),\n",
    "        keras.layers.Dense(18, activation='relu'),\n",
    "        keras.layers.Dense(10, activation='softmax'),\n",
    "        ])\n",
    "    model3.compile(optimizer='adam',\n",
    "              loss='sparse_categorical_crossentropy',\n",
    "              metrics=['accuracy'])\n",
    "    model3.fit(trainCVim, trainCVlb, epochs=10)\n",
    "    test_loss, test_acc = model3.evaluate(testCVim,  testCVlb, verbose=2)\n",
    "    a3=a3+test_acc\n",
    "    \n",
    "        \n",
    "    model4 = keras.Sequential([\n",
    "        keras.layers.Flatten(input_shape=(28, 28)),\n",
    "        keras.layers.Dense(48, activation='relu'),\n",
    "        keras.layers.Dense(40, activation='relu'),\n",
    "        keras.layers.Dense(40, activation='relu'),\n",
    "        keras.layers.Dense(10,activation='softmax'),\n",
    "        ])\n",
    "    model4.compile(optimizer='adam',\n",
    "              loss='sparse_categorical_crossentropy',\n",
    "              metrics=['accuracy'])\n",
    "    model4.fit(trainCVim, trainCVlb, epochs=10)\n",
    "    test_loss, test_acc = model4.evaluate(testCVim,  testCVlb, verbose=2)\n",
    "    a4=a4+test_acc\n",
    "    \n",
    "    model5 = keras.Sequential([\n",
    "        keras.layers.Flatten(input_shape=(28, 28)),\n",
    "        keras.layers.Dense(50, activation='relu'),\n",
    "        keras.layers.Dense(20, activation='relu'),\n",
    "        keras.layers.Dense(58, activation='relu'),\n",
    "        keras.layers.Dense(10, activation='softmax'),\n",
    "    ])\n",
    "    model5.compile(optimizer='adam',\n",
    "              loss='sparse_categorical_crossentropy',\n",
    "              metrics=['accuracy'])\n",
    "    model5.fit(trainCVim, trainCVlb, epochs=10)\n",
    "    test_loss, test_acc = model5.evaluate(testCVim,  testCVlb, verbose=2)\n",
    "    a5=a5+test_acc\n",
    "accu2=a2/10\n",
    "accu3=a3/10\n",
    "accu4=a4/10\n",
    "accu5=a5/10"
   ]
  },
  {
   "cell_type": "code",
   "execution_count": 132,
   "metadata": {},
   "outputs": [
    {
     "name": "stdout",
     "output_type": "stream",
     "text": [
      "0.8891500055789947\n",
      "0.8855166673660279\n",
      "0.8778833389282227\n",
      "0.8854166746139527\n",
      "0.8796333312988281\n",
      "0.8798666596412659\n"
     ]
    }
   ],
   "source": [
    "print(accu)\n",
    "print(accu1)\n",
    "print(accu2)\n",
    "print(accu3)\n",
    "print(accu4)\n",
    "print(accu5)"
   ]
  },
  {
   "cell_type": "markdown",
   "metadata": {},
   "source": [
    "Based on the printed the cross-validation errors, we see that all models perform similarily but the original model is still the best. The first and the third are performing also quite good and thy have fewer parameters the the original one. Finally, the second model performed the worst but it also had the fewest number of the parametetrs. We take the first model and the second model to train it on the entire data set."
   ]
  },
  {
   "cell_type": "markdown",
   "metadata": {},
   "source": [
    "### Task 6:\n",
    "\n",
    "Train the selected network on the entire training data. Then test its performance on the testing data set and summariaze the performance. "
   ]
  },
  {
   "cell_type": "code",
   "execution_count": 133,
   "metadata": {},
   "outputs": [
    {
     "name": "stdout",
     "output_type": "stream",
     "text": [
      "Train on 60000 samples\n",
      "Epoch 1/10\n",
      "60000/60000 [==============================] - 3s 43us/sample - loss: 0.2503 - accuracy: 0.9072\n",
      "Epoch 2/10\n",
      "60000/60000 [==============================] - 3s 44us/sample - loss: 0.2396 - accuracy: 0.9107\n",
      "Epoch 3/10\n",
      "60000/60000 [==============================] - 3s 48us/sample - loss: 0.2337 - accuracy: 0.9123\n",
      "Epoch 4/10\n",
      "60000/60000 [==============================] - 3s 48us/sample - loss: 0.2254 - accuracy: 0.9154\n",
      "Epoch 5/10\n",
      "60000/60000 [==============================] - 3s 46us/sample - loss: 0.2190 - accuracy: 0.9176\n",
      "Epoch 6/10\n",
      "60000/60000 [==============================] - 3s 47us/sample - loss: 0.2138 - accuracy: 0.9194\n",
      "Epoch 7/10\n",
      "60000/60000 [==============================] - 3s 44us/sample - loss: 0.2092 - accuracy: 0.9210\n",
      "Epoch 8/10\n",
      "60000/60000 [==============================] - 3s 47us/sample - loss: 0.2030 - accuracy: 0.9233\n",
      "Epoch 9/10\n",
      "60000/60000 [==============================] - 3s 42us/sample - loss: 0.1995 - accuracy: 0.9247\n",
      "Epoch 10/10\n",
      "60000/60000 [==============================] - 2s 41us/sample - loss: 0.1928 - accuracy: 0.9273\n"
     ]
    },
    {
     "data": {
      "text/plain": [
       "<tensorflow.python.keras.callbacks.History at 0x6504dae80>"
      ]
     },
     "execution_count": 133,
     "metadata": {},
     "output_type": "execute_result"
    }
   ],
   "source": [
    "model1.fit(train_images, train_labels, epochs=10)"
   ]
  },
  {
   "cell_type": "code",
   "execution_count": 134,
   "metadata": {},
   "outputs": [
    {
     "name": "stdout",
     "output_type": "stream",
     "text": [
      "Train on 60000 samples\n",
      "Epoch 1/10\n",
      "60000/60000 [==============================] - 2s 35us/sample - loss: 0.2892 - accuracy: 0.8918\n",
      "Epoch 2/10\n",
      "60000/60000 [==============================] - 2s 35us/sample - loss: 0.2816 - accuracy: 0.8955\n",
      "Epoch 3/10\n",
      "60000/60000 [==============================] - 2s 35us/sample - loss: 0.2777 - accuracy: 0.8956\n",
      "Epoch 4/10\n",
      "60000/60000 [==============================] - 2s 35us/sample - loss: 0.2726 - accuracy: 0.8974\n",
      "Epoch 5/10\n",
      "60000/60000 [==============================] - 2s 35us/sample - loss: 0.2658 - accuracy: 0.9005\n",
      "Epoch 6/10\n",
      "60000/60000 [==============================] - 2s 35us/sample - loss: 0.2612 - accuracy: 0.9017\n",
      "Epoch 7/10\n",
      "60000/60000 [==============================] - 2s 35us/sample - loss: 0.2580 - accuracy: 0.9022\n",
      "Epoch 8/10\n",
      "60000/60000 [==============================] - 2s 35us/sample - loss: 0.2529 - accuracy: 0.9055\n",
      "Epoch 9/10\n",
      "60000/60000 [==============================] - 2s 40us/sample - loss: 0.2496 - accuracy: 0.9059\n",
      "Epoch 10/10\n",
      "60000/60000 [==============================] - 3s 51us/sample - loss: 0.2473 - accuracy: 0.9082\n"
     ]
    },
    {
     "data": {
      "text/plain": [
       "<tensorflow.python.keras.callbacks.History at 0x6504da198>"
      ]
     },
     "execution_count": 134,
     "metadata": {},
     "output_type": "execute_result"
    }
   ],
   "source": [
    "model2.fit(train_images, train_labels, epochs=10)"
   ]
  },
  {
   "cell_type": "markdown",
   "metadata": {},
   "source": [
    "Then we want to test these two models to see how they perform on the testing data set."
   ]
  },
  {
   "cell_type": "code",
   "execution_count": 135,
   "metadata": {},
   "outputs": [
    {
     "name": "stdout",
     "output_type": "stream",
     "text": [
      "10000/10000 - 0s - loss: 0.3835 - accuracy: 0.8822\n",
      "\n",
      "Test accuracy: 0.8822\n"
     ]
    }
   ],
   "source": [
    "test_loss, test_acc = model1.evaluate(test_images,  test_labels, verbose=2)\n",
    "\n",
    "print('\\nTest accuracy:', test_acc)"
   ]
  },
  {
   "cell_type": "code",
   "execution_count": 136,
   "metadata": {},
   "outputs": [
    {
     "name": "stdout",
     "output_type": "stream",
     "text": [
      "10000/10000 - 0s - loss: 0.3443 - accuracy: 0.8797\n",
      "\n",
      "Test accuracy: 0.8797\n"
     ]
    }
   ],
   "source": [
    "test_loss, test_acc = model.evaluate(test_images,  test_labels, verbose=2)\n",
    "\n",
    "print('\\nTest accuracy:', test_acc)"
   ]
  },
  {
   "cell_type": "code",
   "execution_count": 137,
   "metadata": {},
   "outputs": [
    {
     "name": "stdout",
     "output_type": "stream",
     "text": [
      "10000/10000 - 0s - loss: 0.3549 - accuracy: 0.8743\n",
      "\n",
      "Test accuracy: 0.8743\n"
     ]
    }
   ],
   "source": [
    "test_loss, test_acc = model2.evaluate(test_images,  test_labels, verbose=2)\n",
    "\n",
    "print('\\nTest accuracy:', test_acc)"
   ]
  },
  {
   "cell_type": "markdown",
   "metadata": {},
   "source": [
    "We see that the original model tests a bit worse than our  best model but better than the model with the fewest number of parameters. "
   ]
  },
  {
   "cell_type": "markdown",
   "metadata": {
    "colab_type": "text",
    "id": "xsoS7CPDCaXH"
   },
   "source": [
    "### Task 7: \n",
    "With the models trained, you can use them to make predictions about some images. Below you see a discussion of predictions based on the original model. Please, complement it with an analogous discussion for the best model out of five you have trained in the cross-validation. "
   ]
  },
  {
   "cell_type": "code",
   "execution_count": 138,
   "metadata": {
    "colab": {},
    "colab_type": "code",
    "id": "Gl91RPhdCaXI"
   },
   "outputs": [],
   "source": [
    "predictions = model.predict(test_images)"
   ]
  },
  {
   "cell_type": "markdown",
   "metadata": {
    "colab_type": "text",
    "id": "x9Kk1voUCaXJ"
   },
   "source": [
    "Here, the model has predicted the label for each image in the testing set. Let's take a look at the first prediction:"
   ]
  },
  {
   "cell_type": "code",
   "execution_count": 139,
   "metadata": {
    "colab": {},
    "colab_type": "code",
    "id": "3DmJEUinCaXK"
   },
   "outputs": [
    {
     "data": {
      "text/plain": [
       "array([1.0339978e-08, 5.3187009e-08, 6.8326883e-10, 1.4187308e-08,\n",
       "       1.7782453e-08, 2.7883397e-03, 1.9271080e-07, 2.4621353e-02,\n",
       "       2.4299928e-07, 9.7258973e-01], dtype=float32)"
      ]
     },
     "execution_count": 139,
     "metadata": {},
     "output_type": "execute_result"
    }
   ],
   "source": [
    "predictions[0]"
   ]
  },
  {
   "cell_type": "code",
   "execution_count": 140,
   "metadata": {},
   "outputs": [
    {
     "data": {
      "text/plain": [
       "array([1.6504488e-05, 3.7630855e-07, 7.8345756e-06, 2.7166999e-08,\n",
       "       3.6828367e-09, 2.5711462e-04, 3.8802071e-05, 4.2970732e-02,\n",
       "       3.1457578e-08, 9.5670867e-01], dtype=float32)"
      ]
     },
     "execution_count": 140,
     "metadata": {},
     "output_type": "execute_result"
    }
   ],
   "source": [
    "predictions1 = model1.predict(test_images)\n",
    "predictions1[0]"
   ]
  },
  {
   "cell_type": "markdown",
   "metadata": {
    "colab_type": "text",
    "id": "-hw1hgeSCaXN"
   },
   "source": [
    "A prediction is an array of 10 numbers. They represent the model's \"confidence\" that the image corresponds to each of the 10 different articles of clothing. You can see which label has the highest confidence value:"
   ]
  },
  {
   "cell_type": "code",
   "execution_count": 55,
   "metadata": {
    "colab": {},
    "colab_type": "code",
    "id": "qsqenuPnCaXO"
   },
   "outputs": [
    {
     "data": {
      "text/plain": [
       "9"
      ]
     },
     "execution_count": 55,
     "metadata": {},
     "output_type": "execute_result"
    }
   ],
   "source": [
    "np.argmax(predictions[0])"
   ]
  },
  {
   "cell_type": "code",
   "execution_count": 56,
   "metadata": {},
   "outputs": [
    {
     "data": {
      "text/plain": [
       "9"
      ]
     },
     "execution_count": 56,
     "metadata": {},
     "output_type": "execute_result"
    }
   ],
   "source": [
    "np.argmax(predictions1[0])"
   ]
  },
  {
   "cell_type": "markdown",
   "metadata": {
    "colab_type": "text",
    "id": "E51yS7iCCaXO"
   },
   "source": [
    "So, the model is most confident that this image is an ankle boot, or `class_names[9]`. Examining the test label shows that this classification is correct:"
   ]
  },
  {
   "cell_type": "code",
   "execution_count": 57,
   "metadata": {
    "colab": {},
    "colab_type": "code",
    "id": "Sd7Pgsu6CaXP"
   },
   "outputs": [
    {
     "data": {
      "text/plain": [
       "9"
      ]
     },
     "execution_count": 57,
     "metadata": {},
     "output_type": "execute_result"
    }
   ],
   "source": [
    "test_labels[0]"
   ]
  },
  {
   "cell_type": "markdown",
   "metadata": {
    "colab_type": "text",
    "id": "ygh2yYC972ne"
   },
   "source": [
    "Graph this to inspect the full set of 10 class predictions."
   ]
  },
  {
   "cell_type": "code",
   "execution_count": 141,
   "metadata": {
    "colab": {},
    "colab_type": "code",
    "id": "DvYmmrpIy6Y1"
   },
   "outputs": [],
   "source": [
    "def plot_image(i, predictions_array, true_label, img):\n",
    "  predictions_array, true_label, img = predictions_array, true_label[i], img[i]\n",
    "  plt.grid(False)\n",
    "  plt.xticks([])\n",
    "  plt.yticks([])\n",
    "\n",
    "  plt.imshow(img, cmap=plt.cm.binary)\n",
    "\n",
    "  predicted_label = np.argmax(predictions_array)\n",
    "  if predicted_label == true_label:\n",
    "    color = 'blue'\n",
    "  else:\n",
    "    color = 'red'\n",
    "\n",
    "  plt.xlabel(\"{} {:2.0f}% ({})\".format(class_names[predicted_label],\n",
    "                                100*np.max(predictions_array),\n",
    "                                class_names[true_label]),\n",
    "                                color=color)\n",
    "\n",
    "def plot_value_array(i, predictions_array, true_label):\n",
    "  predictions_array, true_label = predictions_array, true_label[i]\n",
    "  plt.grid(False)\n",
    "  plt.xticks(range(10))\n",
    "  plt.yticks([])\n",
    "  thisplot = plt.bar(range(10), predictions_array, color=\"#777777\")\n",
    "  plt.ylim([0, 1])\n",
    "  predicted_label = np.argmax(predictions_array)\n",
    "\n",
    "  thisplot[predicted_label].set_color('red')\n",
    "  thisplot[true_label].set_color('blue')"
   ]
  },
  {
   "cell_type": "markdown",
   "metadata": {
    "colab_type": "text",
    "id": "d4Ov9OFDMmOD"
   },
   "source": [
    "Let's look at the 0th image, predictions, and prediction array. Correct prediction labels are blue and incorrect prediction labels are red. The number gives the percentage (out of 100) for the predicted label."
   ]
  },
  {
   "cell_type": "code",
   "execution_count": 142,
   "metadata": {
    "colab": {},
    "colab_type": "code",
    "id": "HV5jw-5HwSmO"
   },
   "outputs": [
    {
     "data": {
      "image/png": "[encoded data removed]",
      "text/plain": [
       "<Figure size 432x216 with 2 Axes>"
      ]
     },
     "metadata": {
      "needs_background": "light"
     },
     "output_type": "display_data"
    }
   ],
   "source": [
    "i = 0\n",
    "plt.figure(figsize=(6,3))\n",
    "plt.subplot(1,2,1)\n",
    "plot_image(i, predictions[i], test_labels, test_images)\n",
    "plt.subplot(1,2,2)\n",
    "plot_value_array(i, predictions[i],  test_labels)\n",
    "plt.show()"
   ]
  },
  {
   "cell_type": "code",
   "execution_count": 143,
   "metadata": {},
   "outputs": [
    {
     "data": {
      "text/plain": [
       "array([1.6504488e-05, 3.7630855e-07, 7.8345756e-06, 2.7166999e-08,\n",
       "       3.6828367e-09, 2.5711462e-04, 3.8802071e-05, 4.2970732e-02,\n",
       "       3.1457578e-08, 9.5670867e-01], dtype=float32)"
      ]
     },
     "execution_count": 143,
     "metadata": {},
     "output_type": "execute_result"
    }
   ],
   "source": [
    "predictions1[0]"
   ]
  },
  {
   "cell_type": "code",
   "execution_count": 144,
   "metadata": {},
   "outputs": [
    {
     "data": {
      "text/plain": [
       "array([1.0339978e-08, 5.3187009e-08, 6.8326883e-10, 1.4187308e-08,\n",
       "       1.7782453e-08, 2.7883397e-03, 1.9271080e-07, 2.4621353e-02,\n",
       "       2.4299928e-07, 9.7258973e-01], dtype=float32)"
      ]
     },
     "execution_count": 144,
     "metadata": {},
     "output_type": "execute_result"
    }
   ],
   "source": [
    "predictions[0]"
   ]
  },
  {
   "cell_type": "code",
   "execution_count": 145,
   "metadata": {
    "colab": {},
    "colab_type": "code",
    "id": "HV5jw-5HwSmO"
   },
   "outputs": [
    {
     "data": {
      "image/png": "[encoded data removed]",
      "text/plain": [
       "<Figure size 432x216 with 2 Axes>"
      ]
     },
     "metadata": {
      "needs_background": "light"
     },
     "output_type": "display_data"
    }
   ],
   "source": [
    "i = 0\n",
    "plt.figure(figsize=(6,3))\n",
    "plt.subplot(1,2,1)\n",
    "plot_image(i, predictions1[i], test_labels, test_images)\n",
    "plt.subplot(1,2,2)\n",
    "plot_value_array(i, predictions1[i],  test_labels)\n",
    "plt.show()"
   ]
  },
  {
   "cell_type": "code",
   "execution_count": 146,
   "metadata": {
    "colab": {},
    "colab_type": "code",
    "id": "Ko-uzOufSCSe"
   },
   "outputs": [
    {
     "data": {
      "image/png": "[encoded data removed]",
      "text/plain": [
       "<Figure size 432x216 with 2 Axes>"
      ]
     },
     "metadata": {
      "needs_background": "light"
     },
     "output_type": "display_data"
    }
   ],
   "source": [
    "i = 12\n",
    "plt.figure(figsize=(6,3))\n",
    "plt.subplot(1,2,1)\n",
    "plot_image(i, predictions[i], test_labels, test_images)\n",
    "plt.subplot(1,2,2)\n",
    "plot_value_array(i, predictions[i],  test_labels)\n",
    "plt.show()"
   ]
  },
  {
   "cell_type": "code",
   "execution_count": 147,
   "metadata": {
    "colab": {},
    "colab_type": "code",
    "id": "Ko-uzOufSCSe"
   },
   "outputs": [
    {
     "data": {
      "image/png": "[encoded data removed]",
      "text/plain": [
       "<Figure size 432x216 with 2 Axes>"
      ]
     },
     "metadata": {
      "needs_background": "light"
     },
     "output_type": "display_data"
    }
   ],
   "source": [
    "i = 12\n",
    "plt.figure(figsize=(6,3))\n",
    "plt.subplot(1,2,1)\n",
    "plot_image(i, predictions1[i], test_labels, test_images)\n",
    "plt.subplot(1,2,2)\n",
    "plot_value_array(i, predictions1[i],  test_labels)\n",
    "plt.show()"
   ]
  },
  {
   "cell_type": "markdown",
   "metadata": {
    "colab_type": "text",
    "id": "kgdvGD52CaXR"
   },
   "source": [
    "Let's plot several images with their predictions. Note that the model can be wrong even when very confident."
   ]
  },
  {
   "cell_type": "code",
   "execution_count": 148,
   "metadata": {
    "colab": {},
    "colab_type": "code",
    "id": "hQlnbqaw2Qu_"
   },
   "outputs": [
    {
     "data": {
      "image/png": "[encoded data removed]",
      "text/plain": [
       "<Figure size 864x720 with 30 Axes>"
      ]
     },
     "metadata": {
      "needs_background": "light"
     },
     "output_type": "display_data"
    }
   ],
   "source": [
    "# Plot the first X test images, their predicted labels, and the true labels.\n",
    "# Color correct predictions in blue and incorrect predictions in red.\n",
    "num_rows = 5\n",
    "num_cols = 3\n",
    "num_images = num_rows*num_cols\n",
    "plt.figure(figsize=(2*2*num_cols, 2*num_rows))\n",
    "for i in range(num_images):\n",
    "  plt.subplot(num_rows, 2*num_cols, 2*i+1)\n",
    "  plot_image(i, predictions[i], test_labels, test_images)\n",
    "  plt.subplot(num_rows, 2*num_cols, 2*i+2)\n",
    "  plot_value_array(i, predictions[i], test_labels)\n",
    "plt.tight_layout()\n",
    "plt.show()"
   ]
  },
  {
   "cell_type": "code",
   "execution_count": 149,
   "metadata": {
    "colab": {},
    "colab_type": "code",
    "id": "hQlnbqaw2Qu_"
   },
   "outputs": [
    {
     "data": {
      "image/png": "[encoded data removed]",
      "text/plain": [
       "<Figure size 864x720 with 30 Axes>"
      ]
     },
     "metadata": {
      "needs_background": "light"
     },
     "output_type": "display_data"
    }
   ],
   "source": [
    "# Plot the first X test images, their predicted labels, and the true labels.\n",
    "# Color correct predictions in blue and incorrect predictions in red.\n",
    "num_rows = 5\n",
    "num_cols = 3\n",
    "num_images = num_rows*num_cols\n",
    "plt.figure(figsize=(2*2*num_cols, 2*num_rows))\n",
    "for i in range(num_images):\n",
    "  plt.subplot(num_rows, 2*num_cols, 2*i+1)\n",
    "  plot_image(i, predictions1[i], test_labels, test_images)\n",
    "  plt.subplot(num_rows, 2*num_cols, 2*i+2)\n",
    "  plot_value_array(i, predictions1[i], test_labels)\n",
    "plt.tight_layout()\n",
    "plt.show()"
   ]
  },
  {
   "cell_type": "markdown",
   "metadata": {
    "colab_type": "text",
    "id": "R32zteKHCaXT"
   },
   "source": [
    "Finally, use the trained model to make a prediction about a single image."
   ]
  },
  {
   "cell_type": "code",
   "execution_count": 150,
   "metadata": {
    "colab": {},
    "colab_type": "code",
    "id": "yRJ7JU7JCaXT"
   },
   "outputs": [
    {
     "name": "stdout",
     "output_type": "stream",
     "text": [
      "(28, 28)\n"
     ]
    }
   ],
   "source": [
    "# Grab an image from the test dataset.\n",
    "img = test_images[1]\n",
    "\n",
    "print(img.shape)"
   ]
  },
  {
   "cell_type": "markdown",
   "metadata": {
    "colab_type": "text",
    "id": "vz3bVp21CaXV"
   },
   "source": [
    "`tf.keras` models are optimized to make predictions on a *batch*, or collection, of examples at once. Accordingly, even though you're using a single image, you need to add it to a list:"
   ]
  },
  {
   "cell_type": "code",
   "execution_count": 151,
   "metadata": {
    "colab": {},
    "colab_type": "code",
    "id": "lDFh5yF_CaXW"
   },
   "outputs": [
    {
     "name": "stdout",
     "output_type": "stream",
     "text": [
      "(1, 28, 28)\n"
     ]
    }
   ],
   "source": [
    "# Add the image to a batch where it's the only member.\n",
    "img = (np.expand_dims(img,0))\n",
    "\n",
    "print(img.shape)"
   ]
  },
  {
   "cell_type": "markdown",
   "metadata": {
    "colab_type": "text",
    "id": "EQ5wLTkcCaXY"
   },
   "source": [
    "Now predict the correct label for this image:"
   ]
  },
  {
   "cell_type": "code",
   "execution_count": 152,
   "metadata": {
    "colab": {},
    "colab_type": "code",
    "id": "o_rzNSdrCaXY"
   },
   "outputs": [
    {
     "name": "stdout",
     "output_type": "stream",
     "text": [
      "[[4.93260595e-05 1.14486405e-14 9.94503856e-01 6.28385566e-10\n",
      "  1.83882692e-03 3.15179943e-14 3.60794598e-03 1.72902686e-15\n",
      "  4.85506904e-12 8.56386056e-12]]\n"
     ]
    }
   ],
   "source": [
    "predictions_single = model.predict(img)\n",
    "\n",
    "print(predictions_single)"
   ]
  },
  {
   "cell_type": "code",
   "execution_count": 153,
   "metadata": {},
   "outputs": [
    {
     "name": "stdout",
     "output_type": "stream",
     "text": [
      "[[1.4313265e-04 1.4931392e-10 9.9922907e-01 1.1778785e-07 4.7647959e-04\n",
      "  1.0606470e-15 1.5121023e-04 3.6128388e-11 1.7650889e-10 7.3059440e-16]]\n"
     ]
    }
   ],
   "source": [
    "predictions1_single = model1.predict(img)\n",
    "\n",
    "print(predictions1_single)"
   ]
  },
  {
   "cell_type": "code",
   "execution_count": 71,
   "metadata": {
    "colab": {},
    "colab_type": "code",
    "id": "6Ai-cpLjO-3A"
   },
   "outputs": [
    {
     "data": {
      "image/png": "[encoded data removed]",
      "text/plain": [
       "<Figure size 432x288 with 1 Axes>"
      ]
     },
     "metadata": {
      "needs_background": "light"
     },
     "output_type": "display_data"
    }
   ],
   "source": [
    "plot_value_array(1, predictions_single[0], test_labels)\n",
    "_ = plt.xticks(range(10), class_names, rotation=45)"
   ]
  },
  {
   "cell_type": "code",
   "execution_count": 154,
   "metadata": {
    "colab": {},
    "colab_type": "code",
    "id": "6Ai-cpLjO-3A"
   },
   "outputs": [
    {
     "data": {
      "image/png": "[encoded data removed]",
      "text/plain": [
       "<Figure size 432x288 with 1 Axes>"
      ]
     },
     "metadata": {
      "needs_background": "light"
     },
     "output_type": "display_data"
    }
   ],
   "source": [
    "plot_value_array(1, predictions1_single[0], test_labels)\n",
    "_ = plt.xticks(range(10), class_names, rotation=45)"
   ]
  },
  {
   "cell_type": "markdown",
   "metadata": {
    "colab_type": "text",
    "id": "cU1Y2OAMCaXb"
   },
   "source": [
    "`model.predict` returns a list of lists—one list for each image in the batch of data. Grab the predictions for our (only) image in the batch:"
   ]
  },
  {
   "cell_type": "code",
   "execution_count": 155,
   "metadata": {
    "colab": {},
    "colab_type": "code",
    "id": "2tRmdq_8CaXb"
   },
   "outputs": [
    {
     "data": {
      "text/plain": [
       "2"
      ]
     },
     "execution_count": 155,
     "metadata": {},
     "output_type": "execute_result"
    }
   ],
   "source": [
    "np.argmax(predictions_single[0])"
   ]
  },
  {
   "cell_type": "code",
   "execution_count": 156,
   "metadata": {
    "colab": {},
    "colab_type": "code",
    "id": "2tRmdq_8CaXb"
   },
   "outputs": [
    {
     "data": {
      "text/plain": [
       "2"
      ]
     },
     "execution_count": 156,
     "metadata": {},
     "output_type": "execute_result"
    }
   ],
   "source": [
    "np.argmax(predictions1_single[0])"
   ]
  },
  {
   "cell_type": "markdown",
   "metadata": {
    "colab_type": "text",
    "id": "YFc2HbEVCaXd"
   },
   "source": [
    "And the models predict a label as expected."
   ]
  }
 ],
 "metadata": {
  "colab": {
   "collapsed_sections": [],
   "name": "classification.ipynb",
   "private_outputs": true,
   "provenance": [],
   "toc_visible": true
  },
  "kernelspec": {
   "display_name": "Python 3",
   "language": "python",
   "name": "python3"
  },
  "language_info": {
   "codemirror_mode": {
    "name": "ipython",
    "version": 3
   },
   "file_extension": ".py",
   "mimetype": "text/x-python",
   "name": "python",
   "nbconvert_exporter": "python",
   "pygments_lexer": "ipython3",
   "version": "3.7.3"
  }
 },
 "nbformat": 4,
 "nbformat_minor": 1
}
