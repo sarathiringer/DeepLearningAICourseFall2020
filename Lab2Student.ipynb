{
 "cells": [
  {
   "cell_type": "markdown",
   "metadata": {
    "colab_type": "text",
    "id": "MhoQ0WE77laV"
   },
   "source": [
    "# Deep learning and AI methods\n",
    "## Session 2: Classification of cloth images\n",
    "* Instructor: [Krzysztof Podgorski](https://krys.neocities.org),  [Statistics, Lund University, LUSEM](https://www.stat.lu.se/)\n",
    "* For more information visit the [CANVAS class website](https://canvas.education.lu.se/courses/1712).\n",
    "\n",
    "In this session we learn some basic about *TensorFlow* and *Keras* by solving an example of immage recognition problem."
   ]
  },
  {
   "cell_type": "markdown",
   "metadata": {
    "colab_type": "text",
    "id": "jYysdyb-CaWM"
   },
   "source": [
    "## Project 1 Exploring the set of clothing images"
   ]
  },
  {
   "cell_type": "markdown",
   "metadata": {
    "colab_type": "text",
    "id": "FbVhjPpzn6BM"
   },
   "source": [
    "This project trains a neural network model to classify images of clothing, like sneakers and shirts. It's okay if you don't understand all the details; this is a fast-paced overview of a complete TensorFlow program with the details explained as you go.\n",
    "\n",
    "This guide uses [tf.keras](https://www.tensorflow.org/guide/keras), a high-level API to build and train models in TensorFlow."
   ]
  },
  {
   "cell_type": "code",
   "execution_count": 1,
   "metadata": {
    "colab": {},
    "colab_type": "code",
    "id": "dzLKpmZICaWN"
   },
   "outputs": [
    {
     "name": "stdout",
     "output_type": "stream",
     "text": [
      "1.15.0\n"
     ]
    }
   ],
   "source": [
    "from __future__ import absolute_import, division, print_function, unicode_literals\n",
    "\n",
    "# Importing Tensorflor and keras\n",
    "import tensorflow as tf\n",
    "from tensorflow import keras\n",
    "\n",
    "# Other libraries\n",
    "import numpy as np\n",
    "import matplotlib.pyplot as plt\n",
    "\n",
    "print(tf.__version__)"
   ]
  },
  {
   "cell_type": "markdown",
   "metadata": {
    "colab_type": "text",
    "id": "yR0EdgrLCaWR"
   },
   "source": [
    "#### Import the Fashion MNIST dataset"
   ]
  },
  {
   "cell_type": "markdown",
   "metadata": {
    "colab_type": "text",
    "id": "DLdCchMdCaWQ"
   },
   "source": [
    "This guide uses the [Fashion MNIST](https://github.com/zalandoresearch/fashion-mnist) dataset which contains 70,000 grayscale images in 10 categories. The images show individual articles of clothing at low resolution (28 by 28 pixels), as seen here:\n",
    "\n",
    "<table>\n",
    "  <tr><td>\n",
    "    <img src=\"https://tensorflow.org/images/fashion-mnist-sprite.png\"\n",
    "         alt=\"Fashion MNIST sprite\"  width=\"600\">\n",
    "  </td></tr>\n",
    "  <tr><td align=\"center\">\n",
    "    <b>Figure 1.</b> <a href=\"https://github.com/zalandoresearch/fashion-mnist\">Fashion-MNIST samples</a> (by Zalando, MIT License).<br/>&nbsp;\n",
    "  </td></tr>\n",
    "</table>\n",
    "\n",
    "Fashion MNIST is intended as a drop-in replacement for the classic [MNIST](http://yann.lecun.com/exdb/mnist/) dataset—often used as the \"Hello, World\" of machine learning programs for computer vision. The MNIST dataset contains images of handwritten digits (0, 1, 2, etc.) in a format identical to that of the articles of clothing you'll use here.\n",
    "\n",
    "This guide uses Fashion MNIST for variety, and because it's a slightly more challenging problem than regular MNIST. Both datasets are relatively small and are used to verify that an algorithm works as expected. They're good starting points to test and debug code.\n",
    "\n",
    "Here, 60,000 images are used to train the network and 10,000 images to evaluate how accurately the network learned to classify images. You can access the Fashion MNIST directly from TensorFlow. Import and load the Fashion MNIST data directly from TensorFlow:"
   ]
  },
  {
   "cell_type": "code",
   "execution_count": 135,
   "metadata": {
    "colab": {},
    "colab_type": "code",
    "id": "7MqDQO0KCaWS"
   },
   "outputs": [
    {
     "name": "stdout",
     "output_type": "stream",
     "text": [
      "(60000, 28, 28)\n",
      "(60000,)\n",
      "(10000, 28, 28)\n",
      "(10000,)\n"
     ]
    }
   ],
   "source": [
    "# Importing the data\n",
    "fashion_mnist = keras.datasets.fashion_mnist\n",
    "\n",
    "(train_images, train_labels), (test_images, test_labels) = fashion_mnist.load_data()\n",
    "\n",
    "# Checking so that it got loaded\n",
    "print(train_images.shape)\n",
    "print(train_labels.shape)\n",
    "print(test_images.shape)\n",
    "print(test_labels.shape)"
   ]
  },
  {
   "cell_type": "markdown",
   "metadata": {
    "colab_type": "text",
    "id": "t9FDsUlxCaWW"
   },
   "source": [
    "Loading the dataset returns four NumPy arrays:\n",
    "\n",
    "* The `train_images` and `train_labels` arrays are the *training set*—the data the model uses to learn.\n",
    "* The model is tested against the *test set*, the `test_images`, and `test_labels` arrays.\n",
    "\n",
    "The images are 28x28 NumPy arrays, with pixel values ranging from 0 to 255."
   ]
  },
  {
   "cell_type": "markdown",
   "metadata": {
    "colab_type": "text",
    "id": "Brm0b_KACaWX"
   },
   "source": [
    "#### Explore the data\n",
    "\n",
    "Let's explore the format of the dataset before training the model. The following shows there are 60,000 images in the training set, with each image represented as 28 x 28 pixels:"
   ]
  },
  {
   "cell_type": "code",
   "execution_count": 3,
   "metadata": {},
   "outputs": [
    {
     "name": "stdout",
     "output_type": "stream",
     "text": [
      "The training set contains 60000 images.\n",
      "The test set contains 10000 images.\n",
      "The training set has 10 unique values out of totally 60000 labels.\n"
     ]
    }
   ],
   "source": [
    "# Some different commands relating to size, shape, etc.\n",
    "print(f'The training set contains', len(train_images), 'images.')\n",
    "print(f'The test set contains', len(test_images), 'images.')\n",
    "print(f'The training set has', np.unique(train_labels).size, 'unique values out of totally', train_labels.size, 'labels.')"
   ]
  },
  {
   "cell_type": "code",
   "execution_count": 4,
   "metadata": {
    "scrolled": false
   },
   "outputs": [
    {
     "data": {
      "text/plain": [
       "array([[  0,   0,   0,   0,   0,   1,   0,   0,   0,   0,  41, 188, 103,\n",
       "         54,  48,  43,  87, 168, 133,  16,   0,   0,   0,   0,   0,   0,\n",
       "          0,   0],\n",
       "       [  0,   0,   0,   1,   0,   0,   0,  49, 136, 219, 216, 228, 236,\n",
       "        255, 255, 255, 255, 217, 215, 254, 231, 160,  45,   0,   0,   0,\n",
       "          0,   0],\n",
       "       [  0,   0,   0,   0,   0,  14, 176, 222, 224, 212, 203, 198, 196,\n",
       "        200, 215, 204, 202, 201, 201, 201, 209, 218, 224, 164,   0,   0,\n",
       "          0,   0],\n",
       "       [  0,   0,   0,   0,   0, 188, 219, 200, 198, 202, 198, 199, 199,\n",
       "        201, 196, 198, 198, 200, 200, 200, 200, 201, 200, 225,  41,   0,\n",
       "          0,   0],\n",
       "       [  0,   0,   0,   0,  51, 219, 199, 203, 203, 212, 238, 248, 250,\n",
       "        245, 249, 246, 247, 252, 248, 235, 207, 203, 203, 222, 140,   0,\n",
       "          0,   0],\n",
       "       [  0,   0,   0,   0, 116, 226, 206, 204, 207, 204, 101,  75,  47,\n",
       "         73,  48,  50,  45,  51,  63, 113, 222, 202, 206, 220, 224,   0,\n",
       "          0,   0],\n",
       "       [  0,   0,   0,   0, 200, 222, 209, 203, 215, 200,   0,  70,  98,\n",
       "          0, 103,  59,  68,  71,  49,   0, 219, 206, 214, 210, 250,  38,\n",
       "          0,   0],\n",
       "       [  0,   0,   0,   0, 247, 218, 212, 210, 215, 214,   0, 254, 243,\n",
       "        139, 255, 174, 251, 255, 205,   0, 215, 217, 214, 208, 220,  95,\n",
       "          0,   0],\n",
       "       [  0,   0,   0,  45, 226, 214, 214, 215, 224, 205,   0,  42,  35,\n",
       "         60,  16,  17,  12,  13,  70,   0, 189, 216, 212, 206, 212, 156,\n",
       "          0,   0],\n",
       "       [  0,   0,   0, 164, 235, 214, 211, 220, 216, 201,  52,  71,  89,\n",
       "         94,  83,  78,  70,  76,  92,  87, 206, 207, 222, 213, 219, 208,\n",
       "          0,   0],\n",
       "       [  0,   0,   0, 106, 187, 223, 237, 248, 211, 198, 252, 250, 248,\n",
       "        245, 248, 252, 253, 250, 252, 239, 201, 212, 225, 215, 193, 113,\n",
       "          0,   0],\n",
       "       [  0,   0,   0,   0,   0,  17,  54, 159, 222, 193, 208, 192, 197,\n",
       "        200, 200, 200, 200, 201, 203, 195, 210, 165,   0,   0,   0,   0,\n",
       "          0,   0],\n",
       "       [  0,   0,   0,   0,   0,   0,   0,  47, 225, 192, 214, 203, 206,\n",
       "        204, 204, 205, 206, 204, 212, 197, 218, 107,   0,   0,   0,   0,\n",
       "          0,   0],\n",
       "       [  0,   0,   0,   0,   1,   6,   0,  46, 212, 195, 212, 202, 206,\n",
       "        205, 204, 205, 206, 204, 212, 200, 218,  91,   0,   3,   1,   0,\n",
       "          0,   0],\n",
       "       [  0,   0,   0,   0,   0,   1,   0,  11, 197, 199, 205, 202, 205,\n",
       "        206, 204, 205, 207, 204, 205, 205, 218,  77,   0,   5,   0,   0,\n",
       "          0,   0],\n",
       "       [  0,   0,   0,   0,   0,   3,   0,   2, 191, 198, 201, 205, 206,\n",
       "        205, 205, 206, 209, 206, 199, 209, 219,  74,   0,   5,   0,   0,\n",
       "          0,   0],\n",
       "       [  0,   0,   0,   0,   0,   2,   0,   0, 188, 197, 200, 207, 207,\n",
       "        204, 207, 207, 210, 208, 198, 207, 221,  72,   0,   4,   0,   0,\n",
       "          0,   0],\n",
       "       [  0,   0,   0,   0,   0,   2,   0,   0, 215, 198, 203, 206, 208,\n",
       "        205, 207, 207, 210, 208, 200, 202, 222,  75,   0,   4,   0,   0,\n",
       "          0,   0],\n",
       "       [  0,   0,   0,   0,   0,   1,   0,   0, 212, 198, 209, 206, 209,\n",
       "        206, 208, 207, 211, 206, 205, 198, 221,  80,   0,   3,   0,   0,\n",
       "          0,   0],\n",
       "       [  0,   0,   0,   0,   0,   1,   0,   0, 204, 201, 205, 208, 207,\n",
       "        205, 211, 205, 210, 210, 209, 195, 221,  96,   0,   3,   0,   0,\n",
       "          0,   0],\n",
       "       [  0,   0,   0,   0,   0,   1,   0,   0, 202, 201, 205, 209, 207,\n",
       "        205, 213, 206, 210, 209, 210, 194, 217, 105,   0,   2,   0,   0,\n",
       "          0,   0],\n",
       "       [  0,   0,   0,   0,   0,   1,   0,   0, 204, 204, 205, 208, 207,\n",
       "        205, 215, 207, 210, 208, 211, 193, 213, 115,   0,   2,   0,   0,\n",
       "          0,   0],\n",
       "       [  0,   0,   0,   0,   0,   0,   0,   0, 204, 207, 207, 208, 206,\n",
       "        206, 215, 210, 210, 207, 212, 195, 210, 118,   0,   2,   0,   0,\n",
       "          0,   0],\n",
       "       [  0,   0,   0,   0,   0,   1,   0,   0, 198, 208, 208, 208, 204,\n",
       "        207, 212, 212, 210, 207, 211, 196, 207, 121,   0,   1,   0,   0,\n",
       "          0,   0],\n",
       "       [  0,   0,   0,   0,   0,   1,   0,   0, 198, 210, 207, 208, 206,\n",
       "        209, 213, 212, 211, 207, 210, 197, 207, 124,   0,   1,   0,   0,\n",
       "          0,   0],\n",
       "       [  0,   0,   0,   0,   0,   0,   0,   0, 172, 210, 203, 201, 199,\n",
       "        204, 207, 205, 204, 201, 205, 197, 206, 127,   0,   0,   0,   0,\n",
       "          0,   0],\n",
       "       [  0,   0,   0,   0,   0,   0,   0,   0, 188, 221, 214, 234, 236,\n",
       "        238, 244, 244, 244, 240, 243, 214, 224, 162,   0,   2,   0,   0,\n",
       "          0,   0],\n",
       "       [  0,   0,   0,   0,   0,   1,   0,   0, 139, 146, 130, 135, 135,\n",
       "        137, 125, 124, 125, 121, 119, 114, 130,  76,   0,   0,   0,   0,\n",
       "          0,   0]], dtype=uint8)"
      ]
     },
     "execution_count": 4,
     "metadata": {},
     "output_type": "execute_result"
    }
   ],
   "source": [
    "# Checking the first 28*28 pixel data point\n",
    "train_images[1]"
   ]
  },
  {
   "cell_type": "code",
   "execution_count": 114,
   "metadata": {},
   "outputs": [
    {
     "data": {
      "image/png": "[encoded data removed]",
      "text/plain": [
       "<Figure size 432x288 with 5 Axes>"
      ]
     },
     "metadata": {
      "needs_background": "light"
     },
     "output_type": "display_data"
    }
   ],
   "source": [
    "# Importing some plotting features\n",
    "from pylab import cm\n",
    "\n",
    "plt.figure()\n",
    "\n",
    "# Plotting first observation\n",
    "plt.subplot(141)\n",
    "plt.imshow(train_images[0], cmap = cm.plasma)\n",
    "plt.grid(True)\n",
    "\n",
    "# Plotting second observation\n",
    "plt.subplot(142)\n",
    "plt.imshow(train_images[1], cmap = cm.plasma)\n",
    "plt.grid(True)\n",
    "\n",
    "# Plotting third observation\n",
    "plt.subplot(143)\n",
    "plt.imshow(train_images[2], cmap = cm.plasma)\n",
    "plt.grid(True)\n",
    "\n",
    "# Plotting fourth observation\n",
    "plt.subplot(144)\n",
    "plt.imshow(train_images[3], cmap = cm.plasma)\n",
    "plt.grid(True)\n",
    "\n",
    "plt.colorbar()\n",
    "\n",
    "plt.show()"
   ]
  },
  {
   "cell_type": "markdown",
   "metadata": {},
   "source": [
    "In the data we see the object `array`. It is an enhanced version of the matrix that comes in the `numpy` library. \n",
    "Let us practice a bit with arrays. "
   ]
  },
  {
   "cell_type": "code",
   "execution_count": 6,
   "metadata": {},
   "outputs": [
    {
     "name": "stdout",
     "output_type": "stream",
     "text": [
      "[[5, 4, 6, 2, 3], [1, 2, 1, 1, 1]]\n",
      "<class 'list'>\n",
      "[[5 4 6 2 3]\n",
      " [1 2 1 1 1]]\n",
      "<class 'numpy.ndarray'>\n",
      "[[5 4]\n",
      " [1 2]]\n",
      "[[5 4 6 2 3]\n",
      " [1 2 1 1 1]]\n"
     ]
    }
   ],
   "source": [
    "# Practicing arrays\n",
    "ua1 = [[5, 4, 6, 2, 3], [1, 2, 1, 1, 1]]\n",
    "print(ua1)\n",
    "print(type(ua1)) # Easy way to check data type of a variable (for some reason it calls it list)\n",
    "ua2 = np.array(ua1)\n",
    "print(ua2)\n",
    "print(type(ua2))\n",
    "\n",
    "print(ua2[0:2, 0:2])\n",
    "print(ua2[:, :]) # So : means 'all'"
   ]
  },
  {
   "cell_type": "markdown",
   "metadata": {},
   "source": [
    "We note a rather unusual convention that the right-hand-side end of the index range is treated as exclusive. Next, learn how to extract parts of the matrices. We also introduce the `for`-loop and related function `range`."
   ]
  },
  {
   "cell_type": "code",
   "execution_count": 7,
   "metadata": {},
   "outputs": [
    {
     "data": {
      "text/plain": [
       "array([[217, 105],\n",
       "       [213, 115]], dtype=uint8)"
      ]
     },
     "execution_count": 7,
     "metadata": {},
     "output_type": "execute_result"
    }
   ],
   "source": [
    "# Extracting one instance from the training set\n",
    "tr = train_images[1]\n",
    "\n",
    "# Checking the 20th to 21st element in both dimensions\n",
    "tr[20:22,20:22]"
   ]
  },
  {
   "cell_type": "code",
   "execution_count": 8,
   "metadata": {},
   "outputs": [
    {
     "data": {
      "text/plain": [
       "162.5"
      ]
     },
     "execution_count": 8,
     "metadata": {},
     "output_type": "execute_result"
    }
   ],
   "source": [
    "# Checking the mean\n",
    "np.mean(tr[20:22, 20:22])"
   ]
  },
  {
   "cell_type": "code",
   "execution_count": 9,
   "metadata": {},
   "outputs": [
    {
     "name": "stdout",
     "output_type": "stream",
     "text": [
      "Variance: 2770.75\n",
      "Max: 217\n",
      "Min: 105\n",
      "Second matrix norm: 341.5413503931434\n"
     ]
    }
   ],
   "source": [
    "# Checking a few more things\n",
    "print(f'Variance:', np.var(tr[20:22, 20:22]))\n",
    "print(f'Max:', np.max(tr[20:22, 20:22]))\n",
    "print(f'Min:', np.min(tr[20:22, 20:22]))\n",
    "print(f'Second matrix norm:', np.linalg.norm(x = tr[20:22, 20:22], ord = 2))"
   ]
  },
  {
   "cell_type": "code",
   "execution_count": 41,
   "metadata": {},
   "outputs": [
    {
     "name": "stdout",
     "output_type": "stream",
     "text": [
      "[[0. 0. 0. 0. 0.]\n",
      " [0. 0. 0. 0. 0.]\n",
      " [0. 0. 0. 0. 0.]\n",
      " [0. 0. 0. 0. 0.]\n",
      " [0. 0. 0. 0. 0.]]\n",
      "[[162.5]]\n"
     ]
    }
   ],
   "source": [
    "# Creating a 14 * 14 null matrix\n",
    "reim = np.zeros((14, 14))\n",
    "print(reim[5:10, 5:10])\n",
    "\n",
    "# Inserting the mean from part of tr matrix into the (5,5) place in the reim matrix\n",
    "reim[5,5] = np.mean(tr[20:22, 20:22])\n",
    "print(reim[5:6, 5:6])"
   ]
  },
  {
   "cell_type": "code",
   "execution_count": 43,
   "metadata": {},
   "outputs": [
    {
     "name": "stdout",
     "output_type": "stream",
     "text": [
      "[[0 0]\n",
      " [0 0]]\n",
      "[[0 0]\n",
      " [0 1]]\n",
      "[[0 1]\n",
      " [0 0]]\n",
      "[[ 0  0]\n",
      " [ 0 49]]\n",
      "[[  0   0]\n",
      " [136 219]]\n",
      "[[ 41 188]\n",
      " [216 228]]\n",
      "[[103  54]\n",
      " [236 255]]\n",
      "[[ 48  43]\n",
      " [255 255]]\n",
      "[[ 87 168]\n",
      " [255 217]]\n",
      "[[133  16]\n",
      " [215 254]]\n",
      "[[  0   0]\n",
      " [231 160]]\n",
      "[[ 0  0]\n",
      " [45  0]]\n",
      "[[0 0]\n",
      " [0 0]]\n",
      "[[0 0]\n",
      " [0 0]]\n",
      "[[0 0]\n",
      " [0 0]]\n",
      "[[0 0]\n",
      " [0 0]]\n",
      "[[  0  14]\n",
      " [  0 188]]\n",
      "[[176 222]\n",
      " [219 200]]\n",
      "[[224 212]\n",
      " [198 202]]\n",
      "[[203 198]\n",
      " [198 199]]\n",
      "[[196 200]\n",
      " [199 201]]\n",
      "[[215 204]\n",
      " [196 198]]\n",
      "[[202 201]\n",
      " [198 200]]\n",
      "[[201 201]\n",
      " [200 200]]\n",
      "[[209 218]\n",
      " [200 201]]\n",
      "[[224 164]\n",
      " [200 225]]\n",
      "[[ 0  0]\n",
      " [41  0]]\n",
      "[[0 0]\n",
      " [0 0]]\n",
      "[[0 0]\n",
      " [0 0]]\n",
      "[[0 0]\n",
      " [0 0]]\n",
      "[[ 51 219]\n",
      " [116 226]]\n",
      "[[199 203]\n",
      " [206 204]]\n",
      "[[203 212]\n",
      " [207 204]]\n",
      "[[238 248]\n",
      " [101  75]]\n",
      "[[250 245]\n",
      " [ 47  73]]\n",
      "[[249 246]\n",
      " [ 48  50]]\n",
      "[[247 252]\n",
      " [ 45  51]]\n",
      "[[248 235]\n",
      " [ 63 113]]\n",
      "[[207 203]\n",
      " [222 202]]\n",
      "[[203 222]\n",
      " [206 220]]\n",
      "[[140   0]\n",
      " [224   0]]\n",
      "[[0 0]\n",
      " [0 0]]\n",
      "[[0 0]\n",
      " [0 0]]\n",
      "[[0 0]\n",
      " [0 0]]\n",
      "[[200 222]\n",
      " [247 218]]\n",
      "[[209 203]\n",
      " [212 210]]\n",
      "[[215 200]\n",
      " [215 214]]\n",
      "[[  0  70]\n",
      " [  0 254]]\n",
      "[[ 98   0]\n",
      " [243 139]]\n",
      "[[103  59]\n",
      " [255 174]]\n",
      "[[ 68  71]\n",
      " [251 255]]\n",
      "[[ 49   0]\n",
      " [205   0]]\n",
      "[[219 206]\n",
      " [215 217]]\n",
      "[[214 210]\n",
      " [214 208]]\n",
      "[[250  38]\n",
      " [220  95]]\n",
      "[[0 0]\n",
      " [0 0]]\n",
      "[[0 0]\n",
      " [0 0]]\n",
      "[[  0  45]\n",
      " [  0 164]]\n",
      "[[226 214]\n",
      " [235 214]]\n",
      "[[214 215]\n",
      " [211 220]]\n",
      "[[224 205]\n",
      " [216 201]]\n",
      "[[ 0 42]\n",
      " [52 71]]\n",
      "[[35 60]\n",
      " [89 94]]\n",
      "[[16 17]\n",
      " [83 78]]\n",
      "[[12 13]\n",
      " [70 76]]\n",
      "[[70  0]\n",
      " [92 87]]\n",
      "[[189 216]\n",
      " [206 207]]\n",
      "[[212 206]\n",
      " [222 213]]\n",
      "[[212 156]\n",
      " [219 208]]\n",
      "[[0 0]\n",
      " [0 0]]\n",
      "[[0 0]\n",
      " [0 0]]\n",
      "[[  0 106]\n",
      " [  0   0]]\n",
      "[[187 223]\n",
      " [  0  17]]\n",
      "[[237 248]\n",
      " [ 54 159]]\n",
      "[[211 198]\n",
      " [222 193]]\n",
      "[[252 250]\n",
      " [208 192]]\n",
      "[[248 245]\n",
      " [197 200]]\n",
      "[[248 252]\n",
      " [200 200]]\n",
      "[[253 250]\n",
      " [200 201]]\n",
      "[[252 239]\n",
      " [203 195]]\n",
      "[[201 212]\n",
      " [210 165]]\n",
      "[[225 215]\n",
      " [  0   0]]\n",
      "[[193 113]\n",
      " [  0   0]]\n",
      "[[0 0]\n",
      " [0 0]]\n",
      "[[0 0]\n",
      " [0 0]]\n",
      "[[0 0]\n",
      " [0 0]]\n",
      "[[0 0]\n",
      " [1 6]]\n",
      "[[ 0 47]\n",
      " [ 0 46]]\n",
      "[[225 192]\n",
      " [212 195]]\n",
      "[[214 203]\n",
      " [212 202]]\n",
      "[[206 204]\n",
      " [206 205]]\n",
      "[[204 205]\n",
      " [204 205]]\n",
      "[[206 204]\n",
      " [206 204]]\n",
      "[[212 197]\n",
      " [212 200]]\n",
      "[[218 107]\n",
      " [218  91]]\n",
      "[[0 0]\n",
      " [0 3]]\n",
      "[[0 0]\n",
      " [1 0]]\n",
      "[[0 0]\n",
      " [0 0]]\n",
      "[[0 0]\n",
      " [0 0]]\n",
      "[[0 0]\n",
      " [0 0]]\n",
      "[[0 1]\n",
      " [0 3]]\n",
      "[[ 0 11]\n",
      " [ 0  2]]\n",
      "[[197 199]\n",
      " [191 198]]\n",
      "[[205 202]\n",
      " [201 205]]\n",
      "[[205 206]\n",
      " [206 205]]\n",
      "[[204 205]\n",
      " [205 206]]\n",
      "[[207 204]\n",
      " [209 206]]\n",
      "[[205 205]\n",
      " [199 209]]\n",
      "[[218  77]\n",
      " [219  74]]\n",
      "[[0 5]\n",
      " [0 5]]\n",
      "[[0 0]\n",
      " [0 0]]\n",
      "[[0 0]\n",
      " [0 0]]\n",
      "[[0 0]\n",
      " [0 0]]\n",
      "[[0 0]\n",
      " [0 0]]\n",
      "[[0 2]\n",
      " [0 2]]\n",
      "[[0 0]\n",
      " [0 0]]\n",
      "[[188 197]\n",
      " [215 198]]\n",
      "[[200 207]\n",
      " [203 206]]\n",
      "[[207 204]\n",
      " [208 205]]\n",
      "[[207 207]\n",
      " [207 207]]\n",
      "[[210 208]\n",
      " [210 208]]\n",
      "[[198 207]\n",
      " [200 202]]\n",
      "[[221  72]\n",
      " [222  75]]\n",
      "[[0 4]\n",
      " [0 4]]\n",
      "[[0 0]\n",
      " [0 0]]\n",
      "[[0 0]\n",
      " [0 0]]\n",
      "[[0 0]\n",
      " [0 0]]\n",
      "[[0 0]\n",
      " [0 0]]\n",
      "[[0 1]\n",
      " [0 1]]\n",
      "[[0 0]\n",
      " [0 0]]\n",
      "[[212 198]\n",
      " [204 201]]\n",
      "[[209 206]\n",
      " [205 208]]\n",
      "[[209 206]\n",
      " [207 205]]\n",
      "[[208 207]\n",
      " [211 205]]\n",
      "[[211 206]\n",
      " [210 210]]\n",
      "[[205 198]\n",
      " [209 195]]\n",
      "[[221  80]\n",
      " [221  96]]\n",
      "[[0 3]\n",
      " [0 3]]\n",
      "[[0 0]\n",
      " [0 0]]\n",
      "[[0 0]\n",
      " [0 0]]\n",
      "[[0 0]\n",
      " [0 0]]\n",
      "[[0 0]\n",
      " [0 0]]\n",
      "[[0 1]\n",
      " [0 1]]\n",
      "[[0 0]\n",
      " [0 0]]\n",
      "[[202 201]\n",
      " [204 204]]\n",
      "[[205 209]\n",
      " [205 208]]\n",
      "[[207 205]\n",
      " [207 205]]\n",
      "[[213 206]\n",
      " [215 207]]\n",
      "[[210 209]\n",
      " [210 208]]\n",
      "[[210 194]\n",
      " [211 193]]\n",
      "[[217 105]\n",
      " [213 115]]\n",
      "[[0 2]\n",
      " [0 2]]\n",
      "[[0 0]\n",
      " [0 0]]\n",
      "[[0 0]\n",
      " [0 0]]\n",
      "[[0 0]\n",
      " [0 0]]\n",
      "[[0 0]\n",
      " [0 0]]\n",
      "[[0 0]\n",
      " [0 1]]\n",
      "[[0 0]\n",
      " [0 0]]\n",
      "[[204 207]\n",
      " [198 208]]\n",
      "[[207 208]\n",
      " [208 208]]\n",
      "[[206 206]\n",
      " [204 207]]\n",
      "[[215 210]\n",
      " [212 212]]\n",
      "[[210 207]\n",
      " [210 207]]\n",
      "[[212 195]\n",
      " [211 196]]\n",
      "[[210 118]\n",
      " [207 121]]\n",
      "[[0 2]\n",
      " [0 1]]\n",
      "[[0 0]\n",
      " [0 0]]\n",
      "[[0 0]\n",
      " [0 0]]\n",
      "[[0 0]\n",
      " [0 0]]\n",
      "[[0 0]\n",
      " [0 0]]\n",
      "[[0 1]\n",
      " [0 0]]\n",
      "[[0 0]\n",
      " [0 0]]\n",
      "[[198 210]\n",
      " [172 210]]\n",
      "[[207 208]\n",
      " [203 201]]\n",
      "[[206 209]\n",
      " [199 204]]\n",
      "[[213 212]\n",
      " [207 205]]\n",
      "[[211 207]\n",
      " [204 201]]\n",
      "[[210 197]\n",
      " [205 197]]\n",
      "[[207 124]\n",
      " [206 127]]\n",
      "[[0 1]\n",
      " [0 0]]\n",
      "[[0 0]\n",
      " [0 0]]\n",
      "[[0 0]\n",
      " [0 0]]\n",
      "[[0 0]\n",
      " [0 0]]\n",
      "[[0 0]\n",
      " [0 0]]\n",
      "[[0 0]\n",
      " [0 1]]\n",
      "[[0 0]\n",
      " [0 0]]\n",
      "[[188 221]\n",
      " [139 146]]\n",
      "[[214 234]\n",
      " [130 135]]\n",
      "[[236 238]\n",
      " [135 137]]\n",
      "[[244 244]\n",
      " [125 124]]\n",
      "[[244 240]\n",
      " [125 121]]\n",
      "[[243 214]\n",
      " [119 114]]\n",
      "[[224 162]\n",
      " [130  76]]\n",
      "[[0 2]\n",
      " [0 0]]\n",
      "[[0 0]\n",
      " [0 0]]\n",
      "[[0 0]\n",
      " [0 0]]\n"
     ]
    }
   ],
   "source": [
    "# Nested for loop practice with matrix\n",
    "for i in range(14): \n",
    "    for j in range(14):\n",
    "        print(tr[(2*i):(2*i+2),(2*j):(2*j+2)])"
   ]
  },
  {
   "cell_type": "code",
   "execution_count": 11,
   "metadata": {},
   "outputs": [
    {
     "name": "stdout",
     "output_type": "stream",
     "text": [
      "[[1 1 1 1 1]\n",
      " [2 2 2 2 2]\n",
      " [3 3 3 3 3]\n",
      " [4 4 4 4 4]\n",
      " [5 5 5 5 5]]\n",
      "Row 1 is [1 1 1 1 1]\n",
      "Row 2 is [2 2 2 2 2]\n",
      "Row 3 is [3 3 3 3 3]\n",
      "Row 4 is [4 4 4 4 4]\n",
      "Row 5 is [5 5 5 5 5]\n"
     ]
    }
   ],
   "source": [
    "# Small experiment\n",
    "my_matrix = np.array([[1, 1, 1, 1, 1], \n",
    "                      [2, 2, 2, 2, 2], \n",
    "                      [3, 3, 3, 3, 3], \n",
    "                      [4, 4, 4, 4, 4], \n",
    "                      [5, 5, 5, 5, 5]])\n",
    "print(my_matrix)\n",
    "\n",
    "for i in range(len(my_matrix)):\n",
    "    print(f'Row', i+1, 'is', my_matrix[i])"
   ]
  },
  {
   "cell_type": "markdown",
   "metadata": {},
   "source": [
    "Sometimes it is convenient to place some collection of objects in the form of a list. Here is how we can create such lists."
   ]
  },
  {
   "cell_type": "code",
   "execution_count": 23,
   "metadata": {},
   "outputs": [
    {
     "name": "stdout",
     "output_type": "stream",
     "text": [
      "[]\n",
      "[array([[217, 105],\n",
      "       [213, 115]], dtype=uint8)]\n",
      "[array([[217, 105],\n",
      "       [213, 115]], dtype=uint8), array([[0, 2, 0, 0, 0, 0],\n",
      "       [0, 2, 0, 0, 0, 0]], dtype=uint8), array([], shape=(2, 0), dtype=uint8)]\n",
      "[]\n",
      "[[217 105]\n",
      " [213 115]]\n",
      "[[1 0 0]\n",
      " [0 1 0]\n",
      " [0 0 1]]\n"
     ]
    }
   ],
   "source": [
    "middle=[]\n",
    "print(middle)\n",
    "\n",
    "middle.append(tr[20:22,20:22])\n",
    "print(middle)\n",
    "middle.extend([tr[20:22,22:28],tr[20:22,28:34]])\n",
    "print(middle)\n",
    "\n",
    "print(middle[2]) \n",
    "\n",
    "# Checking the first object, which is the first matrix we inserted\n",
    "print(middle[0])\n",
    "\n",
    "# Adding another object\n",
    "middle.append(np.array([[1, 0, 0], [0, 1, 0], [0, 0, 1]]))\n",
    "\n",
    "# Printing the last object in the list\n",
    "print(middle[len(middle)-1])"
   ]
  },
  {
   "cell_type": "markdown",
   "metadata": {},
   "source": [
    "Finally, if we want collect matrices of the same sizes it is better to keep them in the form of arrays. Notice the difference between lists of matrices and three dimensional matrices. The latter are also more efficiently handled in computations. "
   ]
  },
  {
   "cell_type": "code",
   "execution_count": 24,
   "metadata": {},
   "outputs": [
    {
     "name": "stdout",
     "output_type": "stream",
     "text": [
      "[[[0. 0.]\n",
      "  [0. 0.]]\n",
      "\n",
      " [[0. 0.]\n",
      "  [0. 0.]]\n",
      "\n",
      " [[0. 0.]\n",
      "  [0. 0.]]]\n"
     ]
    }
   ],
   "source": [
    "middle1=np.zeros((3,2,2))\n",
    "print(middle1)"
   ]
  },
  {
   "cell_type": "code",
   "execution_count": 26,
   "metadata": {},
   "outputs": [
    {
     "name": "stdout",
     "output_type": "stream",
     "text": [
      "This is what we want to insert into the 3-dim matrix:\n",
      "[[217 105]\n",
      " [213 115]]\n",
      "This is what the 3-dim matrix looks now:\n",
      "[[[217. 105.]\n",
      "  [213. 115.]]\n",
      "\n",
      " [[  0.   0.]\n",
      "  [  0.   0.]]\n",
      "\n",
      " [[  0.   0.]\n",
      "  [  0.   0.]]]\n"
     ]
    }
   ],
   "source": [
    "print('This is what we want to insert into the 3-dim matrix:')\n",
    "print(tr[20:22, 20:22])\n",
    "# Inserting the above 2*2 matrix into the 3-dim matrix, in the first 'spot'\n",
    "middle1[0, 0:2, 0:2] = tr[20:22, 20:22]\n",
    "print('This is what the 3-dim matrix looks now:')\n",
    "print(middle1)"
   ]
  },
  {
   "cell_type": "markdown",
   "metadata": {},
   "source": [
    "### Task 1:\n",
    "\n",
    "The data dimension in the clothin data example is 784. Reduce the data dimension by merging four neighboring pixels into one and averaging the corresponding values of pixels so that the dimension of the reduced data is 196. Plot examples of the obtained images. Keep in mind the creating a new data set of the reduced resolution will take some computing time."
   ]
  },
  {
   "cell_type": "markdown",
   "metadata": {},
   "source": [
    "#### Solution\n",
    "First, I'll check how many dimensions we should should end up with after our transformation of the data. Then I'll try and write a fuunction that transform the data the way we want. Fortunately, I can use one of the loops from earlier for this. However this time I also need to loop over the 60 000 observations."
   ]
  },
  {
   "cell_type": "code",
   "execution_count": 34,
   "metadata": {},
   "outputs": [
    {
     "data": {
      "text/plain": [
       "14.0"
      ]
     },
     "execution_count": 34,
     "metadata": {},
     "output_type": "execute_result"
    }
   ],
   "source": [
    "# If 28*28 = 784, then sqrt(196) should give us the new x*x dimensions\n",
    "np.sqrt(196)"
   ]
  },
  {
   "cell_type": "code",
   "execution_count": 79,
   "metadata": {},
   "outputs": [],
   "source": [
    "# Function for dimension reduction\n",
    "\n",
    "def dim_reduction(original_matrix, new_dim):\n",
    "    # Checking how many observations to go through\n",
    "    nr_observations = len(original_matrix)\n",
    "    \n",
    "    # Creating empty matrix of the wanted form\n",
    "    merged_matrix = np.zeros((nr_observations, new_dim, new_dim))\n",
    "    \n",
    "    # Looping over observations and merging\n",
    "    for nr in range(nr_observations):\n",
    "        for i in range(len(merged_matrix[0])):\n",
    "            for j in range(len(merged_matrix[0])):\n",
    "                merged_matrix[nr, i, j] = np.mean(original_matrix[nr, (2*i):(2*i+2),(2*j):(2*j+2)])\n",
    "                \n",
    "    return merged_matrix"
   ]
  },
  {
   "cell_type": "code",
   "execution_count": 82,
   "metadata": {},
   "outputs": [
    {
     "name": "stdout",
     "output_type": "stream",
     "text": [
      "CPU times: user 2min 32s, sys: 1.19 s, total: 2min 33s\n",
      "Wall time: 2min 44s\n"
     ]
    }
   ],
   "source": [
    "%%time\n",
    "# New data with reduced dimensions\n",
    "train_images_2 = dim_reduction(train_images, 14)"
   ]
  },
  {
   "cell_type": "code",
   "execution_count": 84,
   "metadata": {},
   "outputs": [
    {
     "data": {
      "image/png": "[encoded data removed]",
      "text/plain": [
       "<Figure size 432x288 with 2 Axes>"
      ]
     },
     "metadata": {
      "needs_background": "light"
     },
     "output_type": "display_data"
    }
   ],
   "source": [
    "# Checking so it went ok\n",
    "plt.figure()\n",
    "plt.imshow(train_images_2[1])\n",
    "plt.colorbar()\n",
    "plt.grid(False)\n",
    "plt.show()"
   ]
  },
  {
   "cell_type": "markdown",
   "metadata": {},
   "source": [
    "*Comment*: This went well, apart the fact that it took very long to transform the data. However, that's probably because my computer is a bit old."
   ]
  },
  {
   "cell_type": "markdown",
   "metadata": {},
   "source": [
    "### Task 2:\n",
    "\n",
    "Cross-validation is a method of checking performance of different methods on some subsamples of the training data to decide for a best performing model among a number of them under consideration. For the so-called $k$-fold crossvalidation, one splits the training data into $k$ equal sized portions using random sampling. One can utilize for the purpose the following random permutation function and Python list reshaping methods."
   ]
  },
  {
   "cell_type": "markdown",
   "metadata": {},
   "source": [
    "#### Solution\n",
    "For creation of CV-sets, see cell right before task 3."
   ]
  },
  {
   "cell_type": "code",
   "execution_count": 136,
   "metadata": {
    "colab": {},
    "colab_type": "code",
    "id": "IjnLH5S2CaWx"
   },
   "outputs": [],
   "source": [
    "class_names = ['T-shirt/top', 'Trouser', 'Pullover', 'Dress', 'Coat',\n",
    "               'Sandal', 'Shirt', 'Sneaker', 'Bag', 'Ankle boot']"
   ]
  },
  {
   "cell_type": "code",
   "execution_count": 137,
   "metadata": {},
   "outputs": [
    {
     "name": "stdout",
     "output_type": "stream",
     "text": [
      "[ 1  0  9  8  6  4 11  5  3  2 10  7]\n",
      "[[ 1  0  9]\n",
      " [ 8  6  4]\n",
      " [11  5  3]\n",
      " [ 2 10  7]]\n"
     ]
    }
   ],
   "source": [
    "perm = np.random.permutation(12)\n",
    "print(perm)\n",
    "rearr = perm.reshape(4, 3)\n",
    "print(rearr)"
   ]
  },
  {
   "cell_type": "code",
   "execution_count": 149,
   "metadata": {},
   "outputs": [
    {
     "data": {
      "image/png": "[encoded data removed]",
      "text/plain": [
       "<Figure size 432x288 with 2 Axes>"
      ]
     },
     "metadata": {
      "needs_background": "light"
     },
     "output_type": "display_data"
    }
   ],
   "source": [
    "small_images = train_images[rearr]\n",
    "small_labels = train_labels[rearr]\n",
    "\n",
    "plt.figure()\n",
    "plt.imshow(small_images[1][0])\n",
    "plt.colorbar()\n",
    "plt.grid(False)\n",
    "plt.xlabel(class_names[small_labels[1][0]])\n",
    "plt.show()"
   ]
  },
  {
   "cell_type": "markdown",
   "metadata": {},
   "source": [
    "Thus rearrangement to 10 batches of the training data could start with the following command."
   ]
  },
  {
   "cell_type": "code",
   "execution_count": 150,
   "metadata": {},
   "outputs": [],
   "source": [
    "perm = np.random.permutation(len(train_images))\n",
    "rearr = perm.reshape(10, int(len(train_images)/10))"
   ]
  },
  {
   "cell_type": "markdown",
   "metadata": {
    "colab_type": "text",
    "id": "t9FDsUlxCaWW"
   },
   "source": [
    "#### Further description of the data\n",
    "\n",
    "The *labels* are an array of integers, ranging from 0 to 9. These correspond to the *class* of clothing the image represents:\n",
    "\n",
    "<table>\n",
    "  <tr>\n",
    "    <th>Label</th>\n",
    "    <th>Class</th>\n",
    "  </tr>\n",
    "  <tr>\n",
    "    <td>0</td>\n",
    "    <td>T-shirt/top</td>\n",
    "  </tr>\n",
    "  <tr>\n",
    "    <td>1</td>\n",
    "    <td>Trouser</td>\n",
    "  </tr>\n",
    "    <tr>\n",
    "    <td>2</td>\n",
    "    <td>Pullover</td>\n",
    "  </tr>\n",
    "    <tr>\n",
    "    <td>3</td>\n",
    "    <td>Dress</td>\n",
    "  </tr>\n",
    "    <tr>\n",
    "    <td>4</td>\n",
    "    <td>Coat</td>\n",
    "  </tr>\n",
    "    <tr>\n",
    "    <td>5</td>\n",
    "    <td>Sandal</td>\n",
    "  </tr>\n",
    "    <tr>\n",
    "    <td>6</td>\n",
    "    <td>Shirt</td>\n",
    "  </tr>\n",
    "    <tr>\n",
    "    <td>7</td>\n",
    "    <td>Sneaker</td>\n",
    "  </tr>\n",
    "    <tr>\n",
    "    <td>8</td>\n",
    "    <td>Bag</td>\n",
    "  </tr>\n",
    "    <tr>\n",
    "    <td>9</td>\n",
    "    <td>Ankle boot</td>\n",
    "  </tr>\n",
    "</table>\n",
    "\n",
    "Each image is mapped to a single label. Since the *class names* are not included with the dataset, store them here to use later when plotting the images:"
   ]
  },
  {
   "cell_type": "code",
   "execution_count": 152,
   "metadata": {
    "colab": {},
    "colab_type": "code",
    "id": "zW5k_xz1CaWX"
   },
   "outputs": [
    {
     "data": {
      "text/plain": [
       "(60000, 28, 28)"
      ]
     },
     "execution_count": 152,
     "metadata": {},
     "output_type": "execute_result"
    }
   ],
   "source": [
    "train_images.shape"
   ]
  },
  {
   "cell_type": "markdown",
   "metadata": {
    "colab_type": "text",
    "id": "cIAcvQqMCaWf"
   },
   "source": [
    "Likewise, there are 60,000 labels in the training set:"
   ]
  },
  {
   "cell_type": "code",
   "execution_count": 153,
   "metadata": {
    "colab": {},
    "colab_type": "code",
    "id": "TRFYHB2mCaWb"
   },
   "outputs": [
    {
     "data": {
      "text/plain": [
       "60000"
      ]
     },
     "execution_count": 153,
     "metadata": {},
     "output_type": "execute_result"
    }
   ],
   "source": [
    "len(train_labels)"
   ]
  },
  {
   "cell_type": "markdown",
   "metadata": {
    "colab_type": "text",
    "id": "YSlYxFuRCaWk"
   },
   "source": [
    "Each label is an integer between 0 and 9:"
   ]
  },
  {
   "cell_type": "code",
   "execution_count": 154,
   "metadata": {
    "colab": {},
    "colab_type": "code",
    "id": "XKnCTHz4CaWg"
   },
   "outputs": [
    {
     "data": {
      "text/plain": [
       "array([9, 0, 0, ..., 3, 0, 5], dtype=uint8)"
      ]
     },
     "execution_count": 154,
     "metadata": {},
     "output_type": "execute_result"
    }
   ],
   "source": [
    "train_labels"
   ]
  },
  {
   "cell_type": "markdown",
   "metadata": {
    "colab_type": "text",
    "id": "TMPI88iZpO2T"
   },
   "source": [
    "There are 10,000 images in the test set. Again, each image is represented as 28 x 28 pixels:"
   ]
  },
  {
   "cell_type": "code",
   "execution_count": 155,
   "metadata": {
    "colab": {},
    "colab_type": "code",
    "id": "2KFnYlcwCaWl"
   },
   "outputs": [
    {
     "data": {
      "text/plain": [
       "(10000, 28, 28)"
      ]
     },
     "execution_count": 155,
     "metadata": {},
     "output_type": "execute_result"
    }
   ],
   "source": [
    "test_images.shape"
   ]
  },
  {
   "cell_type": "markdown",
   "metadata": {
    "colab_type": "text",
    "id": "rd0A0Iu0CaWq"
   },
   "source": [
    "And the test set contains 10,000 images labels:"
   ]
  },
  {
   "cell_type": "code",
   "execution_count": 156,
   "metadata": {
    "colab": {},
    "colab_type": "code",
    "id": "iJmPr5-ACaWn"
   },
   "outputs": [
    {
     "data": {
      "text/plain": [
       "10000"
      ]
     },
     "execution_count": 156,
     "metadata": {},
     "output_type": "execute_result"
    }
   ],
   "source": [
    "len(test_labels)"
   ]
  },
  {
   "cell_type": "markdown",
   "metadata": {
    "colab_type": "text",
    "id": "ES6uQoLKCaWr"
   },
   "source": [
    "#### Preprocess the data\n",
    "\n",
    "The data must be preprocessed before training the network. If you inspect the first image in the training set, you will see that the pixel values fall in the range of 0 to 255:"
   ]
  },
  {
   "cell_type": "code",
   "execution_count": 157,
   "metadata": {
    "colab": {},
    "colab_type": "code",
    "id": "m4VEw8Ud9Quh"
   },
   "outputs": [
    {
     "data": {
      "image/png": "[encoded data removed]",
      "text/plain": [
       "<Figure size 432x288 with 2 Axes>"
      ]
     },
     "metadata": {
      "needs_background": "light"
     },
     "output_type": "display_data"
    },
    {
     "name": "stdout",
     "output_type": "stream",
     "text": [
      "The smallest value in this pixel grid is 0\n",
      "The largest value in this pixel grid is 255\n"
     ]
    }
   ],
   "source": [
    "plt.figure()\n",
    "plt.imshow(train_images[8])\n",
    "plt.colorbar()\n",
    "plt.grid(False)\n",
    "plt.show()\n",
    "\n",
    "# Checking more precisely for the min and max value\n",
    "print(f'The smallest value in this pixel grid is', train_images[8].min())\n",
    "print(f'The largest value in this pixel grid is', train_images[8].max())"
   ]
  },
  {
   "cell_type": "markdown",
   "metadata": {
    "colab_type": "text",
    "id": "Wz7l27Lz9S1P"
   },
   "source": [
    "Scale these values to a range of 0 to 1 before feeding them to the neural network model. To do so, divide the values by 255. It's important that the *training set* and the *testing set* be preprocessed in the same way:"
   ]
  },
  {
   "cell_type": "code",
   "execution_count": 158,
   "metadata": {
    "colab": {},
    "colab_type": "code",
    "id": "bW5WzIPlCaWv"
   },
   "outputs": [
    {
     "name": "stdout",
     "output_type": "stream",
     "text": [
      "The smallest value in this scaled pixel grid is 0.0\n",
      "The largest value in this scaled pixel grid is 1.0\n"
     ]
    }
   ],
   "source": [
    "train_images = train_images / 255.0\n",
    "\n",
    "test_images = test_images / 255.0\n",
    "\n",
    "# Checking so it worked\n",
    "print(f'The smallest value in this scaled pixel grid is', train_images[8].min())\n",
    "print(f'The largest value in this scaled pixel grid is', train_images[8].max())"
   ]
  },
  {
   "cell_type": "markdown",
   "metadata": {
    "colab_type": "text",
    "id": "Ee638AlnCaWz"
   },
   "source": [
    "To verify that the data is in the correct format and that you're ready to build and train the network, let's display the first 25 images from the *training set* and display the class name below each image."
   ]
  },
  {
   "cell_type": "code",
   "execution_count": 159,
   "metadata": {
    "colab": {},
    "colab_type": "code",
    "id": "oZTImqg_CaW1",
    "scrolled": true
   },
   "outputs": [
    {
     "data": {
      "image/png": "[encoded data removed]",
      "text/plain": [
       "<Figure size 720x720 with 25 Axes>"
      ]
     },
     "metadata": {},
     "output_type": "display_data"
    }
   ],
   "source": [
    "plt.figure(figsize=(10,10))\n",
    "for i in range(25):\n",
    "    plt.subplot(5,5,i+1)\n",
    "    plt.xticks([])\n",
    "    plt.yticks([])\n",
    "    plt.grid(False)\n",
    "    plt.imshow(train_images[i], cmap=plt.cm.binary)\n",
    "    plt.xlabel(class_names[train_labels[i]])\n",
    "plt.show()"
   ]
  },
  {
   "cell_type": "code",
   "execution_count": 165,
   "metadata": {},
   "outputs": [
    {
     "name": "stdout",
     "output_type": "stream",
     "text": [
      "(10, 6000, 28, 28)\n",
      "10\n",
      "(10, 6000)\n",
      "10\n"
     ]
    }
   ],
   "source": [
    "# Creating cross-validation sets\n",
    "perm = np.random.permutation(len(train_images))\n",
    "rearr = perm.reshape(10, int(len(train_images)/10))\n",
    "\n",
    "# Dividing the data into these batches\n",
    "CV_images = train_images[rearr]\n",
    "print(CV_images.shape)\n",
    "print(len(CV_images))\n",
    "\n",
    "# Dividing the labels the same way\n",
    "CV_labels = train_labels[rearr]\n",
    "print(CV_labels.shape)\n",
    "print(len(CV_labels))"
   ]
  },
  {
   "cell_type": "markdown",
   "metadata": {},
   "source": [
    "### Task 3:\n",
    "\n",
    "Prepare ten cross-validation data sets for  the 10 fold cross validation method using the partition of the data obtained in Task 2. In each of the set you should have 90% data for the training and 10% for testing. "
   ]
  },
  {
   "cell_type": "markdown",
   "metadata": {},
   "source": [
    "#### Solution\n",
    "I'm not sure I understand the task here. We shouldn't really need to create 10 new datasets containing basically the same information as CV_images and CV_labels alreadt holds. We should be able to iterate over that set using a different fold for testing each time. I've written some code that fixes this pretty smoothly."
   ]
  },
  {
   "cell_type": "code",
   "execution_count": 169,
   "metadata": {},
   "outputs": [],
   "source": [
    "all_train = []\n",
    "all_test = []\n",
    "\n",
    "for batch in range(len(CV_images)):\n",
    "    test = CV_images[i]\n",
    "    train = np.delete(CV_images, i)\n",
    "    all_test.append(test)\n",
    "    all_train.append(train)"
   ]
  },
  {
   "cell_type": "code",
   "execution_count": 170,
   "metadata": {},
   "outputs": [],
   "source": [
    "# Function to fetch the dataset you're interested in\n",
    "def fetch_my_data(nr = 1):\n",
    "    return all_train[nr-1], all_test[nr-1]\n",
    "\n",
    "# For example fetching training and test set where fold 5 is test set\n",
    "CV5_train, CV5_test = fetch_my_data(5)"
   ]
  },
  {
   "cell_type": "markdown",
   "metadata": {},
   "source": [
    "*Comment*: The indexing of Python makes it a little unintuitive here. Basically by fifth fold I mean the fifth fold we made, which will be at index 4 due to Python indexing from 0. "
   ]
  },
  {
   "cell_type": "markdown",
   "metadata": {},
   "source": [
    "### Task 4:\n",
    "\n",
    "Print images of the first picture in each of the ten batches created for the cross-validation purposes. "
   ]
  },
  {
   "cell_type": "markdown",
   "metadata": {},
   "source": [
    "#### Solution\n",
    "I'm assuming what is meant here is the first picture of each fold. Each \"dataset\" defined above still contains the same first picture. (Or more specifically, all training sets except the first one will contain the same picture."
   ]
  },
  {
   "cell_type": "code",
   "execution_count": 167,
   "metadata": {},
   "outputs": [
    {
     "data": {
      "image/png": "[encoded data removed]",
      "text/plain": [
       "<Figure size 720x720 with 10 Axes>"
      ]
     },
     "metadata": {},
     "output_type": "display_data"
    }
   ],
   "source": [
    "plt.figure(figsize=(10,10))\n",
    "for i in range(len(CV_images)):\n",
    "    plt.subplot(5,2,i+1)\n",
    "    plt.xticks([])\n",
    "    plt.yticks([])\n",
    "    plt.grid(False)\n",
    "    plt.imshow(CV_images[i][0], cmap=plt.cm.binary)\n",
    "    plt.xlabel(class_names[CV_labels[i][0]])\n",
    "plt.show()"
   ]
  },
  {
   "cell_type": "markdown",
   "metadata": {},
   "source": [
    "## Project 2 -- Classification using the maximum likelihood method"
   ]
  },
  {
   "cell_type": "markdown",
   "metadata": {},
   "source": [
    "After preparing the data we can now turn now to analyzing them. The first method we explore in the Gaussian likelihood method based classification. In this approach, we simply treat the data as high-dimensional vectors disregarding their spatial structure. "
   ]
  },
  {
   "cell_type": "markdown",
   "metadata": {},
   "source": [
    "We first learn how to reshape and subsample matrices (arrays). "
   ]
  },
  {
   "cell_type": "code",
   "execution_count": 175,
   "metadata": {},
   "outputs": [
    {
     "name": "stdout",
     "output_type": "stream",
     "text": [
      "[[[0.85490196 0.83137255]\n",
      "  [0.72941176 0.70980392]]\n",
      "\n",
      " [[0.85098039 0.41176471]\n",
      "  [0.83529412 0.45098039]]\n",
      "\n",
      " [[0.14901961 0.        ]\n",
      "  [0.19215686 0.        ]]\n",
      "\n",
      " [[0.44705882 0.34901961]\n",
      "  [0.45882353 0.40784314]]\n",
      "\n",
      " [[0.22745098 0.        ]\n",
      "  [0.38823529 0.        ]]\n",
      "\n",
      " [[0.19607843 0.38039216]\n",
      "  [0.24705882 0.23137255]]\n",
      "\n",
      " [[0.12156863 0.1372549 ]\n",
      "  [0.         0.        ]]\n",
      "\n",
      " [[0.86666667 0.87843137]\n",
      "  [1.         0.75294118]]\n",
      "\n",
      " [[0.         0.01176471]\n",
      "  [0.         0.        ]]\n",
      "\n",
      " [[0.         0.00784314]\n",
      "  [0.         0.00784314]]]\n"
     ]
    },
    {
     "data": {
      "text/plain": [
       "(10, 2, 2)"
      ]
     },
     "execution_count": 175,
     "metadata": {},
     "output_type": "execute_result"
    }
   ],
   "source": [
    "test=train_images[0:10,20:22,20:22]\n",
    "print(test)\n",
    "\n",
    "# Controlling its shape\n",
    "test.shape"
   ]
  },
  {
   "cell_type": "code",
   "execution_count": 176,
   "metadata": {},
   "outputs": [
    {
     "data": {
      "text/plain": [
       "array([[0.85490196, 0.83137255, 0.72941176, 0.70980392],\n",
       "       [0.85098039, 0.41176471, 0.83529412, 0.45098039],\n",
       "       [0.14901961, 0.        , 0.19215686, 0.        ],\n",
       "       [0.44705882, 0.34901961, 0.45882353, 0.40784314],\n",
       "       [0.22745098, 0.        , 0.38823529, 0.        ],\n",
       "       [0.19607843, 0.38039216, 0.24705882, 0.23137255],\n",
       "       [0.12156863, 0.1372549 , 0.        , 0.        ],\n",
       "       [0.86666667, 0.87843137, 1.        , 0.75294118],\n",
       "       [0.        , 0.01176471, 0.        , 0.        ],\n",
       "       [0.        , 0.00784314, 0.        , 0.00784314]])"
      ]
     },
     "execution_count": 176,
     "metadata": {},
     "output_type": "execute_result"
    }
   ],
   "source": [
    "test2=test.reshape(10,4)\n",
    "test2"
   ]
  },
  {
   "cell_type": "code",
   "execution_count": 177,
   "metadata": {},
   "outputs": [
    {
     "data": {
      "text/plain": [
       "(6000, 2, 2)"
      ]
     },
     "execution_count": 177,
     "metadata": {},
     "output_type": "execute_result"
    }
   ],
   "source": [
    "len(train_labels)\n",
    "tshirt=train_labels==0\n",
    "tshirt_images=train_images[tshirt,0:2,0:2]\n",
    "tshirt_images.shape"
   ]
  },
  {
   "cell_type": "markdown",
   "metadata": {},
   "source": [
    "### Task 1:  \n",
    "\n",
    "Reschape the original data to vectors and compute covariances and the means within each of ten classes. See Lab 0 for some ideas how to make computation. Plot the `average` object from each class. Use for your computation only the training data. "
   ]
  },
  {
   "cell_type": "markdown",
   "metadata": {},
   "source": [
    "#### Solution\n",
    "First I'm doing it as instructed for only the t-shirts. Then I'll loop over all classes to do the same and store means and covariance in lists for easy access later on."
   ]
  },
  {
   "cell_type": "code",
   "execution_count": 235,
   "metadata": {},
   "outputs": [
    {
     "data": {
      "text/plain": [
       "(60000, 28, 28)"
      ]
     },
     "execution_count": 235,
     "metadata": {},
     "output_type": "execute_result"
    }
   ],
   "source": [
    "# Checking its shape again\n",
    "train_images.shape"
   ]
  },
  {
   "cell_type": "code",
   "execution_count": 236,
   "metadata": {},
   "outputs": [],
   "source": [
    "# Reshaping images to vectors\n",
    "train_images_2D = train_images.reshape(60000, 28*28)"
   ]
  },
  {
   "cell_type": "code",
   "execution_count": 237,
   "metadata": {},
   "outputs": [],
   "source": [
    "# Test t-shirt\n",
    "t_shirt_index = train_labels==0\n",
    "t_shirt_images = train_images_2D[t_shirt_index, :]\n",
    "t_shirt_mean = np.mean(t_shirt_images)\n",
    "t_shirt_cov = np.cov(t_shirt_images)"
   ]
  },
  {
   "cell_type": "code",
   "execution_count": 238,
   "metadata": {},
   "outputs": [
    {
     "name": "stdout",
     "output_type": "stream",
     "text": [
      "0.3256077664399088\n",
      "[[0.15655464 0.04622596 0.09544376 ... 0.06601318 0.10941092 0.03925375]\n",
      " [0.04622596 0.03803338 0.06246513 ... 0.01850453 0.03770969 0.01461522]\n",
      " [0.09544376 0.06246513 0.16604678 ... 0.04431879 0.09297201 0.02500704]\n",
      " ...\n",
      " [0.06601318 0.01850453 0.04431879 ... 0.09666992 0.06173828 0.02908853]\n",
      " [0.10941092 0.03770969 0.09297201 ... 0.06173828 0.13075529 0.03592206]\n",
      " [0.03925375 0.01461522 0.02500704 ... 0.02908853 0.03592206 0.02283444]]\n",
      "0.1563549540464445\n",
      "0.03798486651563386\n",
      "0.16583498963310814\n"
     ]
    }
   ],
   "source": [
    "# Checking so that numbers are reasonable\n",
    "print(t_shirt_mean)\n",
    "print(t_shirt_cov)\n",
    "print(np.var(t_shirt_images[0,:]))\n",
    "print(np.var(t_shirt_images[1,:]))\n",
    "print(np.var(t_shirt_images[2,:]))"
   ]
  },
  {
   "cell_type": "markdown",
   "metadata": {},
   "source": [
    "*Comment*: The variances are pretty close to the diagonal in the covariance, as it should be, but they should actually be the same. I think this is just because of small calculation differences."
   ]
  },
  {
   "cell_type": "code",
   "execution_count": 239,
   "metadata": {},
   "outputs": [],
   "source": [
    "# Easy way to do same thing for all classes\n",
    "\n",
    "# List for the means\n",
    "means = []\n",
    "\n",
    "# List for the covariances\n",
    "covs = []\n",
    "\n",
    "# Computing \n",
    "for i in range(10):\n",
    "    index = train_labels==i\n",
    "    images = train_images_2D[index]\n",
    "    mean = np.mean(images, axis = 0)\n",
    "    cov = np.cov(np.transpose(images))\n",
    "    means.append(mean)\n",
    "    covs.append(cov)"
   ]
  },
  {
   "cell_type": "code",
   "execution_count": 240,
   "metadata": {
    "scrolled": true
   },
   "outputs": [
    {
     "data": {
      "image/png": "[encoded data removed]",
      "text/plain": [
       "<Figure size 432x288 with 2 Axes>"
      ]
     },
     "metadata": {
      "needs_background": "light"
     },
     "output_type": "display_data"
    }
   ],
   "source": [
    "# Checking so it seems to be right\n",
    "plt.figure()\n",
    "plt.imshow(means[9].reshape(28,28))\n",
    "plt.colorbar()\n",
    "plt.grid(False)\n",
    "plt.show()"
   ]
  },
  {
   "cell_type": "markdown",
   "metadata": {},
   "source": [
    "### Task 2:\n",
    "\n",
    "Geting inspiration from Lab 0 and Discussion 2, the last topic, utilize the computed means and covariances to write a function that for a given image classifies it into one of the ten classes that is based on the maximum Gaussian likelihood principle. Check how this classifier performs on few selected images. "
   ]
  },
  {
   "cell_type": "code",
   "execution_count": 241,
   "metadata": {},
   "outputs": [
    {
     "name": "stdout",
     "output_type": "stream",
     "text": [
      "2.563116749967964e-09\n"
     ]
    },
    {
     "data": {
      "text/plain": [
       "[<matplotlib.lines.Line2D at 0x7f96b4a16630>]"
      ]
     },
     "execution_count": 241,
     "metadata": {},
     "output_type": "execute_result"
    },
    {
     "data": {
      "image/png": "[encoded data removed]",
      "text/plain": [
       "<Figure size 432x288 with 1 Axes>"
      ]
     },
     "metadata": {
      "needs_background": "light"
     },
     "output_type": "display_data"
    }
   ],
   "source": [
    "import matplotlib.pyplot as plt\n",
    "\n",
    "sigma2=np.diag(covs[1])\n",
    "delta=min(sigma2[sigma2>0])\n",
    "print(delta)\n",
    "plt.plot(sigma2)"
   ]
  },
  {
   "cell_type": "code",
   "execution_count": null,
   "metadata": {},
   "outputs": [],
   "source": [
    "def ML_classifier(x):\n",
    "    "
   ]
  },
  {
   "cell_type": "markdown",
   "metadata": {
    "colab_type": "text",
    "id": "oEw4bZgGCaXB"
   },
   "source": [
    "### Task 3: \n",
    "\n",
    "Here you should do more thoroughful evaluation of the accuracy. \n",
    "Evaluate first how the classifier performs on the training dataset by evaluating its MSE. The do the same on the testing data set. Compare the results and comment. "
   ]
  },
  {
   "cell_type": "code",
   "execution_count": null,
   "metadata": {},
   "outputs": [],
   "source": []
  },
  {
   "cell_type": "markdown",
   "metadata": {},
   "source": [
    "### Task 4:\n",
    "\n",
    "Consider the following three modification of the approach. \n",
    "\n",
    "1. Reduce the data dimension by merging four neighboring pixels into one and averaging the corresponding values of pixels so that the dimension of the reduced data is 196.\n",
    "2. Reduce the data dimension by merging sixteen neighboring pixels into one and averaging the corresponding values of pixels so that the dimension of the reduced data is 49.\n",
    "3. Reduce the data dimension by merging forty nine neighboring pixels into one and averaging the corresponding values of pixels so that the dimension of the reduced data is 16.\n",
    "\n",
    "Use the 10 fold cross validation method to investigate the performance of the MLE gaussian classifiers in each of the three cases as well as the full dimensional data case, and then choose the best approach based on the cross-validation. Train (estimate) the selected model on the entire training data set. Assess the performance of the best classifier on the testing data set. Which of the images where the hardest to classify and which were the easiest. Summarize your findings.  \n"
   ]
  },
  {
   "cell_type": "markdown",
   "metadata": {},
   "source": [
    "## Grader box: \n",
    "\n",
    "In what follows the grader will put the values according the following check list:\n",
    "\n",
    "* 1 Have all commands included in a raw notebook been evaluated? (0 or 0.5pt)\n",
    "* 2 Have all commands been experimented with? (0 or 0.5pt)\n",
    "* 3 Have all experiments been briefly commented? (0 or 0.5pt)\n",
    "* 4 Have all tasks been attempted? (0, 0.5, or 1pt)\n",
    "* 5 How many of the tasks have been completed? (0, 0.5, or 1pt)\n",
    "* 6 How many of the tasks (completed or not) have been commented? (0, 0.5, or 1pt)\n",
    "* 7 Have been the conclusions from performing the tasks clearly stated? (0, 0.5, or 1pt)\n",
    "* 8 Have been the overall organization of the submitted Lab notebook been neat and easy to follow by the grader? (0, or 0.5pt) \n",
    "\n",
    "\n",
    "#### 1 Have all commands included in a raw notebook been evaluated? (0 or 0.5pt)\n",
    "\n",
    "#### Grader's comment (if desired): \n",
    "N/A\n",
    "#### Grader's comment (if desired): \n",
    "N/A\n",
    "\n",
    "#### 2 Have all commands been experimented with? (0 or 0.5pt)\n",
    "\n",
    "#### Grader's comment (if desired): \n",
    "N/A\n",
    "\n",
    "#### 3 Have all experiments been briefly commented? (0 or 0.5pt)\n",
    "\n",
    "#### Grader's comment (if desired): \n",
    "N/A\n",
    "\n",
    "#### 4 Have all tasks been attempted? (0, 0.5, or 1pt)\n",
    "\n",
    "#### Grader's comment (if desired): \n",
    "N/A\n",
    "\n",
    "#### 5 How many of the tasks have been completed? (0, 0.5, or 1pt)\n",
    "\n",
    "#### Grader's comment (if desired): \n",
    "N/A\n",
    "\n",
    "#### 6 How many of the tasks (completed or not) have been commented? (0, 0.5, or 1pt)\n",
    "\n",
    "#### Grader's comment (if desired): \n",
    "N/A\n",
    "\n",
    "#### 7 Have been the conclusions from performing the tasks clearly stated? (0, 0.5, or 1pt)\n",
    "\n",
    "#### Grader's comment (if desired): \n",
    "N/A\n",
    "\n",
    "#### 8 Have been the overall organization of the submitted Lab notebook been neat and easy to follow by the grader? (0, or 0.5pt)\n",
    "\n",
    "#### Grader's comment (if desired): \n",
    "N/A\n",
    "\n",
    "### Overall score\n",
    "\n",
    "### Score and grader's comment (if desired): \n",
    "N/A"
   ]
  },
  {
   "cell_type": "code",
   "execution_count": null,
   "metadata": {},
   "outputs": [],
   "source": []
  }
 ],
 "metadata": {
  "colab": {
   "collapsed_sections": [],
   "name": "classification.ipynb",
   "private_outputs": true,
   "provenance": [],
   "toc_visible": true
  },
  "kernelspec": {
   "display_name": "Python 3",
   "language": "python",
   "name": "python3"
  },
  "language_info": {
   "codemirror_mode": {
    "name": "ipython",
    "version": 3
   },
   "file_extension": ".py",
   "mimetype": "text/x-python",
   "name": "python",
   "nbconvert_exporter": "python",
   "pygments_lexer": "ipython3",
   "version": "3.7.3"
  }
 },
 "nbformat": 4,
 "nbformat_minor": 1
}
