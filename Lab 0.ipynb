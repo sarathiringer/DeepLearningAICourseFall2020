{
 "cells": [
  {
   "cell_type": "markdown",
   "metadata": {},
   "source": [
    "# Python operations"
   ]
  },
  {
   "cell_type": "code",
   "execution_count": 27,
   "metadata": {},
   "outputs": [
    {
     "name": "stdout",
     "output_type": "stream",
     "text": [
      "[20, 2.5]\n"
     ]
    }
   ],
   "source": [
    "# Initial code from the lab instructions\n",
    "a1=1; a2=2;\n",
    "u1=5; u2=4;\n",
    "f=[a1*u1*u2, a2*u1/u2]\n",
    "print(f)"
   ]
  },
  {
   "cell_type": "code",
   "execution_count": 28,
   "metadata": {},
   "outputs": [
    {
     "name": "stdout",
     "output_type": "stream",
     "text": [
      "[40, 2.5]\n"
     ]
    }
   ],
   "source": [
    "# Modifying it to change the results\n",
    "# Expecting output (40, 2.5) by only changing a1 to 2\n",
    "a1=2\n",
    "f=[a1*u1*u2, a2*u1/u2]\n",
    "print(f)"
   ]
  },
  {
   "cell_type": "code",
   "execution_count": 29,
   "metadata": {},
   "outputs": [
    {
     "name": "stdout",
     "output_type": "stream",
     "text": [
      "[0.058823529411764705, 0.1]\n"
     ]
    }
   ],
   "source": [
    "# Initial code from the lab instructions\n",
    "b1=4; b2=1;\n",
    "v1=-2; v2=3;\n",
    "g=[1/(1+b1*v1**2), 1/(1+b2*v2**2)]\n",
    "print(g)"
   ]
  },
  {
   "cell_type": "code",
   "execution_count": 30,
   "metadata": {},
   "outputs": [
    {
     "name": "stdout",
     "output_type": "stream",
     "text": [
      "[0.058823529411764705, 0.05263157894736842]\n"
     ]
    }
   ],
   "source": [
    "# Modifying b2 to 1\n",
    "# Expecting output to change so that the second element \n",
    "# in the ouput vector is smaller than before\n",
    "b2=2\n",
    "g=[1/(1+b1*v1**2), 1/(1+b2*v2**2)]\n",
    "print(g)"
   ]
  },
  {
   "cell_type": "code",
   "execution_count": 31,
   "metadata": {},
   "outputs": [
    {
     "name": "stdout",
     "output_type": "stream",
     "text": [
      "[[5, 4], [1, 2]]\n",
      "4\n"
     ]
    }
   ],
   "source": [
    "# Matrices\n",
    "ua=[[5,4],[1,2]]\n",
    "print(ua)\n",
    "print(ua[0][1])"
   ]
  },
  {
   "cell_type": "code",
   "execution_count": 32,
   "metadata": {},
   "outputs": [
    {
     "name": "stdout",
     "output_type": "stream",
     "text": [
      "1 1\n"
     ]
    }
   ],
   "source": [
    "# Creating a 3x3 identity matrix just to try out matrices a bit more\n",
    "I = [[1, 0], [0, 1]]\n",
    "# Check the diagonals\n",
    "print(I[0][0], I[1][1])"
   ]
  },
  {
   "cell_type": "markdown",
   "metadata": {},
   "source": [
    "### Comment:\n",
    "Having tried out some of the basic python functions, I can tell that they're a bit limited. Because of this, we are going to download the library NumPy."
   ]
  },
  {
   "cell_type": "markdown",
   "metadata": {},
   "source": [
    "# NumPy"
   ]
  },
  {
   "cell_type": "code",
   "execution_count": 33,
   "metadata": {},
   "outputs": [
    {
     "name": "stdout",
     "output_type": "stream",
     "text": [
      "pi is 3.141592653589793\n",
      "cos(pi) is -1.0\n"
     ]
    }
   ],
   "source": [
    "# Importing numpy\n",
    "import numpy as np\n",
    "\n",
    "print('pi is', np.pi)\n",
    "print('cos(pi) is', np.cos(np.pi))"
   ]
  },
  {
   "cell_type": "code",
   "execution_count": 34,
   "metadata": {},
   "outputs": [
    {
     "name": "stdout",
     "output_type": "stream",
     "text": [
      "cos(pi) is -1.0\n"
     ]
    }
   ],
   "source": [
    "# Importing specific parts of numpy\n",
    "from numpy import cos, pi\n",
    "print('cos(pi) is', cos(pi))"
   ]
  },
  {
   "cell_type": "code",
   "execution_count": 35,
   "metadata": {},
   "outputs": [
    {
     "name": "stdout",
     "output_type": "stream",
     "text": [
      "2\n",
      "1.0\n",
      "1.5707963267948966\n"
     ]
    }
   ],
   "source": [
    "# Trying some more numpy functions\n",
    "print(np.mod(2, 5)) # 2 % 5\n",
    "print(np.cos(2*pi)) # Cosine of a circle\n",
    "print(np.arcsin(1)) # Inverse sine function"
   ]
  },
  {
   "cell_type": "code",
   "execution_count": 36,
   "metadata": {},
   "outputs": [
    {
     "name": "stdout",
     "output_type": "stream",
     "text": [
      "2.2603294069810542e-06\n"
     ]
    }
   ],
   "source": [
    "# More complicated function\n",
    "c1=1; c2=2;\n",
    "w1=5; w2=4;\n",
    "h=np.exp(-c1*w1-c2*w2)\n",
    "print(h)"
   ]
  },
  {
   "cell_type": "markdown",
   "metadata": {},
   "source": [
    "### Comment:\n",
    "NumPy is a very useful library with all kinds of mathematical operations included. Another useful package for dealing with data is matplotlib. I'm going to import it just because I want to use it's functions for the last task."
   ]
  },
  {
   "cell_type": "code",
   "execution_count": 37,
   "metadata": {},
   "outputs": [],
   "source": [
    "# Import matplotlib for plotting\n",
    "import matplotlib.pyplot as plt"
   ]
  },
  {
   "cell_type": "markdown",
   "metadata": {},
   "source": [
    "# Defining functions"
   ]
  },
  {
   "cell_type": "code",
   "execution_count": 38,
   "metadata": {},
   "outputs": [],
   "source": [
    "# Example function for string manipulation\n",
    "def process_string(str):\n",
    "    t = str.strip()\n",
    "    return t[0].upper()+t[1:]"
   ]
  },
  {
   "cell_type": "code",
   "execution_count": 39,
   "metadata": {},
   "outputs": [
    {
     "name": "stdout",
     "output_type": "stream",
     "text": [
      "Original string:     hello there\n",
      "String modified by the function:  Hello there\n"
     ]
    }
   ],
   "source": [
    "# Testing the function\n",
    "test_string = \"   hello there\"\n",
    "string_mod = process_string(test_string)\n",
    "print('Original string: ', test_string)\n",
    "print('String modified by the function: ', string_mod)"
   ]
  },
  {
   "cell_type": "code",
   "execution_count": 40,
   "metadata": {},
   "outputs": [],
   "source": [
    "# Function relating to Topic 2 in Discussion 1\n",
    "def f(u,a):\n",
    "    a1=a[0]; a2=a[1]; u1 = u[0]; u2=u[1]\n",
    "    return [a1*u1*u2, a2*u1/u2]"
   ]
  },
  {
   "cell_type": "code",
   "execution_count": 41,
   "metadata": {},
   "outputs": [
    {
     "name": "stdout",
     "output_type": "stream",
     "text": [
      "[[5, 4], [1, 2]]\n",
      "[20, 2.5]\n"
     ]
    }
   ],
   "source": [
    "# Applying the function\n",
    "print(ua)\n",
    "u=ua[0]; a=ua[1]\n",
    "print(f(u,a))"
   ]
  },
  {
   "cell_type": "markdown",
   "metadata": {},
   "source": [
    "### Comment:\n",
    "Functions are very useful to be able to repeat calculations without to much redundant code. Furthermore, we've clearly found a neat way to deal with input vectors and output vectors for functions. This will come in very handy for the rest of the course."
   ]
  },
  {
   "cell_type": "markdown",
   "metadata": {},
   "source": [
    "# Task 1"
   ]
  },
  {
   "cell_type": "code",
   "execution_count": 42,
   "metadata": {},
   "outputs": [
    {
     "name": "stdout",
     "output_type": "stream",
     "text": [
      "(500, 2)\n",
      "[[ 3.15618578  2.55937434]\n",
      " [ 2.03100877  0.14443737]\n",
      " [ 0.09472243 -3.81150137]\n",
      " [ 1.11733546 -5.74313561]]\n",
      "[-2.857059793229891, 2.0675528839605133]\n",
      "[ 2.06755288 -2.85705979]\n"
     ]
    }
   ],
   "source": [
    "# Creating the mean vector (parameter mu)\n",
    "mu = [2, -3]\n",
    "\n",
    "# Creating a diagonal covariance matrix (parameter sigma)\n",
    "Sigma = [[1, 0], [0, 10]]\n",
    "\n",
    "# Creating X (generating 500 data from the specified distribution)\n",
    "X = np.random.multivariate_normal(mu, Sigma, 500)\n",
    "\n",
    "# Checking the shape and top of the X matrix\n",
    "print(X.shape)\n",
    "print(X[0:4,:])\n",
    "\n",
    "# Calulating the mean for each column (each x)\n",
    "print([sum(X[:,1]/500), sum(X[:,0])/500])\n",
    "\n",
    "# Utilizing the mean function from numpy, which correspond to our ML estimator of mu\n",
    "barX = np.mean(X, axis = 0)\n",
    "print(barX)\n",
    "\n",
    "# Calculating and checking the covariance matrix\n",
    "S = np.cov(np.transpose(X))"
   ]
  },
  {
   "cell_type": "code",
   "execution_count": 43,
   "metadata": {},
   "outputs": [
    {
     "name": "stdout",
     "output_type": "stream",
     "text": [
      "(500,)\n",
      "[-5.20288454 -3.4840247  -4.83713764 -3.7549576 ]\n",
      "-1975.6976506019619\n"
     ]
    },
    {
     "data": {
      "image/png": "[encoded data removed]",
      "text/plain": [
       "<Figure size 432x288 with 1 Axes>"
      ]
     },
     "metadata": {
      "needs_background": "light"
     },
     "output_type": "display_data"
    }
   ],
   "source": [
    "from scipy.stats import multivariate_normal\n",
    "\n",
    "# Evaluating the probability density function for the values in X\n",
    "# and then taking the log of that calculation\n",
    "ll = np.log(multivariate_normal.pdf(X, mean = mu, cov = Sigma))\n",
    "\n",
    "print(ll.shape)\n",
    "print(ll[0:4])\n",
    "\n",
    "# Finally summing over the pdf values\n",
    "y = np.sum(ll)\n",
    "print(y)\n",
    "\n",
    "# Plotting the pdf to more clearly see where they are maximized\n",
    "plt.plot(X, ll, 'o')\n",
    "plt.show()"
   ]
  },
  {
   "cell_type": "code",
   "execution_count": 45,
   "metadata": {},
   "outputs": [
    {
     "name": "stdout",
     "output_type": "stream",
     "text": [
      "-1973.4821319207504\n"
     ]
    },
    {
     "data": {
      "image/png": "[encoded data removed]",
      "text/plain": [
       "<Figure size 432x288 with 1 Axes>"
      ]
     },
     "metadata": {
      "needs_background": "light"
     },
     "output_type": "display_data"
    }
   ],
   "source": [
    "# Same procedure with our point estimators\n",
    "hatll = np.log(multivariate_normal.pdf(X, mean = barX, cov = S))\n",
    "haty = np.sum(hatll)\n",
    "print(haty)\n",
    "\n",
    "plt.plot(X, hatll, 'o')\n",
    "plt.show()"
   ]
  },
  {
   "cell_type": "markdown",
   "metadata": {},
   "source": [
    "*Comment*:\n",
    "Like we can see above, the ML estimator is very good - close to the real parameters. "
   ]
  },
  {
   "cell_type": "code",
   "execution_count": null,
   "metadata": {},
   "outputs": [],
   "source": []
  }
 ],
 "metadata": {
  "kernelspec": {
   "display_name": "Python 3",
   "language": "python",
   "name": "python3"
  },
  "language_info": {
   "codemirror_mode": {
    "name": "ipython",
    "version": 3
   },
   "file_extension": ".py",
   "mimetype": "text/x-python",
   "name": "python",
   "nbconvert_exporter": "python",
   "pygments_lexer": "ipython3",
   "version": "3.7.3"
  }
 },
 "nbformat": 4,
 "nbformat_minor": 4
}
