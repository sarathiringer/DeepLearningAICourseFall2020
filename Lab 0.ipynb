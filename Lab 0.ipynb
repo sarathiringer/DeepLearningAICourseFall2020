{
 "cells": [
  {
   "cell_type": "markdown",
   "metadata": {},
   "source": [
    "# Python operations"
   ]
  },
  {
   "cell_type": "code",
   "execution_count": 20,
   "metadata": {},
   "outputs": [
    {
     "name": "stdout",
     "output_type": "stream",
     "text": [
      "[20, 2.5]\n"
     ]
    }
   ],
   "source": [
    "# Initial code from the lab instructions\n",
    "a1=1; a2=2;\n",
    "u1=5; u2=4;\n",
    "f=[a1*u1*u2, a2*u1/u2]\n",
    "print(f)"
   ]
  },
  {
   "cell_type": "code",
   "execution_count": 21,
   "metadata": {},
   "outputs": [
    {
     "name": "stdout",
     "output_type": "stream",
     "text": [
      "[40, 2.5]\n"
     ]
    }
   ],
   "source": [
    "# Modifying it to change the results\n",
    "# Expecting output (40, 2.5) by only changing a1 to 2\n",
    "a1=2\n",
    "f=[a1*u1*u2, a2*u1/u2]\n",
    "print(f)"
   ]
  },
  {
   "cell_type": "code",
   "execution_count": 25,
   "metadata": {},
   "outputs": [
    {
     "name": "stdout",
     "output_type": "stream",
     "text": [
      "[0.058823529411764705, 0.1]\n"
     ]
    }
   ],
   "source": [
    "# Initial code from the lab instructions\n",
    "b1=4; b2=1;\n",
    "v1=-2; v2=3;\n",
    "g=[1/(1+b1*v1**2), 1/(1+b2*v2**2)]\n",
    "print(g)"
   ]
  },
  {
   "cell_type": "code",
   "execution_count": 26,
   "metadata": {},
   "outputs": [
    {
     "name": "stdout",
     "output_type": "stream",
     "text": [
      "[0.058823529411764705, 0.05263157894736842]\n"
     ]
    }
   ],
   "source": [
    "# Modifying b2 to 1\n",
    "# Expecting output to change so that the second element \n",
    "# in the ouput vector is smaller than before\n",
    "b2=2\n",
    "g=[1/(1+b1*v1**2), 1/(1+b2*v2**2)]\n",
    "print(g)"
   ]
  },
  {
   "cell_type": "code",
   "execution_count": 4,
   "metadata": {},
   "outputs": [
    {
     "name": "stdout",
     "output_type": "stream",
     "text": [
      "[[5, 4], [1, 2]]\n",
      "4\n"
     ]
    }
   ],
   "source": [
    "# Matrices\n",
    "ua=[[5,4],[1,2]]\n",
    "print(ua)\n",
    "print(ua[0][1])"
   ]
  },
  {
   "cell_type": "code",
   "execution_count": 5,
   "metadata": {},
   "outputs": [
    {
     "name": "stdout",
     "output_type": "stream",
     "text": [
      "1 1\n"
     ]
    }
   ],
   "source": [
    "# Creating a 3x3 identity matrix just to try out matrices a bit more\n",
    "I = [[1, 0], [0, 1]]\n",
    "# Check the diagonals\n",
    "print(I[0][0], I[1][1])"
   ]
  },
  {
   "cell_type": "markdown",
   "metadata": {},
   "source": [
    "# NumPy"
   ]
  },
  {
   "cell_type": "code",
   "execution_count": 9,
   "metadata": {},
   "outputs": [
    {
     "name": "stdout",
     "output_type": "stream",
     "text": [
      "pi is 3.141592653589793\n",
      "cos(pi) is -1.0\n"
     ]
    }
   ],
   "source": [
    "# Importing numpy\n",
    "import numpy as np\n",
    "\n",
    "print('pi is', np.pi)\n",
    "print('cos(pi) is', np.cos(np.pi))"
   ]
  },
  {
   "cell_type": "code",
   "execution_count": 10,
   "metadata": {},
   "outputs": [
    {
     "name": "stdout",
     "output_type": "stream",
     "text": [
      "cos(pi) is -1.0\n"
     ]
    }
   ],
   "source": [
    "# Importing specific parts of numpy\n",
    "from numpy import cos, pi\n",
    "print('cos(pi) is', cos(pi))"
   ]
  },
  {
   "cell_type": "code",
   "execution_count": 11,
   "metadata": {},
   "outputs": [
    {
     "name": "stdout",
     "output_type": "stream",
     "text": [
      "2.2603294069810542e-06\n"
     ]
    }
   ],
   "source": [
    "# More complicated function\n",
    "c1=1; c2=2;\n",
    "w1=5; w2=4;\n",
    "h=np.exp(-c1*w1-c2*w2)\n",
    "print(h)"
   ]
  },
  {
   "cell_type": "markdown",
   "metadata": {},
   "source": [
    "# Defining functions"
   ]
  },
  {
   "cell_type": "code",
   "execution_count": 12,
   "metadata": {},
   "outputs": [],
   "source": [
    "# Example function for string manipulation\n",
    "def process_string(str):\n",
    "    t = str.strip()\n",
    "    return t[0].upper()+t[1:]"
   ]
  },
  {
   "cell_type": "code",
   "execution_count": 14,
   "metadata": {},
   "outputs": [
    {
     "name": "stdout",
     "output_type": "stream",
     "text": [
      "Original string:     hello there\n",
      "String modified by the function:  Hello there\n"
     ]
    }
   ],
   "source": [
    "# Testing the function\n",
    "test_string = \"   hello there\"\n",
    "string_mod = process_string(test_string)\n",
    "print('Original string: ', test_string)\n",
    "print('String modified by the function: ', string_mod)"
   ]
  },
  {
   "cell_type": "code",
   "execution_count": 15,
   "metadata": {},
   "outputs": [],
   "source": [
    "# Function relating to Topic 2 in Discussion 1\n",
    "def f(u,a):\n",
    "    a1=a[0]; a2=a[1]; u1 = u[0]; u2=u[1]\n",
    "    return [a1*u1*u2, a2*u1/u2]"
   ]
  },
  {
   "cell_type": "code",
   "execution_count": 17,
   "metadata": {},
   "outputs": [
    {
     "name": "stdout",
     "output_type": "stream",
     "text": [
      "[[5, 4], [1, 2]]\n",
      "[20, 2.5]\n"
     ]
    }
   ],
   "source": [
    "# Applying the function\n",
    "print(ua)\n",
    "u=ua[0]; a=ua[1]\n",
    "print(f(u,a))"
   ]
  },
  {
   "cell_type": "markdown",
   "metadata": {},
   "source": [
    "# Task 1"
   ]
  },
  {
   "cell_type": "code",
   "execution_count": null,
   "metadata": {},
   "outputs": [],
   "source": [
    "# Creating the mean vector\n",
    "mu = [2, -3]\n",
    "\n",
    "# Creating a diagonal covariance matrix\n",
    "Sigma = [[1, 0], [0, 10]]\n",
    "\n",
    "# Creating X (design matrix?)\n",
    "X = np.random.multivariate_normal(mu, Sigma, 500)"
   ]
  }
 ],
 "metadata": {
  "kernelspec": {
   "display_name": "Python 3",
   "language": "python",
   "name": "python3"
  },
  "language_info": {
   "codemirror_mode": {
    "name": "ipython",
    "version": 3
   },
   "file_extension": ".py",
   "mimetype": "text/x-python",
   "name": "python",
   "nbconvert_exporter": "python",
   "pygments_lexer": "ipython3",
   "version": "3.7.3"
  }
 },
 "nbformat": 4,
 "nbformat_minor": 4
}
