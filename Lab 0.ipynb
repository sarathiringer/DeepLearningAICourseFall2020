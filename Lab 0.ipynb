{
 "cells": [
  {
   "cell_type": "markdown",
   "metadata": {},
   "source": [
    "# Python operations"
   ]
  },
  {
   "cell_type": "code",
   "execution_count": 20,
   "metadata": {},
   "outputs": [
    {
     "name": "stdout",
     "output_type": "stream",
     "text": [
      "[20, 2.5]\n"
     ]
    }
   ],
   "source": [
    "# Initial code from the lab instructions\n",
    "a1=1; a2=2;\n",
    "u1=5; u2=4;\n",
    "f=[a1*u1*u2, a2*u1/u2]\n",
    "print(f)"
   ]
  },
  {
   "cell_type": "code",
   "execution_count": 21,
   "metadata": {},
   "outputs": [
    {
     "name": "stdout",
     "output_type": "stream",
     "text": [
      "[40, 2.5]\n"
     ]
    }
   ],
   "source": [
    "# Modifying it to change the results\n",
    "# Expecting output (40, 2.5) by only changing a1 to 2\n",
    "a1=2\n",
    "f=[a1*u1*u2, a2*u1/u2]\n",
    "print(f)"
   ]
  },
  {
   "cell_type": "code",
   "execution_count": 25,
   "metadata": {},
   "outputs": [
    {
     "name": "stdout",
     "output_type": "stream",
     "text": [
      "[0.058823529411764705, 0.1]\n"
     ]
    }
   ],
   "source": [
    "# Initial code from the lab instructions\n",
    "b1=4; b2=1;\n",
    "v1=-2; v2=3;\n",
    "g=[1/(1+b1*v1**2), 1/(1+b2*v2**2)]\n",
    "print(g)"
   ]
  },
  {
   "cell_type": "code",
   "execution_count": 26,
   "metadata": {},
   "outputs": [
    {
     "name": "stdout",
     "output_type": "stream",
     "text": [
      "[0.058823529411764705, 0.05263157894736842]\n"
     ]
    }
   ],
   "source": [
    "# Modifying b2 to 1\n",
    "# Expecting output to change so that the second element \n",
    "# in the ouput vector is smaller than before\n",
    "b2=2\n",
    "g=[1/(1+b1*v1**2), 1/(1+b2*v2**2)]\n",
    "print(g)"
   ]
  },
  {
   "cell_type": "code",
   "execution_count": 4,
   "metadata": {},
   "outputs": [
    {
     "name": "stdout",
     "output_type": "stream",
     "text": [
      "[[5, 4], [1, 2]]\n",
      "4\n"
     ]
    }
   ],
   "source": [
    "# Matrices\n",
    "ua=[[5,4],[1,2]]\n",
    "print(ua)\n",
    "print(ua[0][1])"
   ]
  },
  {
   "cell_type": "code",
   "execution_count": 5,
   "metadata": {},
   "outputs": [
    {
     "name": "stdout",
     "output_type": "stream",
     "text": [
      "1 1\n"
     ]
    }
   ],
   "source": [
    "# Creating a 3x3 identity matrix just to try out matrices a bit more\n",
    "I = [[1, 0], [0, 1]]\n",
    "# Check the diagonals\n",
    "print(I[0][0], I[1][1])"
   ]
  },
  {
   "cell_type": "markdown",
   "metadata": {},
   "source": [
    "### Comment:\n",
    "Having tried out some of the basic python functions, I can tell that they're a bit limited. Because of this, we are going to download the library NumPy."
   ]
  },
  {
   "cell_type": "markdown",
   "metadata": {},
   "source": [
    "# NumPy"
   ]
  },
  {
   "cell_type": "code",
   "execution_count": 2,
   "metadata": {},
   "outputs": [
    {
     "name": "stdout",
     "output_type": "stream",
     "text": [
      "pi is 3.141592653589793\n",
      "cos(pi) is -1.0\n"
     ]
    }
   ],
   "source": [
    "# Importing numpy\n",
    "import numpy as np\n",
    "\n",
    "print('pi is', np.pi)\n",
    "print('cos(pi) is', np.cos(np.pi))"
   ]
  },
  {
   "cell_type": "code",
   "execution_count": 3,
   "metadata": {},
   "outputs": [
    {
     "name": "stdout",
     "output_type": "stream",
     "text": [
      "cos(pi) is -1.0\n"
     ]
    }
   ],
   "source": [
    "# Importing specific parts of numpy\n",
    "from numpy import cos, pi\n",
    "print('cos(pi) is', cos(pi))"
   ]
  },
  {
   "cell_type": "code",
   "execution_count": 11,
   "metadata": {},
   "outputs": [
    {
     "name": "stdout",
     "output_type": "stream",
     "text": [
      "2\n",
      "1.0\n",
      "1.5707963267948966\n"
     ]
    }
   ],
   "source": [
    "# Trying some more numpy functions\n",
    "print(np.mod(2, 5)) # 2 % 5\n",
    "print(np.cos(2*pi)) # Cosine of a circle\n",
    "print(np.arcsin(1)) # Inverse sine function"
   ]
  },
  {
   "cell_type": "code",
   "execution_count": 11,
   "metadata": {},
   "outputs": [
    {
     "name": "stdout",
     "output_type": "stream",
     "text": [
      "2.2603294069810542e-06\n"
     ]
    }
   ],
   "source": [
    "# More complicated function\n",
    "c1=1; c2=2;\n",
    "w1=5; w2=4;\n",
    "h=np.exp(-c1*w1-c2*w2)\n",
    "print(h)"
   ]
  },
  {
   "cell_type": "markdown",
   "metadata": {},
   "source": [
    "### Comment:\n",
    "NumPy is a very useful library with all kinds of mathematical operations included. Another useful package for dealing with data is Pandas. I'm going to import it just because I want to use it's functions for the last task."
   ]
  },
  {
   "cell_type": "code",
   "execution_count": null,
   "metadata": {},
   "outputs": [],
   "source": [
    "# Import the pandas package\n",
    "# import pandas as pd"
   ]
  },
  {
   "cell_type": "markdown",
   "metadata": {},
   "source": [
    "# Defining functions"
   ]
  },
  {
   "cell_type": "code",
   "execution_count": 12,
   "metadata": {},
   "outputs": [],
   "source": [
    "# Example function for string manipulation\n",
    "def process_string(str):\n",
    "    t = str.strip()\n",
    "    return t[0].upper()+t[1:]"
   ]
  },
  {
   "cell_type": "code",
   "execution_count": 14,
   "metadata": {},
   "outputs": [
    {
     "name": "stdout",
     "output_type": "stream",
     "text": [
      "Original string:     hello there\n",
      "String modified by the function:  Hello there\n"
     ]
    }
   ],
   "source": [
    "# Testing the function\n",
    "test_string = \"   hello there\"\n",
    "string_mod = process_string(test_string)\n",
    "print('Original string: ', test_string)\n",
    "print('String modified by the function: ', string_mod)"
   ]
  },
  {
   "cell_type": "code",
   "execution_count": 15,
   "metadata": {},
   "outputs": [],
   "source": [
    "# Function relating to Topic 2 in Discussion 1\n",
    "def f(u,a):\n",
    "    a1=a[0]; a2=a[1]; u1 = u[0]; u2=u[1]\n",
    "    return [a1*u1*u2, a2*u1/u2]"
   ]
  },
  {
   "cell_type": "code",
   "execution_count": 17,
   "metadata": {},
   "outputs": [
    {
     "name": "stdout",
     "output_type": "stream",
     "text": [
      "[[5, 4], [1, 2]]\n",
      "[20, 2.5]\n"
     ]
    }
   ],
   "source": [
    "# Applying the function\n",
    "print(ua)\n",
    "u=ua[0]; a=ua[1]\n",
    "print(f(u,a))"
   ]
  },
  {
   "cell_type": "markdown",
   "metadata": {},
   "source": [
    "### Comment:\n",
    "Functions are very useful to be able to repeat calculations without to much redundant code. Furthermore, we've clearly found a neat way to deal with input vectors and output vectors for functions. This will come in very handy for the rest of the course."
   ]
  },
  {
   "cell_type": "markdown",
   "metadata": {},
   "source": [
    "# Task 1"
   ]
  },
  {
   "cell_type": "code",
   "execution_count": 57,
   "metadata": {},
   "outputs": [
    {
     "name": "stdout",
     "output_type": "stream",
     "text": [
      "(500, 2)\n",
      "[[ 4.10038298 -4.3956902 ]\n",
      " [ 1.13949581 -1.98048385]\n",
      " [ 1.9805341  -1.20005864]\n",
      " [ 2.51070134 -0.2446527 ]]\n",
      "[-2.9697199625316277, 2.0205741144249494]\n",
      "[ 2.02057411 -2.96971996]\n"
     ]
    }
   ],
   "source": [
    "# Creating the mean vector (parameter mu)\n",
    "mu = [2, -3]\n",
    "\n",
    "# Creating a diagonal covariance matrix (parameter sigma)\n",
    "Sigma = [[1, 0], [0, 10]]\n",
    "\n",
    "# Creating X (generating 500 data from the specified distribution)\n",
    "X = np.random.multivariate_normal(mu, Sigma, 500)\n",
    "\n",
    "# Checking the shape nad top of the X matrix\n",
    "print(X.shape)\n",
    "print(X[0:4,:])\n",
    "\n",
    "# Calulating the mean for each column\n",
    "print([sum(X[:,1]/500), sum(X[:,0])/500])\n",
    "\n",
    "# Utilizing the mean function from numpy, which correspond to our ML estimator of mu\n",
    "barX = np.mean(X, axis = 0)\n",
    "print(barX)\n",
    "\n",
    "# Calculating and checking the covariance matrix, which corresponds to our ML estimator of sigma\n",
    "S = np.cov(np.transpose(X))"
   ]
  },
  {
   "cell_type": "code",
   "execution_count": 58,
   "metadata": {},
   "outputs": [
    {
     "name": "stdout",
     "output_type": "stream",
     "text": [
      "(500,)\n",
      "[-5.29237151 -3.411374   -3.15134852 -3.49917448]\n",
      "-2007.102284831256\n"
     ]
    }
   ],
   "source": [
    "from scipy.stats import multivariate_normal\n",
    "\n",
    "# Evaluating the probability densitify function for the values in X\n",
    "# and then taking the log of that calculation\n",
    "ll = np.log(multivariate_normal.pdf(X, mean = mu, cov = Sigma))\n",
    "\n",
    "print(ll.shape)\n",
    "print(ll[0:4])\n",
    "\n",
    "# Finally summing over the pdf values\n",
    "y = np.sum(ll)\n",
    "print(y)"
   ]
  },
  {
   "cell_type": "code",
   "execution_count": 59,
   "metadata": {},
   "outputs": [
    {
     "name": "stdout",
     "output_type": "stream",
     "text": [
      "-2005.5510087027164\n"
     ]
    }
   ],
   "source": [
    "# Same procedure with our estimators\n",
    "hatll = np.log(multivariate_normal.pdf(X, mean = barX, cov = S))\n",
    "haty = np.sum(hatll)\n",
    "print(haty)"
   ]
  },
  {
   "cell_type": "code",
   "execution_count": null,
   "metadata": {},
   "outputs": [],
   "source": []
  },
  {
   "cell_type": "code",
   "execution_count": null,
   "metadata": {},
   "outputs": [],
   "source": []
  },
  {
   "cell_type": "code",
   "execution_count": null,
   "metadata": {},
   "outputs": [],
   "source": []
  },
  {
   "cell_type": "code",
   "execution_count": null,
   "metadata": {},
   "outputs": [],
   "source": []
  }
 ],
 "metadata": {
  "kernelspec": {
   "display_name": "Python 3",
   "language": "python",
   "name": "python3"
  },
  "language_info": {
   "codemirror_mode": {
    "name": "ipython",
    "version": 3
   },
   "file_extension": ".py",
   "mimetype": "text/x-python",
   "name": "python",
   "nbconvert_exporter": "python",
   "pygments_lexer": "ipython3",
   "version": "3.7.3"
  }
 },
 "nbformat": 4,
 "nbformat_minor": 4
}
